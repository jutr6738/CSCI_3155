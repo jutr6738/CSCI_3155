{
 "cells": [
  {
   "cell_type": "code",
   "execution_count": 28,
   "id": "452b69c8",
   "metadata": {},
   "outputs": [
    {
     "data": {
      "text/plain": [
       "defined \u001b[32mtrait\u001b[39m \u001b[36mThing\u001b[39m\r\n",
       "defined \u001b[32mtrait\u001b[39m \u001b[36mVehicle\u001b[39m\r\n",
       "defined \u001b[32mclass\u001b[39m \u001b[36mCar\u001b[39m\r\n",
       "defined \u001b[32mclass\u001b[39m \u001b[36mBus\u001b[39m\r\n",
       "defined \u001b[32mclass\u001b[39m \u001b[36mSedan\u001b[39m\r\n",
       "defined \u001b[32mclass\u001b[39m \u001b[36mBigCar\u001b[39m\r\n",
       "defined \u001b[32mclass\u001b[39m \u001b[36mJeep\u001b[39m\r\n",
       "defined \u001b[32mclass\u001b[39m \u001b[36mMotorCycle\u001b[39m\r\n",
       "defined \u001b[32mclass\u001b[39m \u001b[36mTomato\u001b[39m"
      ]
     },
     "execution_count": 28,
     "metadata": {},
     "output_type": "execute_result"
    }
   ],
   "source": [
    "trait Thing {\n",
    "    val name: String \n",
    "}\n",
    "trait Vehicle extends Thing\n",
    "\n",
    "class Car (val name: String) extends Vehicle {\n",
    "    def getName: String = s\"car + $name\"\n",
    "}\n",
    "\n",
    "class Bus (val name: String) extends Vehicle\n",
    "\n",
    "// The class parameter name in Sedan must be the same name in car. \n",
    "// Therefore, you need to say override\n",
    "// Read chapters 4, 10 of the Scala book\n",
    "class Sedan (override val name: String) extends Car(name) {\n",
    "    override def getName: String = s\"sedan + $name\"\n",
    "}\n",
    "\n",
    "\n",
    "abstract class BigCar(override val name: String) extends Sedan(name) {\n",
    "    override def getName: String = s\"bigcar + $name\"\n",
    "}\n",
    "\n",
    "class Jeep (override val name: String) extends BigCar(name) {\n",
    "    override def getName: String = s\"jeep + $name\"\n",
    "}\n",
    "\n",
    "class MotorCycle(override val name: String) extends Vehicle \n",
    "\n",
    "class Tomato extends Thing { \n",
    "    override val name = \"Tomato \"\n",
    "}"
   ]
  },
  {
   "cell_type": "code",
   "execution_count": 28,
   "id": "08bb1e9d",
   "metadata": {},
   "outputs": [
    {
     "name": "stderr",
     "output_type": "stream",
     "text": [
      "cmd28.sc:2: value name is not a member of type parameter A\n",
      "    println(s\"Parked Vehicle ${a.name}\")\n",
      "                                 ^Compilation Failed"
     ]
    },
    {
     "ename": "",
     "evalue": "",
     "output_type": "error",
     "traceback": [
      "Compilation Failed"
     ]
    }
   ],
   "source": [
    "def parkedVehicle1[A] (a: A) = {\n",
    "    println(s\"Parked Vehicle ${a.name}\")\n",
    "}\n",
    "//fails becasue not everything has a name for example and Int doesn't\n",
    "//we need to restrict it to only things in class thing bc only things have names"
   ]
  },
  {
   "cell_type": "code",
   "execution_count": 29,
   "id": "06a5f574",
   "metadata": {},
   "outputs": [
    {
     "name": "stdout",
     "output_type": "stream",
     "text": [
      "Parked Vehicle Tomato \n",
      "Parked Vehicle Yellow Bus\n"
     ]
    },
    {
     "data": {
      "text/plain": [
       "defined \u001b[32mfunction\u001b[39m \u001b[36mparkedVehicle2\u001b[39m\r\n",
       "\u001b[36mtom\u001b[39m: \u001b[32mTomato\u001b[39m = ammonite.$sess.cmd27$Helper$Tomato@2d8e94f4\r\n",
       "\u001b[36mschobus\u001b[39m: \u001b[32mBus\u001b[39m = ammonite.$sess.cmd27$Helper$Bus@596fc8d7"
      ]
     },
     "execution_count": 29,
     "metadata": {},
     "output_type": "execute_result"
    }
   ],
   "source": [
    "def parkedVehicle2[A <: Thing] (a: A) = {\n",
    "    println(s\"Parked Vehicle ${a.name}\")\n",
    "}\n",
    "//this is good but now this also will work for Tomato and we dont want to park a tomato\n",
    "//we need to restrict to just vehicles \n",
    "val tom= new Tomato\n",
    "parkedVehicle2(tom)\n",
    "val schobus= new Bus(\"Yellow Bus\")\n",
    "parkedVehicle2(schobus)"
   ]
  },
  {
   "cell_type": "code",
   "execution_count": 30,
   "id": "76f8e962",
   "metadata": {},
   "outputs": [
    {
     "data": {
      "text/plain": [
       "defined \u001b[32mfunction\u001b[39m \u001b[36mparkedVehicle3\u001b[39m"
      ]
     },
     "execution_count": 30,
     "metadata": {},
     "output_type": "execute_result"
    }
   ],
   "source": [
    "def parkedVehicle3[A <: Vehicle] (a: A) = {\n",
    "    println(s\"Parked Vehicle ${a.name}\")\n",
    "}"
   ]
  },
  {
   "cell_type": "code",
   "execution_count": 30,
   "id": "c0ee30f6",
   "metadata": {},
   "outputs": [
    {
     "name": "stderr",
     "output_type": "stream",
     "text": [
      "cmd30.sc:1: inferred type arguments [ammonite.$sess.cmd28.wrapper.cmd27.Tomato] do not conform to method parkedVehicle3's type parameter bounds [A <: ammonite.$sess.cmd29.wrapper.cmd27.Vehicle]\n",
      "val res30 = parkedVehicle3(tom)\n",
      "            ^cmd30.sc:1: type mismatch;\n",
      " found   : ammonite.$sess.cmd28.wrapper.cmd27.Tomato\n",
      " required: A\n",
      "val res30 = parkedVehicle3(tom)\n",
      "                           ^Compilation Failed"
     ]
    },
    {
     "ename": "",
     "evalue": "",
     "output_type": "error",
     "traceback": [
      "Compilation Failed"
     ]
    }
   ],
   "source": [
    "//perfect now we are restricted to only subtypes of vehicles\n",
    "parkedVehicle3(tom)"
   ]
  },
  {
   "cell_type": "code",
   "execution_count": 32,
   "id": "fa90e5ec",
   "metadata": {},
   "outputs": [
    {
     "name": "stdout",
     "output_type": "stream",
     "text": [
      "Parked Vehicle Yellow Bus\n",
      "Parked Vehicle Mo\n"
     ]
    }
   ],
   "source": [
    "parkedVehicle3(schobus)\n",
    "parkedVehicle3(new MotorCycle(\"Mo\"))"
   ]
  },
  {
   "cell_type": "code",
   "execution_count": 33,
   "id": "52643102",
   "metadata": {},
   "outputs": [
    {
     "data": {
      "text/plain": [
       "defined \u001b[32mfunction\u001b[39m \u001b[36mparkedSmallCar\u001b[39m"
      ]
     },
     "execution_count": 33,
     "metadata": {},
     "output_type": "execute_result"
    }
   ],
   "source": [
    "//now we just want to park small car so we want everything smaller than bigcar\n",
    "//so we want only car and sedan. \n",
    "//so Subtype of car AND super type of bigcar\n",
    "//so below car and abover bigcar \n",
    "def parkedSmallCar[A  >:BigCar <: Car] (a: A) = {\n",
    "    println(s\"Parked Small Car ${a.name}\")\n",
    "}\n",
    "\n",
    "//subtype constraint >:\n",
    "//supertype constraint <:"
   ]
  },
  {
   "cell_type": "code",
   "execution_count": 33,
   "id": "709903bf",
   "metadata": {},
   "outputs": [
    {
     "name": "stderr",
     "output_type": "stream",
     "text": [
      "cmd33.sc:1: inferred type arguments [ammonite.$sess.cmd32.wrapper.cmd27.Vehicle] do not conform to method parkedSmallCar's type parameter bounds [A >: ammonite.$sess.cmd32.wrapper.cmd27.BigCar <: ammonite.$sess.cmd32.wrapper.cmd27.Car]\n",
      "val res33 = parkedSmallCar(schobus)\n",
      "            ^cmd33.sc:1: type mismatch;\n",
      " found   : ammonite.$sess.cmd28.wrapper.cmd27.Bus\n",
      " required: A\n",
      "val res33 = parkedSmallCar(schobus)\n",
      "                           ^Compilation Failed"
     ]
    },
    {
     "ename": "",
     "evalue": "",
     "output_type": "error",
     "traceback": [
      "Compilation Failed"
     ]
    }
   ],
   "source": [
    "parkedSmallCar(schobus)"
   ]
  },
  {
   "cell_type": "code",
   "execution_count": 33,
   "id": "f6402cee",
   "metadata": {},
   "outputs": [
    {
     "name": "stderr",
     "output_type": "stream",
     "text": [
      "cmd33.sc:1: inferred type arguments [ammonite.$sess.cmd32.wrapper.cmd27.Vehicle] do not conform to method parkedSmallCar's type parameter bounds [A >: ammonite.$sess.cmd32.wrapper.cmd27.BigCar <: ammonite.$sess.cmd32.wrapper.cmd27.Car]\n",
      "val res33 = parkedSmallCar(new MotorCycle(\"MO\"))\n",
      "            ^cmd33.sc:1: type mismatch;\n",
      " found   : cmd33.this.cmd27.MotorCycle\n",
      " required: A\n",
      "val res33 = parkedSmallCar(new MotorCycle(\"MO\"))\n",
      "                           ^Compilation Failed"
     ]
    },
    {
     "ename": "",
     "evalue": "",
     "output_type": "error",
     "traceback": [
      "Compilation Failed"
     ]
    }
   ],
   "source": [
    "parkedSmallCar(new MotorCycle(\"MO\"))"
   ]
  },
  {
   "cell_type": "code",
   "execution_count": 36,
   "id": "3dd439a1",
   "metadata": {},
   "outputs": [
    {
     "name": "stdout",
     "output_type": "stream",
     "text": [
      "Parked Small Car Sed\n",
      "Parked Small Car Coche\n"
     ]
    }
   ],
   "source": [
    "parkedSmallCar(new Sedan(\"Sed\"))\n",
    "parkedSmallCar(new Car(\"Coche\"))"
   ]
  },
  {
   "cell_type": "markdown",
   "id": "49553b97",
   "metadata": {},
   "source": [
    "B extends from A --> then B is subclass=subtype of A so B <: A\n",
    "   - so whenever A is expected, you can pass object of type B\n",
    "\n",
    "\n",
    "B extends A with C --> B is subtype of A and C \n",
    "\n",
    "\n",
    "Functions can also subtype"
   ]
  },
  {
   "cell_type": "code",
   "execution_count": 37,
   "id": "1708e05e",
   "metadata": {},
   "outputs": [
    {
     "data": {
      "text/plain": [
       "defined \u001b[32mclass\u001b[39m \u001b[36mAnimal\u001b[39m\r\n",
       "defined \u001b[32mclass\u001b[39m \u001b[36mBird\u001b[39m\r\n",
       "defined \u001b[32mclass\u001b[39m \u001b[36mMammal\u001b[39m\r\n",
       "defined \u001b[32mclass\u001b[39m \u001b[36mRodent\u001b[39m\r\n",
       "defined \u001b[32mclass\u001b[39m \u001b[36mCat\u001b[39m"
      ]
     },
     "execution_count": 37,
     "metadata": {},
     "output_type": "execute_result"
    }
   ],
   "source": [
    "abstract class Animal{\n",
    "    val name: String\n",
    "    val numLegs: Int\n",
    "}\n",
    "class Bird(val name: String) extends Animal {\n",
    "    val numLegs: Int = 2\n",
    "}\n",
    "\n",
    "class Mammal(val name: String, val numLegs: Int) extends Animal{\n",
    "}\n",
    "\n",
    "class Rodent(override val name: String) extends Mammal(name, numLegs=4) { \n",
    "    override val numLegs= 4\n",
    "}\n",
    "\n",
    "class Cat(override val name: String) extends Mammal(name, numLegs = 4)\n"
   ]
  },
  {
   "cell_type": "markdown",
   "id": "8e17d6f4",
   "metadata": {},
   "source": [
    "### List Subtyping"
   ]
  },
  {
   "cell_type": "code",
   "execution_count": 44,
   "id": "a4b7785d",
   "metadata": {},
   "outputs": [
    {
     "data": {
      "text/plain": [
       "\u001b[36ma\u001b[39m: \u001b[32mList\u001b[39m[\u001b[32mAnimal\u001b[39m] = \u001b[33mList\u001b[39m(\n",
       "  ammonite.$sess.cmd36$Helper$Cat@49efbdf1,\n",
       "  ammonite.$sess.cmd36$Helper$Cat@f0b81bf\n",
       ")\r\n",
       "\u001b[36mb\u001b[39m: \u001b[32mAnimal\u001b[39m = ammonite.$sess.cmd36$Helper$Cat@220fa1a3"
      ]
     },
     "execution_count": 44,
     "metadata": {},
     "output_type": "execute_result"
    }
   ],
   "source": [
    "val a: List[Animal] = List(new Cat(\"Kitty\"), new Cat(\"Garfield\") )\n",
    "\n",
    "val b: Animal = (new Cat(\"Kitty\")) \n",
    "\n",
    "//covariant subtyping relationship\n",
    "    // Animal -> Cat \n",
    "    // also List[Animal] -> List[Cat]"
   ]
  },
  {
   "cell_type": "markdown",
   "id": "7ae25978",
   "metadata": {},
   "source": [
    "### Function Subtyping"
   ]
  },
  {
   "cell_type": "raw",
   "id": "e6c68856",
   "metadata": {},
   "source": [
    "Function subtyping:\n",
    "A -> B\n",
    "\n",
    "T=>A -> T=>B\n",
    "\n",
    "so \n",
    "Function subtyping is covariant in return type"
   ]
  },
  {
   "cell_type": "raw",
   "id": "a77e8ad9",
   "metadata": {},
   "source": [
    "But what if we have \n",
    "A -> B\n",
    "\n",
    "then A=>T and B=>T is actually A=>T <- B=>T \n",
    "\n",
    "arrow is in opposite direction when type is the input\n",
    "this is called contravariant \n",
    "\n",
    "Function subtyping is contravariant in arg types "
   ]
  },
  {
   "cell_type": "raw",
   "id": "09c6f79a",
   "metadata": {},
   "source": [
    "what if \n",
    "T11=>T12 <: T21=>T22 so here we must have T11 <- T21 and T12 ->T22\n",
    "\n",
    "so T11 is subtype of T21 and T22 is subtype of T22\n",
    "so that is T21 <: T11 and T12 <: T22"
   ]
  },
  {
   "cell_type": "markdown",
   "id": "85ccd26d",
   "metadata": {},
   "source": [
    "### Array "
   ]
  },
  {
   "cell_type": "code",
   "execution_count": 46,
   "id": "2a99ba14",
   "metadata": {},
   "outputs": [
    {
     "name": "stderr",
     "output_type": "stream",
     "text": [
      "cmd46.sc:1: type mismatch;\n",
      " found   : Array[cmd46.this.cmd36.Cat]\n",
      " required: Array[cmd46.this.cmd36.Animal]\n",
      "Note: cmd46.this.cmd36.Cat <: cmd46.this.cmd36.Animal, but class Array is invariant in type T.\n",
      "You may wish to investigate a wildcard type such as `_ <: cmd46.this.cmd36.Animal`. (SLS 3.2.10)\n",
      "val arr: Array[Animal] = new Array[Cat](3)\n",
      "                         ^Compilation Failed"
     ]
    },
    {
     "ename": "",
     "evalue": "",
     "output_type": "error",
     "traceback": [
      "Compilation Failed"
     ]
    }
   ],
   "source": [
    "val arr: Array[Animal] = new Array[Cat](3)\n",
    "\n",
    "//Arrays are not covariant or contravariant!!!\n",
    "//because arrays are mutable "
   ]
  },
  {
   "cell_type": "code",
   "execution_count": null,
   "id": "a69e5d8b",
   "metadata": {},
   "outputs": [],
   "source": []
  }
 ],
 "metadata": {
  "kernelspec": {
   "display_name": "Scala",
   "language": "scala",
   "name": "scala"
  },
  "language_info": {
   "codemirror_mode": "text/x-scala",
   "file_extension": ".sc",
   "mimetype": "text/x-scala",
   "name": "scala",
   "nbconvert_exporter": "script",
   "version": "2.13.4"
  }
 },
 "nbformat": 4,
 "nbformat_minor": 5
}
