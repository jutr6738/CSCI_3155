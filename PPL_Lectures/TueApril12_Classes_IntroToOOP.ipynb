{
 "cells": [
  {
   "cell_type": "code",
   "execution_count": 34,
   "id": "7f835686",
   "metadata": {},
   "outputs": [
    {
     "data": {
      "text/plain": [
       "defined \u001b[32mclass\u001b[39m \u001b[36mEmployee\u001b[39m"
      ]
     },
     "execution_count": 34,
     "metadata": {},
     "output_type": "execute_result"
    }
   ],
   "source": [
    "class Employee ( val id: Int, //these are class parameters, the things required to build a class employee\n",
    "                val name: String, \n",
    "                val position: String= \"Intern\", //intern is default arg\n",
    "                private var salary: Int= 100) { \n",
    "    \n",
    "    //some methods\n",
    "    def printName: Unit = {\n",
    "        println(s\"Hi my name is: $name\")\n",
    "    }\n",
    "    def incrementSalary: Unit ={\n",
    "        salary= salary+ 1\n",
    "    }\n",
    "    def getSalary: Int = {\n",
    "        salary\n",
    "    }\n",
    "    def newEmployee: Employee = {\n",
    "        new Employee(id, name+\"Clone\", \"Clone\", salary +3)\n",
    "    }\n",
    "    \n",
    "    //each time we make a new employee object both printlns will execute and salary will be reset\n",
    "    println(s\"New employee, $name with salary $salary and positon $position\")\n",
    "    \n",
    "    salary = 1212\n",
    "    \n",
    "    println(s\"Now salary for $name is, $salary\") \n",
    "}"
   ]
  },
  {
   "cell_type": "code",
   "execution_count": 35,
   "id": "8ba64768",
   "metadata": {},
   "outputs": [
    {
     "name": "stdout",
     "output_type": "stream",
     "text": [
      "New employee, Moby with salary 100 and positon Scrumb\n",
      "Now salary for Moby is, 1212\n"
     ]
    },
    {
     "data": {
      "text/plain": [
       "\u001b[36me1\u001b[39m: \u001b[32mEmployee\u001b[39m = ammonite.$sess.cmd33$Helper$Employee@52b21ada"
      ]
     },
     "execution_count": 35,
     "metadata": {},
     "output_type": "execute_result"
    }
   ],
   "source": [
    "val e1= new Employee(1,\"Moby\", \"Scrumb\") //passing scrumb is optional"
   ]
  },
  {
   "cell_type": "code",
   "execution_count": 36,
   "id": "411f2162",
   "metadata": {},
   "outputs": [
    {
     "name": "stdout",
     "output_type": "stream",
     "text": [
      "Hi my name is: Moby\n"
     ]
    },
    {
     "data": {
      "text/plain": [
       "\u001b[36mres35_1\u001b[39m: \u001b[32mInt\u001b[39m = \u001b[32m1212\u001b[39m\r\n",
       "\u001b[36mres35_3\u001b[39m: \u001b[32mInt\u001b[39m = \u001b[32m1213\u001b[39m"
      ]
     },
     "execution_count": 36,
     "metadata": {},
     "output_type": "execute_result"
    }
   ],
   "source": [
    "e1.printName\n",
    "e1.getSalary\n",
    "e1.incrementSalary\n",
    "e1.getSalary"
   ]
  },
  {
   "cell_type": "code",
   "execution_count": 37,
   "id": "1ef239de",
   "metadata": {},
   "outputs": [
    {
     "name": "stdout",
     "output_type": "stream",
     "text": [
      "New employee, BobbyJoe with salary 100 and positon Intern\n",
      "Now salary for BobbyJoe is, 1212\n",
      "New employee, BobbyJoeClone with salary 1215 and positon Clone\n",
      "Now salary for BobbyJoeClone is, 1212\n"
     ]
    },
    {
     "data": {
      "text/plain": [
       "\u001b[36me2\u001b[39m: \u001b[32mEmployee\u001b[39m = ammonite.$sess.cmd33$Helper$Employee@31e3b934\r\n",
       "\u001b[36mres36_1\u001b[39m: \u001b[32mEmployee\u001b[39m = ammonite.$sess.cmd33$Helper$Employee@245e436b"
      ]
     },
     "execution_count": 37,
     "metadata": {},
     "output_type": "execute_result"
    }
   ],
   "source": [
    "val e2= new Employee(2, \"BobbyJoe\")\n",
    "e2.newEmployee"
   ]
  },
  {
   "cell_type": "code",
   "execution_count": null,
   "id": "bd5894ed",
   "metadata": {},
   "outputs": [],
   "source": []
  },
  {
   "cell_type": "code",
   "execution_count": 45,
   "id": "70894f39",
   "metadata": {},
   "outputs": [
    {
     "data": {
      "text/plain": [
       "defined \u001b[32mobject\u001b[39m \u001b[36mEmployeeFactory\u001b[39m"
      ]
     },
     "execution_count": 45,
     "metadata": {},
     "output_type": "execute_result"
    }
   ],
   "source": [
    "object EmployeeFactory {\n",
    "    private var next_id = 0\n",
    "    \n",
    "    def mkEmployee(name: String, position: String = \"Intern\") {\n",
    "        next_id=next_id+1 //by using the factory, we guarantee that every new object has a differnt unique id \n",
    "        //factory ensures certain properties/relationships between each Employee\n",
    "        new Employee(next_id, name, position)\n",
    "    }\n",
    "}"
   ]
  },
  {
   "cell_type": "code",
   "execution_count": 46,
   "id": "cc185980",
   "metadata": {},
   "outputs": [
    {
     "name": "stdout",
     "output_type": "stream",
     "text": [
      "New employee, Ismall with salary 100 and positon Eng\n",
      "Now salary for Ismall is, 1212\n"
     ]
    }
   ],
   "source": [
    "val empF= EmployeeFactory.mkEmployee(\"Ismall\", \"Eng\")"
   ]
  },
  {
   "cell_type": "code",
   "execution_count": null,
   "id": "774f0065",
   "metadata": {},
   "outputs": [],
   "source": []
  },
  {
   "cell_type": "code",
   "execution_count": 44,
   "id": "86d10aa2",
   "metadata": {},
   "outputs": [
    {
     "data": {
      "text/plain": [
       "defined \u001b[32mobject\u001b[39m \u001b[36mobjA\u001b[39m"
      ]
     },
     "execution_count": 44,
     "metadata": {},
     "output_type": "execute_result"
    }
   ],
   "source": [
    "object objA {\n",
    "    private val a = 10\n",
    "    def getA: Int = {\n",
    "        a\n",
    "    }\n",
    "}"
   ]
  },
  {
   "cell_type": "code",
   "execution_count": 48,
   "id": "76fc6e90",
   "metadata": {},
   "outputs": [
    {
     "data": {
      "text/plain": [
       "\u001b[36ma1\u001b[39m: \u001b[32mInt\u001b[39m = \u001b[32m10\u001b[39m"
      ]
     },
     "execution_count": 48,
     "metadata": {},
     "output_type": "execute_result"
    }
   ],
   "source": [
    "val a1= objA.getA"
   ]
  }
 ],
 "metadata": {
  "kernelspec": {
   "display_name": "Scala",
   "language": "scala",
   "name": "scala"
  },
  "language_info": {
   "codemirror_mode": "text/x-scala",
   "file_extension": ".sc",
   "mimetype": "text/x-scala",
   "name": "scala",
   "nbconvert_exporter": "script",
   "version": "2.13.4"
  }
 },
 "nbformat": 4,
 "nbformat_minor": 5
}
