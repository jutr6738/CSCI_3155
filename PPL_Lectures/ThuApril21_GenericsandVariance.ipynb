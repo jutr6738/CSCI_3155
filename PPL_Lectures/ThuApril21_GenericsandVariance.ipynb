{
 "cells": [
  {
   "cell_type": "code",
   "execution_count": 4,
   "id": "d1c2cfdb-a0db-484b-b11f-e7d5594cc36d",
   "metadata": {},
   "outputs": [
    {
     "data": {
      "text/plain": [
       "defined \u001b[32mclass\u001b[39m \u001b[36mAnimal\u001b[39m"
      ]
     },
     "execution_count": 4,
     "metadata": {},
     "output_type": "execute_result"
    }
   ],
   "source": [
    "//Abstract classes and Traits\n",
    "// Animal is an abstract class. \n",
    "abstract class Animal(val name: String, val nLegs: Int) {\n",
    "    def printName: Unit = {\n",
    "        println(s\"Animal: name is $name\")\n",
    "    }\n",
    "    def says: Unit\n",
    "}"
   ]
  },
  {
   "cell_type": "code",
   "execution_count": 0,
   "id": "c4b945c9-f9b2-450d-9dba-02e82f4068ce",
   "metadata": {},
   "outputs": [
    {
     "name": "stderr",
     "output_type": "stream",
     "text": [
      "cmd0.sc:1: not found: type Animal\n",
      "class Frog(override val name:String) extends Animal(name, 4) {\n",
      "                                             ^cmd0.sc:1: no arguments allowed for nullary constructor Object: (): Object\n",
      "class Frog(override val name:String) extends Animal(name, 4) {\n",
      "                                                    ^Compilation Failed"
     ]
    },
    {
     "ename": "",
     "evalue": "",
     "output_type": "error",
     "traceback": [
      "Compilation Failed"
     ]
    }
   ],
   "source": [
    "// Frog extends Animal\n",
    "// Frog \"is an\" Animal\n",
    "class Frog(override val name:String) extends Animal(name, 4) {\n",
    "    override def printName: Unit = {\n",
    "        println(s\"I am a Frog! My name is $name and I have 4 legs\")\n",
    "    }\n",
    "    def says: Unit = {\n",
    "        println(\"Ribbit! Ribbit!\")\n",
    "    }\n",
    "}"
   ]
  },
  {
   "cell_type": "code",
   "execution_count": null,
   "id": "c2280db5-810c-4222-94a0-642ef24a9be0",
   "metadata": {},
   "outputs": [],
   "source": [
    "// Bird extends Animal\n",
    "// Bird \"is an\" Animal\n",
    "class Bird(override val name:String) extends Animal(name, 2) {\n",
    "    override def printName: Unit = {\n",
    "        println(s\"I am a Bird! My name is $name and I have 2 legs\")\n",
    "    }\n",
    "    def says: Unit = {\n",
    "        println(\"Tweet! Tweet!\")\n",
    "    }\n",
    "}"
   ]
  },
  {
   "cell_type": "code",
   "execution_count": null,
   "id": "b89121a8-d55c-4e07-93d6-428a02f03f78",
   "metadata": {
    "tags": []
   },
   "outputs": [],
   "source": [
    "//You can't inherit multiple classes in Scala and Java.\n",
    "// Why? Because of the diamond problem.\n",
    "abstract class Philosophical {\n",
    "    def philosophize: Unit = {\n",
    "        println(\"I take up space, therefore I am.\")\n",
    "    }\n",
    "}\n",
    "\n",
    "class KermitTheFrog extends Frog(\"Kermit\") with Philosophical {\n",
    "    \n",
    "}\n"
   ]
  },
  {
   "cell_type": "code",
   "execution_count": null,
   "id": "5a6daacc-f093-462a-9809-e44329ee1ef8",
   "metadata": {},
   "outputs": [],
   "source": [
    "// However, you can \"mixin\" mutiple traits.\n",
    "// Traits are very much like abstract classes:\n",
    "//   - They are a means to define a common functionality.\n",
    "//   - They are a collection of abstract and concrete fields and methods. \n",
    "trait Philosophical {\n",
    "    val name: String\n",
    "    def philosophize: Unit = {\n",
    "        println(\"I take up space, therefore I am.\")\n",
    "    }\n",
    "}\n",
    "\n",
    "trait BeingGreen {\n",
    "    val name: String\n",
    "    def beGreen: Unit = {\n",
    "        println(\"It ain't easy being green\")\n",
    "    }\n",
    "}\n",
    "\n",
    "// Unlike abstract classes, you can mixin multiple traits\n",
    "class KermitTheFrog extends Frog(\"Kermit\") with Philosophical with BeingGreen {\n",
    "    override def philosophize: Unit = {\n",
    "        println(\"Kermit the philosopher: I take up space, therefore I am.\")\n",
    "    }\n",
    "}\n"
   ]
  },
  {
   "cell_type": "code",
   "execution_count": null,
   "id": "8e29595c-e093-49b2-a055-65d48e9088f2",
   "metadata": {},
   "outputs": [],
   "source": [
    "val kermitTheFrog = new KermitTheFrog()"
   ]
  },
  {
   "cell_type": "code",
   "execution_count": null,
   "id": "46ab4c7f-fef8-48b9-b612-93835151b4c2",
   "metadata": {},
   "outputs": [],
   "source": [
    "//How are traits different from Abstract classes?\n",
    "// - Traits allow multiple inheritance.\n",
    "// - Traits define a \"has a\" relationship -- Define behavior that can be reused in multiple unrelated classes"
   ]
  },
  {
   "cell_type": "code",
   "execution_count": null,
   "id": "e4db6d95-73a8-4553-8dc8-0f1c45d7fcf4",
   "metadata": {},
   "outputs": [],
   "source": [
    "abstract class JediMaster {\n",
    "    val proteges: List[String]\n",
    "}\n",
    "\n",
    "class Yoda extends JediMaster with Philosophical with BeingGreen {\n",
    "    val proteges = List(\"Anakin\",\"Luke\")\n",
    "    val name = \"Yoda\"\n",
    "    override def beGreen: Unit = {\n",
    "        println(\"Easy being green, It ain't\")\n",
    "    }\n",
    "}"
   ]
  },
  {
   "cell_type": "code",
   "execution_count": null,
   "id": "e97e4175-3150-490e-817c-c1211b5a0fee",
   "metadata": {},
   "outputs": [],
   "source": [
    "val p:Philosophical = kermitTheFrog\n",
    "p.philosophize"
   ]
  },
  {
   "cell_type": "markdown",
   "id": "8e5c6f37-ad2f-439d-a486-f5a4c248f836",
   "metadata": {},
   "source": [
    "Programming in Scala (Odersky):\n",
    "> Whenever you implement a reusable collection of behavior, you will have to decide whether you want to use a trait or an abstract class. There is no firm rule, but this section contains a few guidelines to consider.\n",
    "> \n",
    "> If the behavior will not be reused, then make it a **concrete class**. It is not reusable behavior after all.\n",
    ">\n",
    "> If it might be reused in multiple, unrelated classes, make it a **trait**. Only traits can be mixed into different parts of the class hierarchy.\n",
    "> \n",
    "> If you want to inherit from it in Java code, use an **abstract class**. Since traits with code do not have a close Java analog, it tends to be awkward to inherit from a trait in a Java class. Inheriting from a Scala > > class, meanwhile, is exactly like inheriting from a Java class. As one exception, a Scala trait with only abstract members translates directly to a Java interface, so you should feel free to define such traits even > if you expect Java code to inherit from it. See Chapter 29 for more information on working with Java and Scala together."
   ]
  },
  {
   "cell_type": "code",
   "execution_count": 3,
   "id": "19d3cf33-efdf-4a97-ad91-93f9b4dceb3f",
   "metadata": {},
   "outputs": [
    {
     "data": {
      "text/plain": [
       "defined \u001b[32mtrait\u001b[39m \u001b[36mIntList\u001b[39m\r\n",
       "defined \u001b[32mclass\u001b[39m \u001b[36mCons\u001b[39m\r\n",
       "defined \u001b[32mobject\u001b[39m \u001b[36mNil\u001b[39m"
      ]
     },
     "execution_count": 3,
     "metadata": {},
     "output_type": "execute_result"
    }
   ],
   "source": [
    "sealed trait IntList //sealed trait vs trait: sealed trait is confined to the file\n",
    "case class Cons(x:Int, xs:IntList) extends IntList\n",
    "//case class you do not need to use new \n",
    "case object Nil extends IntList"
   ]
  },
  {
   "cell_type": "code",
   "execution_count": 4,
   "id": "b41d1ed4-7d87-4d85-b12b-ba31aec150ef",
   "metadata": {},
   "outputs": [
    {
     "data": {
      "text/plain": [
       "\u001b[36mv1\u001b[39m: \u001b[32mIntList\u001b[39m = \u001b[33mCons\u001b[39m(x = \u001b[32m1\u001b[39m, xs = Nil)\r\n",
       "\u001b[36mv2\u001b[39m: \u001b[32mIntList\u001b[39m = \u001b[33mCons\u001b[39m(x = \u001b[32m1\u001b[39m, xs = Nil)\r\n",
       "\u001b[36mres3_2\u001b[39m: \u001b[32mBoolean\u001b[39m = true"
      ]
     },
     "execution_count": 4,
     "metadata": {},
     "output_type": "execute_result"
    }
   ],
   "source": [
    "val v1:IntList = Cons(1,Nil) // [1]\n",
    "val v2:IntList = Cons(1,Nil) // [1]\n",
    "v1 == v2 //just tests structural equality "
   ]
  },
  {
   "cell_type": "code",
   "execution_count": 2,
   "id": "7b779ef9",
   "metadata": {},
   "outputs": [
    {
     "data": {
      "text/plain": [
       "defined \u001b[32mtrait\u001b[39m \u001b[36mIntList\u001b[39m\r\n",
       "defined \u001b[32mclass\u001b[39m \u001b[36mClassCons\u001b[39m\r\n",
       "defined \u001b[32mobject\u001b[39m \u001b[36mObjNil\u001b[39m\r\n",
       "\u001b[36mp1\u001b[39m: \u001b[32mIntList\u001b[39m = ammonite.$sess.cmd1$Helper$ClassCons@38acadbe\r\n",
       "\u001b[36mp2\u001b[39m: \u001b[32mIntList\u001b[39m = ammonite.$sess.cmd1$Helper$ClassCons@226f0b60\r\n",
       "\u001b[36mres1_5\u001b[39m: \u001b[32mBoolean\u001b[39m = false"
      ]
     },
     "execution_count": 2,
     "metadata": {},
     "output_type": "execute_result"
    }
   ],
   "source": [
    "sealed trait IntList \n",
    " class ClassCons(x:Int, xs:IntList) extends IntList //regular class\n",
    "//regular class you ned to use new\n",
    " object ObjNil extends IntList\n",
    "\n",
    "val p1:IntList = new ClassCons(1,ObjNil) // [1]\n",
    "val p2:IntList = new ClassCons(1,ObjNil) // [1]\n",
    "p1 == p2 //tests if same objects but they are not so that is why its false"
   ]
  },
  {
   "cell_type": "markdown",
   "id": "dec845dc-0c9b-4a1a-af44-eb87fa805b38",
   "metadata": {},
   "source": [
    "## Generics"
   ]
  },
  {
   "cell_type": "code",
   "execution_count": 5,
   "id": "544c9478-d978-49a3-a156-0cf4c6e99094",
   "metadata": {},
   "outputs": [
    {
     "data": {
      "text/plain": [
       "defined \u001b[32mtrait\u001b[39m \u001b[36mMyOrdering\u001b[39m"
      ]
     },
     "execution_count": 5,
     "metadata": {},
     "output_type": "execute_result"
    }
   ],
   "source": [
    "trait MyOrdering[T]  { \n",
    "    //The user defines a compare operator that \n",
    "    // returns == 0 if two objects are equal\n",
    "    //  > 0 if this > t\n",
    "    //  < 0 if this < t\n",
    "    def compare(t: T): Int \n",
    "    \n",
    "    // The trait can automatically define operators for us to use\n",
    "    def < (t:T): Boolean = this.compare(t) < 0\n",
    "    \n",
    "    def > (t:T): Boolean = this.compare(t) > 0\n",
    "    \n",
    "    def <= (t: T): Boolean = this.compare(t) <= 0\n",
    "    \n",
    "    def >= (t :T): Boolean = this.compare(t) >= 0\n",
    "    \n",
    "    /* def sortList(l: List[T]): List[T] = { // Implement a generic sort algorithm using < operator\n",
    "        \n",
    "    }*/\n",
    "}"
   ]
  },
  {
   "cell_type": "code",
   "execution_count": 5,
   "id": "517ac8d0-60c7-4b85-838c-3dee1f67450f",
   "metadata": {},
   "outputs": [
    {
     "name": "stderr",
     "output_type": "stream",
     "text": [
      "cmd5.sc:10: value <= is not a member of Helper.this.BoxedInt\n",
      "val res5_3 = v1 <= v2\n",
      "                ^Compilation Failed"
     ]
    },
    {
     "ename": "",
     "evalue": "",
     "output_type": "error",
     "traceback": [
      "Compilation Failed"
     ]
    }
   ],
   "source": [
    "class BoxedInt(val n:Int) extends AnyRef with Ordering[BoxedInt] {\n",
    "    def toInt: Int = n\n",
    "    def compare(t:BoxedInt):Int = {\n",
    "        n - t.toInt\n",
    "    }\n",
    "}\n",
    "\n",
    "val v1 = new BoxedInt(3)\n",
    "val v2 = new BoxedInt(4)\n",
    "v1 <= v2"
   ]
  },
  {
   "cell_type": "code",
   "execution_count": null,
   "id": "96c90d07-3faa-4bcd-95ff-ab9a93088737",
   "metadata": {},
   "outputs": [],
   "source": [
    "import scala.math._\n",
    "class Point(val x:Double, val y:Double) extends AnyRef with MyOrdering[Point]{\n",
    "    def compare(n: Point) : Int = {\n",
    "        val d1 = sqrt(x*x + y*y)\n",
    "        val d2 = sqrt(n.x*n.x + n.y*n.y)\n",
    "        (d1 - d2).toInt\n",
    "    }\n",
    "}\n",
    "val v1 = new Point(0,0)\n",
    "val v2 = new Point(1,2)\n",
    "(v1 <= v2)"
   ]
  },
  {
   "cell_type": "code",
   "execution_count": 6,
   "id": "15378a12",
   "metadata": {},
   "outputs": [
    {
     "data": {
      "text/plain": [
       "defined \u001b[32mclass\u001b[39m \u001b[36mIntStack\u001b[39m"
      ]
     },
     "execution_count": 6,
     "metadata": {},
     "output_type": "execute_result"
    }
   ],
   "source": [
    "//but this will only work for input of integers! \n",
    "class IntStack(var ls:List[Int]) {\n",
    "    def push(n:Int):Unit ={\n",
    "        ls=n::ls\n",
    "    }\n",
    "    def pop():Int ={\n",
    "        ls match {\n",
    "            case x::xs=> {\n",
    "                ls=xs\n",
    "                x\n",
    "            }\n",
    "            case Nil => throw new IllegalArgumentException(\"Cant pop from empty\")\n",
    "        }\n",
    "    }\n",
    "}"
   ]
  },
  {
   "cell_type": "code",
   "execution_count": 7,
   "id": "467f2609",
   "metadata": {},
   "outputs": [
    {
     "data": {
      "text/plain": [
       "defined \u001b[32mclass\u001b[39m \u001b[36mGenStack\u001b[39m"
      ]
     },
     "execution_count": 7,
     "metadata": {},
     "output_type": "execute_result"
    }
   ],
   "source": [
    "//making it generic --> replace everywhere that says Int with T\n",
    "//so will work with any type\n",
    "class GenStack[T](var ls:List[T]) {\n",
    "    def push(n:T):Unit ={\n",
    "        ls=n::ls\n",
    "    }\n",
    "    def pop():T ={\n",
    "        ls match {\n",
    "            case x::xs=> {\n",
    "                ls=xs\n",
    "                x\n",
    "            }\n",
    "            case Nil => throw new IllegalArgumentException(\"Cant pop from empty\")\n",
    "        }\n",
    "    }\n",
    "}"
   ]
  },
  {
   "cell_type": "code",
   "execution_count": 8,
   "id": "4435c99c",
   "metadata": {},
   "outputs": [
    {
     "data": {
      "text/plain": [
       "\u001b[36mintGenStack\u001b[39m: \u001b[32mGenStack\u001b[39m[\u001b[32mInt\u001b[39m] = ammonite.$sess.cmd6$Helper$GenStack@93c1f5e\r\n",
       "\u001b[36mdblGenStack\u001b[39m: \u001b[32mGenStack\u001b[39m[\u001b[32mDouble\u001b[39m] = ammonite.$sess.cmd6$Helper$GenStack@5b23c4d"
      ]
     },
     "execution_count": 8,
     "metadata": {},
     "output_type": "execute_result"
    }
   ],
   "source": [
    "val intGenStack:GenStack[Int]= new GenStack[Int](Nil)\n",
    "val dblGenStack:GenStack[Double]= new GenStack[Double](Nil)"
   ]
  },
  {
   "cell_type": "code",
   "execution_count": 9,
   "id": "36766e60",
   "metadata": {},
   "outputs": [
    {
     "name": "stderr",
     "output_type": "stream",
     "text": [
      "cmd9.sc:2: value < is not a member of type parameter T\n",
      "   ls.sortWith((x,y) => x<y ) //This is a problem bc type T doesnt always have < \n",
      "                         ^cmd9.sc:9: value < is not a member of type parameter T\n",
      "                if (h<y) {\n",
      "                     ^Compilation Failed"
     ]
    },
    {
     "ename": "",
     "evalue": "",
     "output_type": "error",
     "traceback": [
      "Compilation Failed"
     ]
    }
   ],
   "source": [
    "//error bc if type T does not have <\n",
    "\n",
    "class SortedListBad[T](val ls: List[T]) {\n",
    "   ls.sortWith((x,y) => x<y ) //This is a problem bc type T doesnt always have < \n",
    "    //so this will only work if the type has < meaning if it has MyOrdering[T]\n",
    "    \n",
    "    //find all elements less than y and return those\n",
    "    def allElementsLessThan(y:T): List[T] ={\n",
    "        ls match {\n",
    "            case h::t => {\n",
    "                if (h<y) {\n",
    "                    val retList= new SortedListBad(t)\n",
    "                    h::(retList.allElementsLessThan(y))\n",
    "                }\n",
    "                else {\n",
    "                    Nil\n",
    "                }\n",
    "            }\n",
    "        }\n",
    "    }\n",
    "}"
   ]
  },
  {
   "cell_type": "code",
   "execution_count": 9,
   "id": "d7ab10e2",
   "metadata": {},
   "outputs": [
    {
     "data": {
      "text/plain": [
       "defined \u001b[32mclass\u001b[39m \u001b[36mSortedList\u001b[39m"
      ]
     },
     "execution_count": 9,
     "metadata": {},
     "output_type": "execute_result"
    }
   ],
   "source": [
    "class SortedList[T <: MyOrdering[T] ](val ls: List[T]) { \n",
    "    //we add constraint that the type must implement what is in MyOrdering so that it must implement comparison operators\n",
    "    //T is subtype of MyOrdering\n",
    "    ls.sortWith((x,y) => x<y ) \n",
    "    \n",
    "    \n",
    "    def allElementsLessThan(y:T): List[T] ={\n",
    "        ls match {\n",
    "            case h::t => {\n",
    "                if (h<y) {\n",
    "                    val retList= new SortedList(t)\n",
    "                    h::(retList.allElementsLessThan(y))\n",
    "                }\n",
    "                else {\n",
    "                    Nil\n",
    "                }\n",
    "            }\n",
    "        }\n",
    "    }\n",
    "}"
   ]
  },
  {
   "cell_type": "markdown",
   "id": "60fbe7d3-044c-4e39-b700-81f1ed6411bc",
   "metadata": {},
   "source": [
    "## Type Constraints"
   ]
  },
  {
   "cell_type": "code",
   "execution_count": null,
   "id": "fa9f3699-fdc3-46ce-9a26-81c5df4bb406",
   "metadata": {},
   "outputs": [],
   "source": [
    "trait HasFoo {\n",
    "    def foo(n:Int) : Unit\n",
    "}\n",
    "def callFoo[T <: HasFoo](arg: T): Unit = {\n",
    "    arg.foo(42)\n",
    "}\n",
    "\n",
    "class MyYoda extends AnyRef with HasFoo {\n",
    "    def foo(n:Int) : Unit = {\n",
    "        println(s\"Yoda's int is $n\")\n",
    "    }\n",
    "}\n",
    "callFoo[MyYoda](new MyYoda)"
   ]
  },
  {
   "cell_type": "code",
   "execution_count": null,
   "id": "6486ebf5-ea5d-4e26-8df8-77b9135b85c3",
   "metadata": {},
   "outputs": [],
   "source": [
    "class C extends A {\n",
    "    override def foo(i: Int): Unit = println(s\"phoo - $i\")\n",
    "}\n",
    "\n",
    "val c = new C()\n",
    "callFoo(c)"
   ]
  },
  {
   "cell_type": "code",
   "execution_count": null,
   "id": "d0bc9a6b",
   "metadata": {},
   "outputs": [],
   "source": []
  },
  {
   "cell_type": "code",
   "execution_count": null,
   "id": "1786c25e-c1a8-48bd-8ff6-ab2f1c832e94",
   "metadata": {},
   "outputs": [],
   "source": [
    "sealed trait MyList[T]\n",
    "case class MyCons[T](x:T, xs: MyList[T]) extends MyList[T]\n",
    "case object MyNil extends MyList[Nothing]"
   ]
  },
  {
   "cell_type": "code",
   "execution_count": null,
   "id": "3bb9a092-f916-4cb4-83be-3704862e7f58",
   "metadata": {},
   "outputs": [],
   "source": [
    "class Stack[T](val ls:MyList[T]) {\n",
    "    def push(n:T) {\n",
    "        MyCons(n,ls)\n",
    "    }\n",
    "    def pop():T = {\n",
    "        ls match {\n",
    "            case MyCons(x,_) => x\n",
    "            //case MyNil => throw new IllegalArgumentException(\"Can't pop from an empty stack\")\n",
    "        }\n",
    "    }\n",
    "}"
   ]
  },
  {
   "cell_type": "code",
   "execution_count": null,
   "id": "f61e0667-4685-4a32-8745-18bcd40efe53",
   "metadata": {},
   "outputs": [],
   "source": [
    "class SortedList[T <: MyOrdering[T]](val ls:List[T]) {\n",
    "    // sort ls here.\n",
    "    def firstElementGreaterThan(x:T): T = {\n",
    "        this.ls match {\n",
    "            case y::ys => if (y>x) {x} else {(new SortedList(ys)).firstElementGreaterThan(x)}\n",
    "            case _ => throw new IllegalArgumentException(\"Not found\")\n",
    "        }\n",
    "    }\n",
    "}"
   ]
  },
  {
   "cell_type": "code",
   "execution_count": null,
   "id": "02195562-4a2c-40c9-8629-c3400acdc9c1",
   "metadata": {},
   "outputs": [],
   "source": []
  },
  {
   "cell_type": "code",
   "execution_count": null,
   "id": "542b0c93-8ef8-46ee-a3d8-189a5089b631",
   "metadata": {},
   "outputs": [],
   "source": []
  },
  {
   "cell_type": "code",
   "execution_count": null,
   "id": "5f9d16f9",
   "metadata": {},
   "outputs": [],
   "source": []
  }
 ],
 "metadata": {
  "kernelspec": {
   "display_name": "Scala",
   "language": "scala",
   "name": "scala"
  },
  "language_info": {
   "codemirror_mode": "text/x-scala",
   "file_extension": ".sc",
   "mimetype": "text/x-scala",
   "name": "scala",
   "nbconvert_exporter": "script",
   "version": "2.13.4"
  }
 },
 "nbformat": 4,
 "nbformat_minor": 5
}
