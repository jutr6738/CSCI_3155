{
 "cells": [
  {
   "cell_type": "code",
   "execution_count": 2,
   "id": "b37b1a12",
   "metadata": {},
   "outputs": [
    {
     "data": {
      "text/plain": [
       "defined \u001b[32mclass\u001b[39m \u001b[36mAnimal\u001b[39m"
      ]
     },
     "execution_count": 2,
     "metadata": {},
     "output_type": "execute_result"
    }
   ],
   "source": [
    "abstract class Animal {\n",
    "    val name: String\n",
    "    val legs: Int\n",
    "    def printName: Unit ={\n",
    "        println(s\"Animal name is $name\")\n",
    "    }\n",
    "}\n",
    "//abstract class doesn't always have to define all of its properties \n"
   ]
  },
  {
   "cell_type": "code",
   "execution_count": 2,
   "id": "33b745ad",
   "metadata": {},
   "outputs": [
    {
     "name": "stderr",
     "output_type": "stream",
     "text": [
      "cmd2.sc:110: class ConcreteAnimal needs to be abstract.\n",
      "Missing implementations for 2 members. Stub implementations follow:\n",
      "  val legs: Int = ???\n",
      "  val name: String = ???\n",
      "\n",
      "class ConcreteAnimal {\n",
      "      ^Compilation Failed"
     ]
    },
    {
     "ename": "",
     "evalue": "",
     "output_type": "error",
     "traceback": [
      "Compilation Failed"
     ]
    }
   ],
   "source": [
    "//if we change it to just regular class, we get an error\n",
    "//concrete class cannot have undefined properties\n",
    "class ConcreteAnimal {\n",
    "    val name: String\n",
    "    val legs: Int\n",
    "    def printName: Unit ={\n",
    "        println(s\"Animal name is $name\")\n",
    "    }\n",
    "}"
   ]
  },
  {
   "cell_type": "code",
   "execution_count": 2,
   "id": "9f7fc7de",
   "metadata": {},
   "outputs": [
    {
     "name": "stderr",
     "output_type": "stream",
     "text": [
      "cmd2.sc:1: class Animal is abstract; cannot be instantiated\n",
      "val abstractAnimal = new Animal()\n",
      "                     ^Compilation Failed"
     ]
    },
    {
     "ename": "",
     "evalue": "",
     "output_type": "error",
     "traceback": [
      "Compilation Failed"
     ]
    }
   ],
   "source": [
    "val abstractAnimal = new Animal()"
   ]
  },
  {
   "cell_type": "code",
   "execution_count": 13,
   "id": "8fec766a",
   "metadata": {},
   "outputs": [
    {
     "data": {
      "text/plain": [
       "defined \u001b[32mclass\u001b[39m \u001b[36mFrog\u001b[39m"
      ]
     },
     "execution_count": 13,
     "metadata": {},
     "output_type": "execute_result"
    }
   ],
   "source": [
    "class Frog extends Animal {\n",
    "    //we must create implementation for all non implementated methods of animal\n",
    "    //so we must define legs and name or else we will get error\n",
    "    val name = \"Frogg\"\n",
    "    val legs = 4\n",
    "    \n",
    "    //if we define printName, it must be override or else we get error \n",
    "    override def printName:Unit = {\n",
    "        println(s\"Yo I am $name and I have $legs legs\")\n",
    "    }\n",
    "}"
   ]
  },
  {
   "cell_type": "code",
   "execution_count": 14,
   "id": "17861b5a",
   "metadata": {},
   "outputs": [
    {
     "data": {
      "text/plain": [
       "\u001b[36mfrogObject\u001b[39m: \u001b[32mFrog\u001b[39m = ammonite.$sess.cmd12$Helper$Frog@4ea26c82"
      ]
     },
     "execution_count": 14,
     "metadata": {},
     "output_type": "execute_result"
    }
   ],
   "source": [
    "val frogObject = new Frog"
   ]
  },
  {
   "cell_type": "code",
   "execution_count": 15,
   "id": "5ec5c428",
   "metadata": {},
   "outputs": [
    {
     "name": "stdout",
     "output_type": "stream",
     "text": [
      "Yo I am Frogg and I have 4 legs\n"
     ]
    },
    {
     "data": {
      "text/plain": [
       "\u001b[36mres14_1\u001b[39m: \u001b[32mString\u001b[39m = \u001b[32m\"Frogg\"\u001b[39m\r\n",
       "\u001b[36mres14_2\u001b[39m: \u001b[32mInt\u001b[39m = \u001b[32m4\u001b[39m"
      ]
     },
     "execution_count": 15,
     "metadata": {},
     "output_type": "execute_result"
    }
   ],
   "source": [
    "frogObject.printName\n",
    "frogObject.name\n",
    "frogObject.legs"
   ]
  },
  {
   "cell_type": "code",
   "execution_count": 17,
   "id": "0eb3c6fc",
   "metadata": {},
   "outputs": [
    {
     "data": {
      "text/plain": [
       "defined \u001b[32mclass\u001b[39m \u001b[36mparamAnimal\u001b[39m"
      ]
     },
     "execution_count": 17,
     "metadata": {},
     "output_type": "execute_result"
    }
   ],
   "source": [
    "//abstract classes can take parameters\n",
    "abstract class paramAnimal (val name: String, val legs: Int) {\n",
    "    def printName: Unit ={\n",
    "        println(s\"My name is $name\")\n",
    "    }\n",
    "}"
   ]
  },
  {
   "cell_type": "code",
   "execution_count": 18,
   "id": "9c4c353d",
   "metadata": {},
   "outputs": [
    {
     "data": {
      "text/plain": [
       "defined \u001b[32mclass\u001b[39m \u001b[36mparamFrog\u001b[39m"
      ]
     },
     "execution_count": 18,
     "metadata": {},
     "output_type": "execute_result"
    }
   ],
   "source": [
    "//must have both parameters, or else we get error \n",
    "class paramFrog extends paramAnimal (\"froggie\", 4) {\n",
    "    override def printName: Unit ={\n",
    "        println(\"hi\")\n",
    "    }\n",
    "}"
   ]
  },
  {
   "cell_type": "code",
   "execution_count": 19,
   "id": "08378554",
   "metadata": {},
   "outputs": [
    {
     "data": {
      "text/plain": [
       "defined \u001b[32mclass\u001b[39m \u001b[36mparamMammal\u001b[39m"
      ]
     },
     "execution_count": 19,
     "metadata": {},
     "output_type": "execute_result"
    }
   ],
   "source": [
    "class paramMammal (val something: Int) extends paramAnimal (\"froggie\", 4) {\n",
    "    override def printName: Unit ={\n",
    "        println(\"hi\")\n",
    "    }\n",
    "}"
   ]
  },
  {
   "cell_type": "code",
   "execution_count": 20,
   "id": "f114b632",
   "metadata": {},
   "outputs": [
    {
     "data": {
      "text/plain": [
       "\u001b[36mparMam\u001b[39m: \u001b[32mparamMammal\u001b[39m = ammonite.$sess.cmd18$Helper$paramMammal@675ed053"
      ]
     },
     "execution_count": 20,
     "metadata": {},
     "output_type": "execute_result"
    }
   ],
   "source": [
    "val parMam= new paramMammal(4)"
   ]
  },
  {
   "cell_type": "code",
   "execution_count": 21,
   "id": "060abc96",
   "metadata": {},
   "outputs": [
    {
     "data": {
      "text/plain": [
       "\u001b[36mres20\u001b[39m: \u001b[32mInt\u001b[39m = \u001b[32m4\u001b[39m"
      ]
     },
     "execution_count": 21,
     "metadata": {},
     "output_type": "execute_result"
    }
   ],
   "source": [
    "parMam.something"
   ]
  },
  {
   "cell_type": "markdown",
   "id": "28c8ce39",
   "metadata": {},
   "source": [
    "### Multiple Inheritance does not work\n",
    "- diamond problem : 2 classes inherit from a common class, then another class inherits from both of those 2 classes\n",
    "- If B and C inherit from A, and D inherits from C and B\n",
    "    - A-> B\n",
    "    - A-> C\n",
    "    - C->D\n",
    "    - B->D\n",
    "        - but what if both B and C override A's defination for printStuff, then what printStuff will D inherit!?\n",
    "        - then we don't know what D will use!!"
   ]
  },
  {
   "cell_type": "code",
   "execution_count": 22,
   "id": "e546c6f9",
   "metadata": {},
   "outputs": [
    {
     "data": {
      "text/plain": [
       "defined \u001b[32mclass\u001b[39m \u001b[36mPlants\u001b[39m"
      ]
     },
     "execution_count": 22,
     "metadata": {},
     "output_type": "execute_result"
    }
   ],
   "source": [
    "//multiple inheritance is not allowed in JBM languages!!\n",
    "\n",
    "class Plants {\n",
    "    def grow: Unit ={\n",
    "        println(\"I'm growing\")\n",
    "    }\n",
    "}"
   ]
  },
  {
   "cell_type": "code",
   "execution_count": 22,
   "id": "790bdde5",
   "metadata": {},
   "outputs": [
    {
     "name": "stderr",
     "output_type": "stream",
     "text": [
      "(console):3:51 expected (Semis | &\"}\" | end-of-input)\r\n",
      "//multiple inheritance is not allowed in JBM languages!!\n",
      "\n",
      "class PlantAnimal extends Animal(\"PlanImal, 300\") extends Plants{\n",
      "    def speak {\n",
      "        println(\"this won't work bc multiple inheritance is not allowed\")\n",
      "    }\n",
      "}\r\n",
      "                                                                                                            ^"
     ]
    },
    {
     "ename": "",
     "evalue": "",
     "output_type": "error",
     "traceback": [
      "(console):3:51 expected (Semis | &\"}\" | end-of-input)\r\n//multiple inheritance is not allowed in JBM languages!!\n\nclass PlantAnimal extends Animal(\"PlanImal, 300\") extends Plants{\n    def speak {\n        println(\"this won't work bc multiple inheritance is not allowed\")\n    }\n}\r\n                                                                                                            ^"
     ]
    }
   ],
   "source": [
    "//multiple inheritance is not allowed in JBM languages!!\n",
    "\n",
    "class PlantAnimal extends Animal(\"PlanImal, 300\") extends Plants{\n",
    "    def speak {\n",
    "        println(\"this won't work bc multiple inheritance is not allowed\")\n",
    "    }\n",
    "}"
   ]
  },
  {
   "cell_type": "markdown",
   "id": "cab45518",
   "metadata": {},
   "source": [
    "## Traits\n",
    "- this is why we have traits"
   ]
  },
  {
   "cell_type": "markdown",
   "id": "ae77edbc",
   "metadata": {},
   "source": [
    "-  Traits operate via mixins\n",
    "- Traits define \"has\" relationship\n",
    "\n",
    "-  Classes operate with inheritance\n",
    "- Classes are a \"belong to\" realtionship\n",
    "\n",
    "- Traits are best with Generics"
   ]
  },
  {
   "cell_type": "code",
   "execution_count": 32,
   "id": "1f987dd6",
   "metadata": {},
   "outputs": [
    {
     "data": {
      "text/plain": [
       "defined \u001b[32mtrait\u001b[39m \u001b[36mplanimal\u001b[39m"
      ]
     },
     "execution_count": 32,
     "metadata": {},
     "output_type": "execute_result"
    }
   ],
   "source": [
    "trait planimal {\n",
    "    def speak: Unit= {\n",
    "        println(\"hi\")\n",
    "    }\n",
    "    val grow: Int\n",
    "}"
   ]
  },
  {
   "cell_type": "code",
   "execution_count": 33,
   "id": "3b5299f9",
   "metadata": {},
   "outputs": [
    {
     "data": {
      "text/plain": [
       "defined \u001b[32mclass\u001b[39m \u001b[36mgrassFrog\u001b[39m"
      ]
     },
     "execution_count": 33,
     "metadata": {},
     "output_type": "execute_result"
    }
   ],
   "source": [
    "class grassFrog extends paramAnimal(\"grassyFroggie\", 5) with planimal {\n",
    "    override def speak: Unit ={\n",
    "        println(s\"I am $name\")\n",
    "    }\n",
    "    val grow= 10\n",
    "    \n",
    "}"
   ]
  },
  {
   "cell_type": "code",
   "execution_count": 34,
   "id": "34f32a45",
   "metadata": {},
   "outputs": [
    {
     "name": "stdout",
     "output_type": "stream",
     "text": [
      "I am grassyFroggie\n"
     ]
    },
    {
     "data": {
      "text/plain": [
       "\u001b[36mgF\u001b[39m: \u001b[32mgrassFrog\u001b[39m = ammonite.$sess.cmd32$Helper$grassFrog@41d45914\r\n",
       "\u001b[36mres33_2\u001b[39m: \u001b[32mInt\u001b[39m = \u001b[32m10\u001b[39m\r\n",
       "\u001b[36mres33_3\u001b[39m: \u001b[32mInt\u001b[39m = \u001b[32m5\u001b[39m\r\n",
       "\u001b[36mres33_4\u001b[39m: \u001b[32mString\u001b[39m = \u001b[32m\"grassyFroggie\"\u001b[39m"
      ]
     },
     "execution_count": 34,
     "metadata": {},
     "output_type": "execute_result"
    }
   ],
   "source": [
    "val gF= new grassFrog()\n",
    "gF.speak\n",
    "gF.grow\n",
    "gF.legs\n",
    "gF.name"
   ]
  },
  {
   "cell_type": "markdown",
   "id": "fdaf27a8",
   "metadata": {},
   "source": [
    "### Traits vs Abstract Class\n",
    "- if the behabior will not be reused --> concrete class \n",
    "- if it might be resued in multiple unrelated classes -> trait\n",
    "    - only traits can be mixed into different classes\n",
    "- if you want to inherit from it in java code--> abstract class \n",
    "\n",
    "- when in doubt use traits"
   ]
  },
  {
   "cell_type": "markdown",
   "id": "4bfb66b7",
   "metadata": {},
   "source": [
    "## Generics"
   ]
  },
  {
   "cell_type": "code",
   "execution_count": 61,
   "id": "397dd7c4",
   "metadata": {},
   "outputs": [
    {
     "data": {
      "text/plain": [
       "defined \u001b[32mfunction\u001b[39m \u001b[36mapplyFun\u001b[39m"
      ]
     },
     "execution_count": 61,
     "metadata": {},
     "output_type": "execute_result"
    }
   ],
   "source": [
    "def applyFun[Arg, Ret] (f: Ret=>Arg, x: Ret) = {\n",
    "    f(x)\n",
    "}"
   ]
  },
  {
   "cell_type": "code",
   "execution_count": 62,
   "id": "02491055",
   "metadata": {},
   "outputs": [
    {
     "data": {
      "text/plain": [
       "defined \u001b[32mfunction\u001b[39m \u001b[36mincrement\u001b[39m\r\n",
       "defined \u001b[32mfunction\u001b[39m \u001b[36msubString\u001b[39m\r\n",
       "defined \u001b[32mfunction\u001b[39m \u001b[36mstringLength\u001b[39m"
      ]
     },
     "execution_count": 62,
     "metadata": {},
     "output_type": "execute_result"
    }
   ],
   "source": [
    "def increment(s:Int):Int = {\n",
    "    s+1\n",
    "}\n",
    "def subString(s:String): String ={\n",
    "    s.substring(2)\n",
    "}\n",
    "def stringLength(s:String): Int ={\n",
    "    s.length\n",
    "}"
   ]
  },
  {
   "cell_type": "code",
   "execution_count": 63,
   "id": "a44c663e",
   "metadata": {},
   "outputs": [
    {
     "data": {
      "text/plain": [
       "\u001b[36mres62\u001b[39m: \u001b[32mInt\u001b[39m = \u001b[32m5\u001b[39m"
      ]
     },
     "execution_count": 63,
     "metadata": {},
     "output_type": "execute_result"
    }
   ],
   "source": [
    "applyFun(increment, 4)"
   ]
  },
  {
   "cell_type": "code",
   "execution_count": 64,
   "id": "b43e938b",
   "metadata": {},
   "outputs": [
    {
     "data": {
      "text/plain": [
       "\u001b[36mres63\u001b[39m: \u001b[32mString\u001b[39m = \u001b[32m\"lloWorld\"\u001b[39m"
      ]
     },
     "execution_count": 64,
     "metadata": {},
     "output_type": "execute_result"
    }
   ],
   "source": [
    "applyFun(subString, \"HelloWorld\")"
   ]
  },
  {
   "cell_type": "code",
   "execution_count": 65,
   "id": "8f8ebf2d",
   "metadata": {},
   "outputs": [
    {
     "data": {
      "text/plain": [
       "\u001b[36mres64\u001b[39m: \u001b[32mInt\u001b[39m = \u001b[32m10\u001b[39m"
      ]
     },
     "execution_count": 65,
     "metadata": {},
     "output_type": "execute_result"
    }
   ],
   "source": [
    "applyFun(stringLength, \"HowLongAmI\")"
   ]
  },
  {
   "cell_type": "code",
   "execution_count": null,
   "id": "3881df19",
   "metadata": {},
   "outputs": [],
   "source": []
  },
  {
   "cell_type": "code",
   "execution_count": 4,
   "id": "0735f9df",
   "metadata": {},
   "outputs": [
    {
     "data": {
      "text/plain": [
       "defined \u001b[32mtrait\u001b[39m \u001b[36mT\u001b[39m\r\n",
       "defined \u001b[32mclass\u001b[39m \u001b[36mA\u001b[39m\r\n",
       "defined \u001b[32mclass\u001b[39m \u001b[36mB\u001b[39m"
      ]
     },
     "execution_count": 4,
     "metadata": {},
     "output_type": "execute_result"
    }
   ],
   "source": [
    "trait T {\n",
    "   val n : Int\n",
    "   def foo(n: Int): Unit\n",
    "}\n",
    "\n",
    "abstract class A extends T {\n",
    "//    val n= 10\n",
    " override def foo(n:Int)= println(\"hiiiii\")\n",
    "    \n",
    " }\n",
    "\n",
    "class B extends A {\n",
    "   val n= 39\n",
    "    override def foo(n:Int)= println(\"ji\")\n",
    "}\n",
    "\n",
    "//B is subtrait of T\n",
    "//A must implement n and foo\n",
    "//B may implement n and foo if overri"
   ]
  },
  {
   "cell_type": "code",
   "execution_count": null,
   "id": "c2b6471c",
   "metadata": {},
   "outputs": [],
   "source": []
  }
 ],
 "metadata": {
  "kernelspec": {
   "display_name": "Scala",
   "language": "scala",
   "name": "scala"
  },
  "language_info": {
   "codemirror_mode": "text/x-scala",
   "file_extension": ".sc",
   "mimetype": "text/x-scala",
   "name": "scala",
   "nbconvert_exporter": "script",
   "version": "2.13.4"
  }
 },
 "nbformat": 4,
 "nbformat_minor": 5
}
