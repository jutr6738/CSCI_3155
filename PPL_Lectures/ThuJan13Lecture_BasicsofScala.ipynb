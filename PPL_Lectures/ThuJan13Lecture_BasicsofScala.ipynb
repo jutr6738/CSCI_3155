{
 "cells": [
  {
   "cell_type": "markdown",
   "id": "c030d680",
   "metadata": {},
   "source": [
    "Scala: Programming language\n",
    "    \"Scalable language\": functional programming language which built on top of JVM\n",
    "    \n",
    "    Martin Odersky-- created \n",
    "    \n",
    "Scala built on JVM"
   ]
  },
  {
   "cell_type": "code",
   "execution_count": 3,
   "id": "0c34e4bc",
   "metadata": {},
   "outputs": [
    {
     "name": "stdout",
     "output_type": "stream",
     "text": [
      "Hello WOrld!!\n",
      "Hi"
     ]
    }
   ],
   "source": [
    "println(\"Hello WOrld!!\")  //prints with new line after\n",
    "print(\"Hi\") //no new line after"
   ]
  },
  {
   "cell_type": "markdown",
   "id": "47a6d442",
   "metadata": {},
   "source": [
    "Jupyter notebool is a REPL\n",
    "evaluates each line then moves to next line, it does not compile\n",
    "real programming is not done in a REPL\n",
    "takes single line and evaluates it and waits for the next command"
   ]
  },
  {
   "cell_type": "code",
   "execution_count": 5,
   "id": "90e9ab11",
   "metadata": {},
   "outputs": [
    {
     "data": {
      "text/plain": [
       "\u001b[36mx\u001b[39m: \u001b[32mInt\u001b[39m = \u001b[32m10\u001b[39m\r\n",
       "\u001b[36my\u001b[39m: \u001b[32mDouble\u001b[39m = \u001b[32m10.3\u001b[39m"
      ]
     },
     "execution_count": 5,
     "metadata": {},
     "output_type": "execute_result"
    }
   ],
   "source": [
    "val x: Int = 10 ;//just like const int x=10; in C++\n",
    "//anything declared val CANNOT be mutated/changed\n",
    "\n",
    "var y: Double = 10.3; //y is declared to be double"
   ]
  },
  {
   "cell_type": "code",
   "execution_count": 5,
   "id": "1aca7123",
   "metadata": {},
   "outputs": [
    {
     "name": "stderr",
     "output_type": "stream",
     "text": [
      "cmd5.sc:1: reassignment to val\n",
      "val res5 = x=12; //CANNOT DO THIS BECAUSE X IS VAL AND CANNOT CHANGE\n",
      "            ^Compilation Failed"
     ]
    },
    {
     "ename": "",
     "evalue": "",
     "output_type": "error",
     "traceback": [
      "Compilation Failed"
     ]
    }
   ],
   "source": [
    "x=12; //CANNOT DO THIS BECAUSE X IS VAL AND CANNOT CHANGE"
   ]
  },
  {
   "cell_type": "code",
   "execution_count": 8,
   "id": "1d84cd0e",
   "metadata": {},
   "outputs": [
    {
     "name": "stdout",
     "output_type": "stream",
     "text": [
      "25.0\n"
     ]
    }
   ],
   "source": [
    "y=25; //yes we can do this\n",
    "println(y);"
   ]
  },
  {
   "cell_type": "markdown",
   "id": "2a0c0d0f",
   "metadata": {},
   "source": [
    "We will almost never use vars becasue we want to make everything a val so that we force ourselves to use immutables \n",
    "\n",
    "we avoid loops and forces use to think \"functionally\" so we don't need loops and we use map, filter instead. more efficient. more logically clear. no accumulators. compiler can do optimations to be faster"
   ]
  },
  {
   "cell_type": "code",
   "execution_count": 8,
   "id": "1d0a071b",
   "metadata": {},
   "outputs": [
    {
     "name": "stderr",
     "output_type": "stream",
     "text": [
      "(console):5:24 expected (Semis | &\"}\" | end-of-input)\r\n",
      "val a: Int= 1; //32 bit int\n",
      "val b: Long= 1L; //64bit int\n",
      "val c: Double= 1.2; //double\n",
      "val d: Float= 1.5F; //float\n",
      "val e: String = \"Hello\"' //string, not an array\n",
      "println(e(2));\n",
      "val f: Char = 'c'; //strings are not arrays of chars in scala 2\r\n",
      "                                                                                                                                         ^"
     ]
    },
    {
     "ename": "",
     "evalue": "",
     "output_type": "error",
     "traceback": [
      "(console):5:24 expected (Semis | &\"}\" | end-of-input)\r\nval a: Int= 1; //32 bit int\nval b: Long= 1L; //64bit int\nval c: Double= 1.2; //double\nval d: Float= 1.5F; //float\nval e: String = \"Hello\"' //string, not an array\nprintln(e(2));\nval f: Char = 'c'; //strings are not arrays of chars in scala 2\r\n                                                                                                                                         ^"
     ]
    }
   ],
   "source": [
    "val a: Int= 1; //32 bit int\n",
    "val b: Long= 1L; //64bit int\n",
    "val c: Double= 1.2; //double\n",
    "val d: Float= 1.5F; //float\n",
    "val e: String = \"Hello\"' //string, not an array\n",
    "println(e(2));\n",
    "val f: Char = 'c'; //strings are not arrays of chars in scala 2"
   ]
  },
  {
   "cell_type": "code",
   "execution_count": 11,
   "id": "d9afc69f",
   "metadata": {},
   "outputs": [
    {
     "data": {
      "text/plain": [
       "\u001b[36mtup\u001b[39m: (\u001b[32mInt\u001b[39m, \u001b[32mString\u001b[39m) = (\u001b[32m2\u001b[39m, \u001b[32m\"two\"\u001b[39m)\r\n",
       "\u001b[36mtup2\u001b[39m: (\u001b[32mInt\u001b[39m, \u001b[32mString\u001b[39m, \u001b[32mDouble\u001b[39m) = (\u001b[32m3\u001b[39m, \u001b[32m\"three\"\u001b[39m, \u001b[32m3.0\u001b[39m)\r\n",
       "\u001b[36ma\u001b[39m: \u001b[32mInt\u001b[39m = \u001b[32m2\u001b[39m\r\n",
       "\u001b[36mb\u001b[39m: \u001b[32mString\u001b[39m = \u001b[32m\"two\"\u001b[39m\r\n",
       "\u001b[36mx\u001b[39m: \u001b[32mInt\u001b[39m = \u001b[32m3\u001b[39m\r\n",
       "\u001b[36my\u001b[39m: \u001b[32mString\u001b[39m = \u001b[32m\"three\"\u001b[39m\r\n",
       "\u001b[36mz\u001b[39m: \u001b[32mDouble\u001b[39m = \u001b[32m3.0\u001b[39m\r\n",
       "\u001b[36mtuptup\u001b[39m: ((\u001b[32mInt\u001b[39m, \u001b[32mString\u001b[39m), \u001b[32mChar\u001b[39m) = ((\u001b[32m2\u001b[39m, \u001b[32m\"two\"\u001b[39m), \u001b[32m'o'\u001b[39m)"
      ]
     },
     "execution_count": 11,
     "metadata": {},
     "output_type": "execute_result"
    }
   ],
   "source": [
    "val tup: (Int, String)= (2,\"two\")\n",
    "val tup2: (Int, String, Double) = (3, \"three\", 3.0)\n",
    "\n",
    "val(a,b)= tup //unpacking\n",
    "val (x, y, z)= tup2\n",
    "\n",
    "val tuptup: ( (Int,String), Char) = ( tup, 'o')"
   ]
  },
  {
   "cell_type": "code",
   "execution_count": 12,
   "id": "1437820b",
   "metadata": {},
   "outputs": [
    {
     "data": {
      "text/plain": [
       "\u001b[36mlist\u001b[39m: \u001b[32mList\u001b[39m[\u001b[32mInt\u001b[39m] = \u001b[33mList\u001b[39m(\u001b[32m1\u001b[39m, \u001b[32m2\u001b[39m, \u001b[32m3\u001b[39m, \u001b[32m4\u001b[39m, \u001b[32m5\u001b[39m, \u001b[32m6\u001b[39m, \u001b[32m7\u001b[39m, \u001b[32m8\u001b[39m, \u001b[32m9\u001b[39m)"
      ]
     },
     "execution_count": 12,
     "metadata": {},
     "output_type": "execute_result"
    }
   ],
   "source": [
    "val list: List[Int] = List(1,2,3,4,5,6,7,8,9) //immutable"
   ]
  },
  {
   "cell_type": "code",
   "execution_count": 13,
   "id": "db38ca3e",
   "metadata": {},
   "outputs": [
    {
     "data": {
      "text/plain": [
       "\u001b[36mlist2\u001b[39m: \u001b[32mList\u001b[39m[\u001b[32mAny\u001b[39m] = \u001b[33mList\u001b[39m(\u001b[32m1\u001b[39m, \u001b[32m\"one\"\u001b[39m, \u001b[32m1.1\u001b[39m, \u001b[32m3.0F\u001b[39m, \u001b[32m3\u001b[39m, \u001b[32m\"t\"\u001b[39m)"
      ]
     },
     "execution_count": 13,
     "metadata": {},
     "output_type": "execute_result"
    }
   ],
   "source": [
    "val list2: List[Any]= List(1, \"one\", 1.1, 3.0F, 3, \"t\")"
   ]
  },
  {
   "cell_type": "code",
   "execution_count": 14,
   "id": "0411e711",
   "metadata": {},
   "outputs": [
    {
     "data": {
      "text/plain": [
       "\u001b[36mlist3\u001b[39m: \u001b[32mList\u001b[39m[\u001b[32mList\u001b[39m[\u001b[32mInt\u001b[39m]] = \u001b[33mList\u001b[39m(\u001b[33mList\u001b[39m(\u001b[32m1\u001b[39m, \u001b[32m2\u001b[39m), \u001b[33mList\u001b[39m(\u001b[32m3\u001b[39m, \u001b[32m4\u001b[39m))"
      ]
     },
     "execution_count": 14,
     "metadata": {},
     "output_type": "execute_result"
    }
   ],
   "source": [
    "val list3: List[List[Int]]= List( List(1,2), List(3,4))"
   ]
  },
  {
   "cell_type": "code",
   "execution_count": 16,
   "id": "05860a02",
   "metadata": {},
   "outputs": [
    {
     "name": "stdout",
     "output_type": "stream",
     "text": [
      "List(1, 2)\n"
     ]
    }
   ],
   "source": [
    "println(list3(0))"
   ]
  },
  {
   "cell_type": "code",
   "execution_count": 36,
   "id": "69ad321b",
   "metadata": {},
   "outputs": [
    {
     "data": {
      "text/plain": [
       "\u001b[36mlistprepend\u001b[39m: \u001b[32mList\u001b[39m[\u001b[32mInt\u001b[39m] = \u001b[33mList\u001b[39m(\u001b[32m-1\u001b[39m, \u001b[32m1\u001b[39m, \u001b[32m2\u001b[39m, \u001b[32m3\u001b[39m, \u001b[32m4\u001b[39m, \u001b[32m5\u001b[39m, \u001b[32m6\u001b[39m, \u001b[32m7\u001b[39m, \u001b[32m8\u001b[39m, \u001b[32m9\u001b[39m)"
      ]
     },
     "execution_count": 36,
     "metadata": {},
     "output_type": "execute_result"
    }
   ],
   "source": [
    "val listprepend= -1 :: list; //this makes a new list called listprepend and puts -1 appended in front of list"
   ]
  },
  {
   "cell_type": "code",
   "execution_count": 31,
   "id": "1cf0ef1b",
   "metadata": {},
   "outputs": [
    {
     "name": "stderr",
     "output_type": "stream",
     "text": [
      "cmd31.sc:1: value update is not a member of List[Any]\n",
      "did you mean updated?\n",
      "val res31 = list2(1)=5 //cannot do this for lists, but we can for arrays\n",
      "            ^Compilation Failed"
     ]
    },
    {
     "ename": "",
     "evalue": "",
     "output_type": "error",
     "traceback": [
      "Compilation Failed"
     ]
    }
   ],
   "source": [
    "list2(1)=5 //cannot do this for lists, but we can for arrays"
   ]
  },
  {
   "cell_type": "code",
   "execution_count": 37,
   "id": "ef9c54cd",
   "metadata": {},
   "outputs": [
    {
     "data": {
      "text/plain": [
       "\u001b[36mlistappend\u001b[39m: \u001b[32mList\u001b[39m[\u001b[32mInt\u001b[39m] = \u001b[33mList\u001b[39m(\n",
       "  \u001b[32m-1\u001b[39m,\n",
       "  \u001b[32m1\u001b[39m,\n",
       "  \u001b[32m2\u001b[39m,\n",
       "  \u001b[32m3\u001b[39m,\n",
       "  \u001b[32m4\u001b[39m,\n",
       "  \u001b[32m5\u001b[39m,\n",
       "  \u001b[32m6\u001b[39m,\n",
       "  \u001b[32m7\u001b[39m,\n",
       "  \u001b[32m8\u001b[39m,\n",
       "  \u001b[32m9\u001b[39m,\n",
       "  \u001b[32m1\u001b[39m,\n",
       "  \u001b[32m2\u001b[39m,\n",
       "  \u001b[32m3\u001b[39m,\n",
       "  \u001b[32m4\u001b[39m,\n",
       "  \u001b[32m5\u001b[39m,\n",
       "  \u001b[32m6\u001b[39m,\n",
       "  \u001b[32m7\u001b[39m,\n",
       "  \u001b[32m8\u001b[39m,\n",
       "  \u001b[32m9\u001b[39m\n",
       ")"
      ]
     },
     "execution_count": 37,
     "metadata": {},
     "output_type": "execute_result"
    }
   ],
   "source": [
    "val listappend= listprepend ++ list "
   ]
  },
  {
   "cell_type": "markdown",
   "id": "7357c65f",
   "metadata": {},
   "source": [
    "Scala is a "
   ]
  },
  {
   "cell_type": "code",
   "execution_count": null,
   "id": "2b36d535",
   "metadata": {},
   "outputs": [],
   "source": []
  },
  {
   "cell_type": "code",
   "execution_count": 38,
   "id": "3e01da09",
   "metadata": {},
   "outputs": [
    {
     "data": {
      "text/plain": [
       "\u001b[36mmyarr\u001b[39m: \u001b[32mArray\u001b[39m[\u001b[32mInt\u001b[39m] = \u001b[33mArray\u001b[39m(\u001b[32m1\u001b[39m, \u001b[32m2\u001b[39m, \u001b[32m3\u001b[39m, \u001b[32m4\u001b[39m, \u001b[32m5\u001b[39m)"
      ]
     },
     "execution_count": 38,
     "metadata": {},
     "output_type": "execute_result"
    }
   ],
   "source": [
    "val myarr: Array[Int]= Array(1,2,3,4,5)"
   ]
  },
  {
   "cell_type": "code",
   "execution_count": 39,
   "id": "54c6fae1",
   "metadata": {},
   "outputs": [],
   "source": [
    "myarr(3)= 20 //we CAN do this"
   ]
  },
  {
   "cell_type": "code",
   "execution_count": 39,
   "id": "6f9d5fa0",
   "metadata": {},
   "outputs": [
    {
     "name": "stderr",
     "output_type": "stream",
     "text": [
      "cmd39.sc:1: reassignment to val\n",
      "val res39 = myarr= Array[2,4,6,8,9] //CANNOT DO THIS\n",
      "                 ^Compilation Failed"
     ]
    },
    {
     "ename": "",
     "evalue": "",
     "output_type": "error",
     "traceback": [
      "Compilation Failed"
     ]
    }
   ],
   "source": [
    "myarr= Array[2,4,6,8,9] //CANNOT DO THIS"
   ]
  },
  {
   "cell_type": "markdown",
   "id": "de5c67e4",
   "metadata": {},
   "source": [
    "User defined types: Classes\n",
    "\n",
    "In scala whenever you have a function, it must be in a class. \n",
    "The only reason you can run it in jupyter if its not in a class becasue the REPL will allow that and it does some \"behind the scenes stuff\"\n",
    "\n",
    "every funtion in scala is a method, so it is part of a class"
   ]
  },
  {
   "cell_type": "code",
   "execution_count": 67,
   "id": "4800b6b6",
   "metadata": {},
   "outputs": [
    {
     "data": {
      "text/plain": [
       "defined \u001b[32mclass\u001b[39m \u001b[36mDog\u001b[39m"
      ]
     },
     "execution_count": 67,
     "metadata": {},
     "output_type": "execute_result"
    }
   ],
   "source": [
    "//User defined types\n",
    "\n",
    "class Dog(val tag_id: Int, \n",
    "          val name: String, \n",
    "          val name_owner: String,\n",
    "          var bark: Int = 0) {\n",
    "    \n",
    "    //functions inside classes \n",
    "    \n",
    "    def barkOnce()= { \n",
    "        //no arguments and return type \"unit\" becasue it doesnt return anything\n",
    "        bark= bark+1\n",
    "    }\n",
    "    def getNumBark(): Int= bark\n",
    "}"
   ]
  },
  {
   "cell_type": "code",
   "execution_count": 68,
   "id": "5012bd4d",
   "metadata": {},
   "outputs": [
    {
     "name": "stdout",
     "output_type": "stream",
     "text": [
      "1\n",
      "4000\n"
     ]
    },
    {
     "data": {
      "text/plain": [
       "\u001b[36md\u001b[39m: \u001b[32mDog\u001b[39m = ammonite.$sess.cmd66$Helper$Dog@3f73993a"
      ]
     },
     "execution_count": 68,
     "metadata": {},
     "output_type": "execute_result"
    }
   ],
   "source": [
    "val d: Dog= new Dog(1, \"Puppy\", \"Snoop\", 4000)\n",
    "println(d.tag_id)\n",
    "println(d.bark)"
   ]
  },
  {
   "cell_type": "code",
   "execution_count": 69,
   "id": "09ef2731",
   "metadata": {},
   "outputs": [
    {
     "data": {
      "text/plain": [
       "\u001b[36md2\u001b[39m: \u001b[32mDog\u001b[39m = ammonite.$sess.cmd66$Helper$Dog@3f73993a"
      ]
     },
     "execution_count": 69,
     "metadata": {},
     "output_type": "execute_result"
    }
   ],
   "source": [
    "val d2: Dog = d"
   ]
  },
  {
   "cell_type": "code",
   "execution_count": 70,
   "id": "c228612f",
   "metadata": {},
   "outputs": [
    {
     "name": "stdout",
     "output_type": "stream",
     "text": [
      "4000\n"
     ]
    }
   ],
   "source": [
    "println(d2.bark)"
   ]
  },
  {
   "cell_type": "code",
   "execution_count": 71,
   "id": "021c3835",
   "metadata": {},
   "outputs": [],
   "source": [
    "d2.bark=32"
   ]
  },
  {
   "cell_type": "code",
   "execution_count": 72,
   "id": "26e83f76",
   "metadata": {},
   "outputs": [
    {
     "name": "stdout",
     "output_type": "stream",
     "text": [
      "32\n",
      "32\n"
     ]
    }
   ],
   "source": [
    "println(d.bark)\n",
    "println(d2.bark)\n",
    "//because d and d2 are pointed to the same thing"
   ]
  },
  {
   "cell_type": "code",
   "execution_count": 74,
   "id": "2754be41",
   "metadata": {},
   "outputs": [
    {
     "data": {
      "text/plain": [
       "\u001b[36mres73_1\u001b[39m: \u001b[32mInt\u001b[39m = \u001b[32m33\u001b[39m"
      ]
     },
     "execution_count": 74,
     "metadata": {},
     "output_type": "execute_result"
    }
   ],
   "source": [
    "d.barkOnce\n",
    "d.getNumBark"
   ]
  },
  {
   "cell_type": "code",
   "execution_count": 57,
   "id": "9db55291",
   "metadata": {},
   "outputs": [
    {
     "data": {
      "text/plain": [
       "defined \u001b[32mfunction\u001b[39m \u001b[36mfun\u001b[39m"
      ]
     },
     "execution_count": 57,
     "metadata": {},
     "output_type": "execute_result"
    }
   ],
   "source": [
    "//functions\n",
    "\n",
    "//def name ( parameters with types): Returntype = { body}\n",
    "\n",
    "def fun( x: Int, y: String, z: Char): Int = {\n",
    "    //all function arguments in Scala are val!\n",
    "    if ( x>= 1 ){\n",
    "        return y.length\n",
    "    }\n",
    "    else {\n",
    "        return z.toInt //turns char to integer and returns that \n",
    "    }\n",
    "    \n",
    "}"
   ]
  },
  {
   "cell_type": "code",
   "execution_count": 60,
   "id": "5314948a",
   "metadata": {},
   "outputs": [
    {
     "data": {
      "text/plain": [
       "\u001b[36mres59\u001b[39m: \u001b[32mInt\u001b[39m = \u001b[32m99\u001b[39m"
      ]
     },
     "execution_count": 60,
     "metadata": {},
     "output_type": "execute_result"
    }
   ],
   "source": [
    "fun(-10,\"hello\",'c') //asci of c is 99"
   ]
  },
  {
   "cell_type": "code",
   "execution_count": 62,
   "id": "2553d720",
   "metadata": {},
   "outputs": [
    {
     "data": {
      "text/plain": [
       "defined \u001b[32mfunction\u001b[39m \u001b[36mfunfun\u001b[39m"
      ]
     },
     "execution_count": 62,
     "metadata": {},
     "output_type": "execute_result"
    }
   ],
   "source": [
    "def funfun(x:Int): Int= {\n",
    "    fun(x, x.toString, x.toChar) \n",
    "}"
   ]
  },
  {
   "cell_type": "code",
   "execution_count": 65,
   "id": "dab40203",
   "metadata": {},
   "outputs": [
    {
     "data": {
      "text/plain": [
       "\u001b[36mres64\u001b[39m: \u001b[32mInt\u001b[39m = \u001b[32m2\u001b[39m"
      ]
     },
     "execution_count": 65,
     "metadata": {},
     "output_type": "execute_result"
    }
   ],
   "source": [
    "funfun(15) //returns 2 becaue 15 is converted to string and length of that string is 2"
   ]
  },
  {
   "cell_type": "code",
   "execution_count": null,
   "id": "cff89499",
   "metadata": {},
   "outputs": [],
   "source": []
  }
 ],
 "metadata": {
  "kernelspec": {
   "display_name": "Scala",
   "language": "scala",
   "name": "scala"
  },
  "language_info": {
   "codemirror_mode": "text/x-scala",
   "file_extension": ".sc",
   "mimetype": "text/x-scala",
   "name": "scala",
   "nbconvert_exporter": "script",
   "version": "2.13.4"
  }
 },
 "nbformat": 4,
 "nbformat_minor": 5
}
