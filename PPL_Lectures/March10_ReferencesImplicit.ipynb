{
 "cells": [
  {
   "cell_type": "code",
   "execution_count": 1,
   "id": "b52733b1",
   "metadata": {},
   "outputs": [
    {
     "data": {
      "text/plain": [
       "defined \u001b[32mtrait\u001b[39m \u001b[36mExpr\u001b[39m\r\n",
       "defined \u001b[32mclass\u001b[39m \u001b[36mConst\u001b[39m\r\n",
       "defined \u001b[32mclass\u001b[39m \u001b[36mIdent\u001b[39m\r\n",
       "defined \u001b[32mclass\u001b[39m \u001b[36mPlus\u001b[39m\r\n",
       "defined \u001b[32mclass\u001b[39m \u001b[36mLet\u001b[39m\r\n",
       "defined \u001b[32mclass\u001b[39m \u001b[36mFunDef\u001b[39m\r\n",
       "defined \u001b[32mclass\u001b[39m \u001b[36mFunCall\u001b[39m\r\n",
       "defined \u001b[32mclass\u001b[39m \u001b[36mLetVar\u001b[39m\r\n",
       "defined \u001b[32mclass\u001b[39m \u001b[36mAssignVar\u001b[39m"
      ]
     },
     "execution_count": 1,
     "metadata": {},
     "output_type": "execute_result"
    }
   ],
   "source": [
    "\n",
    "sealed trait Expr\n",
    "\n",
    "case class Const(v: Double) extends Expr // Expr -> Const(v)\n",
    "case class Ident(s: String) extends Expr // Expr -> Ident(s)\n",
    "\n",
    "// Arithmetic Expressions\n",
    "case class Plus(e1: Expr, e2: Expr) extends Expr // Expr -> Plus(Expr, E\n",
    "\n",
    "//Let bindings\n",
    "case class Let(s: String, defExpr: Expr, bodyExpr: Expr) extends Expr\n",
    "\n",
    "//Function definition\n",
    "case class FunDef(param: String, bodyExpr: Expr) extends Expr\n",
    "\n",
    "// Function call\n",
    "case class FunCall(funCalled: Expr, argExpr: Expr) extends Expr\n",
    "\n",
    "// Let Var\n",
    "case class LetVar(x: String, e1: Expr, e2: Expr) extends Expr\n",
    "\n",
    "// Assign Var\n",
    "case class AssignVar(x: String, e: Expr) extends Expr"
   ]
  },
  {
   "cell_type": "code",
   "execution_count": 2,
   "id": "8c5a4073",
   "metadata": {},
   "outputs": [
    {
     "data": {
      "text/plain": [
       "defined \u001b[32mtrait\u001b[39m \u001b[36mValue\u001b[39m\r\n",
       "defined \u001b[32mclass\u001b[39m \u001b[36mNumValue\u001b[39m\r\n",
       "defined \u001b[32mclass\u001b[39m \u001b[36mBoolValue\u001b[39m\r\n",
       "defined \u001b[32mclass\u001b[39m \u001b[36mClosure\u001b[39m\r\n",
       "defined \u001b[32mclass\u001b[39m \u001b[36mReference\u001b[39m\r\n",
       "defined \u001b[32mobject\u001b[39m \u001b[36mErrorValue\u001b[39m\r\n",
       "defined \u001b[32mfunction\u001b[39m \u001b[36mvalueToNumber\u001b[39m\r\n",
       "defined \u001b[32mfunction\u001b[39m \u001b[36mvalueToBoolean\u001b[39m\r\n",
       "defined \u001b[32mfunction\u001b[39m \u001b[36mvalueToClosure\u001b[39m"
      ]
     },
     "execution_count": 2,
     "metadata": {},
     "output_type": "execute_result"
    }
   ],
   "source": [
    "// Copy from the case for explicit references\n",
    "sealed trait Value\n",
    "\n",
    "\n",
    "/*-- Now we can finish the rest --*/\n",
    "case class NumValue(f: Double) extends Value\n",
    "case class BoolValue(b: Boolean) extends Value\n",
    "/*-- Note: to get recursion working, we will need to make environments different --*/\n",
    "case class Closure(x: String, e: Expr, pi: Map[String, Value]) extends Value \n",
    "/* -- references are here -- */\n",
    "case class Reference(j: Int) extends Value\n",
    "case object ErrorValue extends Value\n",
    "\n",
    "\n",
    "/*2. Operators on values */\n",
    "\n",
    "def valueToNumber(v: Value): Double = v match {\n",
    "    case NumValue(d) => d\n",
    "    case _ => throw new IllegalArgumentException(s\"Error: Asking me to convert Value: $v to a number\")\n",
    "}\n",
    "\n",
    "def valueToBoolean(v: Value): Boolean = v match {\n",
    "    case BoolValue(b) => b\n",
    "    case _ => throw new IllegalArgumentException(s\"Error: Asking me to convert Value: $v to a boolean\")\n",
    "}\n",
    "\n",
    "def valueToClosure(v: Value): Closure = v match {\n",
    "    case Closure(x, e, pi) => Closure(x, e, pi)\n",
    "    case _ =>  throw new IllegalArgumentException(s\"Error: Asking me to convert Value: $v to a closure\")\n",
    "}\n",
    "\n",
    "    "
   ]
  },
  {
   "cell_type": "code",
   "execution_count": 5,
   "id": "2e98b18e",
   "metadata": {},
   "outputs": [
    {
     "data": {
      "text/plain": [
       "\u001b[32mimport \u001b[39m\u001b[36mscala.collection.mutable.ArrayBuffer\n",
       "\n",
       "/*array buffer is mutable data structure\n",
       "can grow and shrink \n",
       "it is like a dynamic tree, if you are about to fill up the buffer, it will double in size */\n",
       "\n",
       "\u001b[39m\r\n",
       "defined \u001b[32mtype\u001b[39m \u001b[36mStore\u001b[39m\r\n",
       "defined \u001b[32mfunction\u001b[39m \u001b[36mcreateNewCell\u001b[39m\r\n",
       "defined \u001b[32mfunction\u001b[39m \u001b[36mlookupCellValue\u001b[39m\r\n",
       "defined \u001b[32mfunction\u001b[39m \u001b[36massignToCell\u001b[39m"
      ]
     },
     "execution_count": 5,
     "metadata": {},
     "output_type": "execute_result"
    }
   ],
   "source": [
    "import scala.collection.mutable.ArrayBuffer\n",
    "\n",
    "/*array buffer is mutable data structure\n",
    "can grow and shrink \n",
    "it is like a dynamic tree, if you are about to fill up the buffer, it will double in size */\n",
    "\n",
    "type Store= ArrayBuffer[Value]\n",
    "\n",
    "def createNewCell (s: Store, v: Value): (Store, Int)= {\n",
    "    //make a new cell\n",
    "    val j=s.length\n",
    "    val newstore= s:+(v)\n",
    "    (newstore,j) //return is a store and address\n",
    "}\n",
    "\n",
    "//looking up value of address j\n",
    "def lookupCellValue(s: Store, j: Int): Value = {\n",
    "        if (j < s.length){\n",
    "            s(j)\n",
    "        } else {\n",
    "            throw new IllegalArgumentException(s\"Illegal lookup of nonexistant location $j\") //aka out of bounds\n",
    "        }\n",
    "}\n",
    "    \n",
    "def assignToCell(s: Store, j: Int, v: Value): Store = {\n",
    "        if (j< s.length){\n",
    "            s(j)=v\n",
    "        } else {\n",
    "            throw new IllegalArgumentException(s\"Illegal assignment to nonexistent location $j\")\n",
    "        }\n",
    "    s //returning the origninal store\n",
    "    }"
   ]
  },
  {
   "cell_type": "code",
   "execution_count": 6,
   "id": "3ccb39f3",
   "metadata": {},
   "outputs": [
    {
     "data": {
      "text/plain": [
       "defined \u001b[32mfunction\u001b[39m \u001b[36mevalExpr\u001b[39m"
      ]
     },
     "execution_count": 6,
     "metadata": {},
     "output_type": "execute_result"
    }
   ],
   "source": [
    "def evalExpr(e: Expr, env: Map[String, Value], store: Store): (Value, Store) = {\n",
    "      /* Method to deal with binary arithmetic operations */\n",
    "    \n",
    "    def applyArith2 (e1: Expr, e2: Expr) (fun: (Double , Double) => Double) = {\n",
    "        val (v1, store1) = evalExpr(e1, env, store) //first evaluate e1\n",
    "        val (v2, store2) = evalExpr(e2, env, store1) //evaluate e2 under store from e1\n",
    "        val v3 = fun(valueToNumber(v1), valueToNumber(v2)) //applying the funtion ex: v1+v2\n",
    "        (NumValue(v3), store2) //returning the final value of v3 under the store2\n",
    "    }  /* -- We have deliberately curried the method --*/\n",
    "    \n",
    "    /* Helper method to deal with unary arithmetic */\n",
    "    def applyArith1(e: Expr) (fun: Double => Double) = {\n",
    "        val (v,store1) = evalExpr(e, env, store)\n",
    "        val v1 = fun(valueToNumber(v))\n",
    "        (NumValue(v1), store1)\n",
    "    }\n",
    "    \n",
    "    /* Helper method to deal with comparison operators */\n",
    "    def applyComp(e1: Expr, e2: Expr) (fun: (Double, Double) => Boolean) = {\n",
    "        val (v1, store1) = evalExpr(e1, env, store)\n",
    "        val (v2, store2) = evalExpr(e2, env, store1)\n",
    "        val v3 = fun(valueToNumber(v1), valueToNumber(v2))\n",
    "        (BoolValue(v3), store2)\n",
    "    }\n",
    "    \n",
    "    e match {\n",
    "        case Const(f) => (NumValue(f), store) //same store unchanged \n",
    "        \n",
    "        case Ident(x) => {\n",
    "            if (env contains x ) { // In scala a.b(c) can simply be written as \"a b c\" <macro>\n",
    "                val v = env(x)\n",
    "                v match {\n",
    "                    case Reference(j) => { // AUTO deref \n",
    "                        //if reference then you look it up in the store, get that value and return that\n",
    "                        val v1 = lookupCellValue(store, j) // Lookup the store for address j\n",
    "                        (v1, store) // return the value of reference(j) from the store.\n",
    "                    }\n",
    "                    case _ => (v, store) // return v and store unchanged\n",
    "                    //if its not a reference, you just returns that value unchanged\n",
    "                }  \n",
    "            } else \n",
    "                throw new IllegalArgumentException(s\"Undefined identifier $x\")\n",
    "        }\n",
    "    \n",
    "    \n",
    "        case Plus(e1, e2) => applyArith2 (e1, e2) ( _ + _ )\n",
    "            \n",
    "\n",
    "        case Let(x, e1, e2) => {\n",
    "            val (v1, store1) = evalExpr(e1, env, store)  // eval e1\n",
    "            val env2 = env + (x -> v1) // create a new extended env\n",
    "            evalExpr(e2, env2, store1) // eval e2 under that.\n",
    "        }\n",
    "    \n",
    "        case FunDef(x, e) => {\n",
    "            (Closure(x, e, env), store) // Return a closure with the current enviroment.\n",
    "        }\n",
    "        \n",
    "        case FunCall(e1, e2) => {\n",
    "            val (v1, store1) = evalExpr(e1, env, store)\n",
    "            val (v2, store2) = evalExpr(e2, env, store1)\n",
    "            v1 match {\n",
    "                case Closure(x, closure_ex, closed_env) => {\n",
    "                    // First extend closed_env by binding x to v2\n",
    "                    val new_env = closed_env + ( x -> v2)\n",
    "                    // Evaluate the body of the closure under the extended environment.\n",
    "                    evalExpr(closure_ex, new_env, store2)\n",
    "                }\n",
    "                case _ => throw new IllegalArgumentException(s\"Function call error: expression $e1 does not evaluate to a closure\")\n",
    "            }\n",
    "        }\n",
    "        \n",
    "        \n",
    "        \n",
    "        case AssignVar(x, e) => { // x is a string -- name of identifier and e is Expr -- RHS of assignment\n",
    "            val (v1, store1) = evalExpr(e, env, store) // First evaluate e\n",
    "            val v2 =  if (env contains x)  // Next, check x from the current environment\n",
    "                        env(x)\n",
    "                      else \n",
    "                        throw new IllegalArgumentException(s\"Undefined identifier $x\")// Trying to assign to an undeclared identifier\n",
    "            v2 match {\n",
    "                case Reference(j) => { // x better be a reference in the current env.\n",
    "                    val store3 = assignToCell(store1, j, v1) // assign to cell function in ImmutableStore API\n",
    "                    (v1, store3) \n",
    "                }\n",
    "                case _ => throw new IllegalArgumentException(s\"AssignVar applied to argument that is not a mutable var\")\n",
    "                \n",
    "            }\n",
    "        }\n",
    "        \n",
    "        case LetVar(x, e1, e2) => { // let var x = e1 in e2 \n",
    "            // This is the same treatment as let x = newref(e1) in e2 in ExplicitRef Language.\n",
    "            val (v1, store1) = evalExpr(e1, env, store) // evaluate e1\n",
    "            val (store2, j) = createNewCell(store1, v1) // create a new cell corresponding to the value of e1\n",
    "            val newEnv = env + (x -> Reference(j)) // update the environment\n",
    "            evalExpr(e2, newEnv, store2) // evaluatet e2 with the new environment and the new store.\n",
    "        }\n",
    "        \n",
    "    }\n",
    "\n",
    "}\n",
    "\n",
    "    \n"
   ]
  },
  {
   "cell_type": "code",
   "execution_count": 7,
   "id": "9a75f2bc",
   "metadata": {},
   "outputs": [
    {
     "data": {
      "text/plain": [
       "defined \u001b[32mfunction\u001b[39m \u001b[36mevalTopLevel\u001b[39m"
      ]
     },
     "execution_count": 7,
     "metadata": {},
     "output_type": "execute_result"
    }
   ],
   "source": [
    "def evalTopLevel(e: Expr): Value= {\n",
    "    // Start with empty environment and empty store\n",
    "    val (v1, store) = evalExpr(e, Map(), new Store())\n",
    "    println(s\"Conclude Evaluation with store: $store\")\n",
    "    v1\n",
    "}"
   ]
  },
  {
   "cell_type": "code",
   "execution_count": null,
   "id": "380cea94",
   "metadata": {},
   "outputs": [],
   "source": []
  }
 ],
 "metadata": {
  "kernelspec": {
   "display_name": "Scala",
   "language": "scala",
   "name": "scala"
  },
  "language_info": {
   "codemirror_mode": "text/x-scala",
   "file_extension": ".sc",
   "mimetype": "text/x-scala",
   "name": "scala",
   "nbconvert_exporter": "script",
   "version": "2.13.4"
  }
 },
 "nbformat": 4,
 "nbformat_minor": 5
}
