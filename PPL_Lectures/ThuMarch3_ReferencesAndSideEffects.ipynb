{
 "cells": [
  {
   "cell_type": "markdown",
   "id": "a260407b",
   "metadata": {},
   "source": [
    "## References and Side Effects\n",
    "until now a lettuce has been a pure language \n",
    "\n",
    "### What is a side effect\n",
    "ex: \n",
    "\n",
    "global var x\n",
    "function \n",
    "    {...\n",
    "        x=x+1\n",
    "...\n",
    "    } \n",
    "    //function runs and returns something but along the way it does something that you cant undo this bc x is global\n",
    "\n",
    "ex: printing to screen --> because you can't undo it \n",
    "\n",
    "bc of side effects, you get functions that are no longer pure\n",
    "f(10) --> get same result everytime == pure function\n",
    "as a result of side effects, not same everytime \n",
    "ex: global y=0\n",
    " f(x) {\n",
    "    y=y+1\n",
    "    return x+y\n",
    "  }\n",
    " f(10)--> 11\n",
    " f(10) --> 12\n",
    " f(10) --> 13\n",
    " \n",
    "other examples: functions that depend on the time of day, or depend on a random number or random thing"
   ]
  },
  {
   "cell_type": "markdown",
   "id": "4fb3bcbb",
   "metadata": {},
   "source": [
    "### Referential Transparency:\n",
    "\n",
    "let x= (let y =15 in y+15)  //subexpr is 30 so if we just replace it with x=30, it wouldnt change the final result --> this is referential transparency\n",
    "    in x+30\n",
    "    \n",
    "** note that in referential transparency we CANNOT have side effects\n",
    "    "
   ]
  },
  {
   "cell_type": "code",
   "execution_count": 4,
   "id": "fd489707",
   "metadata": {},
   "outputs": [
    {
     "name": "stdout",
     "output_type": "stream",
     "text": [
      "hi\n"
     ]
    },
    {
     "data": {
      "text/plain": [
       "\u001b[36my\u001b[39m: \u001b[32mInt\u001b[39m = \u001b[32m25\u001b[39m\r\n",
       "\u001b[36mres3_1\u001b[39m: \u001b[32mInt\u001b[39m = \u001b[32m35\u001b[39m"
      ]
     },
     "execution_count": 4,
     "metadata": {},
     "output_type": "execute_result"
    }
   ],
   "source": [
    "val y= {\n",
    "    println(\"hi\")\n",
    "    25\n",
    "}\n",
    "y+10\n",
    "\n",
    "//in ref transparency,we could just replace the whole block with y=25,\n",
    "//but this means we cannot have side effects \n",
    "//if we want side effects, we lose referential transparency\n",
    "//bc if we just replaced y=25, then we don't see the \"hi\""
   ]
  },
  {
   "cell_type": "code",
   "execution_count": null,
   "id": "588e2d91",
   "metadata": {},
   "outputs": [],
   "source": []
  }
 ],
 "metadata": {
  "kernelspec": {
   "display_name": "Scala",
   "language": "scala",
   "name": "scala"
  },
  "language_info": {
   "codemirror_mode": "text/x-scala",
   "file_extension": ".sc",
   "mimetype": "text/x-scala",
   "name": "scala",
   "nbconvert_exporter": "script",
   "version": "2.13.4"
  }
 },
 "nbformat": 4,
 "nbformat_minor": 5
}
