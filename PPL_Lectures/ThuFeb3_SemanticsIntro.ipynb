{
 "cells": [
  {
   "cell_type": "code",
   "execution_count": 0,
   "id": "d12ac2a4",
   "metadata": {},
   "outputs": [
    {
     "name": "stderr",
     "output_type": "stream",
     "text": [
      "cmd0.sc:1: type mismatch;\n",
      " found   : Int(2)\n",
      " required: String\n",
      "val x= (1>=3) +2  //scala does not like this \n",
      "               ^Compilation Failed"
     ]
    },
    {
     "ename": "",
     "evalue": "",
     "output_type": "error",
     "traceback": [
      "Compilation Failed"
     ]
    }
   ],
   "source": [
    "val x= (1>=3) +2  //scala does not like this \n",
    "//type mismatch\n"
   ]
  },
  {
   "cell_type": "code",
   "execution_count": 4,
   "id": "9688a7c3",
   "metadata": {},
   "outputs": [
    {
     "data": {
      "text/plain": [
       "defined \u001b[32mtrait\u001b[39m \u001b[36mExpr\u001b[39m\r\n",
       "defined \u001b[32mclass\u001b[39m \u001b[36mConst\u001b[39m\r\n",
       "defined \u001b[32mclass\u001b[39m \u001b[36mIdent\u001b[39m\r\n",
       "defined \u001b[32mclass\u001b[39m \u001b[36mPlus\u001b[39m\r\n",
       "defined \u001b[32mclass\u001b[39m \u001b[36mMult\u001b[39m\r\n",
       "defined \u001b[32mclass\u001b[39m \u001b[36mDiv\u001b[39m\r\n",
       "defined \u001b[32mclass\u001b[39m \u001b[36mBadStuffHappened\u001b[39m"
      ]
     },
     "execution_count": 4,
     "metadata": {},
     "output_type": "execute_result"
    }
   ],
   "source": [
    "sealed trait Expr\n",
    "\n",
    "case class Const(x: Double) extends Expr\n",
    "case class Ident(s: String) extends Expr\n",
    "case class Plus (e1: Expr, e2: Expr) extends Expr\n",
    "case class Mult(e1: Expr, e2: Expr) extends Expr\n",
    "case class Div(e1: Expr, e2: Expr) extends Expr\n",
    "\n",
    "class BadStuffHappened(s: String) extends Exception"
   ]
  },
  {
   "cell_type": "code",
   "execution_count": 11,
   "id": "cfcad742",
   "metadata": {},
   "outputs": [
    {
     "data": {
      "text/plain": [
       "defined \u001b[32mfunction\u001b[39m \u001b[36meval\u001b[39m"
      ]
     },
     "execution_count": 11,
     "metadata": {},
     "output_type": "execute_result"
    }
   ],
   "source": [
    "def eval(e: Expr, env: Map[String, Double]): Double = e match {\n",
    "    case Const(d) => d\n",
    "    case Ident(x) => {\n",
    "        if (env.contains(x)) {\n",
    "            env(x)\n",
    "        }\n",
    "        else {\n",
    "            throw new BadStuffHappened(s\"identifier $x undefined\")\n",
    "        }\n",
    "    }\n",
    "    case Plus(e1,e2) => {\n",
    "        val f1= eval(e1, env)\n",
    "        val f2= eval(e2, env)\n",
    "        f1+f2\n",
    "    }\n",
    "    case Mult(e1,e2) => {\n",
    "        val f1= eval(e1, env)\n",
    "        val f2= eval(e2,env)\n",
    "        f1*f2\n",
    "    }\n",
    "    case Div(e1,e2) => {\n",
    "        val f1= eval(e1, env)\n",
    "        val f2= eval(e2, env)\n",
    "        f1/f2\n",
    "    }\n",
    "}"
   ]
  },
  {
   "cell_type": "code",
   "execution_count": 12,
   "id": "f2c19261",
   "metadata": {},
   "outputs": [
    {
     "data": {
      "text/plain": [
       "\u001b[36mx\u001b[39m: \u001b[32mDiv\u001b[39m = \u001b[33mDiv\u001b[39m(e1 = \u001b[33mConst\u001b[39m(x = \u001b[32m10.0\u001b[39m), e2 = \u001b[33mConst\u001b[39m(x = \u001b[32m2.0\u001b[39m))\r\n",
       "\u001b[36ma\u001b[39m: \u001b[32mMap\u001b[39m[\u001b[32mString\u001b[39m, \u001b[32mDouble\u001b[39m] = \u001b[33mMap\u001b[39m()\r\n",
       "\u001b[36mb\u001b[39m: \u001b[32mMap\u001b[39m[\u001b[32mString\u001b[39m, \u001b[32mDouble\u001b[39m] = \u001b[33mMap\u001b[39m()"
      ]
     },
     "execution_count": 12,
     "metadata": {},
     "output_type": "execute_result"
    }
   ],
   "source": [
    "val x= Div(Const(10), Const(2))\n",
    "val a = Map[String, Double]()\n",
    "val b= Map.empty[String, Double]\n"
   ]
  },
  {
   "cell_type": "code",
   "execution_count": 13,
   "id": "77c73cf9",
   "metadata": {},
   "outputs": [
    {
     "data": {
      "text/plain": [
       "\u001b[36mres12\u001b[39m: \u001b[32mDouble\u001b[39m = \u001b[32m5.0\u001b[39m"
      ]
     },
     "execution_count": 13,
     "metadata": {},
     "output_type": "execute_result"
    }
   ],
   "source": [
    "eval(x, a)"
   ]
  },
  {
   "cell_type": "code",
   "execution_count": null,
   "id": "6a1e8b68",
   "metadata": {},
   "outputs": [],
   "source": []
  }
 ],
 "metadata": {
  "kernelspec": {
   "display_name": "Scala",
   "language": "scala",
   "name": "scala"
  },
  "language_info": {
   "codemirror_mode": "text/x-scala",
   "file_extension": ".sc",
   "mimetype": "text/x-scala",
   "name": "scala",
   "nbconvert_exporter": "script",
   "version": "2.13.4"
  }
 },
 "nbformat": 4,
 "nbformat_minor": 5
}
