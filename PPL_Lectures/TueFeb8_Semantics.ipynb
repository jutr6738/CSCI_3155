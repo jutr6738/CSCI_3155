{
 "cells": [
  {
   "cell_type": "markdown",
   "id": "605bb64e",
   "metadata": {},
   "source": [
    "## Semantics\n",
    "- Semantic Rule Notation\n",
    "- Semantics of eval for arithmetic and boolean\n",
    "- Short Circuit Semantics\n"
   ]
  },
  {
   "cell_type": "markdown",
   "id": "c9f50b00",
   "metadata": {},
   "source": [
    "- Semantics = \"What does a program mean?\"\n",
    "- (0 >= 0) | ( (0>= 0 +1) >= 0 ) //adding boolean to a number. scala doesnt like\n",
    "\n",
    "\n",
    "\n",
    "- 3 styles of semantics: \n",
    "- Axiomatic \n",
    "    - x+y is the same as y+x\n",
    "    - x + (y+z)= (x+y) + z\n",
    "- Operational Semantics: \n",
    "       - Imperative: how are programs executed\n",
    "       - Functional: How are programs evaluated (this is what we will do)\n",
    "           - define eval function\n",
    "           --> Denotional Semantics: how the meaning of different parts of the program combine to give the whole program meaning\n"
   ]
  },
  {
   "cell_type": "code",
   "execution_count": null,
   "id": "60dfb86d",
   "metadata": {},
   "outputs": [],
   "source": []
  }
 ],
 "metadata": {
  "kernelspec": {
   "display_name": "Scala",
   "language": "scala",
   "name": "scala"
  },
  "language_info": {
   "codemirror_mode": "text/x-scala",
   "file_extension": ".sc",
   "mimetype": "text/x-scala",
   "name": "scala",
   "nbconvert_exporter": "script",
   "version": "2.13.4"
  }
 },
 "nbformat": 4,
 "nbformat_minor": 5
}
