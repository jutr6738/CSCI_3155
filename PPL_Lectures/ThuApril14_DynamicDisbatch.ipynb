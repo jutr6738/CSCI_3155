{
 "cells": [
  {
   "cell_type": "code",
   "execution_count": 10,
   "id": "cd26c5b2",
   "metadata": {},
   "outputs": [
    {
     "data": {
      "text/plain": [
       "defined \u001b[32mclass\u001b[39m \u001b[36mA\u001b[39m"
      ]
     },
     "execution_count": 10,
     "metadata": {},
     "output_type": "execute_result"
    }
   ],
   "source": [
    "class A (val n:Int) {\n",
    "    def foo(x:Int):Unit={\n",
    "        println(s\"A's foo x is $x and n is $n\")\n",
    "    }\n",
    "}"
   ]
  },
  {
   "cell_type": "code",
   "execution_count": 11,
   "id": "1e08e64e",
   "metadata": {},
   "outputs": [
    {
     "data": {
      "text/plain": [
       "defined \u001b[32mclass\u001b[39m \u001b[36mB\u001b[39m"
      ]
     },
     "execution_count": 11,
     "metadata": {},
     "output_type": "execute_result"
    }
   ],
   "source": [
    "class B(val m: Int) extends A(m) { //must have the val n \n",
    "    override def foo (x:Int) : Unit ={\n",
    "        println(s\"B's foo x is $x and m is $m\")\n",
    "    }\n",
    "    def extraStuff = {\n",
    "        println(\"B's extra function extra\")\n",
    "    }\n",
    "}"
   ]
  },
  {
   "cell_type": "code",
   "execution_count": 11,
   "id": "6a36f9ce",
   "metadata": {},
   "outputs": [
    {
     "name": "stderr",
     "output_type": "stream",
     "text": [
      "cmd11.sc:2: `override` modifier required to override concrete member:\n",
      "def foo(x: Int): Unit (defined in class A)\n",
      "    def foo (x:Int) : Unit ={ //this needs an override\n",
      "        ^Compilation Failed"
     ]
    },
    {
     "ename": "",
     "evalue": "",
     "output_type": "error",
     "traceback": [
      "Compilation Failed"
     ]
    }
   ],
   "source": [
    "class C(val r: Int) extends A(r) { //must have the val n \n",
    "    def foo (x:Int) : Unit ={ //this needs an override\n",
    "        println(s\"B's foo x is $x and r is $r\")\n",
    "    }\n",
    "    def extraStuff = {\n",
    "        println(\"extra\")\n",
    "    }\n",
    "}"
   ]
  },
  {
   "cell_type": "code",
   "execution_count": 12,
   "id": "08886f4c",
   "metadata": {},
   "outputs": [
    {
     "name": "stdout",
     "output_type": "stream",
     "text": [
      "A's foo x is 3 and n is 5\n",
      "B's foo x is 3 and m is 10\n",
      "B's extra function extra\n"
     ]
    },
    {
     "data": {
      "text/plain": [
       "\u001b[36ma\u001b[39m: \u001b[32mA\u001b[39m = ammonite.$sess.cmd9$Helper$A@3d228c2b\r\n",
       "\u001b[36mb\u001b[39m: \u001b[32mB\u001b[39m = ammonite.$sess.cmd10$Helper$B@1757d5dc"
      ]
     },
     "execution_count": 12,
     "metadata": {},
     "output_type": "execute_result"
    }
   ],
   "source": [
    "val a: A = new A(5)\n",
    "a.foo(3)\n",
    "val b: B= new B(10)\n",
    "b.foo(3)\n",
    "b.extraStuff"
   ]
  },
  {
   "cell_type": "markdown",
   "id": "69f9bca8",
   "metadata": {},
   "source": [
    "### Upcasting/Dynamic Dispatch\n",
    "- taking object of child class and making it a type of a parent class \n",
    "- It is always safe to upcast \n",
    "    - val castBuptoA: A = new B(5) //casting Bs object to A\n",
    "    - castBuptoA.foo(4) //Bs food"
   ]
  },
  {
   "cell_type": "code",
   "execution_count": 13,
   "id": "17e5fd3e",
   "metadata": {},
   "outputs": [
    {
     "name": "stdout",
     "output_type": "stream",
     "text": [
      "B's foo x is 34 and m is 323\n"
     ]
    },
    {
     "data": {
      "text/plain": [
       "\u001b[36mbUpCasttoA\u001b[39m: \u001b[32mA\u001b[39m = ammonite.$sess.cmd10$Helper$B@75a7139a"
      ]
     },
     "execution_count": 13,
     "metadata": {},
     "output_type": "execute_result"
    }
   ],
   "source": [
    "val bUpCasttoA: A= new B(323) //upcasting \n",
    "//this basicall makes a B object that is actually type A\n",
    "//casting Bs oject to A\n",
    "//upcasting is always safe, downcasting gets tricky\n",
    "bUpCasttoA.foo(34)"
   ]
  },
  {
   "cell_type": "code",
   "execution_count": 13,
   "id": "6e1e3594",
   "metadata": {},
   "outputs": [
    {
     "name": "stderr",
     "output_type": "stream",
     "text": [
      "cmd13.sc:1: value extraStuff is not a member of ammonite.$sess.cmd12.wrapper.cmd9.A\n",
      "val res13 = bUpCasttoA.extraStuff //since its type A we cant get extraStuff\n",
      "                       ^Compilation Failed"
     ]
    },
    {
     "ename": "",
     "evalue": "",
     "output_type": "error",
     "traceback": [
      "Compilation Failed"
     ]
    }
   ],
   "source": [
    "bUpCasttoA.extraStuff //since its type A we cant get extraStuff"
   ]
  },
  {
   "cell_type": "code",
   "execution_count": 14,
   "id": "39b13e64",
   "metadata": {},
   "outputs": [
    {
     "data": {
      "text/plain": [
       "\u001b[36mupA\u001b[39m: \u001b[32mA\u001b[39m = ammonite.$sess.cmd10$Helper$B@42eab0e9"
      ]
     },
     "execution_count": 14,
     "metadata": {},
     "output_type": "execute_result"
    }
   ],
   "source": [
    "//upcasting \n",
    "val upA:A = new B(20)"
   ]
  },
  {
   "cell_type": "code",
   "execution_count": 15,
   "id": "c78c0b93",
   "metadata": {},
   "outputs": [
    {
     "name": "stdout",
     "output_type": "stream",
     "text": [
      "B's foo x is 10 and m is 20\n"
     ]
    }
   ],
   "source": [
    "upA.foo(10) //gets Bs foo dynamic dispatch \n",
    "//upcasting a to b can only get A's functons or overridden ones in B but not Bs extra stuff"
   ]
  },
  {
   "cell_type": "code",
   "execution_count": 8,
   "id": "07c66971",
   "metadata": {},
   "outputs": [
    {
     "name": "stderr",
     "output_type": "stream",
     "text": [
      "cmd8.sc:1: value extraStuff is not a member of ammonite.$sess.cmd7.wrapper.cmd0.A\n",
      "val res8 = upA.extraStuff\n",
      "               ^Compilation Failed"
     ]
    },
    {
     "ename": "",
     "evalue": "",
     "output_type": "error",
     "traceback": [
      "Compilation Failed"
     ]
    }
   ],
   "source": [
    "upA.extraStuff"
   ]
  },
  {
   "cell_type": "markdown",
   "id": "20a9f027",
   "metadata": {},
   "source": [
    "## DownCasting\n",
    "- upcast are always safe beccasue they are type checked at compile time \n",
    "- but downcast is not type checked, dangerous, it is only runtime checked "
   ]
  },
  {
   "cell_type": "code",
   "execution_count": 50,
   "id": "a350c7c6",
   "metadata": {},
   "outputs": [
    {
     "name": "stderr",
     "output_type": "stream",
     "text": [
      "cmd50.sc:1: type mismatch;\n",
      " found   : cmd50.this.cmd1.A\n",
      " required: cmd50.this.cmd45.B\n",
      "val downB: B= new A(34)\n",
      "              ^Compilation Failed"
     ]
    },
    {
     "ename": "",
     "evalue": "",
     "output_type": "error",
     "traceback": [
      "Compilation Failed"
     ]
    }
   ],
   "source": [
    "val downB: B= new A(34)"
   ]
  },
  {
   "cell_type": "code",
   "execution_count": 51,
   "id": "db6d63a9",
   "metadata": {},
   "outputs": [
    {
     "data": {
      "text/plain": [
       "defined \u001b[32mclass\u001b[39m \u001b[36mD\u001b[39m"
      ]
     },
     "execution_count": 51,
     "metadata": {},
     "output_type": "execute_result"
    }
   ],
   "source": [
    "class D(override val n:Int) extends A(n) {\n",
    "    override def foo (x:Int):Unit ={\n",
    "        println(s\"C's foo x= $x and n= $n\")\n",
    "    }\n",
    "    def Dextra={\n",
    "        println(\"Dextra function\")\n",
    "    }\n",
    "}"
   ]
  },
  {
   "cell_type": "code",
   "execution_count": 15,
   "id": "1e8ad991",
   "metadata": {},
   "outputs": [
    {
     "name": "stderr",
     "output_type": "stream",
     "text": [
      "cmd15.sc:1: not found: type D\n",
      "val noCtoB: B = new D(3) //no relationship between B and D\n",
      "                    ^Compilation Failed"
     ]
    },
    {
     "ename": "",
     "evalue": "",
     "output_type": "error",
     "traceback": [
      "Compilation Failed"
     ]
    }
   ],
   "source": [
    "val noCtoB: B = new D(3) //no relationship between B and D\n",
    "//both B and D are children of A, but they are not related to eachother \n",
    "//\"siblings\" are unrelated "
   ]
  },
  {
   "cell_type": "code",
   "execution_count": 52,
   "id": "aadb9831",
   "metadata": {},
   "outputs": [
    {
     "data": {
      "text/plain": [
       "\u001b[36mplainD\u001b[39m: \u001b[32mD\u001b[39m = ammonite.$sess.cmd50$Helper$D@49b5110b"
      ]
     },
     "execution_count": 52,
     "metadata": {},
     "output_type": "execute_result"
    }
   ],
   "source": [
    "val plainD= new D(5)"
   ]
  },
  {
   "cell_type": "code",
   "execution_count": 52,
   "id": "8848bb34",
   "metadata": {},
   "outputs": [],
   "source": [
    "//upcast are always safe beccasue they are type checked at compile time \n",
    "//but downcast is not type checked, dangerous, it is only runtime checked "
   ]
  },
  {
   "cell_type": "code",
   "execution_count": 53,
   "id": "31c770c3",
   "metadata": {},
   "outputs": [
    {
     "data": {
      "text/plain": [
       "\u001b[36mres52_0\u001b[39m: \u001b[32mBoolean\u001b[39m = false\r\n",
       "\u001b[36mres52_1\u001b[39m: \u001b[32mBoolean\u001b[39m = true"
      ]
     },
     "execution_count": 53,
     "metadata": {},
     "output_type": "execute_result"
    }
   ],
   "source": [
    "plainD.isInstanceOf[B]\n",
    "plainD.isInstanceOf[A] //D is subclass of A not of B \n",
    "//so we can up and down cast between A and D but not D and B"
   ]
  },
  {
   "cell_type": "code",
   "execution_count": 67,
   "id": "9273fcb7",
   "metadata": {},
   "outputs": [
    {
     "data": {
      "text/plain": [
       "defined \u001b[32mfunction\u001b[39m \u001b[36mdoDiffStuff\u001b[39m"
      ]
     },
     "execution_count": 67,
     "metadata": {},
     "output_type": "execute_result"
    }
   ],
   "source": [
    "def doDiffStuff(n:A) ={\n",
    "    if (n.isInstanceOf[B] ) {\n",
    "        println(\"B stuff if part\")\n",
    "        val nB= n.asInstanceOf[B]\n",
    "        nB.extraStuff\n",
    "        nB.foo(9)\n",
    "    }\n",
    "    else if (n.isInstanceOf[D]) {\n",
    "        println(\"D extra stuff else if\")\n",
    "        val nD= n.asInstanceOf[D]\n",
    "        nD.Dextra\n",
    "        nD.foo(5)\n",
    "    }\n",
    "    else {\n",
    "        println(\"A generic else\")\n",
    "        n.foo(4)\n",
    "    }\n",
    "}"
   ]
  },
  {
   "cell_type": "code",
   "execution_count": 68,
   "id": "c38b273e",
   "metadata": {},
   "outputs": [
    {
     "name": "stdout",
     "output_type": "stream",
     "text": [
      "D extra stuff else if\n",
      "Dextra function\n",
      "C's foo x= 5 and n= 3\n"
     ]
    }
   ],
   "source": [
    "doDiffStuff( new D(3) )"
   ]
  },
  {
   "cell_type": "code",
   "execution_count": 69,
   "id": "b646d69d",
   "metadata": {},
   "outputs": [
    {
     "name": "stdout",
     "output_type": "stream",
     "text": [
      "B stuff if part\n",
      "B's extra function extra\n",
      "B's foo x is 9 and m is 3\n"
     ]
    }
   ],
   "source": [
    "doDiffStuff( new B(3) )"
   ]
  },
  {
   "cell_type": "code",
   "execution_count": 70,
   "id": "0996f8d7",
   "metadata": {},
   "outputs": [
    {
     "name": "stdout",
     "output_type": "stream",
     "text": [
      "A generic else\n",
      "A's foo x is 4 and n is 3\n"
     ]
    }
   ],
   "source": [
    "doDiffStuff( new A(3) )"
   ]
  }
 ],
 "metadata": {
  "kernelspec": {
   "display_name": "Scala",
   "language": "scala",
   "name": "scala"
  },
  "language_info": {
   "codemirror_mode": "text/x-scala",
   "file_extension": ".sc",
   "mimetype": "text/x-scala",
   "name": "scala",
   "nbconvert_exporter": "script",
   "version": "2.13.4"
  }
 },
 "nbformat": 4,
 "nbformat_minor": 5
}
