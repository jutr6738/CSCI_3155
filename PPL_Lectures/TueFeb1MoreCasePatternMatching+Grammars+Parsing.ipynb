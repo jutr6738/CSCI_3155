{
 "cells": [
  {
   "cell_type": "markdown",
   "id": "a9892f2d",
   "metadata": {},
   "source": [
    "## More Case Pattern Matching, Grammars and PL syntax, Parsers\n"
   ]
  },
  {
   "cell_type": "code",
   "execution_count": 2,
   "id": "a3ced83e",
   "metadata": {},
   "outputs": [
    {
     "data": {
      "text/plain": [
       "defined \u001b[32mtrait\u001b[39m \u001b[36mNumList\u001b[39m\r\n",
       "defined \u001b[32mobject\u001b[39m \u001b[36mEmptyList\u001b[39m\r\n",
       "defined \u001b[32mclass\u001b[39m \u001b[36mCons\u001b[39m"
      ]
     },
     "execution_count": 2,
     "metadata": {},
     "output_type": "execute_result"
    }
   ],
   "source": [
    "sealed trait NumList\n",
    "case object EmptyList extends NumList //NumList => Nil\n",
    "case class Cons(elt: Int, tail: NumList) extends NumList //NumList => Cons(Integer, NumList)\n"
   ]
  },
  {
   "cell_type": "code",
   "execution_count": 3,
   "id": "24f9bce7",
   "metadata": {},
   "outputs": [
    {
     "data": {
      "text/plain": [
       "defined \u001b[32mfunction\u001b[39m \u001b[36mgetKthElt\u001b[39m"
      ]
     },
     "execution_count": 3,
     "metadata": {},
     "output_type": "execute_result"
    }
   ],
   "source": [
    "//assume k is >=0\n",
    "def getKthElt(lst: NumList, k: Int): Int= lst match {\n",
    "    case EmptyList => throw new IllegalArgumentException(\"EmptyList\")\n",
    "    case Cons(elt, tail) => {\n",
    "        if (k==0) {elt}\n",
    "        else {\n",
    "            getKthElt(tail, k-1)\n",
    "        }\n",
    "    }\n",
    "}"
   ]
  },
  {
   "cell_type": "code",
   "execution_count": 6,
   "id": "70285c72",
   "metadata": {},
   "outputs": [
    {
     "data": {
      "text/plain": [
       "defined \u001b[32mfunction\u001b[39m \u001b[36mgetKthElt_WithGuard\u001b[39m"
      ]
     },
     "execution_count": 6,
     "metadata": {},
     "output_type": "execute_result"
    }
   ],
   "source": [
    "//using match guard\n",
    "def getKthElt_WithGuard(lst: NumList, k: Int): Int= lst match {\n",
    "    case EmptyList => {throw new IllegalArgumentException(\"EmptyList\")}\n",
    "    case Cons(elt, tail) if (k==0) => {elt} //this is called a guard\n",
    "    //we are using elt but not tail, so since we are not using tail we can just put _\n",
    "    // _ is a wild card character, it matches anything\n",
    "    case Cons(elt, tail) => {getKthElt_WithGuard(tail, k-1)} //I will only reach here if previous cases did not match\n",
    "    //so we know that k!=0\n",
    "}"
   ]
  },
  {
   "cell_type": "code",
   "execution_count": 7,
   "id": "f1c747ca",
   "metadata": {},
   "outputs": [
    {
     "data": {
      "text/plain": [
       "defined \u001b[32mfunction\u001b[39m \u001b[36mgetKthElt_With_\u001b[39m"
      ]
     },
     "execution_count": 7,
     "metadata": {},
     "output_type": "execute_result"
    }
   ],
   "source": [
    "//using _\n",
    "def getKthElt_With_(lst: NumList, k: Int): Int= lst match {\n",
    "    case EmptyList => {throw new IllegalArgumentException(\"EmptyList\")}\n",
    "    case Cons(elt, _) if (k==0) => {elt}\n",
    "    //we are using elt but not tail, so since we are not using tail we can just put _\n",
    "    // _ is a wild card character, it matches anything\n",
    "    case Cons(_, tail) => {getKthElt_With_(tail, k-1)} \n",
    "    //since we don't care what is the first element\n",
    "}"
   ]
  },
  {
   "cell_type": "code",
   "execution_count": 8,
   "id": "f82dea4a",
   "metadata": {},
   "outputs": [
    {
     "data": {
      "text/plain": [
       "defined \u001b[32mfunction\u001b[39m \u001b[36msumUpFirstTwoEltsOfList\u001b[39m"
      ]
     },
     "execution_count": 8,
     "metadata": {},
     "output_type": "execute_result"
    }
   ],
   "source": [
    "//we could do this simple like this but then we cant throw an exception\n",
    "def EZsumUpFirstTwoEltsOfList(lst: NumList): Int = {\n",
    "    getKthElt(lst,0)+getKthElt(lst,1)\n",
    "}"
   ]
  },
  {
   "cell_type": "code",
   "execution_count": 10,
   "id": "c91e0ea1",
   "metadata": {},
   "outputs": [
    {
     "data": {
      "text/plain": [
       "defined \u001b[32mfunction\u001b[39m \u001b[36mEZsumUpFirstTwoEltsOfList\u001b[39m"
      ]
     },
     "execution_count": 10,
     "metadata": {},
     "output_type": "execute_result"
    }
   ],
   "source": [
    "//throw exception if not 2 elements\n",
    "def EZsumUpFirstTwoEltsOfList(lst: NumList): Int = lst match {\n",
    "    case EmptyList => {throw new IllegalArgumentException(\"EmptyList\")}\n",
    "    case Cons(_, EmptyList) => {throw new IllegalArgumentException(\"List with just 1 argument\")}\n",
    "    case Cons(elt1, Cons(elt2, _)) => {elt1+elt2} //since tail didnt matter we replaced it with _\n",
    "}"
   ]
  },
  {
   "cell_type": "markdown",
   "id": "2ef2cae0",
   "metadata": {},
   "source": [
    "scalas inbuilt lists is very similar to this but they use Nil for empty list and :: insted of cons ==> elt::tail "
   ]
  },
  {
   "cell_type": "code",
   "execution_count": 11,
   "id": "7bc3751e",
   "metadata": {},
   "outputs": [
    {
     "data": {
      "text/plain": [
       "defined \u001b[32mfunction\u001b[39m \u001b[36mlengthofList\u001b[39m"
      ]
     },
     "execution_count": 11,
     "metadata": {},
     "output_type": "execute_result"
    }
   ],
   "source": [
    "def lengthofList(lst: List[Int]): Int = lst match {\n",
    "    case Nil => 0\n",
    "    case _::tail => 1 + lengthofList(tail)\n",
    "}\n",
    "//we are doing the same thing but with scalas in built list stuff"
   ]
  },
  {
   "cell_type": "code",
   "execution_count": 12,
   "id": "1a664bf2",
   "metadata": {},
   "outputs": [
    {
     "data": {
      "text/plain": [
       "defined \u001b[32mfunction\u001b[39m \u001b[36msumFirst2ScalaElts\u001b[39m"
      ]
     },
     "execution_count": 12,
     "metadata": {},
     "output_type": "execute_result"
    }
   ],
   "source": [
    "def sumFirst2ScalaElts(lst: List[Int]): Int = lst match {\n",
    "    case Nil=> {throw new IllegalArgumentException(\"EmptyList\")}\n",
    "    case _::Nil => {throw new IllegalArgumentException(\"List with just 1 argument\")}\n",
    "    case elt1 :: elt2 :: _ => {elt1+elt2}\n",
    "}"
   ]
  },
  {
   "cell_type": "code",
   "execution_count": 13,
   "id": "f0bbd7ab",
   "metadata": {},
   "outputs": [
    {
     "data": {
      "text/plain": [
       "defined \u001b[32mfunction\u001b[39m \u001b[36misAscendingOrder\u001b[39m"
      ]
     },
     "execution_count": 13,
     "metadata": {},
     "output_type": "execute_result"
    }
   ],
   "source": [
    "//given a list of numbers, check if it is in ascending order\n",
    "def isAscendingOrder(lst: List[Int]): Boolean = lst match{\n",
    "    case Nil=> true\n",
    "    case _::Nil => true\n",
    "    case hd1::(hd2::tail) => {\n",
    "        if (hd1<=hd2) {\n",
    "            isAscendingOrder(hd2::tail)\n",
    "        }\n",
    "        else {\n",
    "            false\n",
    "        }\n",
    "    }\n",
    "}"
   ]
  },
  {
   "cell_type": "code",
   "execution_count": 14,
   "id": "d30c46a8",
   "metadata": {},
   "outputs": [
    {
     "data": {
      "text/plain": [
       "defined \u001b[32mfunction\u001b[39m \u001b[36misAscendingOrderV2\u001b[39m"
      ]
     },
     "execution_count": 14,
     "metadata": {},
     "output_type": "execute_result"
    }
   ],
   "source": [
    "//given a list of numbers, check if it is in ascending order\n",
    "def isAscendingOrderV2(lst: List[Int]): Boolean = lst match{\n",
    "    case Nil=> true\n",
    "    case _::Nil => true\n",
    "    case hd1::(hd2::_)if (hd1>hd2) => {false}\n",
    "    case _::tail => isAscendingOrderV2(tail) //this exploits the fact that it already checked all the prior elements in the precious case\n",
    "}"
   ]
  },
  {
   "cell_type": "code",
   "execution_count": 14,
   "id": "67d4dfea",
   "metadata": {},
   "outputs": [
    {
     "name": "stderr",
     "output_type": "stream",
     "text": [
      "(console):5:23 expected \"=>\"\r\n",
      "//with tag\n",
      "def isAscendingOrder(lst: List[Int]): Boolean = lst match{\n",
      "    case Nil=> true\n",
      "    case _::Nil => true\n",
      "    case hd1::new_tail@(hd2::tail) => { //with tag so the tag is like val new_tail = hd2::tail\n",
      "        if (hd1<=hd2) {\n",
      "            isAscendingOrder(new_tail)\n",
      "        }\n",
      "        else {\n",
      "            false\n",
      "        }\n",
      "    }\n",
      "}\r\n",
      "                                                                                                                                        ^"
     ]
    },
    {
     "ename": "",
     "evalue": "",
     "output_type": "error",
     "traceback": [
      "(console):5:23 expected \"=>\"\r\n//with tag\ndef isAscendingOrder(lst: List[Int]): Boolean = lst match{\n    case Nil=> true\n    case _::Nil => true\n    case hd1::new_tail@(hd2::tail) => { //with tag so the tag is like val new_tail = hd2::tail\n        if (hd1<=hd2) {\n            isAscendingOrder(new_tail)\n        }\n        else {\n            false\n        }\n    }\n}\r\n                                                                                                                                        ^"
     ]
    }
   ],
   "source": [
    "//with tag\n",
    "def isAscendingOrder(lst: List[Int]): Boolean = lst match{\n",
    "    case Nil=> true\n",
    "    case _::Nil => true\n",
    "    case hd1::new_tail@(hd2::tail) => { //with tag so the tag is like val new_tail = hd2::tail\n",
    "        if (hd1<=hd2) {\n",
    "            isAscendingOrder(new_tail)\n",
    "        }\n",
    "        else {\n",
    "            false\n",
    "        }\n",
    "    }\n",
    "}"
   ]
  },
  {
   "cell_type": "code",
   "execution_count": 14,
   "id": "7ce81ded",
   "metadata": {},
   "outputs": [],
   "source": [
    "//if cases not exhaustive, youll get an error"
   ]
  },
  {
   "cell_type": "code",
   "execution_count": null,
   "id": "30f29f58",
   "metadata": {},
   "outputs": [],
   "source": []
  },
  {
   "cell_type": "code",
   "execution_count": 17,
   "id": "cad0d1ae",
   "metadata": {},
   "outputs": [
    {
     "data": {
      "text/plain": [
       "\u001b[36mlst\u001b[39m: \u001b[32mList\u001b[39m[\u001b[32mInt\u001b[39m] = \u001b[33mList\u001b[39m(\u001b[32m3\u001b[39m)"
      ]
     },
     "execution_count": 17,
     "metadata": {},
     "output_type": "execute_result"
    }
   ],
   "source": [
    "val lst= 1+2::Nil //programming language has to decide if this is 3::Nil or \n",
    "//in scala plus has higher prescedence than :: because 1+2 happens first"
   ]
  },
  {
   "cell_type": "code",
   "execution_count": 17,
   "id": "f514a227",
   "metadata": {},
   "outputs": [
    {
     "name": "stderr",
     "output_type": "stream",
     "text": [
      "cmd17.sc:1: overloaded method + with alternatives:\n",
      "  (x: Double)Double <and>\n",
      "  (x: Float)Float <and>\n",
      "  (x: Long)Long <and>\n",
      "  (x: Int)Int <and>\n",
      "  (x: Char)Int <and>\n",
      "  (x: Short)Int <and>\n",
      "  (x: Byte)Int <and>\n",
      "  (x: String)String\n",
      " cannot be applied to (List[Int])\n",
      "val lst2= 1+(2::Nil) //scala doesnt like this\n",
      "           ^Compilation Failed"
     ]
    },
    {
     "ename": "",
     "evalue": "",
     "output_type": "error",
     "traceback": [
      "Compilation Failed"
     ]
    }
   ],
   "source": [
    "val lst2= 1+(2::Nil) //scala doesnt like this"
   ]
  },
  {
   "cell_type": "code",
   "execution_count": 17,
   "id": "0c34a3f7",
   "metadata": {},
   "outputs": [
    {
     "name": "stderr",
     "output_type": "stream",
     "text": [
      "(console):1: left- and right-associative operators with same precedence may not be mixed\r\n",
      "val lst3= 1::Nil:+2 //\r\n",
      "           ^"
     ]
    },
    {
     "ename": "",
     "evalue": "",
     "output_type": "error",
     "traceback": [
      "(console):1: left- and right-associative operators with same precedence may not be mixed\r\nval lst3= 1::Nil:+2 //\r\n           ^"
     ]
    }
   ],
   "source": [
    "val lst3= 1::Nil:+2 //"
   ]
  },
  {
   "cell_type": "code",
   "execution_count": null,
   "id": "6277a5e7",
   "metadata": {},
   "outputs": [],
   "source": [
    "val lst3= 1::Nil:+2 //"
   ]
  }
 ],
 "metadata": {
  "kernelspec": {
   "display_name": "Scala",
   "language": "scala",
   "name": "scala"
  },
  "language_info": {
   "codemirror_mode": "text/x-scala",
   "file_extension": ".sc",
   "mimetype": "text/x-scala",
   "name": "scala",
   "nbconvert_exporter": "script",
   "version": "2.13.4"
  }
 },
 "nbformat": 4,
 "nbformat_minor": 5
}
