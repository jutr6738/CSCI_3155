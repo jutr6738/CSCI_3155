{
 "cells": [
  {
   "cell_type": "code",
   "execution_count": 2,
   "id": "f106a850",
   "metadata": {},
   "outputs": [
    {
     "data": {
      "text/plain": [
       "defined \u001b[32mtrait\u001b[39m \u001b[36mProgram\u001b[39m\r\n",
       "defined \u001b[32mtrait\u001b[39m \u001b[36mExpr\u001b[39m\r\n",
       "defined \u001b[32mclass\u001b[39m \u001b[36mConst\u001b[39m\r\n",
       "defined \u001b[32mclass\u001b[39m \u001b[36mIdent\u001b[39m\r\n",
       "defined \u001b[32mclass\u001b[39m \u001b[36mMinus\u001b[39m\r\n",
       "defined \u001b[32mclass\u001b[39m \u001b[36mPlus\u001b[39m\r\n",
       "defined \u001b[32mclass\u001b[39m \u001b[36mMult\u001b[39m\r\n",
       "defined \u001b[32mclass\u001b[39m \u001b[36mEq\u001b[39m\r\n",
       "defined \u001b[32mclass\u001b[39m \u001b[36mGeq\u001b[39m\r\n",
       "defined \u001b[32mclass\u001b[39m \u001b[36mIfThenElse\u001b[39m\r\n",
       "defined \u001b[32mclass\u001b[39m \u001b[36mLet\u001b[39m\r\n",
       "defined \u001b[32mclass\u001b[39m \u001b[36mFunDef\u001b[39m\r\n",
       "defined \u001b[32mclass\u001b[39m \u001b[36mFunCall\u001b[39m\r\n",
       "defined \u001b[32mclass\u001b[39m \u001b[36mLetRec\u001b[39m\r\n",
       "defined \u001b[32mclass\u001b[39m \u001b[36mTopLevel\u001b[39m"
      ]
     },
     "execution_count": 2,
     "metadata": {},
     "output_type": "execute_result"
    }
   ],
   "source": [
    "sealed trait Program\n",
    "sealed trait Expr\n",
    "case class Const(f: Double) extends Expr\n",
    "case class Ident(s: String) extends Expr\n",
    "case class Minus(e1: Expr, e2: Expr) extends Expr\n",
    "case class Plus(e1: Expr, e2: Expr) extends Expr\n",
    "case class Mult(e1: Expr, e2: Expr) extends Expr\n",
    "case class Eq(e1: Expr, e2: Expr) extends Expr\n",
    "case class Geq(e1: Expr, e2: Expr) extends Expr\n",
    "case class IfThenElse(e1: Expr, e2: Expr, e3: Expr) extends Expr\n",
    "case class Let(x: String, e1: Expr, e2: Expr) extends Expr\n",
    "case class FunDef(id: String, e: Expr) extends Expr\n",
    "case class FunCall(calledFun: Expr, argExpr: Expr) extends Expr\n",
    "/* Here is the new stuff */\n",
    "case class LetRec(funName: String, param: String, funExpr: Expr, bodyExpr: Expr) extends Expr\n",
    "\n",
    "case class TopLevel(e: Expr) extends Program"
   ]
  },
  {
   "cell_type": "code",
   "execution_count": 4,
   "id": "d322ea91",
   "metadata": {},
   "outputs": [
    {
     "data": {
      "text/plain": [
       "defined \u001b[32mtrait\u001b[39m \u001b[36mEnvironment\u001b[39m\r\n",
       "defined \u001b[32mtrait\u001b[39m \u001b[36mValue\u001b[39m\r\n",
       "defined \u001b[32mclass\u001b[39m \u001b[36mNumValue\u001b[39m\r\n",
       "defined \u001b[32mclass\u001b[39m \u001b[36mBoolValue\u001b[39m\r\n",
       "defined \u001b[32mclass\u001b[39m \u001b[36mClosure\u001b[39m\r\n",
       "defined \u001b[32mobject\u001b[39m \u001b[36mErrorValue\u001b[39m\r\n",
       "defined \u001b[32mfunction\u001b[39m \u001b[36mvalueToNumber\u001b[39m\r\n",
       "defined \u001b[32mfunction\u001b[39m \u001b[36mvalueToBoolean\u001b[39m\r\n",
       "defined \u001b[32mfunction\u001b[39m \u001b[36mvalueToClosure\u001b[39m"
      ]
     },
     "execution_count": 4,
     "metadata": {},
     "output_type": "execute_result"
    }
   ],
   "source": [
    "sealed trait Environment \n",
    "sealed trait Value\n",
    "\n",
    "\n",
    "/* -- We need to redefine values to accomodate the new representation of environments --*/\n",
    "case class NumValue(d: Double) extends Value\n",
    "case class BoolValue(b: Boolean) extends Value\n",
    "case class Closure(x: String, e: Expr, pi: Environment) extends Value\n",
    "case object ErrorValue extends Value\n",
    "\n",
    "\n",
    "/*2. Operators on values */\n",
    "\n",
    "def valueToNumber(v: Value): Double = v match {\n",
    "    case NumValue(d) => d\n",
    "    case _ => throw new IllegalArgumentException(s\"Error: Asking me to convert Value: $v to a number\")\n",
    "}\n",
    "\n",
    "def valueToBoolean(v: Value): Boolean = v match {\n",
    "    case BoolValue(b) => b\n",
    "    case _ => throw new IllegalArgumentException(s\"Error: Asking me to convert Value: $v to a boolean\")\n",
    "}\n",
    "\n",
    "def valueToClosure(v: Value): Closure = v match {\n",
    "    case Closure(x, e, pi) => Closure(x, e, pi)\n",
    "    case _ =>  throw new IllegalArgumentException(s\"Error: Asking me to convert Value: $v to a closure\")\n",
    "}\n"
   ]
  },
  {
   "cell_type": "code",
   "execution_count": 5,
   "id": "6ed3a8d8",
   "metadata": {},
   "outputs": [
    {
     "name": "stderr",
     "output_type": "stream",
     "text": [
      "cmd5.sc:24: type mismatch;\n",
      " found   : Environment (in ammonite.$sess.cmd5.Helper) \n",
      " required: Environment (in ammonite.$sess.cmd3.Helper) \n",
      "            Closure(formalparam, body, existing_env)\n",
      "                                       ^Compilation Failed"
     ]
    },
    {
     "ename": "",
     "evalue": "",
     "output_type": "error",
     "traceback": [
      "Compilation Failed"
     ]
    }
   ],
   "source": [
    "sealed trait Environment {\n",
    "    def lookup(x:String): Value //define the signature \n",
    "}\n",
    "case object EmptyEnv extends Environment  {\n",
    "    //we could define inside the class or use case pattern matching and define it outside \n",
    "    override def lookup(x:String): Value = {\n",
    "        throw new IllegalArgumentException(s\"I know nothing about string $x\")  \n",
    "    }\n",
    "}\n",
    "case class Extend(x: String, v: Value, existing_env: Environment) extends Environment   {\n",
    "    override def lookup(what:String): Value = {\n",
    "        if (what == x) { v }\n",
    "        else {\n",
    "            existing_env.lookup(what)\n",
    "        }\n",
    "    }\n",
    "}\n",
    "case class ExtendRec(recfuncname: String, formalparam: String, body: Expr, existing_env: Environment) extends Environment {\n",
    "    override def lookup(what: String): Value = {\n",
    "        if (what!= recfuncname) {\n",
    "            existing_env.lookup(what)\n",
    "        }\n",
    "        else {\n",
    "            Closure(formalparam, body, existing_env)\n",
    "        }\n",
    "    }\n",
    "}"
   ]
  },
  {
   "cell_type": "code",
   "execution_count": 9,
   "id": "1a002be3",
   "metadata": {},
   "outputs": [
    {
     "data": {
      "text/plain": [
       "\u001b[36mempty\u001b[39m: \u001b[32mEmptyEnv\u001b[39m.type = EmptyEnv\r\n",
       "\u001b[36menv1\u001b[39m: \u001b[32mExtend\u001b[39m = \u001b[33mExtend\u001b[39m(x = \u001b[32m\"x\"\u001b[39m, v = \u001b[33mNumValue\u001b[39m(d = \u001b[32m10.0\u001b[39m), existing_env = EmptyEnv)\r\n",
       "\u001b[36menv2\u001b[39m: \u001b[32mExtend\u001b[39m = \u001b[33mExtend\u001b[39m(\n",
       "  x = \u001b[32m\"y\"\u001b[39m,\n",
       "  v = \u001b[33mNumValue\u001b[39m(d = \u001b[32m20.0\u001b[39m),\n",
       "  existing_env = \u001b[33mExtend\u001b[39m(\n",
       "    x = \u001b[32m\"x\"\u001b[39m,\n",
       "    v = \u001b[33mNumValue\u001b[39m(d = \u001b[32m10.0\u001b[39m),\n",
       "    existing_env = EmptyEnv\n",
       "  )\n",
       ")"
      ]
     },
     "execution_count": 9,
     "metadata": {},
     "output_type": "execute_result"
    }
   ],
   "source": [
    "val empty= EmptyEnv\n",
    "//tacking on to the emptyenviron\n",
    "val env1= Extend(\"x\", NumValue(10), empty)\n",
    "//extending an existing environment\n",
    "val env2= Extend(\"y\", NumValue(20), env1)"
   ]
  },
  {
   "cell_type": "code",
   "execution_count": 9,
   "id": "e1d4ab11",
   "metadata": {},
   "outputs": [
    {
     "name": "stderr",
     "output_type": "stream",
     "text": [
      "cmd9.sc:7: type mismatch;\n",
      " found   : Helper.this.ExtendRec\n",
      " required: Map[String,cmd9.this.cmd1.Value]\n",
      "            Closure(formalparam, body,this)\n",
      "                                      ^Compilation Failed"
     ]
    },
    {
     "ename": "",
     "evalue": "",
     "output_type": "error",
     "traceback": [
      "Compilation Failed"
     ]
    }
   ],
   "source": []
  },
  {
   "cell_type": "code",
   "execution_count": null,
   "id": "21ad1296",
   "metadata": {},
   "outputs": [],
   "source": []
  }
 ],
 "metadata": {
  "kernelspec": {
   "display_name": "Scala",
   "language": "scala",
   "name": "scala"
  },
  "language_info": {
   "codemirror_mode": "text/x-scala",
   "file_extension": ".sc",
   "mimetype": "text/x-scala",
   "name": "scala",
   "nbconvert_exporter": "script",
   "version": "2.13.4"
  }
 },
 "nbformat": 4,
 "nbformat_minor": 5
}
