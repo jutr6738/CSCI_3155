{
 "cells": [
  {
   "cell_type": "markdown",
   "id": "078d9601",
   "metadata": {},
   "source": [
    "## Topics for Today\n",
    "#### Grammars and Inductive datatypes\n",
    "#### Case pattern matching\n"
   ]
  },
  {
   "cell_type": "markdown",
   "id": "8e308b50",
   "metadata": {},
   "source": [
    "//numlist is no terminal and integer is also nonterminal\n",
    "__NumList__ => EmptyList\n",
    "__NumList__ => Cons(__Integer__, NumList)\n",
    "__Integer__ => ..,-3,-2,-1,0,1,2,3...."
   ]
  },
  {
   "cell_type": "code",
   "execution_count": 20,
   "id": "74d6515d",
   "metadata": {},
   "outputs": [
    {
     "data": {
      "text/plain": [
       "defined \u001b[32mtrait\u001b[39m \u001b[36mNumList\u001b[39m\r\n",
       "defined \u001b[32mclass\u001b[39m \u001b[36mEmptyList\u001b[39m\r\n",
       "defined \u001b[32mclass\u001b[39m \u001b[36mCons\u001b[39m"
      ]
     },
     "execution_count": 20,
     "metadata": {},
     "output_type": "execute_result"
    }
   ],
   "source": [
    "//define each non terminal as a sealed trait\n",
    "//sealed makes whatever you are writing be contained in 1 file\n",
    "//trait is like abstract class so like a type that has not be defined yet but you can inherit from it\n",
    "sealed trait NumList\n",
    "//then each of the rules becomes a case class\n",
    "case class EmptyList() extends NumList //this is  NumList => EmptyList\n",
    "\n",
    "case class Cons(elt: Int, tail: NumList) extends NumList "
   ]
  },
  {
   "cell_type": "code",
   "execution_count": 21,
   "id": "5354cd69",
   "metadata": {},
   "outputs": [
    {
     "data": {
      "text/plain": [
       "defined \u001b[32mclass\u001b[39m \u001b[36mHello\u001b[39m"
      ]
     },
     "execution_count": 21,
     "metadata": {},
     "output_type": "execute_result"
    }
   ],
   "source": [
    "class Hello (x:Int, str:String)"
   ]
  },
  {
   "cell_type": "code",
   "execution_count": 22,
   "id": "7e584975",
   "metadata": {},
   "outputs": [
    {
     "data": {
      "text/plain": [
       "defined \u001b[32mclass\u001b[39m \u001b[36mHelloCase\u001b[39m"
      ]
     },
     "execution_count": 22,
     "metadata": {},
     "output_type": "execute_result"
    }
   ],
   "source": [
    "case class HelloCase(x:Int, str:String)"
   ]
  },
  {
   "cell_type": "code",
   "execution_count": 23,
   "id": "5b37a430",
   "metadata": {},
   "outputs": [
    {
     "data": {
      "text/plain": [
       "\u001b[36mh\u001b[39m: \u001b[32mHello\u001b[39m = ammonite.$sess.cmd20$Helper$Hello@247a9aef"
      ]
     },
     "execution_count": 23,
     "metadata": {},
     "output_type": "execute_result"
    }
   ],
   "source": [
    "val h= new Hello(10,\"yes\")"
   ]
  },
  {
   "cell_type": "code",
   "execution_count": 24,
   "id": "54d9a573",
   "metadata": {},
   "outputs": [
    {
     "data": {
      "text/plain": [
       "\u001b[36mhc\u001b[39m: \u001b[32mHelloCase\u001b[39m = \u001b[33mHelloCase\u001b[39m(x = \u001b[32m10\u001b[39m, str = \u001b[32m\"yes\"\u001b[39m)"
      ]
     },
     "execution_count": 24,
     "metadata": {},
     "output_type": "execute_result"
    }
   ],
   "source": [
    "//when i define something as case class, underthe hood it does a define string method\n",
    "//so the case class prints nicely\n",
    "//we also dont need a new be it overloads an operator \n",
    "//under the hood it \n",
    "val hc= HelloCase (10, \"yes\")"
   ]
  },
  {
   "cell_type": "code",
   "execution_count": 25,
   "id": "94204835",
   "metadata": {},
   "outputs": [
    {
     "data": {
      "text/plain": [
       "\u001b[36mh2\u001b[39m: \u001b[32mHello\u001b[39m = ammonite.$sess.cmd20$Helper$Hello@3affc556"
      ]
     },
     "execution_count": 25,
     "metadata": {},
     "output_type": "execute_result"
    }
   ],
   "source": [
    "val h2= new Hello(10,\"yes\")"
   ]
  },
  {
   "cell_type": "code",
   "execution_count": 26,
   "id": "51abd467",
   "metadata": {},
   "outputs": [
    {
     "data": {
      "text/plain": [
       "\u001b[36mres25\u001b[39m: \u001b[32mBoolean\u001b[39m = false"
      ]
     },
     "execution_count": 26,
     "metadata": {},
     "output_type": "execute_result"
    }
   ],
   "source": [
    "h == h2  \n",
    "//we expect and want true but it is false bc it is comparing memory locations\n",
    "//we could override the \"equals\" method to fix this but its a pain -- just use case class\n"
   ]
  },
  {
   "cell_type": "code",
   "execution_count": 27,
   "id": "8f31e679",
   "metadata": {},
   "outputs": [
    {
     "data": {
      "text/plain": [
       "\u001b[36mhc2\u001b[39m: \u001b[32mHelloCase\u001b[39m = \u001b[33mHelloCase\u001b[39m(x = \u001b[32m10\u001b[39m, str = \u001b[32m\"yes\"\u001b[39m)"
      ]
     },
     "execution_count": 27,
     "metadata": {},
     "output_type": "execute_result"
    }
   ],
   "source": [
    "val hc2= HelloCase (10, \"yes\")"
   ]
  },
  {
   "cell_type": "code",
   "execution_count": 28,
   "id": "e5695e80",
   "metadata": {},
   "outputs": [
    {
     "data": {
      "text/plain": [
       "\u001b[36mres27\u001b[39m: \u001b[32mBoolean\u001b[39m = true"
      ]
     },
     "execution_count": 28,
     "metadata": {},
     "output_type": "execute_result"
    }
   ],
   "source": [
    "hc== hc2"
   ]
  },
  {
   "cell_type": "code",
   "execution_count": 29,
   "id": "15a24049",
   "metadata": {},
   "outputs": [
    {
     "data": {
      "text/plain": [
       "\u001b[36ma\u001b[39m: \u001b[32mInt\u001b[39m = \u001b[32m10\u001b[39m\r\n",
       "\u001b[36mb\u001b[39m: \u001b[32mString\u001b[39m = \u001b[32m\"yes\"\u001b[39m\r\n",
       "\u001b[36ma1\u001b[39m: \u001b[32mInt\u001b[39m = \u001b[32m10\u001b[39m\r\n",
       "\u001b[36mb2\u001b[39m: \u001b[32mString\u001b[39m = \u001b[32m\"yes\"\u001b[39m"
      ]
     },
     "execution_count": 29,
     "metadata": {},
     "output_type": "execute_result"
    }
   ],
   "source": [
    "//unpacking is done under the hoood with case classes\n",
    "val HelloCase(a,b)=hc\n",
    "\n",
    "//same things as \n",
    "val a1=hc.x\n",
    "val b2=hc.str"
   ]
  },
  {
   "cell_type": "code",
   "execution_count": 29,
   "id": "e0c33549",
   "metadata": {},
   "outputs": [
    {
     "name": "stderr",
     "output_type": "stream",
     "text": [
      "cmd29.sc:1: not found: value Hello\n",
      "val Hello(a,b)=h //becasue to unpack an object with a regular class you would have to write some method\n",
      "    ^Compilation Failed"
     ]
    },
    {
     "ename": "",
     "evalue": "",
     "output_type": "error",
     "traceback": [
      "Compilation Failed"
     ]
    }
   ],
   "source": [
    "val Hello(a,b)=h //becasue to unpack an object with a regular class you would have to write some method"
   ]
  },
  {
   "cell_type": "code",
   "execution_count": null,
   "id": "fdcc6090",
   "metadata": {},
   "outputs": [],
   "source": [
    "//draw back of case classes is giving up control\n",
    "\n",
    "//we usually only use case classes for inductive definations or grammars"
   ]
  },
  {
   "cell_type": "code",
   "execution_count": 30,
   "id": "37e7c91d",
   "metadata": {},
   "outputs": [
    {
     "data": {
      "text/plain": [
       "\u001b[36mlst1\u001b[39m: \u001b[32mCons\u001b[39m = \u001b[33mCons\u001b[39m(\n",
       "  elt = \u001b[32m1\u001b[39m,\n",
       "  tail = \u001b[33mCons\u001b[39m(\n",
       "    elt = \u001b[32m2\u001b[39m,\n",
       "    tail = \u001b[33mCons\u001b[39m(elt = \u001b[32m-1\u001b[39m, tail = \u001b[33mCons\u001b[39m(elt = \u001b[32m-2\u001b[39m, tail = EmptyList()))\n",
       "  )\n",
       ")"
      ]
     },
     "execution_count": 30,
     "metadata": {},
     "output_type": "execute_result"
    }
   ],
   "source": [
    "\n",
    "//[1,2,-1,-2]\n",
    "val lst1= Cons(1, Cons(2, Cons(-1, Cons(-2, EmptyList() ))))"
   ]
  },
  {
   "cell_type": "code",
   "execution_count": 30,
   "id": "5657efe1",
   "metadata": {},
   "outputs": [],
   "source": [
    "//if we do case object EmptyList extends NumList then we dont need ()"
   ]
  },
  {
   "cell_type": "code",
   "execution_count": null,
   "id": "66e185dc",
   "metadata": {},
   "outputs": [],
   "source": []
  },
  {
   "cell_type": "code",
   "execution_count": null,
   "id": "ba29aee5",
   "metadata": {},
   "outputs": [],
   "source": []
  },
  {
   "cell_type": "markdown",
   "id": "ab881aaa",
   "metadata": {},
   "source": [
    "## Trees\n",
    "\n",
    "__NumTree__ => Leaf(__Integer__)\n",
    "\n",
    "__NumTree__ => Node(__NumTree__, __NumTree__, __Integer__)"
   ]
  },
  {
   "cell_type": "code",
   "execution_count": 31,
   "id": "a1edd4cf",
   "metadata": {},
   "outputs": [
    {
     "data": {
      "text/plain": [
       "defined \u001b[32mtrait\u001b[39m \u001b[36mNumTree\u001b[39m\r\n",
       "defined \u001b[32mclass\u001b[39m \u001b[36mLeaf\u001b[39m\r\n",
       "defined \u001b[32mclass\u001b[39m \u001b[36mNode\u001b[39m"
      ]
     },
     "execution_count": 31,
     "metadata": {},
     "output_type": "execute_result"
    }
   ],
   "source": [
    "//define each non terminal as a sealed trait\n",
    "sealed trait NumTree\n",
    "//then each of the rules becomes a case class or case object if it has no parameters\n",
    "case class Leaf(x: Int) extends NumTree //this is  NumTree => Leaf(Integer)\n",
    "\n",
    "case class Node(t1: NumTree, t2:NumTree, y:Integer) extends NumTree"
   ]
  },
  {
   "cell_type": "code",
   "execution_count": 32,
   "id": "143b18eb",
   "metadata": {},
   "outputs": [
    {
     "data": {
      "text/plain": [
       "\u001b[36mlonelyleaf\u001b[39m: \u001b[32mNumTree\u001b[39m = \u001b[33mLeaf\u001b[39m(x = \u001b[32m10\u001b[39m)"
      ]
     },
     "execution_count": 32,
     "metadata": {},
     "output_type": "execute_result"
    }
   ],
   "source": [
    "val lonelyleaf: NumTree = Leaf(10)"
   ]
  },
  {
   "cell_type": "code",
   "execution_count": 33,
   "id": "81b60933",
   "metadata": {},
   "outputs": [
    {
     "data": {
      "text/plain": [
       "\u001b[36mnt1\u001b[39m: \u001b[32mNumTree\u001b[39m = \u001b[33mNode\u001b[39m(t1 = \u001b[33mLeaf\u001b[39m(x = \u001b[32m10\u001b[39m), t2 = \u001b[33mLeaf\u001b[39m(x = \u001b[32m-10\u001b[39m), y = \u001b[32m1\u001b[39m)"
      ]
     },
     "execution_count": 33,
     "metadata": {},
     "output_type": "execute_result"
    }
   ],
   "source": [
    "val nt1: NumTree = Node(lonelyleaf, Leaf(-10), 1)"
   ]
  },
  {
   "cell_type": "markdown",
   "id": "095f48d4",
   "metadata": {},
   "source": [
    "        1\n",
    "       / \\ \n",
    "     10   -10"
   ]
  },
  {
   "cell_type": "code",
   "execution_count": null,
   "id": "cc8991dc",
   "metadata": {},
   "outputs": [],
   "source": []
  },
  {
   "cell_type": "code",
   "execution_count": null,
   "id": "81f37a7d",
   "metadata": {},
   "outputs": [],
   "source": []
  },
  {
   "cell_type": "code",
   "execution_count": 35,
   "id": "1b5603d6",
   "metadata": {},
   "outputs": [
    {
     "data": {
      "text/plain": [
       "defined \u001b[32mtrait\u001b[39m \u001b[36mNumList\u001b[39m\r\n",
       "defined \u001b[32mobject\u001b[39m \u001b[36mEmptyList\u001b[39m\r\n",
       "defined \u001b[32mclass\u001b[39m \u001b[36mCons\u001b[39m"
      ]
     },
     "execution_count": 35,
     "metadata": {},
     "output_type": "execute_result"
    }
   ],
   "source": [
    "sealed trait NumList\n",
    "case object EmptyList extends NumList\n",
    "case class Cons(x:Int, tail:NumList) extends NumList"
   ]
  },
  {
   "cell_type": "code",
   "execution_count": 39,
   "id": "e24ee605",
   "metadata": {},
   "outputs": [
    {
     "data": {
      "text/plain": [
       "\u001b[36mlst1\u001b[39m: \u001b[32mNumList\u001b[39m = \u001b[33mCons\u001b[39m(x = \u001b[32m1\u001b[39m, tail = \u001b[33mCons\u001b[39m(x = \u001b[32m-1\u001b[39m, tail = EmptyList))\r\n",
       "\u001b[36mlst2\u001b[39m: \u001b[32mEmptyList\u001b[39m.type = EmptyList\r\n",
       "\u001b[36mlst3\u001b[39m: \u001b[32mCons\u001b[39m = \u001b[33mCons\u001b[39m(\n",
       "  x = \u001b[32m-2\u001b[39m,\n",
       "  tail = \u001b[33mCons\u001b[39m(x = \u001b[32m-1\u001b[39m, tail = \u001b[33mCons\u001b[39m(x = \u001b[32m0\u001b[39m, tail = \u001b[33mCons\u001b[39m(x = \u001b[32m1\u001b[39m, tail = EmptyList)))\n",
       ")"
      ]
     },
     "execution_count": 39,
     "metadata": {},
     "output_type": "execute_result"
    }
   ],
   "source": [
    "val lst1: NumList= Cons (1, Cons(-1,EmptyList))\n",
    "\n",
    "val lst2= EmptyList\n",
    "\n",
    "val lst3= Cons(-2, Cons(-1, Cons(0, Cons(1,EmptyList)))) //-2,-1,0,1\n",
    "\n"
   ]
  },
  {
   "cell_type": "code",
   "execution_count": 46,
   "id": "7b64a6ba",
   "metadata": {},
   "outputs": [
    {
     "data": {
      "text/plain": [
       "defined \u001b[32mfunction\u001b[39m \u001b[36mhead\u001b[39m"
      ]
     },
     "execution_count": 46,
     "metadata": {},
     "output_type": "execute_result"
    }
   ],
   "source": [
    "//if we call head on lst1 we want 1\n",
    "//if we call head on lst2 we need exception\n",
    "//if we call head on lst3 we want -2\n",
    "\n",
    "def head(lst:NumList): Int = {\n",
    "    if (lst ==EmptyList){\n",
    "        throw new IllegalArgumentException (\"Empty List\")\n",
    "    }\n",
    "    else {\n",
    "        val Cons(hd, tail) =lst //this is using unpacking\n",
    "        hd\n",
    "    }\n",
    "    \n",
    "}\n",
    "//but if we add a new case class our code will break"
   ]
  },
  {
   "cell_type": "code",
   "execution_count": 47,
   "id": "9a6963d4",
   "metadata": {},
   "outputs": [
    {
     "data": {
      "text/plain": [
       "\u001b[36mres46_0\u001b[39m: \u001b[32mInt\u001b[39m = \u001b[32m1\u001b[39m\r\n",
       "\u001b[36mres46_1\u001b[39m: \u001b[32mInt\u001b[39m = \u001b[32m-2\u001b[39m"
      ]
     },
     "execution_count": 47,
     "metadata": {},
     "output_type": "execute_result"
    }
   ],
   "source": [
    "head(lst1) //good 1\n",
    "// head(lst2) //this one throws exception\n",
    "head(lst3) //good -2"
   ]
  },
  {
   "cell_type": "code",
   "execution_count": 51,
   "id": "70c6ab70",
   "metadata": {},
   "outputs": [
    {
     "data": {
      "text/plain": [
       "defined \u001b[32mfunction\u001b[39m \u001b[36mheadmatch\u001b[39m"
      ]
     },
     "execution_count": 51,
     "metadata": {},
     "output_type": "execute_result"
    }
   ],
   "source": [
    "def headmatch (lst: NumList): Int= lst match {\n",
    "    case EmptyList => throw new IllegalArgumentException (\"Empty List\")\n",
    "    case Cons(hd, tail) => { //case pattern matching \n",
    "    //this will define 2 new vals hd and tail \n",
    "    //hd as first element of list and tail as remainder \n",
    "        println(s\"hd= $hd, tail= $tail\")\n",
    "        hd\n",
    "    }\n",
    "    case _ => throw new IllegalArgumentException (\"Unhandled Case\") //this handles all other cases\n",
    "        \n",
    "    \n",
    "}"
   ]
  },
  {
   "cell_type": "code",
   "execution_count": 52,
   "id": "7ccdc1d5",
   "metadata": {},
   "outputs": [
    {
     "name": "stdout",
     "output_type": "stream",
     "text": [
      "hd= 1, tail= Cons(-1,EmptyList)\n",
      "hd= -2, tail= Cons(-1,Cons(0,Cons(1,EmptyList)))\n"
     ]
    },
    {
     "data": {
      "text/plain": [
       "\u001b[36mres51_0\u001b[39m: \u001b[32mInt\u001b[39m = \u001b[32m1\u001b[39m\r\n",
       "\u001b[36mres51_1\u001b[39m: \u001b[32mInt\u001b[39m = \u001b[32m-2\u001b[39m"
      ]
     },
     "execution_count": 52,
     "metadata": {},
     "output_type": "execute_result"
    }
   ],
   "source": [
    "headmatch(lst1) //good 1\n",
    "// headmatch(lst2) //this one throws exception\n",
    "headmatch(lst3) //good -2"
   ]
  },
  {
   "cell_type": "code",
   "execution_count": 55,
   "id": "c82cd24a",
   "metadata": {},
   "outputs": [
    {
     "data": {
      "text/plain": [
       "defined \u001b[32mfunction\u001b[39m \u001b[36mlength\u001b[39m"
      ]
     },
     "execution_count": 55,
     "metadata": {},
     "output_type": "execute_result"
    }
   ],
   "source": [
    "def length(lst:NumList): Int = lst match {\n",
    "    case EmptyList => 0\n",
    "    case Cons(hd,tail) => {\n",
    "        1+length(tail)\n",
    "    }\n",
    "}"
   ]
  },
  {
   "cell_type": "code",
   "execution_count": 58,
   "id": "b43c9a00",
   "metadata": {},
   "outputs": [
    {
     "data": {
      "text/plain": [
       "defined \u001b[32mfunction\u001b[39m \u001b[36mlengthrec\u001b[39m"
      ]
     },
     "execution_count": 58,
     "metadata": {},
     "output_type": "execute_result"
    }
   ],
   "source": [
    "def lengthrec(lst:NumList, acc:Int=0): Int = lst match {\n",
    "    case EmptyList => acc\n",
    "    case Cons(hd,tail) => {\n",
    "        lengthrec(tail, acc+1)\n",
    "    }\n",
    "}"
   ]
  },
  {
   "cell_type": "code",
   "execution_count": 59,
   "id": "9acce3d1",
   "metadata": {},
   "outputs": [
    {
     "data": {
      "text/plain": [
       "\u001b[36mres58\u001b[39m: \u001b[32mInt\u001b[39m = \u001b[32m4\u001b[39m"
      ]
     },
     "execution_count": 59,
     "metadata": {},
     "output_type": "execute_result"
    }
   ],
   "source": [
    "length(lst3)"
   ]
  },
  {
   "cell_type": "code",
   "execution_count": 60,
   "id": "5db0c8aa",
   "metadata": {},
   "outputs": [
    {
     "data": {
      "text/plain": [
       "\u001b[36mres59\u001b[39m: \u001b[32mInt\u001b[39m = \u001b[32m4\u001b[39m"
      ]
     },
     "execution_count": 60,
     "metadata": {},
     "output_type": "execute_result"
    }
   ],
   "source": [
    "lengthrec(lst3)"
   ]
  },
  {
   "cell_type": "code",
   "execution_count": 61,
   "id": "d2ce1891",
   "metadata": {},
   "outputs": [
    {
     "data": {
      "text/plain": [
       "defined \u001b[32mfunction\u001b[39m \u001b[36mkthElement\u001b[39m"
      ]
     },
     "execution_count": 61,
     "metadata": {},
     "output_type": "execute_result"
    }
   ],
   "source": [
    "def kthElement(lst: NumList, k:Int): Int = lst match {\n",
    "    case EmptyList => throw new IllegalArgumentException (\"Empty List\")\n",
    "    case Cons(hd,tail) => {\n",
    "        if (k==0) {hd}\n",
    "        else {\n",
    "            kthElement(tail, k-1)\n",
    "        }\n",
    "    }\n",
    "}"
   ]
  },
  {
   "cell_type": "code",
   "execution_count": 67,
   "id": "7f2dcd1a",
   "metadata": {},
   "outputs": [
    {
     "data": {
      "text/plain": [
       "\u001b[36mres66\u001b[39m: \u001b[32mInt\u001b[39m = \u001b[32m0\u001b[39m"
      ]
     },
     "execution_count": 67,
     "metadata": {},
     "output_type": "execute_result"
    }
   ],
   "source": [
    "kthElement(lst3, 2) //lst3 is -2,-1,0,1"
   ]
  },
  {
   "cell_type": "code",
   "execution_count": null,
   "id": "2c85b4bc",
   "metadata": {},
   "outputs": [],
   "source": []
  }
 ],
 "metadata": {
  "kernelspec": {
   "display_name": "Scala",
   "language": "scala",
   "name": "scala"
  },
  "language_info": {
   "codemirror_mode": "text/x-scala",
   "file_extension": ".sc",
   "mimetype": "text/x-scala",
   "name": "scala",
   "nbconvert_exporter": "script",
   "version": "2.13.4"
  }
 },
 "nbformat": 4,
 "nbformat_minor": 5
}
