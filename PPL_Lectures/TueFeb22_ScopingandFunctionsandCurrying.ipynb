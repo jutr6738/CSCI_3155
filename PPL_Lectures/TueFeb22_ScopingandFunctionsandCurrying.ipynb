{
 "cells": [
  {
   "cell_type": "markdown",
   "id": "aaa52451",
   "metadata": {},
   "source": [
    "# Scoping: Static Scoping"
   ]
  },
  {
   "cell_type": "code",
   "execution_count": 11,
   "id": "e13aaf69",
   "metadata": {},
   "outputs": [
    {
     "name": "stdout",
     "output_type": "stream",
     "text": [
      "25\n"
     ]
    }
   ],
   "source": [
    "//static scoping\n",
    "{\n",
    "    val y= 10\n",
    "    val foo = (x:Int) => {x+y}\n",
    "    {\n",
    "        val y=20\n",
    "        println(foo(15))\n",
    "    }\n",
    "}"
   ]
  },
  {
   "cell_type": "code",
   "execution_count": 10,
   "id": "ce9eb225",
   "metadata": {},
   "outputs": [
    {
     "name": "stdout",
     "output_type": "stream",
     "text": [
      "25\n"
     ]
    }
   ],
   "source": [
    "//still static scoping. Uses def of y at time of function defination\n",
    "{\n",
    "    var y=10\n",
    "    val boo = (x:Int) => {x+y}\n",
    "    {\n",
    "        var y=330\n",
    "        println(boo(15))\n",
    "    }\n",
    "}"
   ]
  },
  {
   "cell_type": "code",
   "execution_count": 12,
   "id": "0badde8f",
   "metadata": {},
   "outputs": [
    {
     "name": "stdout",
     "output_type": "stream",
     "text": [
      "25\n"
     ]
    }
   ],
   "source": [
    "//still static scoping. Uses def of y at time of function defination\n",
    "{\n",
    "    var y=10\n",
    "    val goo = (x:Int) => {x+y}\n",
    "    {\n",
    "        var y=true\n",
    "        println(goo(15))\n",
    "    }\n",
    "}"
   ]
  },
  {
   "cell_type": "code",
   "execution_count": 13,
   "id": "cd323ceb",
   "metadata": {},
   "outputs": [
    {
     "data": {
      "text/plain": [
       "defined \u001b[32mfunction\u001b[39m \u001b[36mcallback\u001b[39m"
      ]
     },
     "execution_count": 13,
     "metadata": {},
     "output_type": "execute_result"
    }
   ],
   "source": [
    "def callback(data:Int): (Int=>String) = {\n",
    "    def anon_fun(x:Int) = {\n",
    "        s\"Original data was: {$data}, now we get {$x}\"\n",
    "    }\n",
    "    anon_fun \n",
    "}\n",
    "//with static scoping we can capture all the data at the time of making the function\n",
    "//without it we cant use callbacks that why we need static scoping\n"
   ]
  },
  {
   "cell_type": "code",
   "execution_count": 15,
   "id": "35b40af3",
   "metadata": {},
   "outputs": [
    {
     "data": {
      "text/plain": [
       "\u001b[36mfoo1\u001b[39m: \u001b[32mInt\u001b[39m => \u001b[32mString\u001b[39m = ammonite.$sess.cmd12$Helper$$Lambda$2015/1741719125@53259378"
      ]
     },
     "execution_count": 15,
     "metadata": {},
     "output_type": "execute_result"
    }
   ],
   "source": [
    "val foo1= callback(10)"
   ]
  },
  {
   "cell_type": "code",
   "execution_count": 16,
   "id": "c8efc382",
   "metadata": {},
   "outputs": [
    {
     "data": {
      "text/plain": [
       "\u001b[36mres15\u001b[39m: \u001b[32mString\u001b[39m = \u001b[32m\"Original data was: {10}, now we get {1}\"\u001b[39m"
      ]
     },
     "execution_count": 16,
     "metadata": {},
     "output_type": "execute_result"
    }
   ],
   "source": [
    "foo1(1)"
   ]
  },
  {
   "cell_type": "markdown",
   "id": "afeb56e3",
   "metadata": {},
   "source": [
    "# Currying"
   ]
  },
  {
   "cell_type": "code",
   "execution_count": 17,
   "id": "24a7475b",
   "metadata": {},
   "outputs": [
    {
     "data": {
      "text/plain": [
       "defined \u001b[32mfunction\u001b[39m \u001b[36mfoo\u001b[39m"
      ]
     },
     "execution_count": 17,
     "metadata": {},
     "output_type": "execute_result"
    }
   ],
   "source": [
    "def foo(x:Int) (y:Int) = {x+y}"
   ]
  },
  {
   "cell_type": "code",
   "execution_count": 18,
   "id": "6a094e8a",
   "metadata": {},
   "outputs": [
    {
     "data": {
      "text/plain": [
       "\u001b[36mfooequi\u001b[39m: \u001b[32mInt\u001b[39m => \u001b[32mInt\u001b[39m => \u001b[32mInt\u001b[39m = ammonite.$sess.cmd17$Helper$$Lambda$2028/529299897@829ff2b"
      ]
     },
     "execution_count": 18,
     "metadata": {},
     "output_type": "execute_result"
    }
   ],
   "source": [
    "//same as \n",
    "val fooequi= (x:Int) => ( (y:Int) => {x+y} )"
   ]
  },
  {
   "cell_type": "code",
   "execution_count": 19,
   "id": "4c7af996",
   "metadata": {},
   "outputs": [
    {
     "data": {
      "text/plain": [
       "\u001b[36mres18\u001b[39m: \u001b[32mInt\u001b[39m = \u001b[32m7\u001b[39m"
      ]
     },
     "execution_count": 19,
     "metadata": {},
     "output_type": "execute_result"
    }
   ],
   "source": [
    "foo(3)(4)"
   ]
  },
  {
   "cell_type": "code",
   "execution_count": 21,
   "id": "0a5e08fc",
   "metadata": {},
   "outputs": [
    {
     "data": {
      "text/plain": [
       "\u001b[36mres20\u001b[39m: \u001b[32mInt\u001b[39m = \u001b[32m7\u001b[39m"
      ]
     },
     "execution_count": 21,
     "metadata": {},
     "output_type": "execute_result"
    }
   ],
   "source": [
    "fooequi(3)(4)"
   ]
  }
 ],
 "metadata": {
  "kernelspec": {
   "display_name": "Scala",
   "language": "scala",
   "name": "scala"
  },
  "language_info": {
   "codemirror_mode": "text/x-scala",
   "file_extension": ".sc",
   "mimetype": "text/x-scala",
   "name": "scala",
   "nbconvert_exporter": "script",
   "version": "2.13.4"
  }
 },
 "nbformat": 4,
 "nbformat_minor": 5
}
