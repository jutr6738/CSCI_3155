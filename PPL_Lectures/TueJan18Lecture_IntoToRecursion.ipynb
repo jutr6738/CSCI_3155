{
 "cells": [
  {
   "cell_type": "code",
   "execution_count": 2,
   "id": "42e1cd33",
   "metadata": {},
   "outputs": [
    {
     "data": {
      "text/html": [
       "<div class=\"jp-RenderedText\">\n",
       "<pre><code><span style=\"color: rgb(0, 187, 187)\"><span class=\"ansi-cyan-fg\">x</span></span>: <span style=\"color: rgb(0, 187, 0)\"><span class=\"ansi-green-fg\">Int</span></span> = <span style=\"color: rgb(0, 187, 0)\"><span class=\"ansi-green-fg\">190</span></span></code></pre>\n",
       "</div>"
      ],
      "text/plain": [
       "\u001b[36mx\u001b[39m: \u001b[32mInt\u001b[39m = \u001b[32m190\u001b[39m"
      ]
     },
     "metadata": {},
     "output_type": "display_data"
    }
   ],
   "source": [
    "var x=(10*20 +30 -40)"
   ]
  },
  {
   "cell_type": "markdown",
   "id": "9be0d5c5",
   "metadata": {},
   "source": [
    "conditional exptressions\n",
    "\n",
    "sequential compostition or compound expression"
   ]
  },
  {
   "cell_type": "code",
   "execution_count": 3,
   "id": "e3b08f18",
   "metadata": {},
   "outputs": [
    {
     "data": {
      "text/plain": [
       "\u001b[36my\u001b[39m: \u001b[32mInt\u001b[39m = \u001b[32m10\u001b[39m"
      ]
     },
     "execution_count": 3,
     "metadata": {},
     "output_type": "execute_result"
    }
   ],
   "source": [
    "val y= if (x >=100) {\n",
    "                    10 //then part\n",
    "                    } else {\n",
    "                    -10 //else part\n",
    "            }"
   ]
  },
  {
   "cell_type": "code",
   "execution_count": 10,
   "id": "07f0cba8",
   "metadata": {},
   "outputs": [
    {
     "data": {
      "text/plain": [
       "\u001b[36mz\u001b[39m: \u001b[32mAny\u001b[39m = \u001b[32m\"Hello\"\u001b[39m"
      ]
     },
     "execution_count": 10,
     "metadata": {},
     "output_type": "execute_result"
    }
   ],
   "source": [
    "val z= if( x<= 100) {10} else {\"Hello\"}  //Union Type \"Any type\""
   ]
  },
  {
   "cell_type": "code",
   "execution_count": 10,
   "id": "18931954",
   "metadata": {},
   "outputs": [
    {
     "name": "stderr",
     "output_type": "stream",
     "text": [
      "cmd10.sc:1: type mismatch;\n",
      " found   : String(\"Hello\")\n",
      " required: Int\n",
      "val a: Int = if( x<= 100) {10} else {\"Hello\"}  //NOT OK\n",
      "                                     ^Compilation Failed"
     ]
    },
    {
     "ename": "",
     "evalue": "",
     "output_type": "error",
     "traceback": [
      "Compilation Failed"
     ]
    }
   ],
   "source": [
    "// BUTT this will be error\n",
    "val a: Int = if( x<= 100) {10} else {\"Hello\"}  //NOT OK"
   ]
  },
  {
   "cell_type": "code",
   "execution_count": 11,
   "id": "ed6fff5e",
   "metadata": {},
   "outputs": [
    {
     "data": {
      "text/plain": [
       "\u001b[36mb\u001b[39m: \u001b[32mInt\u001b[39m = \u001b[32m-10\u001b[39m"
      ]
     },
     "execution_count": 11,
     "metadata": {},
     "output_type": "execute_result"
    }
   ],
   "source": [
    "//this is best practice to declare return type and not use union/unit types\n",
    "val b: Int = if( x<= 100) {10} else {-10}  "
   ]
  },
  {
   "cell_type": "code",
   "execution_count": 14,
   "id": "27366efd",
   "metadata": {},
   "outputs": [
    {
     "data": {
      "text/plain": [
       "\u001b[36mw\u001b[39m: \u001b[32mInt\u001b[39m = \u001b[32m-10\u001b[39m\r\n",
       "\u001b[36mk\u001b[39m: \u001b[32mInt\u001b[39m = \u001b[32m0\u001b[39m"
      ]
     },
     "execution_count": 14,
     "metadata": {},
     "output_type": "execute_result"
    }
   ],
   "source": [
    "//Compount Expressions -- sequential composition \n",
    "\n",
    "val w = {\n",
    "    10; //expression 1 followed by\n",
    "    20; //expression 2\n",
    "    x; //then expression 3\n",
    "    x+10; //expresssion 4\n",
    "    -10; //expression 5\n",
    "}\n",
    "\n",
    "//the whole thing evaluates to the last expression!\n",
    "\n",
    "\n",
    "\n",
    "//why would we do this!? usually for an example like this:\n",
    "val k= {\n",
    "    val ww= 10;\n",
    "    val zz= ww-10;\n",
    "    zz //so it evaluates to whatever zz is, so in this case 0 \n",
    "}"
   ]
  },
  {
   "cell_type": "code",
   "execution_count": 15,
   "id": "238c43cf",
   "metadata": {},
   "outputs": [
    {
     "data": {
      "text/plain": [
       "\u001b[36mm\u001b[39m: \u001b[32mInt\u001b[39m = \u001b[32m0\u001b[39m\r\n",
       "\u001b[36mn\u001b[39m: \u001b[32mInt\u001b[39m = \u001b[32m0\u001b[39m"
      ]
     },
     "execution_count": 15,
     "metadata": {},
     "output_type": "execute_result"
    }
   ],
   "source": [
    "//scala has semicolon inference\n",
    "//so both of these work\n",
    "val m= {\n",
    "    val ww= 10\n",
    "    val zz= ww-10\n",
    "    zz \n",
    "}\n",
    "val n= {\n",
    "    val ww= 10; val zz= ww-10; zz; \n",
    "}"
   ]
  },
  {
   "cell_type": "code",
   "execution_count": 15,
   "id": "43a18b0d",
   "metadata": {},
   "outputs": [
    {
     "name": "stderr",
     "output_type": "stream",
     "text": [
      "cmd15.sc:7: not found: value userimput1\n",
      "    aa= aa+userimput1;\n",
      "           ^Compilation Failed"
     ]
    },
    {
     "ename": "",
     "evalue": "",
     "output_type": "error",
     "traceback": [
      "Compilation Failed"
     ]
    }
   ],
   "source": [
    "//another reason you'd do this is for side effect \n",
    "var aa=10\n",
    "val userinput1= 12\n",
    "val userinput2= 15\n",
    "val p= {\n",
    "    aa= aa+userimput1; //this is \"type unit\"\n",
    "    println(aa) //prpintln is always return tpye unit\n",
    "    aa= aa + userinput2 +1; \n",
    "    aa //this is type int so the entire expression evaluates to int\n",
    "}"
   ]
  },
  {
   "cell_type": "code",
   "execution_count": 16,
   "id": "9b6bab04",
   "metadata": {},
   "outputs": [
    {
     "name": "stdout",
     "output_type": "stream",
     "text": [
      "10\n"
     ]
    },
    {
     "data": {
      "text/html": [
       "<div class=\"jp-RenderedText\">\n",
       "<pre><code><span style=\"color: rgb(0, 187, 187)\"><span class=\"ansi-cyan-fg\">r</span></span>: <span style=\"color: rgb(0, 187, 0)\"><span class=\"ansi-green-fg\">Int</span></span> = <span style=\"color: rgb(0, 187, 0)\"><span class=\"ansi-green-fg\">10</span></span></code></pre>\n",
       "</div>"
      ],
      "text/plain": [
       "\u001b[36mr\u001b[39m: \u001b[32mInt\u001b[39m = \u001b[32m10\u001b[39m"
      ]
     },
     "metadata": {},
     "output_type": "display_data"
    }
   ],
   "source": [
    "var r= 10\n",
    "val u= {\n",
    "    -10; //int\n",
    "    println(r) //unit\n",
    "    \n",
    "    \n",
    "}\n"
   ]
  },
  {
   "cell_type": "code",
   "execution_count": 18,
   "id": "eb5e0095",
   "metadata": {},
   "outputs": [
    {
     "data": {
      "text/plain": [
       "defined \u001b[32mfunction\u001b[39m \u001b[36mfoo\u001b[39m"
      ]
     },
     "execution_count": 18,
     "metadata": {},
     "output_type": "execute_result"
    }
   ],
   "source": [
    "def foo (x: Int): Int= {\n",
    "    var aa: Int =10; //int\n",
    "    aa = aa+1; //unit \n",
    "    println(aa) //println return tpyer unit\n",
    "    aa //int\n",
    "}\n",
    "\n",
    "//all assignment statements are type unit!!"
   ]
  },
  {
   "cell_type": "code",
   "execution_count": 19,
   "id": "e7dad543",
   "metadata": {},
   "outputs": [
    {
     "data": {
      "text/plain": [
       "defined \u001b[32mfunction\u001b[39m \u001b[36mbar\u001b[39m"
      ]
     },
     "execution_count": 19,
     "metadata": {},
     "output_type": "execute_result"
    }
   ],
   "source": [
    "def bar (x: Int) : Int = {\n",
    "    //if x<0 then return -1\n",
    "    //print the number \n",
    "    //return the number +1\n",
    "    \n",
    "    if (x< 0){\n",
    "        return -1\n",
    "    }\n",
    "    println(x)\n",
    "    return x+1\n",
    "}"
   ]
  },
  {
   "cell_type": "code",
   "execution_count": 20,
   "id": "36efc844",
   "metadata": {},
   "outputs": [
    {
     "data": {
      "text/plain": [
       "defined \u001b[32mfunction\u001b[39m \u001b[36mfunctionalbar\u001b[39m"
      ]
     },
     "execution_count": 20,
     "metadata": {},
     "output_type": "execute_result"
    }
   ],
   "source": [
    "//better functional programming\n",
    "def functionalbar (x: Int) : Int = {\n",
    "    //if x<0 then return -1\n",
    "    //print the number \n",
    "    //return the number +1\n",
    "    \n",
    "    if (x< 0){\n",
    "        -1\n",
    "    } else {\n",
    "        println(x)\n",
    "        x+1    \n",
    "    }\n",
    "\n",
    "}\n",
    "\n",
    "//so unsing implicit return is better and results in less errors"
   ]
  },
  {
   "cell_type": "code",
   "execution_count": 21,
   "id": "d0598588",
   "metadata": {},
   "outputs": [
    {
     "data": {
      "text/plain": [
       "defined \u001b[32mfunction\u001b[39m \u001b[36mbadbar\u001b[39m"
      ]
     },
     "execution_count": 21,
     "metadata": {},
     "output_type": "execute_result"
    }
   ],
   "source": [
    "//BAD RETURN\n",
    "def badbar (x: Int) : Int = {\n",
    "    \n",
    "    if (x< 0){\n",
    "        -1\n",
    "    }\n",
    "    println(x)\n",
    "    x+1    //this always returns x+1 because the if part doesnt return antthing \n",
    "\n",
    "\n",
    "}\n",
    "\n",
    "//RETURN IS NOT OPTIONAL!! GEEKS FOR GEEKS IS WRONG!"
   ]
  },
  {
   "cell_type": "markdown",
   "id": "d70982fa",
   "metadata": {},
   "source": [
    "1. no more loops\n",
    "2. avaoid mutables in funcitons so no vars\n",
    "---\n",
    "(tail?) recursion (least preferred)\n",
    "functiors (most prefered)-- map/reduce/filter/zip/comprehension/..."
   ]
  },
  {
   "cell_type": "code",
   "execution_count": 22,
   "id": "84e64095",
   "metadata": {},
   "outputs": [
    {
     "data": {
      "text/plain": [
       "defined \u001b[32mfunction\u001b[39m \u001b[36mfactorial\u001b[39m"
      ]
     },
     "execution_count": 22,
     "metadata": {},
     "output_type": "execute_result"
    }
   ],
   "source": [
    "def factorial(x: Int): Int= { //recursive version \n",
    "    if (x <=0) {1}\n",
    "    else{\n",
    "        x*factorial(x-1) //dont need any vars\n",
    "    }\n",
    "}"
   ]
  },
  {
   "cell_type": "code",
   "execution_count": 23,
   "id": "19f8fdbe",
   "metadata": {},
   "outputs": [
    {
     "data": {
      "text/plain": [
       "defined \u001b[32mfunction\u001b[39m \u001b[36mfactloop\u001b[39m"
      ]
     },
     "execution_count": 23,
     "metadata": {},
     "output_type": "execute_result"
    }
   ],
   "source": [
    "def factloop(x:Int):Int = {\n",
    "    var prod=1; //need accumulator that is var \n",
    "    for (i <- 1 to x){\n",
    "        prod =prod*i\n",
    "    }\n",
    "    prod\n",
    "    \n",
    "}"
   ]
  },
  {
   "cell_type": "code",
   "execution_count": 24,
   "id": "055fadbf",
   "metadata": {},
   "outputs": [
    {
     "data": {
      "text/plain": [
       "defined \u001b[32mfunction\u001b[39m \u001b[36misPalidrome\u001b[39m"
      ]
     },
     "execution_count": 24,
     "metadata": {},
     "output_type": "execute_result"
    }
   ],
   "source": [
    "def isPalidrome(x:String): Boolean= {\n",
    "    val n=x.length\n",
    "    for (i<- 0 to n/2){\n",
    "        if (x(i) != x(n-i-1)) return false //early brreak\n",
    "    }\n",
    "    true\n",
    "}\n",
    "///imperative programming"
   ]
  },
  {
   "cell_type": "code",
   "execution_count": 25,
   "id": "ca6b8819",
   "metadata": {},
   "outputs": [
    {
     "data": {
      "text/plain": [
       "defined \u001b[32mfunction\u001b[39m \u001b[36mrecPal\u001b[39m"
      ]
     },
     "execution_count": 25,
     "metadata": {},
     "output_type": "execute_result"
    }
   ],
   "source": [
    "def recPal (x: String) : Boolean = {\n",
    "    val n=x.length\n",
    "    if(n<= 1) true\n",
    "    else {\n",
    "        //check if the first and last char are same\n",
    "        if( x(0) == x(n-1)){\n",
    "            recPal(x.substring(1,n-1))\n",
    "        }\n",
    "        else {\n",
    "            false\n",
    "        }\n",
    "    }\n",
    "}\n",
    "//more mathmatical"
   ]
  },
  {
   "cell_type": "code",
   "execution_count": null,
   "id": "5610a89a",
   "metadata": {},
   "outputs": [],
   "source": []
  }
 ],
 "metadata": {
  "kernelspec": {
   "display_name": "Scala",
   "language": "scala",
   "name": "scala"
  },
  "language_info": {
   "codemirror_mode": "text/x-scala",
   "file_extension": ".sc",
   "mimetype": "text/x-scala",
   "name": "scala",
   "nbconvert_exporter": "script",
   "version": "2.13.4"
  }
 },
 "nbformat": 4,
 "nbformat_minor": 5
}
