{
 "cells": [
  {
   "cell_type": "markdown",
   "id": "166651f9",
   "metadata": {},
   "source": [
    "### Inductive definations= how to define data recursively (bottom up) \n",
    "-we call these inductive data types or sometimes called recursive definations"
   ]
  },
  {
   "cell_type": "code",
   "execution_count": 0,
   "id": "8b2cb262",
   "metadata": {},
   "outputs": [],
   "source": [
    "//Natural numbers {0,1,2,3,4,...}\n",
    "\n",
    "//inductive defination of natural numbers, lists, trees, programs \n",
    "\n"
   ]
  },
  {
   "cell_type": "markdown",
   "id": "51521870",
   "metadata": {},
   "source": [
    "NatNum => Zero \n",
    "\n",
    "NatNum => Succ( NatNum )\n",
    "\n",
    "//this might be called an inductive type defination for NatNum "
   ]
  },
  {
   "cell_type": "code",
   "execution_count": 5,
   "id": "491265b5",
   "metadata": {},
   "outputs": [
    {
     "data": {
      "text/plain": [
       "defined \u001b[32mclass\u001b[39m \u001b[36mNatNum\u001b[39m"
      ]
     },
     "execution_count": 5,
     "metadata": {},
     "output_type": "execute_result"
    }
   ],
   "source": [
    "abstract class NatNum //a class with objects or methods that may have not been defined yet\n",
    "//we make it abstract class becasue we want to inherit from it\n",
    "//we will never create and object of it, but we can inherit from it"
   ]
  },
  {
   "cell_type": "code",
   "execution_count": 10,
   "id": "4c9f609a",
   "metadata": {},
   "outputs": [
    {
     "data": {
      "text/plain": [
       "defined \u001b[32mtrait\u001b[39m \u001b[36mNatNum\u001b[39m\r\n",
       "defined \u001b[32mclass\u001b[39m \u001b[36mZero\u001b[39m\r\n",
       "defined \u001b[32mclass\u001b[39m \u001b[36mSucc\u001b[39m"
      ]
     },
     "execution_count": 10,
     "metadata": {},
     "output_type": "execute_result"
    }
   ],
   "source": [
    "sealed trait NatNum   //by defining as sealed it makes it so that other files cannot inherit from it \n",
    "//the rules were\n",
    "//NatNum => Zero \n",
    "//NatNum => Succ( NatNum )\n",
    "//each of the rules become a case class \n",
    "//it is convention to use capital\n",
    "\n",
    "\n",
    "case class Zero() extends NatNum //this is the rule NatNum => Zero\n",
    "//since there are no arguments we use () to show that\n",
    "\n",
    "case class Succ( n:NatNum ) extends NatNum //this is NatNum => Succ( NatNum )"
   ]
  },
  {
   "cell_type": "code",
   "execution_count": 11,
   "id": "538d9474",
   "metadata": {},
   "outputs": [
    {
     "data": {
      "text/plain": [
       "\u001b[36mz\u001b[39m: \u001b[32mZero\u001b[39m = Zero()\r\n",
       "\u001b[36mone\u001b[39m: \u001b[32mSucc\u001b[39m = \u001b[33mSucc\u001b[39m(n = Zero())\r\n",
       "\u001b[36mtwo\u001b[39m: \u001b[32mSucc\u001b[39m = \u001b[33mSucc\u001b[39m(n = \u001b[33mSucc\u001b[39m(n = Zero()))"
      ]
     },
     "execution_count": 11,
     "metadata": {},
     "output_type": "execute_result"
    }
   ],
   "source": [
    "val z= Zero()\n",
    "val one= Succ(Zero())\n",
    "val two= Succ(Succ(Zero()))"
   ]
  },
  {
   "cell_type": "code",
   "execution_count": null,
   "id": "3180b2b6",
   "metadata": {},
   "outputs": [],
   "source": []
  },
  {
   "cell_type": "code",
   "execution_count": 12,
   "id": "297366fa",
   "metadata": {},
   "outputs": [
    {
     "data": {
      "text/plain": [
       "defined \u001b[32mclass\u001b[39m \u001b[36mMyClass\u001b[39m"
      ]
     },
     "execution_count": 12,
     "metadata": {},
     "output_type": "execute_result"
    }
   ],
   "source": [
    "class MyClass (j:Int) {\n",
    "    val toString: String={} //we would have to define to string but if we use case class we \n",
    "}"
   ]
  },
  {
   "cell_type": "code",
   "execution_count": 13,
   "id": "e86353c9",
   "metadata": {},
   "outputs": [
    {
     "data": {
      "text/plain": [
       "\u001b[36mmc\u001b[39m: \u001b[32mMyClass\u001b[39m = ammonite.$sess.cmd11$Helper$MyClass@3d726238"
      ]
     },
     "execution_count": 13,
     "metadata": {},
     "output_type": "execute_result"
    }
   ],
   "source": [
    "val mc = new MyClass(10)"
   ]
  },
  {
   "cell_type": "code",
   "execution_count": 14,
   "id": "520434e0",
   "metadata": {},
   "outputs": [
    {
     "data": {
      "text/plain": [
       "\u001b[36mother\u001b[39m: \u001b[32mZero\u001b[39m = Zero()"
      ]
     },
     "execution_count": 14,
     "metadata": {},
     "output_type": "execute_result"
    }
   ],
   "source": [
    "val other= new Zero()"
   ]
  },
  {
   "cell_type": "code",
   "execution_count": null,
   "id": "31c4ac2f",
   "metadata": {},
   "outputs": [],
   "source": []
  }
 ],
 "metadata": {
  "kernelspec": {
   "display_name": "Scala",
   "language": "scala",
   "name": "scala"
  },
  "language_info": {
   "codemirror_mode": "text/x-scala",
   "file_extension": ".sc",
   "mimetype": "text/x-scala",
   "name": "scala",
   "nbconvert_exporter": "script",
   "version": "2.13.4"
  }
 },
 "nbformat": 4,
 "nbformat_minor": 5
}
