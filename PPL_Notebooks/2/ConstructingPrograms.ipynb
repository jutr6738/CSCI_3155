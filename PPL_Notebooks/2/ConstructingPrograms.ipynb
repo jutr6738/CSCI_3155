{
 "cells": [
  {
   "cell_type": "markdown",
   "metadata": {},
   "source": [
    "## Constructing Programs\n",
    "\n",
    "\n",
    "In this chapter, we will take a small step towards understanding how programs are put together: a topic that will keep us busy throughout this class. It is important, as we will see in a minute, because many students are confused about certain aspects of the Scala language given their background in languages such as C/C++ and Python. However, the insights we will develop will go beyond just Scala and apply back to many programming languages. \n",
    "\n",
    "Let us start with a simple scala expression."
   ]
  },
  {
   "cell_type": "code",
   "execution_count": 3,
   "metadata": {},
   "outputs": [
    {
     "data": {
      "text/plain": [
       "\u001b[36mx\u001b[39m: \u001b[32mInt\u001b[39m = \u001b[32m9\u001b[39m"
      ]
     },
     "execution_count": 3,
     "metadata": {},
     "output_type": "execute_result"
    }
   ],
   "source": [
    "val x = (1 + 2) * 3 "
   ]
  },
  {
   "cell_type": "markdown",
   "metadata": {},
   "source": [
    "What does the program above do?\n",
    "  * It declares an immutable called `x`\n",
    "  * It assigns the value of `x` to the result of evaluating `(1+2)*3`, which is `9`.\n",
    "\n",
    "Let's try a few more below.\n",
    "\n",
    "## Conditional Expressions"
   ]
  },
  {
   "cell_type": "code",
   "execution_count": 4,
   "metadata": {},
   "outputs": [
    {
     "data": {
      "text/plain": [
       "\u001b[36my\u001b[39m: \u001b[32mInt\u001b[39m = \u001b[32m35\u001b[39m"
      ]
     },
     "execution_count": 4,
     "metadata": {},
     "output_type": "execute_result"
    }
   ],
   "source": [
    "val y = if (10 >= 15) 25 else 35"
   ]
  },
  {
   "cell_type": "markdown",
   "metadata": {},
   "source": [
    "The above expression is a _conditional expression_. It has the form: \n",
    "\n",
    "~~~\n",
    "if (boolean condition)\n",
    "   ... then subexpression ...\n",
    "else \n",
    "   ... else subexpression ....\n",
    "~~~\n",
    "\n",
    "What does it evaluate to? \n",
    "  * If the `boolean condition` evaluates to `true` then the whole expression evaluates to whatever the `then subexpression` evaluates to.\n",
    "  * If the `boolean condition` evaluates to `false` then the whole subexpression evaluates to whatever the `else subexpression` evaluates to.\n",
    "  \n",
    "Let's keep going in this vein by taking a look at the expression below.\n",
    "\n",
    "## Compound Expression"
   ]
  },
  {
   "cell_type": "code",
   "execution_count": 5,
   "metadata": {},
   "outputs": [
    {
     "data": {
      "text/plain": [
       "\u001b[36my\u001b[39m: \u001b[32mInt\u001b[39m = \u001b[32m163\u001b[39m"
      ]
     },
     "execution_count": 5,
     "metadata": {},
     "output_type": "execute_result"
    }
   ],
   "source": [
    "val y = { \n",
    "    10 + 12 ;\n",
    "    14 + 15 ;\n",
    "    25 + 34 ; \n",
    "    (16 + 18)* 12 - 245\n",
    "}"
   ]
  },
  {
   "cell_type": "markdown",
   "metadata": {},
   "source": [
    "This is called a `compound expression`, it is of the form: \n",
    "\n",
    "~~~\n",
    "expression 1;\n",
    "expression 2;\n",
    "expression 3;\n",
    "expression 4;\n",
    "expression ...;\n",
    "expression n\n",
    "~~~\n",
    "\n",
    "The behavior is as follows: \n",
    "  * Scala evaluates the expressions in sequence starting from `expression 1` all the way to `expression n`.\n",
    "  * The value of the entire compound expression is the same as that of the very last expression in the sequence.\n",
    "  \n",
    "Let us tackle the obvious question that arises in our minds:\n",
    "\n",
    "_Why bother with the first $n-1$ expressions if `expression n` is the only one whose values we care about?_\n",
    "\n",
    "The answer is two fold:\n",
    "\n",
    "  * First,  we may have expressions declare identifiers that can be used further down the line.\n",
    "  * Second, we may have _side effects_.\n",
    " \n",
    "Let us see an example, where earlier expressions in a compound expression declare something that a later expression can use. This will later be called a ``let binding''."
   ]
  },
  {
   "cell_type": "code",
   "execution_count": 1,
   "metadata": {},
   "outputs": [
    {
     "data": {
      "text/plain": [
       "\u001b[36mreturnedValue\u001b[39m: \u001b[32mInt\u001b[39m = \u001b[32m10\u001b[39m"
      ]
     },
     "execution_count": 1,
     "metadata": {},
     "output_type": "execute_result"
    }
   ],
   "source": [
    "val returnedValue = { \n",
    "    val x = 10;\n",
    "    val y = 20 - x; // x has been declared\n",
    "    val z = x + y - 10; // z uses x and y\n",
    "      x - y + z // The entire expression evaluates to this\n",
    "}"
   ]
  },
  {
   "cell_type": "markdown",
   "metadata": {},
   "source": [
    "Now we shall see an example, where the expressions in a sequence can have \"side effects\". We will study side effects in further detail down the line. For now, we note that a side effect can include printing a message, changing the value of a mutable, reading input from the user and many other things like reading from the network or generating a pseudorandom number. "
   ]
  },
  {
   "cell_type": "code",
   "execution_count": 2,
   "metadata": {},
   "outputs": [
    {
     "name": "stdout",
     "output_type": "stream",
     "text": [
      "Hello!\n",
      "Enter your name: julia\n"
     ]
    },
    {
     "data": {
      "text/html": [
       "<div class=\"jp-RenderedText\">\n",
       "<pre><code><span style=\"color: rgb(0, 187, 187)\"><span class=\"ansi-cyan-fg\">x</span></span>: <span style=\"color: rgb(0, 187, 0)\"><span class=\"ansi-green-fg\">Int</span></span> = <style>@keyframes fadein { from { opacity: 0; } to { opacity: 1; } }</style><span style=\"animation: fadein 2s;\"><span style=\"color: rgb(0, 187, 0)\"><span class=\"ansi-green-fg\">26</span></span></span>\r\n",
       "<span style=\"color: rgb(0, 187, 187)\"><span class=\"ansi-cyan-fg\">sideEffect</span></span>: <span style=\"color: rgb(0, 187, 0)\"><span class=\"ansi-green-fg\">String</span></span> = <span style=\"color: rgb(0, 187, 0)\"><span class=\"ansi-green-fg\">&quot;julia25&quot;</span></span></code></pre>\n",
       "</div>"
      ],
      "text/plain": [
       "\u001b[36mx\u001b[39m: \u001b[32mInt\u001b[39m = \u001b[32m26\u001b[39m\r\n",
       "\u001b[36msideEffect\u001b[39m: \u001b[32mString\u001b[39m = \u001b[32m\"julia25\"\u001b[39m"
      ]
     },
     "metadata": {},
     "output_type": "display_data"
    }
   ],
   "source": [
    "var x = 10\n",
    "\n",
    "val sideEffect = {\n",
    "    println(\"Hello!\"); // Printing is a side effect: it shows a message on the screen\n",
    "    x = 25; // changing the value of a mutable var is a side effect\n",
    "    print(\"Enter your name: \"); // printing: side effect\n",
    "    val myname = scala.io.StdIn.readLine(); // reading an input is a side effect\n",
    "    myname + x.toString\n",
    "}"
   ]
  },
  {
   "cell_type": "markdown",
   "metadata": {},
   "source": [
    "### SemiColons are Optional In Scala\n",
    "Scala has \"semicolon\" inference. This means that like C/C++ you can use semi-colons to separate various parts of a compound expression or simply not use semicolons, _provided you place different subexpressions on a new line_."
   ]
  },
  {
   "cell_type": "code",
   "execution_count": 3,
   "metadata": {},
   "outputs": [
    {
     "name": "stdout",
     "output_type": "stream",
     "text": [
      "Hello!\n",
      "Enter your name: jj\n"
     ]
    },
    {
     "data": {
      "text/plain": [
       "\u001b[36msideEffectNoSemiColons\u001b[39m: \u001b[32mString\u001b[39m = \u001b[32m\"jj26\"\u001b[39m"
      ]
     },
     "execution_count": 3,
     "metadata": {},
     "output_type": "execute_result"
    }
   ],
   "source": [
    "val sideEffectNoSemiColons = {\n",
    "    println(\"Hello!\") // scala is able to infer the semicolon here   \n",
    "    x = x + 1 // scala is able to infer the semicolon here   \n",
    "    // Semi colon below could be removed only if you place the two \n",
    "    // expressions in separate lines -- otherwise you get an error.\n",
    "    print(\"Enter your name: \"); val myname = scala.io.StdIn.readLine()\n",
    "    myname + x.toString\n",
    "}"
   ]
  },
  {
   "cell_type": "markdown",
   "metadata": {},
   "source": [
    "What about the curly braces? They are not needed. Go ahead and take them out to see what happens. Note that we strongly recommend curly braces for readability. \n",
    "\n",
    "### What do curly braces mean? \n",
    "\n",
    "Curly braces in scala  enclose an expression that can in turn be made up of subexpressions. It is used to define a _scope_ (we will study scope in a few weeks). If a declaration is made inside a curly brace, it goes out of scope after the closing brace is encountered. We will discuss this in further details later. For now, a curly brace is a nice means for enclosing an expression that\n",
    "\n",
    "\n",
    "Let's try and make sense of this expression below."
   ]
  },
  {
   "cell_type": "code",
   "execution_count": 23,
   "metadata": {},
   "outputs": [
    {
     "name": "stdout",
     "output_type": "stream",
     "text": [
      "The current value of x is : 26\n"
     ]
    },
    {
     "data": {
      "text/plain": [
       "\u001b[36my\u001b[39m: \u001b[32mInt\u001b[39m = \u001b[32m25\u001b[39m"
      ]
     },
     "execution_count": 23,
     "metadata": {},
     "output_type": "execute_result"
    }
   ],
   "source": [
    "val y = {\n",
    "    val z = 25\n",
    "    println (s\"The current value of x is : $x\") //Q: Which x are we referring to?\n",
    "    if (x <= z)\n",
    "      x \n",
    "    else\n",
    "      z\n",
    "}"
   ]
  },
  {
   "cell_type": "markdown",
   "metadata": {},
   "source": []
  }
 ],
 "metadata": {
  "kernelspec": {
   "display_name": "Scala",
   "language": "scala",
   "name": "scala"
  },
  "language_info": {
   "codemirror_mode": "text/x-scala",
   "file_extension": ".sc",
   "mimetype": "text/x-scala",
   "name": "scala",
   "nbconvert_exporter": "script",
   "version": "2.13.4"
  }
 },
 "nbformat": 4,
 "nbformat_minor": 2
}
