{
 "cells": [
  {
   "cell_type": "markdown",
   "metadata": {},
   "source": [
    "# Review 2 - Tail Recursion and Recursion in Lettuce"
   ]
  },
  {
   "cell_type": "markdown",
   "metadata": {},
   "source": [
    "## Topic 1- Tail Recursion\n",
    "### Recursive Functions.\n",
    "\n",
    "A function $f$ is defined recursively if the body of the definition refers back to $f$.\n",
    "- It has a base case or termination case\n",
    "- A recursive call\n",
    "- Preconditions: A precondition is a constraint that restricts what inputs can be used to call a function.  For instance, the `factorial` function has the precondition that its input must be non negative. In scala we can use the `require` keyword to specify a precondition.\n"
   ]
  },
  {
   "cell_type": "code",
   "execution_count": 1,
   "metadata": {},
   "outputs": [
    {
     "data": {
      "text/plain": [
       "defined \u001b[32mfunction\u001b[39m \u001b[36mfactorialWithPreconds\u001b[39m"
      ]
     },
     "execution_count": 1,
     "metadata": {},
     "output_type": "execute_result"
    }
   ],
   "source": [
    "def factorialWithPreconds(x: Int): Int = {\n",
    "    require(x >= 0) // This is a precondition\n",
    "    if (x == 0) {\n",
    "       1 // This is called the base case\n",
    "    } else { \n",
    "       x * factorialWithPreconds(x-1) // The recursion is here.   \n",
    "    }\n",
    "}"
   ]
  },
  {
   "cell_type": "code",
   "execution_count": 2,
   "metadata": {},
   "outputs": [
    {
     "data": {
      "text/plain": [
       "\u001b[36my\u001b[39m: \u001b[32mInt\u001b[39m = \u001b[32m2\u001b[39m"
      ]
     },
     "execution_count": 2,
     "metadata": {},
     "output_type": "execute_result"
    }
   ],
   "source": [
    "val y = factorialWithPreconds(2)"
   ]
  },
  {
   "cell_type": "markdown",
   "metadata": {},
   "source": [
    "### What is wrong with regular recursion?\n",
    "\n",
    "We know from computer systems classes as to how function calls are executed on a computer-\n",
    "\n",
    "- The system maintains a call stack with an `activation record` for each function call. \n",
    "- When a function is called, a new activation record is created for the called function that includes the return address (where in the program to return to when the call returns), the values of function call parameters and local variables to the function.\n",
    "- When a function returns, the control passes back to its caller at the return address stored in the stack.\n",
    "\n",
    "\n",
    "#### Example- Fibonacci Function\n",
    "\n",
    "Let us draw the tree for `fibonacci(4)`. \n",
    "\n",
    "<img src=\"http://www.cs.colorado.edu/~srirams/courses/csci3155-fall2018/pictures/fibonacci-tree-4.png\" width=\"75%\">\n",
    "    \n",
    "## Tail Calls\n",
    "\n",
    "There is a very special case where the activation records do not have to grow upon successive function calls. These are called *tail calls*.\n",
    "\n",
    "**Definition (Tail Call)** A function call `f(...)` is said to be a tail call if \n",
    "- (a) no further computation is performed when returning from `f` \n",
    "- (b) the result is passed back to the caller (without any modifications)."
   ]
  },
  {
   "cell_type": "markdown",
   "metadata": {},
   "source": [
    "#### Example\n",
    "\n",
    "Complete below function which calculates sum of first 'N' natural numbers. Natural numbers start from 1,2...N.\n",
    "\n"
   ]
  },
  {
   "cell_type": "code",
   "execution_count": 3,
   "metadata": {},
   "outputs": [
    {
     "data": {
      "text/plain": [
       "\u001b[32mimport \u001b[39m\u001b[36mscala.annotation.tailrec\n",
       "\n",
       "\u001b[39m\r\n",
       "defined \u001b[32mfunction\u001b[39m \u001b[36msumOfNumbersTailRec\u001b[39m"
      ]
     },
     "execution_count": 3,
     "metadata": {},
     "output_type": "execute_result"
    }
   ],
   "source": [
    "import scala.annotation.tailrec\n",
    "\n",
    "@tailrec\n",
    "def sumOfNumbersTailRec(n: Int, accum:Int = 0): Int = {\n",
    "    // Complete the missing portions in this function\n",
    "    if (n <= 0) { accum }\n",
    "    else {\n",
    "        sumOfNumbersTailRec(n-1, accum+n)\n",
    "    }\n",
    "}"
   ]
  },
  {
   "cell_type": "code",
   "execution_count": 4,
   "metadata": {},
   "outputs": [
    {
     "data": {
      "text/plain": [
       "\u001b[36mnum1\u001b[39m: \u001b[32mInt\u001b[39m = \u001b[32m10\u001b[39m\r\n",
       "\u001b[36mnum2\u001b[39m: \u001b[32mInt\u001b[39m = \u001b[32m5\u001b[39m"
      ]
     },
     "execution_count": 4,
     "metadata": {},
     "output_type": "execute_result"
    }
   ],
   "source": [
    "val num1 = 10\n",
    "val num2 = 5\n",
    "assert(sumOfNumbersTailRec(num1)==55, \"Failed to return 55\") // 55 is the correct answer\n",
    "assert(sumOfNumbersTailRec(num2)==15, \"Failed to return 15\") // 15 is the correct answer"
   ]
  },
  {
   "cell_type": "markdown",
   "metadata": {},
   "source": [
    "## Exercise 1\n",
    "\n",
    "You are given a non recursive function to check if a string is a palindrome. Convert this function to it's tail recursive version."
   ]
  },
  {
   "cell_type": "code",
   "execution_count": 5,
   "metadata": {},
   "outputs": [
    {
     "data": {
      "text/plain": [
       "defined \u001b[32mfunction\u001b[39m \u001b[36mcheckPalindrome\u001b[39m"
      ]
     },
     "execution_count": 5,
     "metadata": {},
     "output_type": "execute_result"
    }
   ],
   "source": [
    "def checkPalindrome(s: String): Boolean = {\n",
    "    var start: Int = 0\n",
    "    var end: Int = s.length-1\n",
    "    \n",
    "    while (start < end){\n",
    "        if (s(start) != s(end)) return false\n",
    "        start += 1\n",
    "        end -= 1\n",
    "    }\n",
    "    return true\n",
    "}"
   ]
  },
  {
   "cell_type": "code",
   "execution_count": null,
   "metadata": {},
   "outputs": [],
   "source": [
    "// Complete this tail recursive function\n",
    "import scala.annotation.tailrec\n",
    "\n",
    "@tailrec\n",
    "def checkPalindromeTailRec(s:String, start:Int, end:Int): Boolean = {\n",
    "    \n",
    "    // Write your code here\n",
    "    ???\n",
    "}"
   ]
  },
  {
   "cell_type": "code",
   "execution_count": null,
   "metadata": {},
   "outputs": [],
   "source": [
    "val s1 = \"abba\"; val s2 = \"scala\"; val s3 = \"malayalam\"; val s4 = \"aabb\"\n",
    "assert(checkPalindromeTailRec(s1, 0, s1.length - 1)==true, s\"Failed. $s1 is a palindrome\") // Palindrome\n",
    "assert(checkPalindromeTailRec(s2, 0, s2.length - 1)==false, s\"Failed. $s2 is not a palindrome\") // not palindrome\n",
    "assert(checkPalindromeTailRec(s3, 0, s3.length - 1)==true, s\"Failed. $s3 is a palindrome\") // palindrome\n",
    "assert(checkPalindromeTailRec(s4, 0, s4.length - 1)==false, s\"Failed. $s4 is not a palindrome\") // not palindrome"
   ]
  },
  {
   "cell_type": "markdown",
   "metadata": {},
   "source": [
    "## Exercise 2\n",
    "From the scala functions below, find all the tail recursive functions"
   ]
  },
  {
   "cell_type": "code",
   "execution_count": 8,
   "metadata": {},
   "outputs": [
    {
     "data": {
      "text/plain": [
       "defined \u001b[32mfunction\u001b[39m \u001b[36mfun1\u001b[39m\r\n",
       "defined \u001b[32mfunction\u001b[39m \u001b[36mfun2\u001b[39m\r\n",
       "defined \u001b[32mfunction\u001b[39m \u001b[36mfun3\u001b[39m\r\n",
       "defined \u001b[32mfunction\u001b[39m \u001b[36mfun4\u001b[39m"
      ]
     },
     "execution_count": 8,
     "metadata": {},
     "output_type": "execute_result"
    }
   ],
   "source": [
    "//option 1-- NOT TAIL\n",
    "\n",
    "def fun1(x: Int): Int = {\n",
    "    if (x <= 1)  1\n",
    "    else fun1(x - fun1(10))\n",
    "}\n",
    "\n",
    "// option 2 -- ONLY TAIL \n",
    "\n",
    "def fun2(x: Int, y: Int): Int = {\n",
    "    if (x + y <= 1)  y\n",
    "    else fun2(x - 2 , y + 1)  \n",
    "}\n",
    "\n",
    "// option 3--NOT TAIL\n",
    "\n",
    "def fun3(x: Int, y: Int): Int = {\n",
    "    if (x + y <= 1)  y\n",
    "    else fun3(x - 2 , y + 1) - fun3(x - 3 , y + 2)\n",
    "}\n",
    "\n",
    "// option 4--NOT TAIL\n",
    "\n",
    "def fun4(x: Int, y: Int, z: Int): Int = {\n",
    "    if (z <= 1)  x - y\n",
    "    else {\n",
    "          if (x == y)  fun4( x, y+2, z - 1)\n",
    "          else fun4( x-2, y-2, fun4(4,4,4) )\n",
    "    }\n",
    "}\n"
   ]
  },
  {
   "cell_type": "markdown",
   "metadata": {},
   "source": [
    "# Topic 2- Recurion in Lettuce\n",
    "### Why do we need special handling for recursion?\n",
    "\n",
    "If we attempted to define a function such as factorial: \n",
    "\n",
    "~~~\n",
    "let fact = function (x) \n",
    "               if (x <= 0) \n",
    "               then 1\n",
    "               else x * fact(x-1)\n",
    "  in \n",
    "    fact(20)\n",
    "~~~\n",
    "\n",
    "This will lead to a problem due to the way we have been handling the `let` binding.\n",
    "\n",
    "Recall that to evaluate a let binding\n",
    "\n",
    "~~~\n",
    "let x = <def_expr> in <body_expr>\n",
    "~~~\n",
    "\n",
    "under an environment $\\sigma$, we proceed in the following steps:\n",
    "- Evaluate `<def_expr>` under the environment $\\sigma$. Let $v$ be the value.\n",
    "- Evaluate `<body_expr>` under the environment $\\sigma[x \\mapsto v]$.\n",
    "\n",
    "The problem is that the identifier $x$ that is being defined is itself not in scope when we are evaluatating `<def_expr>`. The interpreter tries to look up the identifier `fact` and finds that it is not part of the environment.\n",
    "\n",
    "### Handling Recursion\n",
    "\n",
    "To handle this, we will need to treat recursive definitions different from regular definitions.\n",
    "\n",
    "Thus in our new version, we will use a `let rec` construct that tells us that whatever we are going to define is going to be recursive. \n",
    "\n",
    "~~~\n",
    "let rec fact = function (x) \n",
    "               if (x <= 0) \n",
    "               then 1\n",
    "               else x * fact(x - 1) \n",
    "\n",
    "in \n",
    "    fact(10)\n",
    "~~~\n",
    "\n",
    "The `let rec` construct is very similar to a let binding but with one big difference: the defining expression for a let rec has to be a function. We will not allow recursive definitions that are not functions. For instance: \n",
    "\n",
    "~~~\n",
    "let rec x = 1 + x\n",
    "~~~\n",
    "\n",
    "makes no sense at all, and is disallowed.\n",
    "\n",
    "Therefore, we will extend Lettuce with the construct\n",
    "\n",
    "~~~\n",
    "let rec <function_name_identifier> = function (<param_identifier>)\n",
    "                                         function_body_expr\n",
    "                                  in \n",
    "                         body_expr\n",
    "~~~\n",
    "Let us extend the grammar of a stripped down version:\n",
    "\n",
    "\n",
    "$$\\begin{array}{rcll}\n",
    "\\mathbf{Program} & \\rightarrow & TopLevel(\\mathbf{Expr}) \\\\[5pt]\n",
    "\\mathbf{Expr} & \\rightarrow & Const(\\mathbf{Number}) \\\\\n",
    " & | & Ident(\\mathbf{Identifier}) \\\\\n",
    " & | & Plus(\\mathbf{Expr}, \\mathbf{Expr}) \\\\\n",
    " & | & Mult(\\mathbf{Expr}, \\mathbf{Expr}) \\\\\n",
    " & | & Eq(\\mathbf{Expr}, \\mathbf{Expr}) \\\\\n",
    " & | & Geq (\\mathbf{Expr}, \\mathbf{Expr}) \\\\\n",
    " & | & IfThenElse(\\mathbf{Expr}, \\mathbf{Expr}, \\mathbf{Expr}) & \\text{if (expr) then expr else expr} \\\\\n",
    " & | & Let( \\mathbf{Identifier}, \\mathbf{Expr}, \\mathbf{Expr}) & \\text{let identifier = expr in expr} \\\\\n",
    " & | & FunDef( \\mathbf{Identifier}, \\mathbf{Expr}) & \\text{function (identifier-formal-parameter) expr } \\\\ \n",
    " & | & FunCall(\\mathbf{Expr}, \\mathbf{Expr}) & \\text{function call - expr(expr)} \\\\\n",
    " & | & \\color{red}{LetRec(\\mathbf{Identifier}, \\mathbf{Identifier}, \\mathbf{Expr}, \\mathbf{Expr}) } & \\text{argument 1 - function name, argument 2 - parameter}\\\\\n",
    " &&& \\text{argument 3 - function definition expression, argument 4 - body expr} \\\\[5pt]\n",
    "\\end{array}$$\n",
    "\n",
    "For example, we would like to represent the concrete syntax\n",
    "\n",
    "~~~\n",
    "let rec f  = function (z) \n",
    "                if (0 >= z) then 1 else 1 + f(z - 1)\n",
    "    in f(10)\n",
    "~~~\n",
    "\n",
    "as the following abstract syntax:\n",
    "\n",
    "~~~\n",
    "LetRec(\"f\", \"z\", IfThenElse( \n",
    "                         Geq(Const(0), Ident(\"z\")),\n",
    "                         Const(1),\n",
    "                         Plus(Const(1), FunCall(Ident(\"f\"), Minus(Ident(\"z\"), Const(1))))\n",
    "                         ), \n",
    "                  FunCall(Ident(\"f\"), Const(10))\n",
    "         )\n",
    "~~~\n",
    "\n",
    "# Handling Recursion using Environments\n",
    "\n",
    "Another approach to handle recursion is to  directly write an interpreter that handles recursion. However, the problem is that if we are looking at a recursive call:\n",
    "\n",
    "~~~\n",
    "let rec f = function (x) <body of function expr> in <def. expr> \n",
    "~~~\n",
    "\n",
    "The main problem to solve is that inside `<body of function expr>` everytime we see a reference to `f`, we should\n",
    "be able to resolve it to the recursive call itself.  \n",
    "\n",
    "Let us consider how we handle a normal non-recursive definition\n",
    "\n",
    "~~~\n",
    "let f = function (x) <body of function expr> in <def. expr>\n",
    "~~~\n",
    "\n",
    "Under enviroment $\\sigma$, we evaluate the function body to a closure that stores three things: \n",
    "Closure(x, `<body of function expr>`, $\\sigma$).\n",
    "\n",
    "This does not work for a recursive function `f` since when we execute a recursive call to `f` in the\n",
    "`<body of function expr>`, it is not defined in the environment $\\sigma$.\n",
    "\n",
    "Therefore, the strategy is to extend $\\sigma$ into a new environent $\\color{red}{\\hat{\\sigma}}$ as follows:\n",
    "- $\\color{red}{\\hat{\\sigma}}(x) = \\sigma(x)$ for all identifiers $x \\not= f$.\n",
    "- $\\color{red}{\\hat{\\sigma}}(f) = \\texttt{Closure}(x, \\texttt{<body of function expr>}, \\color{red}{\\hat{\\sigma}})$\n",
    "\n",
    "I.e, $\\color{red}{\\hat{\\sigma}}$ defines the function $f$ as a closure and notice that \n",
    "that the environment of the closure is $\\color{red}{\\hat{\\sigma}}$  again! This means that if we call\n",
    "$f$ in the body of the function expr, we get the same environment $\\hat{\\sigma}$ with just the formal parameter\n",
    "$x$ updated. This gives us what we need to implement recursion: an environment that keeps defining $f$ to the\n",
    "appropriate function.\n",
    "\n",
    "\n",
    "Thus, we are going to reconsider environments from scratch?\n",
    "\n",
    "## Enviroments\n",
    "\n",
    "What is an environment? We have defined an environment as a function from identifiers to values denoted by them. What sort of environments have we encountered?\n",
    "- $\\texttt{EmptyEnv}$ - The empty environment: implemented as an empty map. Let us call this environment: $\\texttt{EmptyEnv}$.\n",
    "- $\\texttt{Extend}(\\sigma, x, v)$ - The environment $\\sigma[x \\mapsto v]$ which denotes a previously existing environment $\\sigma$ extended with the mapping $x \\mapsto v$ that associates identifier $x$ with value $v$. Let us call this operation \n",
    "$\\texttt{Extend}(\\sigma, x, v)$.\n",
    "\n",
    "Let us add a third kind of extension to support recursion:\n",
    "- $\\texttt{ExtendRec}(f, x, \\texttt{e}, \\sigma)$ which creates a new environment $\\color{red}{\\hat{\\sigma}}$ such that $\\color{red}{\\hat{\\sigma}}(x) = \\sigma(x)$ for all identifiers $x \\not= f$ and $\\color{red}{\\hat{\\sigma}}(f) = \\texttt{Closure}(x, \\texttt{<body of function expr>}, \\color{red}{\\hat{\\sigma}})$.\n",
    "\n",
    "\n",
    "\n"
   ]
  },
  {
   "cell_type": "markdown",
   "metadata": {},
   "source": [
    "## Exercise 3\n",
    "Consider the recursive function in lettuce\n",
    "\n",
    "~~~\n",
    "\n",
    "let rec f = function (x) { \n",
    "                   if (x <= 1) \n",
    "                   then x\n",
    "                   else x + f(x - 2)\n",
    "                    } in \n",
    "             f(20)\n",
    "\n",
    "~~~\n",
    "\n",
    "\n",
    "Let env denote the environment under which the subexpression f(20) is being evaluated. Select all the facts that are true about this environment.\n",
    "\n",
    "Let body denote the expression of the body of the function f: \"if (x<=1) ... else x + f(x-2)\".\n",
    "\n",
    "Note that we will write circular scopes as `ExtendRec(\"rec_fun_name\", \"formal_param_name\",  body_expression, old_environment)` where the argument names should be self-explanatory.\n",
    "\n",
    "\n",
    "Which of the fllowing options are correct?\n",
    "\n",
    "###### option 1--CORRECT\n",
    "- env is written `ExtendRec(\"f\", \"x\", body, EmptyEnvironment)`\n",
    "\n",
    "###### option 2--INCORRECT x is not a function\n",
    "- Looking up the identifier `\"x\"` in env yields `Closure(\"x\", body, env)`\n",
    "\n",
    "###### option 3--CORRECT\n",
    "- Looking up the identifier `\"f\"` in env yields `Closure(\"x\", body, env)`\n",
    "\n",
    "###### option 4--CORRECT x is not defind \n",
    "- The identifier `\"x\"` is not defined in the environment env.\n",
    "\n",
    "###### option 5 -- INCORRECT it should be f,x,body,emptyenv\n",
    "- env is written `ExtendRec(\"x\", \"f\", body, EmptyEnvironment)`\n",
    "\n",
    "###### option 6--INCORRECT wrong env, should be updated env\n",
    "- Looking up the identifier `\"f\"` in env yields `Closure(\"x\", body, EmptyEnvironment)`\n"
   ]
  },
  {
   "cell_type": "markdown",
   "metadata": {},
   "source": [
    "## Exercise 4\n",
    "\n",
    "Suppose we evaluate the following Lettuce expression starting with the empty environment.\n",
    "~~~\n",
    "let y = 20 in  (* let binding for y # 1 *)\n",
    "  let f = function (x) x + y in \n",
    "   let y = 10 in  (* let binding for y # 2 *) \n",
    "     let g = function (y) f(y) in \n",
    "        g(y)\n",
    "\n",
    "~~~\n",
    "\n",
    "Let env be the environment when the function call `g(y)` in the very last line is about to be executed. Match each of the questions below to the correct answer.\n",
    "\n",
    "This is already defined-\n",
    "~~~\n",
    "sealed trait Value\n",
    "case class NumValue(d: Double) extends Value\n",
    "case class BoolValue(b: Boolean) extends Value\n",
    "case class Closure(x: String, e: Expr, pi: Environment) extends Value\n",
    "~~~\n",
    "Comments are written within (* and *) are not part of the expression.\n",
    "```\n",
    "What does lookup(env, \"y\") yield? \n",
    "\n",
    "What does lookup(env, \"x\") yield? \n",
    "\n",
    "What does lookup(env, \"f\") yield? \n",
    "\n",
    "The body of the function f refers to identifier \"y\". What value will this identifier have if function f were called? \n",
    "\n",
    "What value does the entire program evaluate to? \n",
    "\n",
    "```"
   ]
  },
  {
   "cell_type": "markdown",
   "metadata": {},
   "source": [
    "- What does lookup(env, \"y\") yield? \n",
    "    - NumValue(10)\n",
    "\n",
    "- What does lookup(env, \"x\") yield? \n",
    "    - error\n",
    "\n",
    "- What does lookup(env, \"f\") yield? \n",
    "    - Closure(\"x\", x+y, y->20)\n",
    "\n",
    "- The body of the function f refers to identifier \"y\". What value will this identifier have if function f were called? \n",
    "    - NumValue(20) because at the time of function defination the value of y is 20 bc static scope\n",
    "\n",
    "- What value does the entire program evaluate to? \n",
    "    - NumValue(30)"
   ]
  },
  {
   "cell_type": "code",
   "execution_count": null,
   "metadata": {},
   "outputs": [],
   "source": []
  }
 ],
 "metadata": {
  "kernelspec": {
   "display_name": "Scala",
   "language": "scala",
   "name": "scala"
  },
  "language_info": {
   "codemirror_mode": "text/x-scala",
   "file_extension": ".sc",
   "mimetype": "text/x-scala",
   "name": "scala",
   "nbconvert_exporter": "script",
   "version": "2.13.4"
  }
 },
 "nbformat": 4,
 "nbformat_minor": 4
}
