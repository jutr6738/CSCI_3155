{
 "cells": [
  {
   "cell_type": "markdown",
   "metadata": {
    "nbgrader": {
     "checksum": "f4e5d8a3de0e64c6c546534a57ea82ec",
     "grade": false,
     "grade_id": "cell-0bf4d589af6d5f9c",
     "locked": true,
     "schema_version": 1,
     "solution": false
    }
   },
   "source": [
    "# Outline\n",
    "1. Review of inference rules\n",
    "2. Exercise: Evaluating expressions using inference rules\n",
    "3. Exercise: Inference Rules in simple derivatives"
   ]
  },
  {
   "cell_type": "markdown",
   "metadata": {},
   "source": [
    "## Review inference rules\n",
    "\n",
    "In the past few weeks, you've encountered a variety of formal inference rules of the form\n",
    "\n",
    "$$\\begin{array}{c}\n",
    "preconditions\\\\\n",
    "\\hline\n",
    "postconditions \\\\\n",
    "\\end{array}\\ (\\text{Rule Name})$$\n",
    "\n",
    "\n",
    "\n",
    "## Exercise: Check if an expression is \"well-formed\"\n",
    "\n",
    "We call an expression \"well-formed\" if all variables that appear in it are defind before being used.\n",
    "The inference rules tell us how to implement a function that checks well-formedness. As implementors, we read the rules backwards. For example, $\\text{(binary-op-rule)}$ tells us that, in order to check well-formedness of the expression `Mult(e1, e2)` given a sequence $l$ of defined variables, we need to\n",
    "1. Check if `e1` is well-formed\n",
    "2. Check if `e2` is well-formed under a sequence of defined variables $x :: l$"
   ]
  },
  {
   "cell_type": "markdown",
   "metadata": {},
   "source": [
    "$\\fbox{$WellFormed(\\texttt{e}, l)$}$\n",
    "\n",
    "$$ \\begin{array}{c}\n",
    "\\\\\n",
    "\\hline\n",
    "WellFormed(\\texttt{Const(f)}, l) \\\\\n",
    "\\end{array} \\text{(const-rule)} $$\n",
    "\n",
    "$$\\begin{array}{c}\n",
    "x \\text{ appears in sequence } l \\\\\n",
    "\\hline\n",
    "WellFormed(\\texttt{Ident(x)}, l) \\\\\n",
    "\\end{array} \\text{(ident-rule)} $$\n",
    "\n",
    "$$ \\begin{array}{c}\n",
    "WellFormed(\\texttt{e1}, l) \\;\\;\\; WellFormed(\\texttt{e2}, l)\\;\\;\\; T \\in \\{ \\texttt{Plus}, \\texttt{Minus}, \\texttt{Mult}, \\texttt{Div}\\} \\\\\n",
    "\\hline\n",
    "WellFormed(\\texttt{T(e1, e2)}, l) \\\\\n",
    "\\end{array} \\text{(binary-op-rule)} $$\n",
    "\n",
    "$$ \\begin{array}{c}\n",
    "WellFormed(\\texttt{e1}, l) \\;\\;\\; T \\in \\{ \\texttt{Log}, \\texttt{Exp}, \\texttt{Sine}, \\texttt{Cosine}, \\texttt{Tan} \\} \\\\\n",
    "\\hline\n",
    "WellFormed(\\texttt{T(e1)}, l) \\\\\n",
    "\\end{array} \\text{(unary-op-rule)} $$"
   ]
  },
  {
   "cell_type": "code",
   "execution_count": 1,
   "metadata": {},
   "outputs": [
    {
     "data": {
      "text/plain": [
       "defined \u001b[32mtrait\u001b[39m \u001b[36mExpr\u001b[39m\n",
       "defined \u001b[32mclass\u001b[39m \u001b[36mConst\u001b[39m\n",
       "defined \u001b[32mclass\u001b[39m \u001b[36mIdent\u001b[39m\n",
       "defined \u001b[32mclass\u001b[39m \u001b[36mPlus\u001b[39m\n",
       "defined \u001b[32mclass\u001b[39m \u001b[36mMinus\u001b[39m\n",
       "defined \u001b[32mclass\u001b[39m \u001b[36mMult\u001b[39m\n",
       "defined \u001b[32mclass\u001b[39m \u001b[36mDiv\u001b[39m\n",
       "defined \u001b[32mclass\u001b[39m \u001b[36mSin\u001b[39m\n",
       "defined \u001b[32mclass\u001b[39m \u001b[36mCos\u001b[39m\n",
       "defined \u001b[32mclass\u001b[39m \u001b[36mTan\u001b[39m\n",
       "defined \u001b[32mclass\u001b[39m \u001b[36mLn\u001b[39m"
      ]
     },
     "execution_count": 1,
     "metadata": {},
     "output_type": "execute_result"
    }
   ],
   "source": [
    "sealed trait Expr\n",
    "\n",
    "// Const-rule\n",
    "case class Const(v: Double) extends Expr\n",
    "case class Ident(x: String) extends Expr\n",
    "\n",
    "// Binary-op-rule\n",
    "case class Plus(e1: Expr, e2: Expr) extends Expr\n",
    "case class Minus(e1: Expr, e2: Expr) extends Expr\n",
    "case class Mult(e1: Expr, e2: Expr) extends Expr\n",
    "case class Div(e1: Expr, e2: Expr) extends Expr\n",
    "\n",
    "// Unary-op-rule\n",
    "case class Sin(e: Expr) extends Expr\n",
    "case class Cos(e: Expr) extends Expr\n",
    "case class Tan(e: Expr) extends Expr\n",
    "case class Ln(e:Expr) extends Expr"
   ]
  },
  {
   "cell_type": "markdown",
   "metadata": {},
   "source": [
    "#### Exercise: Complete the function below to correctly evaluate binary-operations as Well Formed expressions."
   ]
  },
  {
   "cell_type": "code",
   "execution_count": 2,
   "metadata": {},
   "outputs": [
    {
     "data": {
      "text/plain": [
       "defined \u001b[32mfunction\u001b[39m \u001b[36misWellFormed\u001b[39m"
      ]
     },
     "execution_count": 2,
     "metadata": {},
     "output_type": "execute_result"
    }
   ],
   "source": [
    "def isWellFormed(e: Expr, seq: List[String]): Boolean = {\n",
    "    \n",
    "    def isWellFormed_unaryOp(e: Expr) = {\n",
    "\n",
    "        isWellFormed(e, seq)\n",
    "    }\n",
    "\n",
    "    def isWellFormed_binOp(e1: Expr, e2: Expr) = {\n",
    "        // BEGIN SOLUTION\n",
    "        // mutual recursion, see https://en.wikipedia.org/wiki/Mutual_recursion\n",
    "        isWellFormed(e1, seq) && isWellFormed(e2, seq)\n",
    "        // END SOLUTION\n",
    "    }\n",
    "\n",
    "    e match {\n",
    "        // const-rule        \n",
    "        case Const(_)  => true\n",
    "        case Ident(x) => seq.contains(x)\n",
    "        \n",
    "        // unary operations\n",
    "        case Sin(e) => isWellFormed_unaryOp(e)\n",
    "        case Cos(e) => isWellFormed_unaryOp(e)\n",
    "\n",
    "        // binary operations\n",
    "        case Plus(e1, e2) => isWellFormed_binOp(e1, e2)\n",
    "        case Minus(e1, e2) => isWellFormed_binOp(e1, e2)\n",
    "        case Mult(e1, e2) => isWellFormed_binOp(e1, e2)\n",
    "        \n",
    "    }\n",
    "}\n"
   ]
  },
  {
   "cell_type": "code",
   "execution_count": 3,
   "metadata": {},
   "outputs": [],
   "source": [
    "assert(isWellFormed(Const(1.0), List()), \"Test 1\")\n",
    "assert(isWellFormed(Plus(Const(1.0), Ident(\"z\")), List(\"z\")), \"Test 2\")\n",
    "assert(isWellFormed(Plus(Sin(Const(0.5)), Const(2.9)), List()), \"Test 3\")\n",
    "assert(!isWellFormed(Plus(Sin(Const(0.5)), Ident(\"x\")), List()), \"Test 4\")"
   ]
  },
  {
   "cell_type": "markdown",
   "metadata": {},
   "source": [
    "#### A few Differentiation INFERENCE Rules\n",
    "\n",
    "A rule for CONSTANTS :\n",
    "\n",
    "$$\\frac{dc}{dx} = 0, c \\in \\mathbb{R}$$\n",
    "\n",
    "$$\\begin{array}{c}\n",
    "\\\\\n",
    "\\hline \n",
    "\\text{derivative}( \\texttt{Const(f)} , x) = \\texttt{Const(0.0)} \\\\\n",
    "\\end{array} \\mathbf{(Constant)}$$      \n",
    "\n",
    "<!-- A rule for identifiers $\\frac{dx}{dx} = 1, \\frac{dy}{dx} = 0$ for $y \\not= x$.\n",
    "\n",
    "$\\begin{array}{c}\n",
    "\\\\\n",
    "\\hline \n",
    "\\text{derivative}( \\texttt{Ident(s)} , x) = \\left\\{ \\begin{array}{ll} \\texttt{Const(1.0)} & x == s \\\\\n",
    "\\texttt{Const(0.0)} & \\text{otherwise} \\end{array} \\right.\\\\\n",
    "\\end{array} \\mathbf{(Identifier)}  \\;\\;\\;\n",
    "$ -->\n",
    "\n",
    "A rule for ADDITION :\n",
    "\n",
    "$$\\frac{d}{dx} (e_1 + e_2) = \\frac{de_1}{dx} + \\frac{de_2}{dx}$$\n",
    "\n",
    "$$ \\begin{array}{c}\n",
    "\\text{derivative}(\\texttt{e1}, x) = \\texttt{f1},\\;\\;\\text{derivative}(\\texttt{e2}, x) = \\texttt{f2}\\\\\n",
    "\\hline\n",
    "\\text{derivative}(\\texttt{Plus(e1, e2)}, x) = \\texttt{Plus(f1, f2)} \\\\\n",
    "\\end{array} \\mathbf{(Plus)} $$\n",
    "\n",
    "A rule for SUBTRACTION (the same as plus...) : \n",
    "$$\\frac{d}{dx} (e_1 - e_2) = \\frac{de_1}{dx} - \\frac{de_2}{dx}$$\n",
    "\n",
    "$$ \\begin{array}{c}\n",
    "\\text{derivative}(\\texttt{e1}, x) = \\texttt{f1},\\;\\;\\text{derivative}(\\texttt{e2}, x) = \\texttt{f2}\\\\\n",
    "\\hline\n",
    "\\text{derivative}(\\texttt{Minus(e1, e2)}, x) = \\texttt{Minus(f1, f2)} \\\\\n",
    "\\end{array} \\mathbf{(Minus)} $$\n",
    "\n",
    "A rule for MULTIPLICATION: \n",
    "\n",
    "$$\\frac{d}{dx} (e_1 e_2) = e_2 \\frac{de_1}{dx} + e_1 \\frac{de_2}{dx}$$\n",
    "\n",
    "$$ \\begin{array}{c}\n",
    "\\text{derivative}(\\texttt{e1}, x) = \\texttt{f1},\\;\\;\\text{derivative}(\\texttt{e2}, x) = \\texttt{f2}\\\\\n",
    "\\hline\n",
    "\\text{derivative}(\\texttt{Mult(e1, e2)}, x) = \\texttt{Plus(Mult(f1, e2), Mult(f2, e1))} \\\\\n",
    "\\end{array} \\mathbf{(Mult)} $$\n",
    "\n",
    "\n",
    "A rule for tan: \n",
    "\n",
    "$$\\frac{d}{dx} Tan(x) = 1 - Tan^2 (x)$$\n",
    "\n",
    "$$ \\begin{array}{c}\n",
    "\\text{derivative}(\\texttt{e1}, x) = \\texttt{f1}\\;\\;\\\\\n",
    "\\hline\n",
    "\\text{derivative}(\\texttt{Tan(e1)}, x) = \\texttt{Mult(f1, Minus(1.0,  Mult(Tan(e1), Tan(e1)))} \\\\\n",
    "\\end{array} \\mathbf{(Tan)} $$"
   ]
  },
  {
   "cell_type": "markdown",
   "metadata": {},
   "source": [
    "#### What is the inference rule for \n",
    "\n",
    "$\\frac{d}{dx}ln(e)$ ?\n",
    "\n",
    "Finish the derivative function below for ln(e1) using this inference rule."
   ]
  },
  {
   "cell_type": "markdown",
   "metadata": {},
   "source": [
    "Solution::\n",
    "\n",
    "$$\\frac{d}{dx} ln(x) = 1/x$$\n",
    "\n",
    "$$ \\begin{array}{c}\n",
    "\\text{derivative}(\\texttt{e1}, x) = \\texttt{f1}\\;\\;\\\\\n",
    "\\hline\n",
    "\\text{derivative}(\\texttt{ln(e1)}, x) = \\texttt{Mult(f1, Div(Const(1.0), e1))} \\\\\n",
    "\\end{array} \\mathbf{(Ln)} $$"
   ]
  },
  {
   "cell_type": "code",
   "execution_count": 4,
   "metadata": {},
   "outputs": [
    {
     "data": {
      "text/plain": [
       "defined \u001b[32mfunction\u001b[39m \u001b[36mderivative\u001b[39m"
      ]
     },
     "execution_count": 4,
     "metadata": {},
     "output_type": "execute_result"
    }
   ],
   "source": [
    "// A Function: derivative\n",
    "def derivative(e: Expr): Expr =\n",
    "    e match  {\n",
    "        case Const(_) => Const(0)\n",
    "        // BEGIN SOLUTION\n",
    "        case Tan(e1) => Mult(derivative(e1), Minus(Const(1.0),  Mult(Tan(e1), Tan(e1))))\n",
    "        case Ln(e1) => Mult(derivative(e1), Div(Const(1.0), e1))\n",
    "        // END SOLUTION\n",
    "    }"
   ]
  },
  {
   "cell_type": "code",
   "execution_count": 5,
   "metadata": {},
   "outputs": [
    {
     "name": "stdout",
     "output_type": "stream",
     "text": [
      "Input Expr: Tan(Const(0.5))\n",
      "Output Expr: Mult(Const(0.0),Minus(Const(1.0),Mult(Tan(Const(0.5)),Tan(Const(0.5)))))\n"
     ]
    },
    {
     "data": {
      "text/plain": [
       "\u001b[36mInputExpression\u001b[39m: \u001b[32mTan\u001b[39m = \u001b[33mTan\u001b[39m(\u001b[33mConst\u001b[39m(\u001b[32m0.5\u001b[39m))\n",
       "\u001b[36mOutputExpression\u001b[39m: \u001b[32mExpr\u001b[39m = \u001b[33mMult\u001b[39m(\n",
       "  \u001b[33mConst\u001b[39m(\u001b[32m0.0\u001b[39m),\n",
       "  \u001b[33mMinus\u001b[39m(\u001b[33mConst\u001b[39m(\u001b[32m1.0\u001b[39m), \u001b[33mMult\u001b[39m(\u001b[33mTan\u001b[39m(\u001b[33mConst\u001b[39m(\u001b[32m0.5\u001b[39m)), \u001b[33mTan\u001b[39m(\u001b[33mConst\u001b[39m(\u001b[32m0.5\u001b[39m))))\n",
       ")"
      ]
     },
     "execution_count": 5,
     "metadata": {},
     "output_type": "execute_result"
    }
   ],
   "source": [
    "val InputExpression = Tan(Const(0.5))\n",
    "val OutputExpression = derivative(InputExpression)\n",
    "\n",
    "assert(OutputExpression == Mult(Const(0.0), Minus(Const(1.0),  Mult(Tan(Const(0.5)), Tan(Const(0.5))))), \"Test\")\n",
    "\n",
    "println(\"Input Expr: \" + InputExpression)\n",
    "println(\"Output Expr: \" + OutputExpression)"
   ]
  },
  {
   "cell_type": "code",
   "execution_count": 6,
   "metadata": {},
   "outputs": [
    {
     "name": "stdout",
     "output_type": "stream",
     "text": [
      "Input Expr: Ln(Const(0.5))\n",
      "Output Expr: Mult(Const(0.0),Div(Const(1.0),Const(0.5)))\n"
     ]
    },
    {
     "data": {
      "text/plain": [
       "\u001b[36mInputExpression\u001b[39m: \u001b[32mLn\u001b[39m = \u001b[33mLn\u001b[39m(\u001b[33mConst\u001b[39m(\u001b[32m0.5\u001b[39m))\n",
       "\u001b[36mOutputExpression\u001b[39m: \u001b[32mExpr\u001b[39m = \u001b[33mMult\u001b[39m(\u001b[33mConst\u001b[39m(\u001b[32m0.0\u001b[39m), \u001b[33mDiv\u001b[39m(\u001b[33mConst\u001b[39m(\u001b[32m1.0\u001b[39m), \u001b[33mConst\u001b[39m(\u001b[32m0.5\u001b[39m)))"
      ]
     },
     "execution_count": 6,
     "metadata": {},
     "output_type": "execute_result"
    }
   ],
   "source": [
    "val InputExpression = Ln(Const(0.5))\n",
    "val OutputExpression = derivative(InputExpression)\n",
    "\n",
    "assert(OutputExpression == Mult(Const(0.0), Div(Const(1.0), Const(0.5))), \"Test\")\n",
    "\n",
    "println(\"Input Expr: \" + InputExpression)\n",
    "println(\"Output Expr: \" + OutputExpression)"
   ]
  },
  {
   "cell_type": "markdown",
   "metadata": {},
   "source": [
    "### That's all folks!"
   ]
  }
 ],
 "metadata": {
  "celltoolbar": "Edit Metadata",
  "kernelspec": {
   "display_name": "Scala",
   "language": "scala",
   "name": "scala"
  },
  "language_info": {
   "codemirror_mode": "text/x-scala",
   "file_extension": ".sc",
   "mimetype": "text/x-scala",
   "name": "scala",
   "nbconvert_exporter": "script",
   "version": "2.13.4"
  }
 },
 "nbformat": 4,
 "nbformat_minor": 2
}
