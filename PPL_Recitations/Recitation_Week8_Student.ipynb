{
 "cells": [
  {
   "cell_type": "markdown",
   "id": "ad0ef2a2-d3ec-48e3-9f4d-5e979b6d9663",
   "metadata": {},
   "source": [
    "# Recitation Week 8\n",
    "\n",
    "### Closures, Functions, and Currying"
   ]
  },
  {
   "cell_type": "markdown",
   "id": "1fd79f1b-c15a-47f7-b3d6-ee0c9dc21f20",
   "metadata": {
    "tags": []
   },
   "source": [
    "## Currying"
   ]
  },
  {
   "cell_type": "markdown",
   "id": "f149970d-59a4-4e4a-ac2d-67adbf8f6b60",
   "metadata": {},
   "source": [
    "We will first study currying in Scala. \n",
    "  - Currying named after mathematician/computer scientist Haskell Curry.\n",
    "  - Multiple argument functions can be seen as a sequence of single argument functions.\n",
    "\n",
    "More on currying in Scala: https://docs.scala-lang.org/tour/multiple-parameter-lists.html#example\n",
    "\n",
    "Currying can be useful for many things, including partially applying functions (setting only some of the function parameters).\n",
    "As we see below, we can't really partially apply 'normal' function definitions:"
   ]
  },
  {
   "cell_type": "code",
   "execution_count": 0,
   "id": "c32a3b16-1238-4983-95df-73857054d8ac",
   "metadata": {},
   "outputs": [
    {
     "name": "stderr",
     "output_type": "stream",
     "text": [
      "cmd0.sc:3: not enough arguments for method addTwo: (x: Int, y: Int): Int.\n",
      "Unspecified value parameter y.\n",
      "val x = addTwo(10) // Error\n",
      "              ^Compilation Failed"
     ]
    },
    {
     "ename": "",
     "evalue": "",
     "output_type": "error",
     "traceback": [
      "Compilation Failed"
     ]
    }
   ],
   "source": [
    "// Multiple argument functions, just normal function that requires 2 args\n",
    "def addTwo (x: Int, y: Int): Int = x + y\n",
    "\n",
    "val x = addTwo(10) // Error becasue we only passed 1 arg"
   ]
  },
  {
   "cell_type": "code",
   "execution_count": 1,
   "id": "77844513-8997-4167-97d5-9337c96cb9f0",
   "metadata": {},
   "outputs": [
    {
     "data": {
      "text/plain": [
       "defined \u001b[32mfunction\u001b[39m \u001b[36mcurriedAddTwo\u001b[39m"
      ]
     },
     "execution_count": 1,
     "metadata": {},
     "output_type": "execute_result"
    }
   ],
   "source": [
    "// Scala supports curried functions: sort of.\n",
    "def curriedAddTwo (x: Int) (y: Int) = x + y \n",
    "//takes 1 param at a time so that you can pass 1 at a time "
   ]
  },
  {
   "cell_type": "markdown",
   "id": "614db7c5-c9b8-4ee8-b2fc-f22464496745",
   "metadata": {},
   "source": [
    "Note the type of curriedAddTwo is `Int => (Int => Int)`.\n",
    "\n",
    "  - If you give it a number, it returns a function from number to number."
   ]
  },
  {
   "cell_type": "code",
   "execution_count": 9,
   "id": "dac49383-0cb7-4753-b50c-95e128277072",
   "metadata": {},
   "outputs": [
    {
     "data": {
      "text/plain": [
       "\u001b[36mf1\u001b[39m: \u001b[32mInt\u001b[39m => \u001b[32mInt\u001b[39m = ammonite.$sess.cmd8$Helper$$Lambda$1929/157266306@741f47d8\r\n",
       "\u001b[36mres8_1\u001b[39m: \u001b[32mInt\u001b[39m = \u001b[32m35\u001b[39m"
      ]
     },
     "execution_count": 9,
     "metadata": {},
     "output_type": "execute_result"
    }
   ],
   "source": [
    "val f1 : Int => Int = curriedAddTwo(15) \n",
    "//f1 ia a function that takes an int and returns an int\n",
    "f1(20)"
   ]
  },
  {
   "cell_type": "code",
   "execution_count": 10,
   "id": "4d9e7e84-954d-4b45-b0f5-ad98be835b19",
   "metadata": {},
   "outputs": [
    {
     "data": {
      "text/plain": [
       "\u001b[36mf2\u001b[39m: \u001b[32mInt\u001b[39m => \u001b[32mInt\u001b[39m = ammonite.$sess.cmd9$Helper$$Lambda$1935/1382007758@ee1bdb1\r\n",
       "\u001b[36mx\u001b[39m: \u001b[32mInt\u001b[39m = \u001b[32m35\u001b[39m\r\n",
       "\u001b[36my\u001b[39m: \u001b[32mInt\u001b[39m = \u001b[32m45\u001b[39m\r\n",
       "\u001b[36mz\u001b[39m: \u001b[32mInt\u001b[39m = \u001b[32m60\u001b[39m"
      ]
     },
     "execution_count": 10,
     "metadata": {},
     "output_type": "execute_result"
    }
   ],
   "source": [
    "val f2 = curriedAddTwo (15)(_)\n",
    "// f1 has plugged in x but y has not be set. Remember _ makes it an anonymous function\n",
    "val x = f2(20)\n",
    "val y = f2(30)\n",
    "val z = f2(45)"
   ]
  },
  {
   "cell_type": "code",
   "execution_count": 14,
   "id": "056375f0-d521-4d59-a727-fa75cd3213bc",
   "metadata": {},
   "outputs": [
    {
     "data": {
      "text/plain": [
       "\u001b[36ma\u001b[39m: \u001b[32mInt\u001b[39m = \u001b[32m42\u001b[39m\r\n",
       "\u001b[36mb\u001b[39m: \u001b[32mInt\u001b[39m = \u001b[32m52\u001b[39m\r\n",
       "\u001b[36mc\u001b[39m: \u001b[32mInt\u001b[39m = \u001b[32m30\u001b[39m"
      ]
     },
     "execution_count": 14,
     "metadata": {},
     "output_type": "execute_result"
    }
   ],
   "source": [
    "// we could also call curriedAddTwo directly, if we don't want to fix x to one value\n",
    "// this might remind you of foldLeft, an example of a curried function we have been using\n",
    "val a = curriedAddTwo(10)(32)\n",
    "val b = curriedAddTwo(13)(39)\n",
    "val c= curriedAddTwo(10)(20)\n",
    "\n",
    "//not super useful becasue you usually use curried functions when you know one arg at a time"
   ]
  },
  {
   "cell_type": "code",
   "execution_count": 23,
   "id": "e54c07f4-22f4-41c8-a277-21be2687d80f",
   "metadata": {},
   "outputs": [
    {
     "data": {
      "text/plain": [
       "\u001b[36mcurriedAddTwoAnon\u001b[39m: \u001b[32mInt\u001b[39m => \u001b[32mInt\u001b[39m => \u001b[32mInt\u001b[39m = ammonite.$sess.cmd22$Helper$$Lambda$2253/1646597827@13457c99\r\n",
       "\u001b[36mSameAscurriedAddTwoAnon\u001b[39m: \u001b[32mInt\u001b[39m => \u001b[32mInt\u001b[39m => \u001b[32mInt\u001b[39m = ammonite.$sess.cmd22$Helper$$Lambda$2254/1191381359@7927a70a"
      ]
     },
     "execution_count": 23,
     "metadata": {},
     "output_type": "execute_result"
    }
   ],
   "source": [
    "// Currying in anonymous function syntax\n",
    "val curriedAddTwoAnon: Int => Int=> Int = (x: Int) => { (y:Int) => (x + y) } \n",
    "\n",
    "//same as val curriedAddTwoAnon: (Int) => (Int=> Int) = (x: Int) => { (y:Int) => (x + y) } \n",
    "//taking in an int and returning another function that takes an int and returns an int\n",
    "val SameAscurriedAddTwoAnon: (Int) => (Int=> Int) = (x: Int) => { (y:Int) => (x + y) }"
   ]
  },
  {
   "cell_type": "code",
   "execution_count": 21,
   "id": "d755665f-f3bc-442d-91c7-9a2fe9cfdd31",
   "metadata": {},
   "outputs": [
    {
     "data": {
      "text/plain": [
       "\u001b[36mf1\u001b[39m: \u001b[32mInt\u001b[39m => \u001b[32mInt\u001b[39m = ammonite.$sess.cmd19$Helper$$Lambda$2235/602346696@5def8c95\r\n",
       "\u001b[36mf2\u001b[39m: \u001b[32mInt\u001b[39m => \u001b[32mInt\u001b[39m = ammonite.$sess.cmd20$Helper$$Lambda$2236/1347702265@2944bfe2"
      ]
     },
     "execution_count": 21,
     "metadata": {},
     "output_type": "execute_result"
    }
   ],
   "source": [
    "val f1 = curriedAddTwoAnon(15) // Now this is closer to lettuce syntax\n",
    "val f2 = curriedAddTwoAnon(15)(_) // This is also OK"
   ]
  },
  {
   "cell_type": "markdown",
   "id": "c1d8129f-496a-4f03-b348-6ee476062156",
   "metadata": {
    "tags": []
   },
   "source": [
    "## Closures"
   ]
  },
  {
   "cell_type": "markdown",
   "id": "03eadfeb-0217-4d79-968b-f107851a697b",
   "metadata": {},
   "source": [
    "A *closure* is a way to represent functions in our environments, containing the variable name, expression to be evaluated, and environment to execute the function in.\n",
    "\n",
    "Why should a closure include an environment?"
   ]
  },
  {
   "cell_type": "markdown",
   "id": "ba29885e-9d66-4fe1-b83b-9668ba5c199c",
   "metadata": {},
   "source": [
    "Consider the example:\n",
    "\n",
    "~~~\n",
    "let x = 5 in \n",
    "   let addx = function(y) x + y in \n",
    "      let x = 10 in \n",
    "          addx(10)\n",
    "~~~\n",
    "\n",
    "Or equivalently in scala:\n",
    "\n",
    "~~~\n",
    "val x = 5;\n",
    "{\n",
    "    val addx: Int => Int = (y: Int) => { x+y }\n",
    "    {\n",
    "        val x = 10;\n",
    "        {\n",
    "            addx(0)\n",
    "        }\n",
    "    }\n",
    "}\n",
    "~~~\n",
    "\n",
    "What should this evaluate to?\n"
   ]
  },
  {
   "cell_type": "code",
   "execution_count": 38,
   "id": "7a10985a-7dd8-4972-9088-246fab0a5858",
   "metadata": {},
   "outputs": [
    {
     "data": {
      "text/plain": [
       "\u001b[36mdummy\u001b[39m: \u001b[32mInt\u001b[39m = \u001b[32m5\u001b[39m\r\n",
       "\u001b[36mres37_1\u001b[39m: \u001b[32mInt\u001b[39m = \u001b[32m41\u001b[39m"
      ]
     },
     "execution_count": 38,
     "metadata": {},
     "output_type": "execute_result"
    }
   ],
   "source": [
    "val dummy = 5;\n",
    "{\n",
    "    val x = 11;\n",
    "    val adddummyx: Int => Int = (y: Int) => { x+y }\n",
    "    {\n",
    "       \n",
    "        {\n",
    "            adddummyx(30)\n",
    "        }\n",
    "    }\n",
    "}"
   ]
  },
  {
   "cell_type": "markdown",
   "id": "5ad0c7a0-e804-4265-9b0c-465a6c3e44ae",
   "metadata": {},
   "source": [
    "Most languages use static scoping, we want to do the same in Lettuce."
   ]
  },
  {
   "cell_type": "markdown",
   "id": "354872f7-a87a-44bd-ad73-9a504f28ab76",
   "metadata": {},
   "source": [
    "## Functions with Multiple Parameters"
   ]
  },
  {
   "cell_type": "markdown",
   "id": "67deeea4-2ab6-4c79-8cfc-6c7e2cfa0063",
   "metadata": {},
   "source": [
    "There are different ways to do this, we will explore one such way here, and you will explore another way in your homework.\n",
    "\n",
    "Here, we will explore extending our closures to support multi parameter functions.\n",
    "\n",
    "What other ways can we do this?\n",
    " - See autocurrying on the homework"
   ]
  },
  {
   "cell_type": "markdown",
   "id": "7cea51fe-f338-48a8-82e5-b37d6b403029",
   "metadata": {
    "nbgrader": {
     "grade": false,
     "grade_id": "cell-6b9f8af95e1ee726",
     "locked": true,
     "schema_version": 3,
     "solution": false
    }
   },
   "source": [
    "For this exercise, we will use a small part of the grammer we have been working with and change our function calls and definitions.\n",
    "\n",
    "$$\n",
    "\\begin{array}{c|c}\n",
    "    \\text{original grammer} & \\text{updated multiparameter function grammer} \\\\\\hline\n",
    "    \\begin{array}{rcl}\n",
    "    \\mathbf{Program} & \\rightarrow & TopLevel(\\mathbf{Expr}) \\\\[5pt]\n",
    "    \\mathbf{Expr} & \\rightarrow & Const(\\mathbf{Number}) \\\\\n",
    "     & | & Ident(\\mathbf{Identifier}) \\\\\n",
    "     & | & Plus(\\mathbf{Expr}, \\mathbf{Expr}) \\\\\n",
    "     & | & FunDef( \\mathbf{Identifier}, \\mathbf{Expr}) \\\\ \n",
    "     & | & FunCall(\\mathbf{Expr}, \\mathbf{Expr}) \\\\\n",
    "     & | & Let(\\mathbf{Identifier},\\mathbf{Expr}, \\mathbf{Expr})  \\\\\n",
    "    \\end{array}\n",
    "    &\n",
    "    \\begin{array}{rcll}\n",
    "    \\mathbf{Program} & \\rightarrow & TopLevel(\\mathbf{Expr}) \\\\[5pt]\n",
    "    \\mathbf{Expr} & \\rightarrow & Const(\\mathbf{Number}) \\\\\n",
    "     & | & Ident(\\mathbf{Identifier}) \\\\\n",
    "     & | & Plus(\\mathbf{Expr}, \\mathbf{Expr}) \\\\\n",
    "     & | & FunDef( \\mathbf{Identifier}^*, \\mathbf{Expr}) & \\text{Note multiple parameters now possible} \\\\ \n",
    "     & | & FunCall(\\mathbf{Expr}, \\mathbf{Expr}^*) & \\text{function call - expr(expr1, ... , exprn)} \\\\\n",
    "     & | & Let(\\mathbf{Identifier},\\mathbf{Expr}, \\mathbf{Expr})  \\\\\n",
    "    \\end{array}\n",
    "\\end{array}\n",
    "$$\n",
    "\n",
    "Write the scala definition for `FunDef` and `FunCall`. Please use lists to implement the Kleene Star.\n",
    "\n",
    "Note: Kleene star, represented by the '$^*$', is a way of representing multiple instances of a something.\n",
    "It could be one, two, ten, or even none of the item in question.\n",
    "For example, $\\mathbf{Number}^*$ could be no numbers, a single number like $10$, or several numbers, like $10\\ 21\\ 32$."
   ]
  },
  {
   "cell_type": "code",
   "execution_count": 30,
   "id": "4dcff0c6-5ff9-4e6a-8fdc-1569686a43ad",
   "metadata": {
    "nbgrader": {
     "grade": false,
     "grade_id": "cell-925e2ee1e5248e66",
     "locked": false,
     "schema_version": 3,
     "solution": true
    }
   },
   "outputs": [
    {
     "data": {
      "text/plain": [
       "defined \u001b[32mtrait\u001b[39m \u001b[36mProgram\u001b[39m\r\n",
       "defined \u001b[32mtrait\u001b[39m \u001b[36mExpr\u001b[39m\r\n",
       "defined \u001b[32mclass\u001b[39m \u001b[36mConst\u001b[39m\r\n",
       "defined \u001b[32mclass\u001b[39m \u001b[36mIdent\u001b[39m\r\n",
       "defined \u001b[32mclass\u001b[39m \u001b[36mPlus\u001b[39m\r\n",
       "defined \u001b[32mclass\u001b[39m \u001b[36mLet\u001b[39m\r\n",
       "defined \u001b[32mclass\u001b[39m \u001b[36mFunDef\u001b[39m\r\n",
       "defined \u001b[32mclass\u001b[39m \u001b[36mFunCall\u001b[39m\r\n",
       "defined \u001b[32mclass\u001b[39m \u001b[36mTopLevel\u001b[39m"
      ]
     },
     "execution_count": 30,
     "metadata": {},
     "output_type": "execute_result"
    }
   ],
   "source": [
    "sealed trait Program\n",
    "sealed trait Expr\n",
    "case class Const(f: Double) extends Expr\n",
    "case class Ident(s: String) extends Expr\n",
    "case class Plus(e1: Expr, e2: Expr) extends Expr\n",
    "case class Let(x: String, e1: Expr, e2: Expr) extends Expr\n",
    "// add code for FunDef and FunCall\n",
    "case class FunDef(idList: List[String], e: Expr) extends Expr\n",
    "case class FunCall(e: Expr, argExpr: List[Expr]) extends Expr\n",
    "\n",
    "case class TopLevel(e: Expr) extends Program"
   ]
  },
  {
   "cell_type": "markdown",
   "id": "d9121b66-8b65-40b2-a40d-679ab73b6511",
   "metadata": {
    "nbgrader": {
     "grade": false,
     "grade_id": "cell-fc759814f6e6f19f",
     "locked": true,
     "schema_version": 3,
     "solution": false,
     "task": false
    }
   },
   "source": [
    "We will now redefine closures for functions with zero or more args. When our function had one argument, our closures were defined as `Closure(id, expr, env)`. We would now like to define closures as\n",
    "`Closure( [id1, ..., idn], expr, env)` where \n",
    "  - `id1..., idn` are the list of arguments for the function to be called. \n",
    "  - `expr` is the body of the function and \n",
    "  - `env` is the stored environment for static scoping.\n",
    " \n",
    " $$\\begin{array}{rcl}\n",
    " \\mathbf{Value} & \\Rightarrow & Num(\\mathbf{Double}) \\\\\n",
    " & \\Rightarrow & Closure(\\mathbf{String}^*, \\mathbf{Expr}, \\mathbf{Environment}) \\\\\n",
    " & \\Rightarrow & Error \\\\\n",
    " \\end{array}$$\n",
    " \n",
    " For __Environment__ please use a scala immutable map from __String__ to __Value__"
   ]
  },
  {
   "cell_type": "code",
   "execution_count": 32,
   "id": "49be4684-0356-4143-8e2a-8fe515840d37",
   "metadata": {
    "nbgrader": {
     "grade": false,
     "grade_id": "cell-60259c7b459335ef",
     "locked": false,
     "schema_version": 3,
     "solution": true,
     "task": false
    }
   },
   "outputs": [
    {
     "data": {
      "text/plain": [
       "defined \u001b[32mtrait\u001b[39m \u001b[36mValue\u001b[39m\r\n",
       "defined \u001b[32mclass\u001b[39m \u001b[36mNum\u001b[39m\r\n",
       "defined \u001b[32mobject\u001b[39m \u001b[36mError\u001b[39m\r\n",
       "defined \u001b[32mclass\u001b[39m \u001b[36mClosure\u001b[39m"
      ]
     },
     "execution_count": 32,
     "metadata": {},
     "output_type": "execute_result"
    }
   ],
   "source": [
    "sealed trait Value\n",
    "case class Num(d: Double) extends Value\n",
    "case object Error extends Value\n",
    "// add closure code\n",
    "case class Closure(idlist: List[String], e: Expr, env: Map[String,Value]) extends Value\n"
   ]
  },
  {
   "cell_type": "markdown",
   "id": "2d04c8b1-5c3d-4b22-87f0-0ee374b56445",
   "metadata": {
    "nbgrader": {
     "grade": false,
     "grade_id": "cell-ea94ae8aa9613fa0",
     "locked": true,
     "schema_version": 3,
     "solution": false
    }
   },
   "source": [
    "Build an interpreter using the following semantic rules. Ensure that your interpreter correctly deals with the cases that give rise to error by throwing an exception.\n",
    "\n",
    "$$\\newcommand\\semRule[3]{\\begin{array}{c} #1 \\\\ \\hline #2 \\\\\\end{array} (\\text{#3})} $$\n",
    "$$\\newcommand\\eval{\\mathbf{eval}}$$\n",
    "$$\\semRule{}{\\eval(\\texttt{FunDef([id1,..., idk], e)},\\sigma) = \\text{Closure}(\\texttt{[id1,..., idk]}, \\texttt{e}, \\sigma)}{fundef}$$\n",
    "\n",
    "$$\\semRule {\\eval(\\texttt{e}, \\sigma) = \\text{Closure}(\\texttt{[id1,..., idn]}, \\texttt{fBody}, \\color{red}{\\sigma_{cl}}),\\  \\color{red}{n = k},\\ (\\forall\\ i \\in \\{ 1, \\ldots, k\\})\\ \\eval(\\texttt{ei}, \\sigma) = v_i,  v_i \\not= \\mathbf{error}}\n",
    "           {\\eval(\\texttt{FunCall(e, [e1, ..., ek])}, \\sigma) = \\eval(\\texttt{fBody}, \\color{red}{\\sigma_{cl} \\circ [id1 \\rightarrow v_1, \\ldots, idk \\rightarrow v_k]})}{funcall-ok}$$\n",
    "           \n",
    "Let us interpret this rule.\n",
    "   - __Purpose__ : Evaluate an expression of the form `FunCall(e, [e1,...,ek])` where `e` is the expr for the called function, and `e1, ..., ek` are exprs for the arguments of this call. There are $k$ arguments.\n",
    "     - The called function `e` must evaluate to a closure of the form $\\text{Closure}(\\texttt{[id1,..., idn]}, \\texttt{fBody}, \\sigma_{cl})$.\n",
    "     - The function call must have the same number of arguments as the closure ($n=k$).\n",
    "     - Each of the $k$ arguments `ei` must evaluate to a value $v_i$ where $v_i$ is not error.\n",
    "     - Then the result of evaluating the function call is the same as that of evaluating `fBody` under the environment $\\sigma_{cl}$ extended by mapping the formal parameters of the closure, `id1,.., idk`, to $v_1, \\ldots, v_k$, respectively.\n",
    "\n",
    "\n",
    "We can also write some error rules:\n",
    "\n",
    "$$\\semRule {\\eval(\\texttt{e}, \\sigma) \\not\\in \\text{Closure}}\n",
    "           {\\eval(\\texttt{FunCall(e, [e1, ..., ek])}, \\sigma) = \\mathbf{error}}{funcall-not-a-function}$$\n",
    "\n",
    "\n",
    "$$\\semRule {\\eval(\\texttt{e}, \\sigma) = \\text{Closure}(\\texttt{[id1,..., idn]}, \\texttt{fBody}, \\color{red}{\\sigma_{cl}}),\\  \\color{red}{n \\not= k}}\n",
    "           {\\eval(\\texttt{FunCall(e, [e1, ..., ek])}, \\sigma) = \\mathbf{error}}{funcall-wrong-num-args}$$\n",
    "           \n",
    "  \n",
    "$$\\semRule {\\eval(\\texttt{e}, \\sigma) = \\text{Closure}(\\texttt{[id1,..., idn]}, \\texttt{fBody}, \\color{red}{\\sigma_{cl}}),\\  \\color{red}{n = k},\\ (\\exists\\ i \\in \\{1, \\ldots, k\\})\\ \\eval(\\texttt{ei}, \\sigma) = \\mathbf{error}}\n",
    "           {\\eval(\\texttt{FunCall(e, [e1, ..., ek])}, \\sigma) = \\mathbf{error}}{funcall-arg-error}$$\n",
    "           \n",
    "           \n",
    "**Hint:** Can map, zip, and foldLeft be used for this?\n",
    " "
   ]
  },
  {
   "cell_type": "code",
   "execution_count": 33,
   "id": "29d4af54-ef41-489d-96f7-2affe5751ca6",
   "metadata": {
    "nbgrader": {
     "grade": false,
     "grade_id": "cell-cc0ebc1ead5d46dd",
     "locked": false,
     "schema_version": 3,
     "solution": true,
     "task": false
    }
   },
   "outputs": [
    {
     "data": {
      "text/plain": [
       "defined \u001b[32mclass\u001b[39m \u001b[36mErrorException\u001b[39m\r\n",
       "defined \u001b[32mfunction\u001b[39m \u001b[36mvalueToNumber\u001b[39m\r\n",
       "defined \u001b[32mfunction\u001b[39m \u001b[36meval\u001b[39m\r\n",
       "defined \u001b[32mfunction\u001b[39m \u001b[36mevalProgram\u001b[39m"
      ]
     },
     "execution_count": 33,
     "metadata": {},
     "output_type": "execute_result"
    }
   ],
   "source": [
    "class ErrorException(s:String) extends Exception(s){}  \n",
    "\n",
    "\n",
    "def valueToNumber(v: Value): Double = v match {\n",
    "    case Num(d) => d\n",
    "    case _ => throw new ErrorException(s\"Could not convert value $v to a number\")\n",
    "}\n",
    "\n",
    "def eval(e: Expr, env: Map[String, Value]): Value = {\n",
    "    def addValues(v1: Value, v2: Value): Value = \n",
    "        Num ( valueToNumber(v1) + valueToNumber(v2) )\n",
    "    \n",
    "    e match {\n",
    "        case Const(d) => Num(d)\n",
    "        case Ident(x) => {\n",
    "            if (env contains x) {\n",
    "                env(x)\n",
    "            } else {\n",
    "                throw new ErrorException(s\"Could not find identifier $x\")\n",
    "            }\n",
    "        }\n",
    "        case Plus(e1,e2) => {\n",
    "            val v1 = eval(e1, env)\n",
    "            val v2 = eval(e2, env)\n",
    "            addValues(v1,v2)\n",
    "        }\n",
    "        case Let(id, e1, e2) => {\n",
    "            val v1 = eval(e1, env)\n",
    "            val env2 = env + (id -> v1)\n",
    "            eval(e2, env2)\n",
    "        }\n",
    "        \n",
    "        case FunDef(idList, e) => {\n",
    "            Closure(idList, e, env)\n",
    "        }\n",
    "        \n",
    "        /* the single parameter version of FunCall\n",
    "        case FunCall(e1, e2) => {\n",
    "            val v1 = evalExpr(e1, env)\n",
    "            val v2 = evalExpr(e2, env)\n",
    "            // Since evaluating e2 did not fail with an exception,\n",
    "            // if I reach this point in my execution, I know that\n",
    "            // neither v1 nor v2 are error.\n",
    "            v1 match {\n",
    "                case Closure(x, closure_ex, closed_env) => {\n",
    "                    // First extend closed_env by binding x to v2\n",
    "                    val new_env = closed_env + ( x -> v2)\n",
    "                    // Evaluate the body of the closure under the extended environment.\n",
    "                    evalExpr(closure_ex, new_env)\n",
    "                }\n",
    "                case _ => throw new IllegalArgumentException(s\"Function call error: expression $e1 does not evaluate to a closure\")\n",
    "            }\n",
    "        }\n",
    "        // */\n",
    "        \n",
    "        case FunCall(e, eList) => {\n",
    "            val v= eval(e,env)\n",
    "            v match {\n",
    "                case Closure(argList, funcBody, updatedEnv) => {\n",
    "                    if (argList.length == eList.length) {\n",
    "                        val valList= eList.map(x => eval(x, env)) \n",
    "\n",
    "                        val zipList= argList.zip(valList) \n",
    "                        //if arg list is x,y and val list is 1.0, 2.0 then \n",
    "                        //zipList will be like [(x,1.0), (y,2.0)] \n",
    "\n",
    "                        val newEnv= zipList.foldLeft[Map[String,Value]](env){ (newEnv, eachElefromZip) => newEnv + eachElefromZip }\n",
    "                            //Map[String,Value] is saying that env is of type map \n",
    "                        eval(funcBody, newEnv)\n",
    "                    }\n",
    "                    else {\n",
    "                        throw new IllegalArgumentException(s\"Not same length\")\n",
    "                    }\n",
    "                    \n",
    "                }\n",
    "    \n",
    "                case _ => throw new IllegalArgumentException(s\"Not Closure\")\n",
    "            }\n",
    "        }\n",
    "    }\n",
    "}\n",
    "\n",
    "\n",
    "def evalProgram(p: Program): Value = p match {\n",
    "    case TopLevel(e) => try\n",
    "            eval(e, Map.empty)\n",
    "    catch {\n",
    "        case e: ErrorException => {\n",
    "            println(e)\n",
    "            Error\n",
    "        }\n",
    "        case e: IllegalArgumentException => {\n",
    "            println(e)\n",
    "            Error\n",
    "        }\n",
    "        case e => {\n",
    "            println(\"Unknown Exception \" + e.toString)\n",
    "            Error\n",
    "        }\n",
    "            \n",
    "    }\n",
    "}\n"
   ]
  },
  {
   "cell_type": "markdown",
   "id": "bce9dafd-b526-41fc-a235-af04cb37977a",
   "metadata": {
    "jp-MarkdownHeadingCollapsed": true,
    "tags": []
   },
   "source": [
    "### Tests"
   ]
  },
  {
   "cell_type": "code",
   "execution_count": 34,
   "id": "f682e2f2-5169-48cc-a845-faf274412d82",
   "metadata": {
    "nbgrader": {
     "grade": true,
     "grade_id": "cell-d59f51be3ed29a31",
     "locked": true,
     "points": 5,
     "schema_version": 3,
     "solution": false,
     "task": false
    }
   },
   "outputs": [
    {
     "name": "stdout",
     "output_type": "stream",
     "text": [
      "Your program evaluated to Num(90.0)\n"
     ]
    },
    {
     "data": {
      "text/plain": [
       "\u001b[36mx\u001b[39m: \u001b[32mIdent\u001b[39m = \u001b[33mIdent\u001b[39m(s = \u001b[32m\"x\"\u001b[39m)\r\n",
       "\u001b[36my\u001b[39m: \u001b[32mIdent\u001b[39m = \u001b[33mIdent\u001b[39m(s = \u001b[32m\"y\"\u001b[39m)\r\n",
       "\u001b[36mz\u001b[39m: \u001b[32mIdent\u001b[39m = \u001b[33mIdent\u001b[39m(s = \u001b[32m\"z\"\u001b[39m)\r\n",
       "\u001b[36mfoo\u001b[39m: \u001b[32mIdent\u001b[39m = \u001b[33mIdent\u001b[39m(s = \u001b[32m\"foo2\"\u001b[39m)\r\n",
       "\u001b[36mfun2\u001b[39m: \u001b[32mFunDef\u001b[39m = \u001b[33mFunDef\u001b[39m(\n",
       "  idList = \u001b[33mList\u001b[39m(\u001b[32m\"x\"\u001b[39m, \u001b[32m\"y\"\u001b[39m, \u001b[32m\"z\"\u001b[39m),\n",
       "  e = \u001b[33mPlus\u001b[39m(\n",
       "    e1 = \u001b[33mPlus\u001b[39m(\n",
       "      e1 = \u001b[33mPlus\u001b[39m(e1 = \u001b[33mIdent\u001b[39m(s = \u001b[32m\"x\"\u001b[39m), e2 = \u001b[33mIdent\u001b[39m(s = \u001b[32m\"y\"\u001b[39m)),\n",
       "      e2 = \u001b[33mIdent\u001b[39m(s = \u001b[32m\"z\"\u001b[39m)\n",
       "    ),\n",
       "    e2 = \u001b[33mIdent\u001b[39m(s = \u001b[32m\"z\"\u001b[39m)\n",
       "  )\n",
       ")\r\n",
       "\u001b[36ml2\u001b[39m: \u001b[32mLet\u001b[39m = \u001b[33mLet\u001b[39m(\n",
       "  x = \u001b[32m\"foo2\"\u001b[39m,\n",
       "  e1 = \u001b[33mFunDef\u001b[39m(\n",
       "    idList = \u001b[33mList\u001b[39m(\u001b[32m\"x\"\u001b[39m, \u001b[32m\"y\"\u001b[39m, \u001b[32m\"z\"\u001b[39m),\n",
       "    e = \u001b[33mPlus\u001b[39m(\n",
       "      e1 = \u001b[33mPlus\u001b[39m(\n",
       "        e1 = \u001b[33mPlus\u001b[39m(e1 = \u001b[33mIdent\u001b[39m(s = \u001b[32m\"x\"\u001b[39m), e2 = \u001b[33mIdent\u001b[39m(s = \u001b[32m\"y\"\u001b[39m)),\n",
       "        e2 = \u001b[33mIdent\u001b[39m(s = \u001b[32m\"z\"\u001b[39m)\n",
       "      ),\n",
       "      e2 = \u001b[33mIdent\u001b[39m(s = \u001b[32m\"z\"\u001b[39m)\n",
       "    )\n",
       "  ),\n",
       "  e2 = \u001b[33mFunCall\u001b[39m(\n",
       "    e = \u001b[33mIdent\u001b[39m(s = \u001b[32m\"foo2\"\u001b[39m),\n",
       "    argExpr = \u001b[33mList\u001b[39m(\u001b[33mConst\u001b[39m(f = \u001b[32m10.0\u001b[39m), \u001b[33mConst\u001b[39m(f = \u001b[32m20.0\u001b[39m), \u001b[33mConst\u001b[39m(f = \u001b[32m30.0\u001b[39m))\n",
       "  )\n",
       ")\r\n",
       "\u001b[36mp2\u001b[39m: \u001b[32mTopLevel\u001b[39m = \u001b[33mTopLevel\u001b[39m(\n",
       "  e = \u001b[33mLet\u001b[39m(\n",
       "    x = \u001b[32m\"foo2\"\u001b[39m,\n",
       "    e1 = \u001b[33mFunDef\u001b[39m(\n",
       "      idList = \u001b[33mList\u001b[39m(\u001b[32m\"x\"\u001b[39m, \u001b[32m\"y\"\u001b[39m, \u001b[32m\"z\"\u001b[39m),\n",
       "      e = \u001b[33mPlus\u001b[39m(\n",
       "        e1 = \u001b[33mPlus\u001b[39m(\n",
       "          e1 = \u001b[33mPlus\u001b[39m(e1 = \u001b[33mIdent\u001b[39m(s = \u001b[32m\"x\"\u001b[39m), e2 = \u001b[33mIdent\u001b[39m(s = \u001b[32m\"y\"\u001b[39m)),\n",
       "          e2 = \u001b[33mIdent\u001b[39m(s = \u001b[32m\"z\"\u001b[39m)\n",
       "        ),\n",
       "        e2 = \u001b[33mIdent\u001b[39m(s = \u001b[32m\"z\"\u001b[39m)\n",
       "      )\n",
       "    ),\n",
       "    e2 = \u001b[33mFunCall\u001b[39m(\n",
       "      e = \u001b[33mIdent\u001b[39m(s = \u001b[32m\"foo2\"\u001b[39m),\n",
       "      argExpr = \u001b[33mList\u001b[39m(\u001b[33mConst\u001b[39m(f = \u001b[32m10.0\u001b[39m), \u001b[33mConst\u001b[39m(f = \u001b[32m20.0\u001b[39m), \u001b[33mConst\u001b[39m(f = \u001b[32m30.0\u001b[39m))\n",
       "    )\n",
       "  )\n",
       ")\r\n",
       "\u001b[36mv2\u001b[39m: \u001b[32mValue\u001b[39m = \u001b[33mNum\u001b[39m(d = \u001b[32m90.0\u001b[39m)"
      ]
     },
     "execution_count": 34,
     "metadata": {},
     "output_type": "execute_result"
    }
   ],
   "source": [
    "//BEGIN TEST\n",
    "// TEST three arguments\n",
    "val x = Ident(\"x\")\n",
    "val y = Ident(\"y\")\n",
    "val z = Ident(\"z\")\n",
    "val foo = Ident(\"foo2\")\n",
    "// function(x, y,z)  x + y+z+z\n",
    "val fun2 = FunDef(List(\"x\", \"y\", \"z\"), Plus(Plus(Plus(x, y), z), z))\n",
    "//let foo = function(x,y,z) x+y+z+z in foo(10, 20, 30)\n",
    "val l2 = Let(\"foo2\", fun2, FunCall(foo, List(Const(10.0), Const(20.0), Const(30.0))))\n",
    "//Program\n",
    "val p2 = TopLevel(l2)\n",
    "val v2 = evalProgram(p2)\n",
    "println(s\"Your program evaluated to $v2\")\n",
    "assert(v2 == Num(90.0), \"Test 2 Failed\")\n",
    "//END TEST"
   ]
  },
  {
   "cell_type": "code",
   "execution_count": null,
   "id": "19a83fe6-419e-424f-bc40-c295c4808dc0",
   "metadata": {
    "nbgrader": {
     "grade": true,
     "grade_id": "cell-8b5aa13d74ba3278",
     "locked": true,
     "points": 5,
     "schema_version": 3,
     "solution": false,
     "task": false
    }
   },
   "outputs": [],
   "source": [
    "//BEGIN TEST\n",
    "//Test zero arguments\n",
    "val x = Ident(\"x\")\n",
    "val foo = Ident(\"foo\")\n",
    "val fcall = FunCall(foo, List())\n",
    "val fdef = FunDef(List(), x)\n",
    "val l2 = Let(\"foo\", fdef, fcall)\n",
    "val l3 = Let(\"x\", Const(10), l2)\n",
    "val p2 = TopLevel(l3)\n",
    "val v3 = evalProgram(p2)\n",
    "println(s\"Your program evaluated to $v3\")\n",
    "assert(v3 == Num(10.0), \"Test 3 Failed\")\n",
    "//END TEST"
   ]
  },
  {
   "cell_type": "code",
   "execution_count": null,
   "id": "42092e77-c176-4dd1-a0c0-ad5d36db6d52",
   "metadata": {
    "nbgrader": {
     "grade": true,
     "grade_id": "cell-e305341e54d2e37c",
     "locked": true,
     "points": 5,
     "schema_version": 3,
     "solution": false,
     "task": false
    }
   },
   "outputs": [],
   "source": [
    "//BEGIN TEST\n",
    "//Evaluate with wrong number of args\n",
    "val x = Ident(\"x\")\n",
    "val foo = Ident(\"foo\")\n",
    "val fcall = FunCall(foo, List(Const(1.0)))\n",
    "val fdef = FunDef(List(), x)\n",
    "val l2 = Let(\"foo\", fdef, fcall)\n",
    "val l3 = Let(\"x\", Const(10), l2)\n",
    "val p4 = TopLevel(l3)\n",
    "val v4 = evalProgram(p4)\n",
    "assert(v4 == Error, \"Test 4 failed -- your program should have detected that arguments were mismatched\")\n",
    "//END TEST"
   ]
  },
  {
   "cell_type": "code",
   "execution_count": null,
   "id": "76b65fbe-f12f-457c-a51a-073a5ea99c6a",
   "metadata": {
    "nbgrader": {
     "grade": true,
     "grade_id": "cell-90f1081c0f420045",
     "locked": true,
     "points": 5,
     "schema_version": 3,
     "solution": false,
     "task": false
    }
   },
   "outputs": [],
   "source": [
    "//BEGIN TEST\n",
    "// TEST scoping\n",
    "val x = Ident(\"x\")\n",
    "val y = Ident(\"y\")\n",
    "val z = Ident(\"z\")\n",
    "val foo = Ident(\"foo\")\n",
    "\n",
    "// function(x, y)  x + y + x + z \n",
    "val fun = FunDef(List(\"x\", \"y\"), Plus(Plus(Plus(x, y), x),z))\n",
    "val funcall = FunCall(foo, List(Const(10.0), Const(30.0)))\n",
    "// let x = 1 in\n",
    "//     let z = 50 in\n",
    "//       let foo = fun(x,y) x + y + x + z in\n",
    "//         let = 2 in\n",
    "//           f(10,30)\n",
    "val l4 = Let(\"x\", Const(1.0), Let(\"z\", Const(50.0), Let(\"foo\", fun, Let(\"y\", Const(2.0), funcall))))\n",
    "//Program\n",
    "val p2 = TopLevel(l4)\n",
    "val v2 = evalProgram(p2)\n",
    "println(s\"Your program evaluated to $v2\")\n",
    "assert(v2 == Num(100.0), \"Test 5 Failed == you did not evaluate static scoping correctly\")\n",
    "//END TEST"
   ]
  },
  {
   "cell_type": "markdown",
   "id": "3885c3e4-b5c3-43a6-b180-54476d0336a5",
   "metadata": {},
   "source": [
    "## Thinking back to Recursion"
   ]
  },
  {
   "cell_type": "markdown",
   "id": "904bfe01-20d6-4f73-a9a1-94f34e3726ed",
   "metadata": {},
   "source": [
    "What happens when we want to do recursion? What goes wrong?\n",
    "\n",
    "What solution did we arrive at in class?"
   ]
  }
 ],
 "metadata": {
  "kernelspec": {
   "display_name": "Scala",
   "language": "scala",
   "name": "scala"
  },
  "language_info": {
   "codemirror_mode": "text/x-scala",
   "file_extension": ".sc",
   "mimetype": "text/x-scala",
   "name": "scala",
   "nbconvert_exporter": "script",
   "version": "2.13.4"
  }
 },
 "nbformat": 4,
 "nbformat_minor": 5
}
