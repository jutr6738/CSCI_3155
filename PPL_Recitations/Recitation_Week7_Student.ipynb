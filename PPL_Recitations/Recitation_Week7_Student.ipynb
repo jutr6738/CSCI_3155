{
 "cells": [
  {
   "cell_type": "markdown",
   "id": "fbff6d80",
   "metadata": {},
   "source": [
    "## Recitation Week 7\n",
    "\n",
    "### Callbacks\n",
    "\n",
    "A callback is a function that is passed as an argument to another function. This another function is expected to callback(execute) the passed function at some convenient time.\n",
    "\n",
    "\n",
    "### Example 1\n",
    "Let us now see an example of how callbacks work in Scala:\n",
    "\n",
    "1. We have defined a function callback which accepts a string as input and prints the message.\n",
    "2. We now define a method myMethod which does some operations initially and finally executes the callback with userMessage as the param."
   ]
  },
  {
   "cell_type": "code",
   "execution_count": 1,
   "id": "a05f76d5",
   "metadata": {},
   "outputs": [
    {
     "data": {
      "text/plain": [
       "\u001b[36mcallback\u001b[39m: \u001b[32mString\u001b[39m => \u001b[32mUnit\u001b[39m = ammonite.$sess.cmd0$Helper$$Lambda$1785/1788874698@1387422c\r\n",
       "defined \u001b[32mfunction\u001b[39m \u001b[36mmyMethod\u001b[39m"
      ]
     },
     "execution_count": 1,
     "metadata": {},
     "output_type": "execute_result"
    }
   ],
   "source": [
    "// An anonymous function to print message passed by the user\n",
    "val callback: (String => Unit) = (s: String) =>  println(s\"I am printing the message passed by user: ${s}\")\n",
    "\n",
    "// the function myMethod does some operation and finally executes the callback\n",
    "def myMethod(f: String => Unit): Unit = {\n",
    "    println(\"I do some operations and execute the callback passed to me\")\n",
    "    println(s\"10 + 15 = ${10+15}\")\n",
    "    println(\"Assuming i'm reading a file\")\n",
    "    f(\"My method executed successfully\")\n",
    "}"
   ]
  },
  {
   "cell_type": "code",
   "execution_count": 2,
   "id": "cdadb20e",
   "metadata": {},
   "outputs": [
    {
     "name": "stdout",
     "output_type": "stream",
     "text": [
      "I do some operations and execute the callback passed to me\n",
      "10 + 15 = 25\n",
      "Assuming i'm reading a file\n",
      "I am printing the message passed by user: My method executed successfully\n"
     ]
    }
   ],
   "source": [
    "// Call method with user message and pass callback\n",
    "myMethod(callback)"
   ]
  },
  {
   "cell_type": "markdown",
   "id": "33f659d0",
   "metadata": {},
   "source": [
    "### Example 2\n",
    "\n",
    "In our second example, \n",
    "\n",
    "1. We will define two callbacks executeIfEven and executeIfOdd.\n",
    "2. We will pass these two callbacks to checkEven method which executes these callbacks depending on the flow."
   ]
  },
  {
   "cell_type": "code",
   "execution_count": 12,
   "id": "00a24d9b",
   "metadata": {},
   "outputs": [
    {
     "data": {
      "text/plain": [
       "\u001b[36mexecuteIfEven\u001b[39m: () => \u001b[32mUnit\u001b[39m = ammonite.$sess.cmd11$Helper$$Lambda$2190/854935139@7c81a3e4\r\n",
       "\u001b[36mexecuteIfOdd\u001b[39m: () => \u001b[32mUnit\u001b[39m = ammonite.$sess.cmd11$Helper$$Lambda$2191/1165314098@629aab2a\r\n",
       "defined \u001b[32mfunction\u001b[39m \u001b[36mcheckNumber\u001b[39m"
      ]
     },
     "execution_count": 12,
     "metadata": {},
     "output_type": "execute_result"
    }
   ],
   "source": [
    "val executeIfEven = () => println(\"Even number flow executed\")\n",
    "val executeIfOdd = () =>  println(\"Odd number flow executed\") // Follow executeIfEven and complete this\n",
    "\n",
    "def checkNumber(x: Int, evenCallback: ()=>Unit, oddCallback: ()=>Unit): Unit = {\n",
    "    if (x%2==0) {\n",
    "        evenCallback() //we are calling the evenCallback function\n",
    "        \n",
    "    } else {\n",
    "        oddCallback()\n",
    "    }\n",
    "}"
   ]
  },
  {
   "cell_type": "code",
   "execution_count": 13,
   "id": "14304616",
   "metadata": {},
   "outputs": [
    {
     "name": "stdout",
     "output_type": "stream",
     "text": [
      "Odd number flow executed\n",
      "Even number flow executed\n"
     ]
    }
   ],
   "source": [
    "// Call the checkEven\n",
    "checkNumber(7, executeIfEven, executeIfOdd)\n",
    "checkNumber(8, executeIfEven, executeIfOdd)"
   ]
  },
  {
   "cell_type": "markdown",
   "id": "88645034",
   "metadata": {},
   "source": [
    "### Example 3\n",
    "\n",
    "### Callbacks on Concurrent Execution\n",
    "\n",
    "#### Futures: \n",
    "A Future is an object holding a value which may become available at some point. \n",
    "\n",
    "References for Future in Scala:\n",
    "1. https://docs.scala-lang.org/overviews/core/futures.html#futures\n",
    "2. https://medium.com/geekculture/working-with-future-in-scala-c1f9462c9987\n",
    "\n",
    "##### Note:\n",
    "Run the below code in Scala REPL for better visualization."
   ]
  },
  {
   "cell_type": "code",
   "execution_count": 21,
   "id": "5a9805df",
   "metadata": {},
   "outputs": [
    {
     "data": {
      "text/plain": [
       "\u001b[32mimport \u001b[39m\u001b[36mscala.concurrent.{ Future, Await }\n",
       "\u001b[39m\r\n",
       "\u001b[32mimport \u001b[39m\u001b[36mscala.concurrent.ExecutionContext.Implicits.global\n",
       "\u001b[39m\r\n",
       "\u001b[32mimport \u001b[39m\u001b[36mscala.util.{Failure, Success}\n",
       "\n",
       "\u001b[39m\r\n",
       "defined \u001b[32mfunction\u001b[39m \u001b[36mwait_a_bit_and_callback\u001b[39m"
      ]
     },
     "execution_count": 21,
     "metadata": {},
     "output_type": "execute_result"
    }
   ],
   "source": [
    "//future is an object placeholder \n",
    "//we don't know what value it holds\n",
    "//it is mutable until it is complete\n",
    "//once it completes it becomes immutable \n",
    "\n",
    "import scala.concurrent.{ Future, Await }\n",
    "import scala.concurrent.ExecutionContext.Implicits.global\n",
    "import scala.util.{Failure, Success}\n",
    "\n",
    "def wait_a_bit_and_callback(): Future[String] = {\n",
    "    val f = Future({  Thread.sleep(10000);  // This can be anycomputation.. eg.. downloading a webpage, firing a rocket engine..\n",
    "                      \"Hello World\"\n",
    "                   })\n",
    "    \n",
    "    f.onComplete {\n",
    "          case Success(return_value) => {\n",
    "            println(\"Got the callback!!\")\n",
    "            println(return_value + \" completed successfully\")\n",
    "          }\n",
    "          case Failure(e) => {\n",
    "            println(\"Failed!!\")\n",
    "          }\n",
    "         case _ => println(\"Not sure what type of result was returned\")\n",
    "    }\n",
    "\n",
    "    f\n",
    "}\n"
   ]
  },
  {
   "cell_type": "code",
   "execution_count": 22,
   "id": "0091300e",
   "metadata": {},
   "outputs": [
    {
     "data": {
      "text/html": [
       "<div class=\"jp-RenderedText\">\n",
       "<pre><code><span style=\"color: rgb(0, 187, 187)\"><span class=\"ansi-cyan-fg\">f3</span></span>: <span style=\"color: rgb(0, 187, 0)\"><span class=\"ansi-green-fg\">Future</span></span>[<span style=\"color: rgb(0, 187, 0)\"><span class=\"ansi-green-fg\">String</span></span>] = <span style=\"color: rgb(0, 187, 0)\"><span class=\"ansi-green-fg\"><style>@keyframes fadein { from { opacity: 0; } to { opacity: 1; } }</style><span style=\"animation: fadein 2s;\"><span style=\"color: yellow\"><span class=\"ansi-yellow-fg\">Success</span></span>(value = <span style=\"color: rgb(0, 187, 0)\"><span class=\"ansi-green-fg\">&quot;Hello World&quot;</span></span>)</span></span></span></code></pre>\n",
       "</div>"
      ],
      "text/plain": [
       "\u001b[36mf3\u001b[39m: \u001b[32mFuture\u001b[39m[\u001b[32mString\u001b[39m] = \u001b[32m\u001b[33mSuccess\u001b[39m(value = \u001b[32m\"Hello World\"\u001b[39m)\u001b[39m"
      ]
     },
     "metadata": {},
     "output_type": "display_data"
    }
   ],
   "source": [
    "val f3 = wait_a_bit_and_callback()"
   ]
  },
  {
   "cell_type": "code",
   "execution_count": 23,
   "id": "a69cf89d",
   "metadata": {},
   "outputs": [
    {
     "name": "stdout",
     "output_type": "stream",
     "text": [
      "Hello World\n",
      "Got the callback!!\n",
      "Hello World completed successfully\n"
     ]
    },
    {
     "data": {
      "text/plain": [
       "\u001b[36mg\u001b[39m: \u001b[32mString\u001b[39m = \u001b[32m\"Hello World\"\u001b[39m"
      ]
     },
     "execution_count": 23,
     "metadata": {},
     "output_type": "execute_result"
    }
   ],
   "source": [
    "// Run this cell .. it will now block\n",
    "// Let's mimic this cell running for a while\n",
    "val g = Await.result(f3, scala.concurrent.duration.Duration.Inf)\n",
    "println(g)"
   ]
  },
  {
   "cell_type": "code",
   "execution_count": 24,
   "id": "0113f33e",
   "metadata": {},
   "outputs": [
    {
     "name": "stdout",
     "output_type": "stream",
     "text": [
      "Hello World\n",
      "Got the callback!!\n",
      "Hello World completed successfully\n"
     ]
    },
    {
     "data": {
      "text/plain": [
       "\u001b[36mte\u001b[39m: \u001b[32mString\u001b[39m = \u001b[32m\"Hello World\"\u001b[39m"
      ]
     },
     "execution_count": 24,
     "metadata": {},
     "output_type": "execute_result"
    }
   ],
   "source": [
    "val te= Await.result(wait_a_bit_and_callback(),scala.concurrent.duration.Duration.Inf)\n",
    "println(te)"
   ]
  },
  {
   "cell_type": "code",
   "execution_count": null,
   "id": "367ab2f1",
   "metadata": {},
   "outputs": [],
   "source": []
  }
 ],
 "metadata": {
  "kernelspec": {
   "display_name": "Scala",
   "language": "scala",
   "name": "scala"
  },
  "language_info": {
   "codemirror_mode": "text/x-scala",
   "file_extension": ".sc",
   "mimetype": "text/x-scala",
   "name": "scala",
   "nbconvert_exporter": "script",
   "version": "2.13.4"
  }
 },
 "nbformat": 4,
 "nbformat_minor": 5
}
