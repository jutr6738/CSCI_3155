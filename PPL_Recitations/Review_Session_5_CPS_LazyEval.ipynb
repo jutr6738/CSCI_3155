{
 "cells": [
  {
   "cell_type": "markdown",
   "metadata": {},
   "source": [
    "# Review 5- Programming Styles: CPS and Lazy Evaluations"
   ]
  },
  {
   "cell_type": "markdown",
   "metadata": {},
   "source": [
    "# PART (1/2) :: Continuation Passing Style (CPS)\n",
    "\n",
    "### -What is CPS?\n",
    "   Normally a function takes some input then returns some value and then the caller of the function continues to do something with that returned value. \n",
    "\n",
    "   In CPS, instead of returning some value, the function would take a continuation function, which represents what the caller would do with the returned value, as a first-class parameter, and calls the continuation where the normal function returns the result. CPS is a style of programming where every function will have some extra argument called the 'continuation'. \n",
    "   \n",
    "A continuation is a function that is passed in and specifies what the caller\n",
    "wishes to do with the result that has been computed. \n",
    "\n",
    "### -What's the big deal? I don't like CPS.\n",
    "Ultimately, the benefit of using CPS is computational resource management. If you are not limited by memory or processor resources, there's probably not a reason to use CPS in your programming style.\n",
    "\n",
    "The benefit of CPS is that the style aims to free up computational resources by removing processor/memory allocation that is no londer necessary. This can be done by storing only the latest argument values or evaluations from a recursive function so that it never goes into the more than 1-deep when implimenting its own recursion. \n",
    "\n",
    "When not using CPS in your programming style, the function is not limited by how much resources it uses to run. Possibly going many thousands of times into a recursion loop. Storing each evaluation, instantiation of methods and variables, etc. each and every time the function is called in the recursion loop until it is finished. As you might imagine, this can get out of control...\n",
    "\n",
    "### -What is a continuation in CPS?\n",
    "A continuation is a function that is passed in and specifies what the caller\n",
    "wishes to do with the result that has been computed.\n",
    "\n",
    "Take for instance, a function `func` that takes in an integer and returns an integer.\n",
    "~~~\n",
    "def func(x: Int): Int = {\n",
    "     // .. do some work to compute result .. \n",
    "     return result\n",
    "}\n",
    "~~~\n",
    "\n",
    "In the CPS, this function is now written as\n",
    "\n",
    "~~~\n",
    "def func-k(x: Int, k: Int => Int) : Int = {\n",
    "    //  .. do some work to compute result ..\n",
    "    k(result) // Pass the result onto the continuation.\n",
    "}\n",
    "~~~\n",
    "\n",
    "Note that `func-k` takes in an extra argument `k` called continuation. It\n",
    "is the function through which the caller specifies what they want done with\n",
    "the result of the call. Rather than return the result and make the caller operate\n",
    "on it, the caller simply bundles up the results and passes it all in.\n",
    "\n",
    "Let us look at a concrete example. First take a look at these three functions defined below.\n",
    "\n",
    "### -What can I put inside a continuation?\n",
    "1) Technically, anything you want. But usually just function OUTPUTS that are used as INPUTS for the next evaluation to limit the depth of a recursive loop.\n",
    "\n",
    "2) However, you can also pass ERRORS instead of letting the compiler raise an exception. This lets you deal with the error at the very end (assuming it gets there).\n",
    "\n"
   ]
  },
  {
   "cell_type": "code",
   "execution_count": 2,
   "metadata": {},
   "outputs": [
    {
     "data": {
      "text/plain": [
       "defined \u001b[32mfunction\u001b[39m \u001b[36maddOne\u001b[39m"
      ]
     },
     "execution_count": 2,
     "metadata": {},
     "output_type": "execute_result"
    }
   ],
   "source": [
    "// This function takes an integer x and returns x + 1\n",
    "def addOne(x: Int): Int = {\n",
    "    val result = x + 1\n",
    "    result\n",
    "}"
   ]
  },
  {
   "cell_type": "code",
   "execution_count": 3,
   "metadata": {},
   "outputs": [
    {
     "data": {
      "text/plain": [
       "\u001b[36mres2\u001b[39m: \u001b[32mInt\u001b[39m = \u001b[32m6\u001b[39m"
      ]
     },
     "execution_count": 3,
     "metadata": {},
     "output_type": "execute_result"
    }
   ],
   "source": [
    "addOne(5)"
   ]
  },
  {
   "cell_type": "markdown",
   "metadata": {},
   "source": [
    "#### Arguments: \n",
    "#### x : Standard argument value.\n",
    "\n",
    "#### k : Continuation. Passes the results of the previous call to the function onto the next function call.\n",
    "\n",
    "#### Types:\n",
    "#### x : Integer\n",
    "#### k : A delta function (=>) that takes an integer (the previous x) and outputs a new integer (the previous function output). \n",
    "\n",
    "### Structurally, continuations in general usually look like this k argument."
   ]
  },
  {
   "cell_type": "code",
   "execution_count": 4,
   "metadata": {},
   "outputs": [
    {
     "data": {
      "text/plain": [
       "defined \u001b[32mfunction\u001b[39m \u001b[36maddOne_cps\u001b[39m"
      ]
     },
     "execution_count": 4,
     "metadata": {},
     "output_type": "execute_result"
    }
   ],
   "source": [
    "// In CPS, we would write...\n",
    "def addOne_cps(x: Int, k: Int => Int): Int = {\n",
    "    val result = x + 1\n",
    "    k(result)\n",
    "}"
   ]
  },
  {
   "cell_type": "code",
   "execution_count": 5,
   "metadata": {
    "scrolled": true
   },
   "outputs": [
    {
     "data": {
      "text/plain": [
       "\u001b[36msquare\u001b[39m: \u001b[32mInt\u001b[39m => \u001b[32mInt\u001b[39m = ammonite.$sess.cmd4$Helper$$Lambda$1855/750474367@142da80e\r\n",
       "\u001b[36mres4_1\u001b[39m: \u001b[32mInt\u001b[39m = \u001b[32m36\u001b[39m"
      ]
     },
     "execution_count": 5,
     "metadata": {},
     "output_type": "execute_result"
    }
   ],
   "source": [
    "val square: Int => Int = y => y * y\n",
    "addOne_cps(5, square)"
   ]
  },
  {
   "cell_type": "code",
   "execution_count": 6,
   "metadata": {
    "scrolled": true
   },
   "outputs": [
    {
     "data": {
      "text/plain": [
       "defined \u001b[32mfunction\u001b[39m \u001b[36maddTwo_cps\u001b[39m"
      ]
     },
     "execution_count": 6,
     "metadata": {},
     "output_type": "execute_result"
    }
   ],
   "source": [
    "// Use generics to allow any return type for k\n",
    "def addTwo_cps[T](x: Int, k: Int => T): T = {\n",
    "    val result = x + 2\n",
    "    k(result)\n",
    "}"
   ]
  },
  {
   "cell_type": "code",
   "execution_count": 7,
   "metadata": {},
   "outputs": [
    {
     "data": {
      "text/plain": [
       "\u001b[36mres6\u001b[39m: \u001b[32mInt\u001b[39m = \u001b[32m49\u001b[39m"
      ]
     },
     "execution_count": 7,
     "metadata": {},
     "output_type": "execute_result"
    }
   ],
   "source": [
    "addTwo_cps(5, square)"
   ]
  },
  {
   "cell_type": "code",
   "execution_count": 8,
   "metadata": {},
   "outputs": [
    {
     "data": {
      "text/plain": [
       "\u001b[36mres7\u001b[39m: \u001b[32mList\u001b[39m[\u001b[32mInt\u001b[39m] = \u001b[33mList\u001b[39m(\u001b[32m7\u001b[39m)"
      ]
     },
     "execution_count": 8,
     "metadata": {},
     "output_type": "execute_result"
    }
   ],
   "source": [
    "addTwo_cps(5, x => List(x))"
   ]
  },
  {
   "cell_type": "markdown",
   "metadata": {},
   "source": [
    "### Another Example\n",
    "Here, we will write a function `madd_k` which will-\n",
    "- call `multiply_k` on x, y and pass a continuation `k1` to `multiply_k`\n",
    "- The continuation `k1` should-\n",
    "  1. Call addUp_k\n",
    "  2. Pass the result on to continuation k"
   ]
  },
  {
   "cell_type": "code",
   "execution_count": 11,
   "metadata": {},
   "outputs": [
    {
     "data": {
      "text/plain": [
       "defined \u001b[32mfunction\u001b[39m \u001b[36maddUp_k\u001b[39m\r\n",
       "defined \u001b[32mfunction\u001b[39m \u001b[36mmultiply_k\u001b[39m\r\n",
       "defined \u001b[32mfunction\u001b[39m \u001b[36mmadd_k\u001b[39m"
      ]
     },
     "execution_count": 11,
     "metadata": {},
     "output_type": "execute_result"
    }
   ],
   "source": [
    "// (A) => (B) => (C)\n",
    "\n",
    "def addUp_k(n: Int, m: Int, B: Int => Int): Int = {\n",
    "    B(n + m)\n",
    "}\n",
    "\n",
    "def multiply_k(x: Int, y: Int, A: Int => Int): Int = {\n",
    "    A( x * y)\n",
    "}\n",
    "\n",
    "def madd_k(x: Int, y: Int, C: Int => Int): Int ={\n",
    "    multiply_k(x,y, v1=> addUp_k(v1, 4, C) )\n",
    "    //def B_output(v1: Int): Int = addUp_k(v1, 4, C)\n",
    "   // multiply_k(x, y, B_output)\n",
    "}"
   ]
  },
  {
   "cell_type": "code",
   "execution_count": 12,
   "metadata": {},
   "outputs": [
    {
     "data": {
      "text/plain": [
       "\u001b[36mres11\u001b[39m: \u001b[32mInt\u001b[39m = \u001b[32m20\u001b[39m"
      ]
     },
     "execution_count": 12,
     "metadata": {},
     "output_type": "execute_result"
    }
   ],
   "source": [
    "madd_k(2, 3, input => input * 2)"
   ]
  },
  {
   "cell_type": "markdown",
   "metadata": {},
   "source": [
    "#### [FIRST]\n",
    "##### -Run multiply_k (x*y) to get 2x3=6 and pass that result to its continuation : (A).\n",
    "\n",
    "#### [SECOND]\n",
    "##### - Take the continuation from multiply_k (A=6) and give it to add_k to get 6 + 3 = 9 and pass that result to its continuation : (B).\n",
    "\n",
    "#### [THIRD]\n",
    "##### -Take the continuation from add_k (B=9) and evaluate it on the continuation from madd_k : (C).\n",
    "\n",
    "#### ORDER OF OPERATIONS:\n",
    "#### C [     B [     A [x * y]     + 3]        * 2]      =      [     [     [2 * 3]     + 3]     * 2] "
   ]
  },
  {
   "cell_type": "markdown",
   "metadata": {},
   "source": [
    "### Example: Side Effects\n",
    "Given the following functions, change them to use continuations:"
   ]
  },
  {
   "cell_type": "code",
   "execution_count": 13,
   "metadata": {},
   "outputs": [
    {
     "data": {
      "text/plain": [
       "defined \u001b[32mfunction\u001b[39m \u001b[36mprintFive\u001b[39m"
      ]
     },
     "execution_count": 13,
     "metadata": {},
     "output_type": "execute_result"
    }
   ],
   "source": [
    "// Function with side effects\n",
    "def printFive(f: Int => String): Int = {\n",
    "    val five = 5\n",
    "    println(\"My value is: \"+ f(five))\n",
    "    five\n",
    "}"
   ]
  },
  {
   "cell_type": "code",
   "execution_count": 14,
   "metadata": {},
   "outputs": [
    {
     "data": {
      "text/plain": [
       "defined \u001b[32mfunction\u001b[39m \u001b[36mprintFive_cps\u001b[39m"
      ]
     },
     "execution_count": 14,
     "metadata": {},
     "output_type": "execute_result"
    }
   ],
   "source": [
    "def printFive_cps(f: Int => String, k: Int => Int): Int = {\n",
    "    // Your Code\n",
    "    val five = 5\n",
    "    print(\"My value now is: \" + f(five))\n",
    "    k(five)\n",
    "}"
   ]
  },
  {
   "cell_type": "code",
   "execution_count": 15,
   "metadata": {},
   "outputs": [
    {
     "name": "stdout",
     "output_type": "stream",
     "text": [
      "My value is: 5\n"
     ]
    },
    {
     "data": {
      "text/plain": [
       "\u001b[36mres14\u001b[39m: \u001b[32mInt\u001b[39m = \u001b[32m5\u001b[39m"
      ]
     },
     "execution_count": 15,
     "metadata": {},
     "output_type": "execute_result"
    }
   ],
   "source": [
    "printFive(x => x.toString)"
   ]
  },
  {
   "cell_type": "code",
   "execution_count": 16,
   "metadata": {},
   "outputs": [
    {
     "name": "stdout",
     "output_type": "stream",
     "text": [
      "My value now is: 5"
     ]
    },
    {
     "data": {
      "text/plain": [
       "\u001b[36mres15\u001b[39m: \u001b[32mInt\u001b[39m = \u001b[32m50\u001b[39m"
      ]
     },
     "execution_count": 16,
     "metadata": {},
     "output_type": "execute_result"
    }
   ],
   "source": [
    "printFive_cps(x => x.toString, y => y * 10)"
   ]
  },
  {
   "cell_type": "markdown",
   "metadata": {},
   "source": [
    "# Error Handling\n",
    "\n",
    "So far we have worked with continuation without any error. Now let's see how to handle error cases within continuation which is called the \"error continuation\". It is called whenever the program encounters an error.\n",
    "\n",
    "The type of our CPS function will become:\n",
    "\n",
    "fun_k(arg: ..., k: ResultType=> T, err_k: Unit => T ) : T\n",
    "\n",
    "Here, if some error arises in the computation that would normally be handled by throwing an exception, we will call the error continuation instead.\n",
    "\n"
   ]
  },
  {
   "cell_type": "code",
   "execution_count": 17,
   "metadata": {},
   "outputs": [
    {
     "data": {
      "text/plain": [
       "defined \u001b[32mfunction\u001b[39m \u001b[36merror_continuation_ex\u001b[39m"
      ]
     },
     "execution_count": 17,
     "metadata": {},
     "output_type": "execute_result"
    }
   ],
   "source": [
    "def error_continuation_ex[T](x: Int,  k: Int => T, err_k: () => T): T = {\n",
    "    x match {\n",
    "        case 1 => k(1)\n",
    "        case x if x > 1 => error_continuation_ex(x - 1, k, err_k)\n",
    "        case _ => err_k()\n",
    "    }\n",
    "}"
   ]
  },
  {
   "cell_type": "code",
   "execution_count": 18,
   "metadata": {},
   "outputs": [
    {
     "name": "stdout",
     "output_type": "stream",
     "text": [
      "I've found the one\n",
      "It took me a while! But I've found the one\n",
      "Havn't found the one yet!\n"
     ]
    }
   ],
   "source": [
    "println(error_continuation_ex(1, x => \"I've found the one\", () => \"Havn't found the one yet!\"))\n",
    "println(error_continuation_ex(10, x => \"It took me a while! But I've found the one\", () => \"Havn't found the one yet!\"))\n",
    "println(error_continuation_ex(0, x => \"I've found the one\", () => \"Havn't found the one yet!\"))"
   ]
  },
  {
   "cell_type": "markdown",
   "metadata": {},
   "source": [
    "### Exercise: Fibonacci"
   ]
  },
  {
   "cell_type": "code",
   "execution_count": 19,
   "metadata": {},
   "outputs": [
    {
     "data": {
      "text/plain": [
       "defined \u001b[32mfunction\u001b[39m \u001b[36mfibonacci\u001b[39m\r\n",
       "defined \u001b[32mfunction\u001b[39m \u001b[36mfib_cps\u001b[39m"
      ]
     },
     "execution_count": 19,
     "metadata": {},
     "output_type": "execute_result"
    }
   ],
   "source": [
    "def fibonacci(n: Int): Int = {\n",
    "    if (n < 2){\n",
    "        1\n",
    "    } else {\n",
    "        fibonacci(n-1) + fibonacci(n-2)\n",
    "    }    \n",
    "}\n",
    "\n",
    "// Fibonacci in Contiuation Passing Style\n",
    "def fib_cps (n: Int, k: (Int => Int)) : Int = n match{\n",
    "    case 0 => k(0)\n",
    "    case 1 => k(1)\n",
    "    case _ => {\n",
    "        fib_cps(n-1, v1=> \n",
    "                      fib_cps(n-2, \n",
    "                              v2=> k(v1+v2)))\n",
    "    }\n",
    "    \n",
    "}\n",
    "    \n",
    "    \n",
    "    \n",
    "    \n",
    "    \n",
    "//     case 0 => k(0)\n",
    "//     case 1 => k(1)\n",
    "//     case _ => fib_cps(n-1, (a: Int) => // This is a continuation for adding the first number\n",
    "//         fib_cps(n-2, (b: Int) => // This is another continuation for adding the second number\n",
    "//             k(a+b))) // This is the final continuation for adding the those two numbers\n",
    "// }"
   ]
  },
  {
   "cell_type": "code",
   "execution_count": 20,
   "metadata": {},
   "outputs": [],
   "source": [
    "assert(fib_cps(0, (x: Int) => x) == 0)\n",
    "assert(fib_cps(6, (x: Int) => x) == 8)\n",
    "assert(fib_cps(8, (x: Int) => x) == 21)"
   ]
  },
  {
   "cell_type": "markdown",
   "metadata": {},
   "source": [
    "# Key takeaway\n",
    "\n",
    "- We add an extra continuation argument to every function call in the program.\n",
    "- We transform the program so that all function calls happen at the tail position.\n",
    "- Finally, we __hope__ that the compiler/interpreter in all its goodness will optimize the tail call away."
   ]
  },
  {
   "cell_type": "markdown",
   "metadata": {},
   "source": [
    "# Part (2/2) :: Lazy Evaluations"
   ]
  },
  {
   "cell_type": "markdown",
   "metadata": {},
   "source": [
    "Lazy Evaluation is another evaluation strategy. This method delays the evaluation of an expression until its value is needed. Lazy evaluation can provide few benefits when compared to normal strict evaluation. They are as follows: \n",
    "\n",
    "1. It can provide performance enhancement by not doing calculations until needed — and they may not be done at all if the calculation is not used.\n",
    "\n",
    "2. It can increase the response time of applications by postponing the heavy operations until required.\n",
    "\n",
    "Scala supports lazy evaluation using two approaches:\n",
    "\n",
    "1. Call by NEED\n",
    "2. \"lazy\" keyword"
   ]
  },
  {
   "cell_type": "markdown",
   "metadata": {},
   "source": [
    "### Lazy Eval Scala Approach #1:  Call by NEED\n",
    "\n",
    "In Call-by-Name we just prepend the => symbol in the argument type. The Call-by-Name functions evaluate the passed-in expression’s value for every single use."
   ]
  },
  {
   "cell_type": "code",
   "execution_count": 21,
   "metadata": {},
   "outputs": [
    {
     "data": {
      "text/plain": [
       "defined \u001b[32mfunction\u001b[39m \u001b[36mprovideNumber\u001b[39m\r\n",
       "defined \u001b[32mfunction\u001b[39m \u001b[36mprovideNumber_different\u001b[39m\r\n",
       "defined \u001b[32mfunction\u001b[39m \u001b[36mcallByNameFunc\u001b[39m"
      ]
     },
     "execution_count": 21,
     "metadata": {},
     "output_type": "execute_result"
    }
   ],
   "source": [
    "// Call by Name\n",
    "def provideNumber(): Int = {\n",
    "    println(\"I'm searching for a number to give..\")\n",
    "    10 // always returns 10\n",
    "}\n",
    "\n",
    "def provideNumber_different(): Int = {\n",
    "    println(\"I'm searching for a....different....number to give..\")\n",
    "    50 // always returns 10\n",
    "}\n",
    "\n",
    "def callByNameFunc(n: => Int): Unit = {\n",
    "    val result = n + n + n + 5\n",
    "    print(s\"Result is : ${result}\")\n",
    "}"
   ]
  },
  {
   "cell_type": "markdown",
   "metadata": {},
   "source": [
    "**Question:** How many times will the string in provideNumber() be called??\n",
    "\n",
    "**Question:** How many times will the string in callByNameFunc() be called??\n",
    "\n",
    "**Answer**: ???"
   ]
  },
  {
   "cell_type": "code",
   "execution_count": 210,
   "metadata": {},
   "outputs": [
    {
     "name": "stdout",
     "output_type": "stream",
     "text": [
      "\n",
      "\n",
      "Using -- provideNumber -- for implimenting the delta function in callByNameFunc::\n",
      "I'm searching for a number to give..\n",
      "I'm searching for a number to give..\n",
      "I'm searching for a number to give..\n",
      "Result is : 35"
     ]
    }
   ],
   "source": [
    "println(\"\\n\\nUsing -- provideNumber -- for implimenting the delta function in callByNameFunc::\")\n",
    "callByNameFunc(provideNumber)"
   ]
  },
  {
   "cell_type": "code",
   "execution_count": 211,
   "metadata": {},
   "outputs": [
    {
     "name": "stdout",
     "output_type": "stream",
     "text": [
      "\n",
      "\n",
      "Using -- provideNumber_different -- for implimenting the delta function in callByNameFunc::\n",
      "I'm searching for a....different....number to give..\n",
      "I'm searching for a....different....number to give..\n",
      "I'm searching for a....different....number to give..\n",
      "Result is : 155"
     ]
    }
   ],
   "source": [
    "println(\"\\n\\nUsing -- provideNumber_different -- for implimenting the delta function in callByNameFunc::\")\n",
    "callByNameFunc(provideNumber_different)"
   ]
  },
  {
   "cell_type": "markdown",
   "metadata": {},
   "source": [
    "### Lazy Eval Scala Approach #2:  Just put the word lazy before a val decleration\n",
    "\n",
    "The compiler does not immediately evaluate the bound expression of a lazy val. It evaluates the variable only on its first access. Upon initial access, the compiler evaluates the expression and stores the result in the lazy val. Whenever we access this val at a later stage, no execution happens, and the compiler returns the result.\n",
    "\n",
    "To designate a val as lazy, we simply need to add the lazy keyword in front of the variable declaration."
   ]
  },
  {
   "cell_type": "code",
   "execution_count": 212,
   "metadata": {},
   "outputs": [
    {
     "data": {
      "text/plain": [
       "myNumber: Int = <lazy>\n"
      ]
     },
     "execution_count": 212,
     "metadata": {},
     "output_type": "execute_result"
    }
   ],
   "source": [
    "lazy val myNumber: Int = {\n",
    "    println(\"I'm assigning number 7 to myNumber\")\n",
    "    7\n",
    "}"
   ]
  },
  {
   "cell_type": "code",
   "execution_count": 213,
   "metadata": {},
   "outputs": [
    {
     "name": "stdout",
     "output_type": "stream",
     "text": [
      "I'm assigning number 7 to myNumber\n"
     ]
    },
    {
     "data": {
      "text/plain": [
       "result: Int = 27\n"
      ]
     },
     "execution_count": 213,
     "metadata": {},
     "output_type": "execute_result"
    }
   ],
   "source": [
    "val result: Int = myNumber + 20"
   ]
  },
  {
   "cell_type": "code",
   "execution_count": 214,
   "metadata": {},
   "outputs": [
    {
     "data": {
      "text/plain": [
       "res105: Int = 7\n"
      ]
     },
     "execution_count": 214,
     "metadata": {},
     "output_type": "execute_result"
    }
   ],
   "source": [
    "myNumber"
   ]
  },
  {
   "cell_type": "code",
   "execution_count": 215,
   "metadata": {},
   "outputs": [
    {
     "data": {
      "text/plain": [
       "callByNameFuncRevised: (n: => Int)Unit\n"
      ]
     },
     "execution_count": 215,
     "metadata": {},
     "output_type": "execute_result"
    }
   ],
   "source": [
    "// Exercise: Re-write callByNameFunc such that provideNumber is called only once.\n",
    "// Hint: Use lazy keyword to accomplish the task\n",
    "\n",
    "def callByNameFuncRevised(n: => Int): Unit = {\n",
    "    // BEGIN Solution\n",
    "    lazy val n1 = n\n",
    "    val result = n1 + n1 + n1 + 5 \n",
    "    // End Solution\n",
    "    print(s\"Result is : ${result}\")\n",
    "}"
   ]
  },
  {
   "cell_type": "code",
   "execution_count": 216,
   "metadata": {},
   "outputs": [
    {
     "name": "stdout",
     "output_type": "stream",
     "text": [
      "I'm searching for a number to give..\n",
      "Result is : 35"
     ]
    }
   ],
   "source": [
    "callByNameFuncRevised(provideNumber())"
   ]
  },
  {
   "cell_type": "markdown",
   "metadata": {},
   "source": [
    "### Hybrid Lazy Evaluations: Using both the 'lazy keyword' and 'call when needed'."
   ]
  },
  {
   "cell_type": "code",
   "execution_count": 217,
   "metadata": {},
   "outputs": [
    {
     "name": "stdout",
     "output_type": "stream",
     "text": [
      "Run their functions only when this value is observed:\n"
     ]
    },
    {
     "data": {
      "text/plain": [
       "Lazy_Run_Functions: Unit = <lazy>\n"
      ]
     },
     "execution_count": 217,
     "metadata": {},
     "output_type": "execute_result"
    }
   ],
   "source": [
    "println(\"Run their functions only when this value is observed:\")\n",
    "lazy val Lazy_Run_Functions: Unit = {callByNameFunc(provideNumber)}"
   ]
  },
  {
   "cell_type": "code",
   "execution_count": 218,
   "metadata": {},
   "outputs": [
    {
     "name": "stdout",
     "output_type": "stream",
     "text": [
      "I'm searching for a number to give..\n",
      "I'm searching for a number to give..\n",
      "I'm searching for a number to give..\n",
      "Result is : 35"
     ]
    }
   ],
   "source": [
    "Lazy_Run_Functions"
   ]
  },
  {
   "cell_type": "markdown",
   "metadata": {},
   "source": [
    "### Lazy Functors - filter vs. withFilter - Methods in the List API"
   ]
  },
  {
   "cell_type": "code",
   "execution_count": 219,
   "metadata": {},
   "outputs": [
    {
     "ename": "<console>",
     "evalue": "4: error: ';' expected but ':' found.",
     "output_type": "error",
     "traceback": [
      "<console>:4: error: ';' expected but ':' found.",
      "       withFilter: Only runs the input function",
      "                 ^",
      ""
     ]
    }
   ],
   "source": [
    "filter: Runs the input function on ALL members of the list IMMEDIATELY.\n",
    "\n",
    "withFilter: Only runs the input function"
   ]
  },
  {
   "cell_type": "code",
   "execution_count": 220,
   "metadata": {},
   "outputs": [
    {
     "data": {
      "text/plain": [
       "isLessThan30: (x: Int)Boolean\n",
       "myList: List[Int] = List(12, 78, 23, 56, 45, 29, 45, 9)\n"
      ]
     },
     "execution_count": 220,
     "metadata": {},
     "output_type": "execute_result"
    }
   ],
   "source": [
    "def isLessThan30(x: Int): Boolean = {\n",
    "    println(s\"Is ${x} less than 30?\")\n",
    "    println(x < 30)\n",
    "    x < 30\n",
    "}\n",
    "\n",
    "val myList: List[Int] = List(12, 78, 23, 56, 45, 29, 45, 9)"
   ]
  },
  {
   "cell_type": "code",
   "execution_count": 221,
   "metadata": {},
   "outputs": [
    {
     "name": "stdout",
     "output_type": "stream",
     "text": [
      "Is 12 less than 30?\n",
      "true\n",
      "Is 78 less than 30?\n",
      "false\n",
      "Is 23 less than 30?\n",
      "true\n",
      "Is 56 less than 30?\n",
      "false\n",
      "Is 45 less than 30?\n",
      "false\n",
      "Is 29 less than 30?\n",
      "true\n",
      "Is 45 less than 30?\n",
      "false\n",
      "Is 9 less than 30?\n",
      "true\n",
      "List(12, 23, 29, 9)\n"
     ]
    },
    {
     "data": {
      "text/plain": [
       "newList: List[Int] = List(12, 23, 29, 9)\n"
      ]
     },
     "execution_count": 221,
     "metadata": {},
     "output_type": "execute_result"
    }
   ],
   "source": [
    "// Normal Filter operation\n",
    "val newList = myList.filter(isLessThan30) // Filter creates a new collection\n",
    "println(newList)"
   ]
  },
  {
   "cell_type": "code",
   "execution_count": 222,
   "metadata": {},
   "outputs": [
    {
     "data": {
      "text/plain": [
       "newListLazy: scala.collection.generic.FilterMonadic[Int,List[Int]] = scala.collection.TraversableLike$WithFilter@21504647\n"
      ]
     },
     "execution_count": 222,
     "metadata": {},
     "output_type": "execute_result"
    }
   ],
   "source": [
    "// withFilter operation \n",
    "val newListLazy = myList.withFilter(isLessThan30) // Does not evaluate immediately, just returns the iterable but not\n",
    "// a new collection\n"
   ]
  },
  {
   "cell_type": "code",
   "execution_count": 223,
   "metadata": {},
   "outputs": [
    {
     "name": "stdout",
     "output_type": "stream",
     "text": [
      "scala.collection.TraversableLike$WithFilter@21504647\n"
     ]
    }
   ],
   "source": [
    "println(newListLazy)"
   ]
  },
  {
   "cell_type": "code",
   "execution_count": 224,
   "metadata": {},
   "outputs": [
    {
     "name": "stdout",
     "output_type": "stream",
     "text": [
      "Is 12 less than 30?\n",
      "true\n",
      "Is 78 less than 30?\n",
      "false\n",
      "Is 23 less than 30?\n",
      "true\n",
      "Is 56 less than 30?\n",
      "false\n",
      "Is 45 less than 30?\n",
      "false\n",
      "Is 29 less than 30?\n",
      "true\n",
      "Is 45 less than 30?\n",
      "false\n",
      "Is 9 less than 30?\n",
      "true\n"
     ]
    }
   ],
   "source": [
    "newListLazy.foreach(n => n) // Does not create a new list"
   ]
  },
  {
   "cell_type": "markdown",
   "metadata": {},
   "source": [
    "#### So does newListLazy now know the booleans evaluated on each member of the list??"
   ]
  },
  {
   "cell_type": "code",
   "execution_count": 182,
   "metadata": {},
   "outputs": [
    {
     "name": "stdout",
     "output_type": "stream",
     "text": [
      "scala.collection.TraversableLike$WithFilter@2436e955\n"
     ]
    }
   ],
   "source": [
    "println(newListLazy)"
   ]
  },
  {
   "cell_type": "markdown",
   "metadata": {},
   "source": [
    "### Advanced Lazy programming: Streams"
   ]
  },
  {
   "cell_type": "markdown",
   "metadata": {},
   "source": [
    "Streams are similar to list in scala. The only difference is that, in scala stream value will only be calculated when needed. Hence increases the performance of the program by not loading the value at once.\n",
    "\n",
    "Streams in Scala can be declared as below:"
   ]
  },
  {
   "cell_type": "markdown",
   "metadata": {},
   "source": [
    "#### Stream Exercise\n",
    "\n",
    "Use methods native to the List API inside of a Stream"
   ]
  },
  {
   "cell_type": "code",
   "execution_count": 446,
   "metadata": {},
   "outputs": [
    {
     "data": {
      "text/plain": [
       "stream: scala.collection.immutable.Stream[Int] = Stream(0, ?)\n",
       "res280: scala.collection.immutable.Stream[Int] = Stream(0, ?)\n"
      ]
     },
     "execution_count": 446,
     "metadata": {},
     "output_type": "execute_result"
    }
   ],
   "source": [
    "// Convert a Range object of values to a Stream object\n",
    "val stream = (0 to 100).toStream\n",
    "// BEFORE Evaluating any index location of the Stream list, it has ZERO knowledge on its contents.\n",
    "stream"
   ]
  },
  {
   "cell_type": "code",
   "execution_count": 447,
   "metadata": {},
   "outputs": [
    {
     "data": {
      "text/plain": [
       "res281: scala.collection.immutable.Stream[Int] = Stream(0, 1, 2, 3, 4, 5, 6, 7, 8, 9, 10, ?)\n"
      ]
     },
     "execution_count": 447,
     "metadata": {},
     "output_type": "execute_result"
    }
   ],
   "source": [
    "// Evaluate at a position that you want and it will know ALL PRECEEDING values up to that point\n",
    "stream(10)\n",
    "stream"
   ]
  },
  {
   "cell_type": "code",
   "execution_count": 448,
   "metadata": {},
   "outputs": [
    {
     "data": {
      "text/plain": [
       "res282: scala.collection.immutable.Stream[Int] = Stream(0, 1, 2, 3, 4, 5, 6, 7, 8, 9, 10, 11, 12, 13, 14, 15, 16, 17, 18, 19, 20, 21, 22, 23, 24, 25, 26, 27, 28, 29, 30, ?)\n"
      ]
     },
     "execution_count": 448,
     "metadata": {},
     "output_type": "execute_result"
    }
   ],
   "source": [
    "stream(30)\n",
    "stream"
   ]
  },
  {
   "cell_type": "code",
   "execution_count": 435,
   "metadata": {},
   "outputs": [
    {
     "data": {
      "text/plain": [
       "stream_map: scala.collection.immutable.Stream[Int] = Stream(0, ?)\n",
       "res270: scala.collection.immutable.Stream[Int] = Stream(0, ?)\n"
      ]
     },
     "execution_count": 435,
     "metadata": {},
     "output_type": "execute_result"
    }
   ],
   "source": [
    "// Pushing the stream object to a new value \n",
    "// does NOT bring with it all the information that stream list learned up to that point\n",
    "val stream_map = stream.map {_ * 10}\n",
    "stream_map"
   ]
  },
  {
   "cell_type": "code",
   "execution_count": 438,
   "metadata": {},
   "outputs": [
    {
     "data": {
      "text/plain": [
       "res273: scala.collection.immutable.Stream[Int] = Stream(0, 10, 20, 30, 40, 50, 60, 70, 80, 90, 100, 110, 120, 130, 140, 150, 160, 170, 180, 190, 200, ?)\n"
      ]
     },
     "execution_count": 438,
     "metadata": {},
     "output_type": "execute_result"
    }
   ],
   "source": [
    "stream_map(20)\n",
    "stream_map"
   ]
  },
  {
   "cell_type": "markdown",
   "metadata": {},
   "source": [
    "# REVIEW SUMMARY: CPS and Lazy Programming Styles"
   ]
  },
  {
   "cell_type": "markdown",
   "metadata": {},
   "source": [
    "## Style 1: CPS\n",
    "\n",
    "#### -Passes information in a dummy variable called the 'continuation' on the input needed for subsequent evaluations of a function.\n",
    "\n",
    "#### -Allows the programmer to limit the depth of a recursion loop to a depth of one. \n",
    "\n",
    "#### -Useful for resource limited programming.\n",
    "\n",
    "## Style 2: Lazy\n",
    "\n",
    "#### -Does not evaluate the functions or values used until it is needed (when it is observed).\n",
    "\n",
    "#### -Before the value is observed, Scala is totally unaware of what values or functions are within it.\n",
    "\n",
    "#### -Allows the programmer to hold off on implimenting a series of functions until they have the necessary information.\n",
    "\n",
    "#### -The Stream object is similar to a List (has all the same methods) but it will not evaluate the members of the Stream list until they are called. This is a list structured form of Lazy programming."
   ]
  },
  {
   "cell_type": "markdown",
   "metadata": {},
   "source": [
    "## Good Luck!!"
   ]
  }
 ],
 "metadata": {
  "celltoolbar": "Create Assignment",
  "kernelspec": {
   "display_name": "Scala",
   "language": "scala",
   "name": "scala"
  },
  "language_info": {
   "codemirror_mode": "text/x-scala",
   "file_extension": ".sc",
   "mimetype": "text/x-scala",
   "name": "scala",
   "nbconvert_exporter": "script",
   "version": "2.13.4"
  }
 },
 "nbformat": 4,
 "nbformat_minor": 2
}
