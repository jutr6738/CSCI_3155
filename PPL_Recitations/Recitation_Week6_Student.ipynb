{
 "cells": [
  {
   "cell_type": "markdown",
   "metadata": {},
   "source": [
    "# Recitation Week6\n",
    "\n",
    "In functional programming style we tend to avoid loops and replace it with tail recursive functions. \n",
    "\n",
    "Another mechanism that we will study now is that of \"functors\" such as \"map\", \"filter\" and \"fold\". These functors allow us to manipulate Lists of objects. But they also apply to other data structures in scala such as Maps.\n",
    "\n",
    "- Map: apply a function f to every element of a list.\n",
    "- Filter: keep just those elements of the list that satisfy a \"predicate\"\n",
    "- Fold (or reduce): perform an accumulative operation to every element of the list.\n",
    "\n",
    "Before we look closer at these operations, let us first familiarize ourselves with anonymous functions in scala. Often it is cumbersome to define functions by name where we would like to pass a function. Therefore, we will use \"anonymous\" functions.\n",
    "\n",
    "## Anonymous Functions\n",
    "\n",
    "A function which does not contain a name is known as an anonymous function. An anonymous function provides a lightweight function definition. It is useful when we want to create an inline function. Some Features of it-\n",
    "\n",
    "- You can write anonymous functions as little snippets of code\n",
    "- You can use them with methods on the List class like map and filter\n",
    "- With these little snippets of code and powerful methods like those, you can create a lot of functionality with very little code\n",
    "- \"=>\" is known as a transformer. The transformer is used to transform the parameter-list of the left-hand side of the symbol into a new result using the expression present on the right-hand side.\n",
    "\n",
    "Refer to this Scala Doc - https://docs.scala-lang.org/overviews/scala-book/anonymous-functions.html"
   ]
  },
  {
   "cell_type": "code",
   "execution_count": 1,
   "metadata": {},
   "outputs": [
    {
     "data": {
      "text/plain": [
       "defined \u001b[32mfunction\u001b[39m \u001b[36mis_one_imperative\u001b[39m\r\n",
       "\u001b[36mis_one\u001b[39m: \u001b[32mInt\u001b[39m => \u001b[32mBoolean\u001b[39m = ammonite.$sess.cmd0$Helper$$Lambda$1815/209460367@7e36fa00\r\n",
       "\u001b[36mis_one_pattern\u001b[39m: \u001b[32mInt\u001b[39m => \u001b[32mBoolean\u001b[39m = ammonite.$sess.cmd0$Helper$$Lambda$1816/479308660@1b36e652\r\n",
       "\u001b[36madd\u001b[39m: (\u001b[32mInt\u001b[39m, \u001b[32mInt\u001b[39m) => \u001b[32mInt\u001b[39m = ammonite.$sess.cmd0$Helper$$Lambda$1817/520180444@5ba61db9\r\n",
       "\u001b[36mcall_on_3\u001b[39m: \u001b[32mInt\u001b[39m => \u001b[32mInt\u001b[39m => \u001b[32mInt\u001b[39m = ammonite.$sess.cmd0$Helper$$Lambda$1819/1420073833@27608a3d"
      ]
     },
     "execution_count": 1,
     "metadata": {},
     "output_type": "execute_result"
    }
   ],
   "source": [
    "// Returns true if input is 1, false otherwise\n",
    "def is_one_imperative(x: Int): Boolean = {\n",
    "    (x==1)\n",
    "}\n",
    "assert(is_one_imperative(1))\n",
    "assert(!is_one_imperative(2))\n",
    "\n",
    "val is_one: (Int) => Boolean = x => (x == 1) \n",
    "//assigning a function to a variable called is_one\n",
    "//is_one is of type anomymous function\n",
    "assert(is_one(1))\n",
    "assert(!is_one(2))\n",
    "\n",
    "//we can use pattern matching with anomyous functions \n",
    "// new: pattern matching\n",
    "// Returns true if input is 1, false otherwise *using patterrn matching*\n",
    "val is_one_pattern: (Int) => Boolean = {\n",
    "    case 1 => true\n",
    "    case _ => false\n",
    "}\n",
    "assert(is_one_pattern(1))\n",
    "assert(!is_one_pattern(2))\n",
    "\n",
    "// new: multi-parameter\n",
    "// Returns the addition of the inputs\n",
    "val add: (Int, Int) => Int = (x, y) => x + y\n",
    "assert(add(1,2) == 3)\n",
    "\n",
    "// We can also directly write without putting a name to it\n",
    "assert(((x: Int, y: Int) => x + y)(1,2) == 3)\n",
    "\n",
    "// new: take funcs\n",
    "// Takes a function and applies it to 3\n",
    "//takes in a function that is f and returns an integer\n",
    "//f is a function that takes a int and returns an int\n",
    "val call_on_3: (Int => Int) => Int = f => f(3) / 2\n",
    "\n",
    "// We can also directly write\n",
    "assert( ( (f: (Int => Int) ) => f(3) / 2) (_ + 5) == 4)"
   ]
  },
  {
   "cell_type": "markdown",
   "metadata": {},
   "source": [
    "## Map, Filter and Fold (Reduce) Operations\n",
    "\n",
    "We will now replace the use of for-loops/while loops to iterate by operations on data structures such as `map`, `filter` and `fold`.\n",
    "\n",
    "\n",
    "## Map operation\n",
    "\n",
    "The idea of a map operation is to apply a function $f$ to every member of a container (eg., list, array, map, etc.) and return a new container.\n",
    "\n",
    "### Example 1\n",
    "\n",
    "We have a list `List(1, 3, 4, 5, 6, 110, 12, 2)`. We wish to compute the square of each element in the list and make a new list with the result."
   ]
  },
  {
   "cell_type": "code",
   "execution_count": 2,
   "metadata": {},
   "outputs": [
    {
     "data": {
      "text/plain": [
       "\u001b[36mres1\u001b[39m: \u001b[32mInt\u001b[39m = \u001b[32m1\u001b[39m"
      ]
     },
     "execution_count": 2,
     "metadata": {},
     "output_type": "execute_result"
    }
   ],
   "source": [
    "List[Int](1, 3, 4, 5, 6, 110, 12, 2).head"
   ]
  },
  {
   "cell_type": "code",
   "execution_count": 7,
   "metadata": {},
   "outputs": [
    {
     "data": {
      "text/plain": [
       "defined \u001b[32mfunction\u001b[39m \u001b[36mrecursivelySquareEachElt\u001b[39m\r\n",
       "\u001b[36mres6_1\u001b[39m: \u001b[32mList\u001b[39m[\u001b[32mInt\u001b[39m] = \u001b[33mList\u001b[39m(\u001b[32m100\u001b[39m)\r\n",
       "\u001b[36mres6_2\u001b[39m: \u001b[32mList\u001b[39m[\u001b[32mInt\u001b[39m] = \u001b[33mList\u001b[39m(\u001b[32m1\u001b[39m, \u001b[32m9\u001b[39m, \u001b[32m16\u001b[39m, \u001b[32m25\u001b[39m, \u001b[32m36\u001b[39m, \u001b[32m12100\u001b[39m, \u001b[32m144\u001b[39m, \u001b[32m4\u001b[39m)\r\n",
       "defined \u001b[32mfunction\u001b[39m \u001b[36msquareEachElt\u001b[39m\r\n",
       "\u001b[36mres6_4\u001b[39m: \u001b[32mList\u001b[39m[\u001b[32mInt\u001b[39m] = \u001b[33mList\u001b[39m(\u001b[32m1\u001b[39m, \u001b[32m9\u001b[39m, \u001b[32m16\u001b[39m, \u001b[32m25\u001b[39m, \u001b[32m36\u001b[39m, \u001b[32m12100\u001b[39m, \u001b[32m144\u001b[39m, \u001b[32m4\u001b[39m)"
      ]
     },
     "execution_count": 7,
     "metadata": {},
     "output_type": "execute_result"
    }
   ],
   "source": [
    "def recursivelySquareEachElt(l: List[Int], acc: List[Int] = Nil): List[Int] = {\n",
    "    if (l.length == 0)\n",
    "        acc\n",
    "    else\n",
    "        recursivelySquareEachElt(l.tail, acc ++ List[Int](l.head*l.head))\n",
    "}\n",
    "\n",
    "recursivelySquareEachElt(List(10))\n",
    "\n",
    "recursivelySquareEachElt(List(1, 3, 4, 5, 6, 110, 12, 2), Nil)\n",
    "\n",
    "def squareEachElt(l: List[Int]): List[Int] = {\n",
    "    l.map(x => x*x) // x => x * x is an anonymous function that squares its arguments.\n",
    "    //also can do l.map( (x:Int) => x*x )\n",
    "}\n",
    "\n",
    "squareEachElt(List(1, 3, 4, 5, 6, 110, 12, 2))"
   ]
  },
  {
   "cell_type": "markdown",
   "metadata": {},
   "source": [
    "## Filter Operation.\n",
    "\n",
    "Just like we have used map to apply a function to each element and make a new container, we use `filter` to remove all elements that do not satisfy a predicate.\n",
    "\n",
    "__Predicate__ A predicate is a funciton that takes in a value and returns true/false.\n",
    "\n",
    "`l.filter(c)` filters all those elements that do not satisfy the condition `c` from the list `l`."
   ]
  },
  {
   "cell_type": "code",
   "execution_count": 9,
   "metadata": {},
   "outputs": [
    {
     "data": {
      "text/plain": [
       "defined \u001b[32mfunction\u001b[39m \u001b[36mretainAllMultiplesOfThree\u001b[39m\r\n",
       "\u001b[36mres8_1\u001b[39m: \u001b[32mList\u001b[39m[\u001b[32mInt\u001b[39m] = \u001b[33mList\u001b[39m(\u001b[32m15\u001b[39m, \u001b[32m18\u001b[39m, \u001b[32m12\u001b[39m, \u001b[32m3\u001b[39m)"
      ]
     },
     "execution_count": 9,
     "metadata": {},
     "output_type": "execute_result"
    }
   ],
   "source": [
    "def retainAllMultiplesOfThree(l: List[Int]): List[Int] = {\n",
    "    l.filter( x => x%3 == 0 ) \n",
    "    //filters out all that are false when checking if x%3==0\n",
    "    //so it keeps all where if x%3==0 is true\n",
    "}\n",
    "\n",
    "retainAllMultiplesOfThree(List(10, 15, 18, 12, 3, 1, 5, 7, 8, 14))"
   ]
  },
  {
   "cell_type": "markdown",
   "metadata": {},
   "source": [
    "### Exercise `remove`\n",
    "\n",
    "Using `filter` remove a given letter from a string.\n",
    "\n",
    "$\n",
    "\\texttt{remove(\"hello, world!\", 'o')} \\mapsto \\texttt{\"hell, wrld!\"}\\\\\n",
    "\\texttt{remove(\"aaaAAAaaAAaaH!\", 'a')} \\mapsto \\texttt{\"AAAAAH!\"}\n",
    "$"
   ]
  },
  {
   "cell_type": "code",
   "execution_count": 10,
   "metadata": {},
   "outputs": [
    {
     "name": "stdout",
     "output_type": "stream",
     "text": [
      "It Worked!It Worked!"
     ]
    },
    {
     "data": {
      "text/plain": [
       "defined \u001b[32mfunction\u001b[39m \u001b[36mremove\u001b[39m"
      ]
     },
     "execution_count": 10,
     "metadata": {},
     "output_type": "execute_result"
    }
   ],
   "source": [
    "def remove(s : String, c : Char) : String = {\n",
    "    s.filter( s => s != c)\n",
    "}\n",
    "\n",
    "assert(remove(\"hello, world!\", 'o') == \"hell, wrld!\")\n",
    "print(\"It Worked!\")\n",
    "\n",
    "assert(remove(\"aaaAAAaaAAaaH!\", 'a') == \"AAAAAH!\")\n",
    "print(\"It Worked!\")"
   ]
  },
  {
   "cell_type": "code",
   "execution_count": 12,
   "metadata": {},
   "outputs": [
    {
     "data": {
      "text/plain": [
       "\u001b[36mres11\u001b[39m: \u001b[32mString\u001b[39m = \u001b[32m\"Julia is   really awesome\"\u001b[39m"
      ]
     },
     "execution_count": 12,
     "metadata": {},
     "output_type": "execute_result"
    }
   ],
   "source": [
    "remove(\"JuliaT is T T reallyT awesomeT\", 'T')"
   ]
  },
  {
   "cell_type": "markdown",
   "metadata": {},
   "source": [
    "## Higher Order Functions\n",
    "\n",
    "A higher-order function (HOF) is often defined as a function that (a) takes other functions as input parameters or (b) returns a function as a result. In Scala, HOFs are possible because functions are first-class values.\n",
    "\n",
    "## Fold Operations\n",
    "\n",
    "Fold/reduce operations are useful to gather all data thus far during a computation. Take a list\n",
    "\n",
    "$$[l_1, l_2, \\ldots, l_n] $$.\n",
    "\n",
    "We wish to sum up the numbers in the list.\n",
    "This is achieved in a loop with accumulator.\n",
    "~~~\n",
    "acc = 0\n",
    "for each item in List\n",
    "   acc = acc + item\n",
    "return acc\n",
    "~~~\n",
    "\n",
    "We can also do it with fold left operator.\n",
    "\n",
    "As an example consider the sum of the elements of a list above.\n",
    "\n",
    "\n",
    "\n",
    "Fold is a tricky operation to wrap one's head around. A list data structure gives us two versions of fold.\n",
    "\n",
    "### list.foldLeft (startVal) (fun)\n",
    "\n",
    "For list `[l1, l2, l3, ..., ln]` the function call computes the following unrolled function:\n",
    "\n",
    "` fun(.... fun( fun ( fun( startVal, l1), l2), l3), ....., ln)`\n",
    "This is equivalent to the following scala code:\n",
    "\n",
    "~~~\n",
    "var acc = startVal\n",
    "for (lj <- list)\n",
    "   acc =  fun(acc, lj) // Very imp: acc is the first argument and lj is the second argument.\n",
    "~~~\n",
    "\n",
    "\n",
    "\n",
    "### Exercise `last`\n",
    "\n",
    "Using `FoldLeft`, find the last element of a list. If the list is empty, use the default argument provided(See the third example)\n",
    "\n",
    "$\n",
    "\\texttt{last(List(2,4,5,7,9), 0)} \\mapsto \\texttt{9}\\\\\n",
    "\\texttt{last(\"scala is cool\", 'a')} \\mapsto \\texttt{'l'}\\\\\n",
    "\\texttt{last(\"\", 'a')} \\mapsto \\texttt{'a'}\n",
    "$\n"
   ]
  },
  {
   "cell_type": "code",
   "execution_count": 13,
   "metadata": {},
   "outputs": [
    {
     "data": {
      "text/plain": [
       "defined \u001b[32mfunction\u001b[39m \u001b[36mlast\u001b[39m\r\n",
       "\u001b[36mex1\u001b[39m: \u001b[32mList\u001b[39m[\u001b[32mInt\u001b[39m] = \u001b[33mList\u001b[39m(\u001b[32m2\u001b[39m, \u001b[32m4\u001b[39m, \u001b[32m5\u001b[39m, \u001b[32m7\u001b[39m, \u001b[32m9\u001b[39m)\r\n",
       "\u001b[36mex2\u001b[39m: \u001b[32mList\u001b[39m[\u001b[32mChar\u001b[39m] = \u001b[33mList\u001b[39m(\n",
       "  \u001b[32m's'\u001b[39m,\n",
       "  \u001b[32m'c'\u001b[39m,\n",
       "  \u001b[32m'a'\u001b[39m,\n",
       "  \u001b[32m'l'\u001b[39m,\n",
       "  \u001b[32m'a'\u001b[39m,\n",
       "  \u001b[32m' '\u001b[39m,\n",
       "  \u001b[32m'i'\u001b[39m,\n",
       "  \u001b[32m's'\u001b[39m,\n",
       "  \u001b[32m' '\u001b[39m,\n",
       "  \u001b[32m'c'\u001b[39m,\n",
       "  \u001b[32m'o'\u001b[39m,\n",
       "  \u001b[32m'o'\u001b[39m,\n",
       "  \u001b[32m'l'\u001b[39m\n",
       ")\r\n",
       "\u001b[36mex3\u001b[39m: \u001b[32mList\u001b[39m[\u001b[32mNothing\u001b[39m] = \u001b[33mList\u001b[39m()"
      ]
     },
     "execution_count": 13,
     "metadata": {},
     "output_type": "execute_result"
    }
   ],
   "source": [
    "def last[A](l : List[A], default : A) : A = {\n",
    "    //generic functions are functions with a generic type parameter \n",
    "    //[A] is a type parameter to the generic function \n",
    "    //so list can be of any type\n",
    "    l.foldLeft(default) ( (d: A, ele: A) => ele ) \n",
    "    //first () is the starting value, second() is the function that you want to pass\n",
    "    //we start at the value d and take each element and return that value\n",
    "}\n",
    "\n",
    "val ex1 = List(2,4,5,7,9)\n",
    "assert(last(ex1, 0) == 9)\n",
    "\n",
    "val ex2 = \"scala is cool\".toList\n",
    "assert(last(ex2, 'a') == 'l')\n",
    "\n",
    "val ex3 = List()\n",
    "assert(last(ex3, 'a') == 'a')"
   ]
  },
  {
   "cell_type": "markdown",
   "metadata": {},
   "source": [
    "### Exercise `len`\n",
    "\n",
    "Using `FoldLeft`, calculate the length of a list."
   ]
  },
  {
   "cell_type": "code",
   "execution_count": 14,
   "metadata": {},
   "outputs": [
    {
     "data": {
      "text/plain": [
       "defined \u001b[32mfunction\u001b[39m \u001b[36mlen\u001b[39m\r\n",
       "\u001b[36mex1\u001b[39m: \u001b[32mList\u001b[39m[\u001b[32mInt\u001b[39m] = \u001b[33mList\u001b[39m(\u001b[32m2\u001b[39m, \u001b[32m4\u001b[39m, \u001b[32m5\u001b[39m, \u001b[32m7\u001b[39m, \u001b[32m9\u001b[39m)\r\n",
       "\u001b[36mex2\u001b[39m: \u001b[32mList\u001b[39m[\u001b[32mChar\u001b[39m] = \u001b[33mList\u001b[39m(\n",
       "  \u001b[32m's'\u001b[39m,\n",
       "  \u001b[32m'c'\u001b[39m,\n",
       "  \u001b[32m'a'\u001b[39m,\n",
       "  \u001b[32m'l'\u001b[39m,\n",
       "  \u001b[32m'a'\u001b[39m,\n",
       "  \u001b[32m' '\u001b[39m,\n",
       "  \u001b[32m'i'\u001b[39m,\n",
       "  \u001b[32m's'\u001b[39m,\n",
       "  \u001b[32m' '\u001b[39m,\n",
       "  \u001b[32m'c'\u001b[39m,\n",
       "  \u001b[32m'o'\u001b[39m,\n",
       "  \u001b[32m'o'\u001b[39m,\n",
       "  \u001b[32m'l'\u001b[39m\n",
       ")\r\n",
       "\u001b[36mex3\u001b[39m: \u001b[32mList\u001b[39m[\u001b[32mNothing\u001b[39m] = \u001b[33mList\u001b[39m()"
      ]
     },
     "execution_count": 14,
     "metadata": {},
     "output_type": "execute_result"
    }
   ],
   "source": [
    "def len[A](xs : List[A]) : Int = {\n",
    "    xs.foldLeft (0)( (len: Int, ele: A) =>len+1 )\n",
    "}\n",
    "\n",
    "val ex1 = List(2,4,5,7,9)\n",
    "assert(len(ex1) == 5)\n",
    "\n",
    "val ex2 = \"scala is cool\".toList\n",
    "assert(len(ex2) == 13)\n",
    "\n",
    "val ex3 = List()\n",
    "assert(len(ex3) == 0)"
   ]
  },
  {
   "cell_type": "code",
   "execution_count": 16,
   "metadata": {},
   "outputs": [
    {
     "data": {
      "text/plain": [
       "\u001b[36mexample\u001b[39m: \u001b[32mList\u001b[39m[\u001b[32mInt\u001b[39m] = \u001b[33mList\u001b[39m(\u001b[32m2\u001b[39m, \u001b[32m4\u001b[39m, \u001b[32m5\u001b[39m, \u001b[32m7\u001b[39m, \u001b[32m3\u001b[39m, \u001b[32m4\u001b[39m, \u001b[32m5\u001b[39m, \u001b[32m9\u001b[39m)\r\n",
       "\u001b[36mres15_1\u001b[39m: \u001b[32mInt\u001b[39m = \u001b[32m8\u001b[39m"
      ]
     },
     "execution_count": 16,
     "metadata": {},
     "output_type": "execute_result"
    }
   ],
   "source": [
    "val example = List(2,4,5,7,3,4,5,9)\n",
    "len(example)"
   ]
  },
  {
   "cell_type": "code",
   "execution_count": null,
   "metadata": {},
   "outputs": [],
   "source": []
  }
 ],
 "metadata": {
  "kernelspec": {
   "display_name": "Scala",
   "language": "scala",
   "name": "scala"
  },
  "language_info": {
   "codemirror_mode": "text/x-scala",
   "file_extension": ".sc",
   "mimetype": "text/x-scala",
   "name": "scala",
   "nbconvert_exporter": "script",
   "version": "2.13.4"
  }
 },
 "nbformat": 4,
 "nbformat_minor": 4
}
