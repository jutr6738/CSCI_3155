{
 "cells": [
  {
   "cell_type": "markdown",
   "metadata": {},
   "source": [
    "## Lazy Evaluations\n",
    "\n",
    "Lazy Evaluation is an evaluation strategy which delays the evaluation of an expression until its value is needed. Lazy evaluation can provide few benefits when compared to normal strict evaluation. They are as follows: \n",
    "\n",
    "1. It can provide performance enhancement by not doing calculations until needed — and they may not be done at all if the calculation is not used.\n",
    "\n",
    "2. It can increase the response time of applications by postponing the heavy operations until required.\n",
    "\n",
    "Scala supports lazy evaluation using two approaches:\n",
    "\n",
    "1. Call by Need\n",
    "2. \"lazy\" keyword\n",
    "\n",
    "### Call by Name\n",
    "\n",
    "In Call-by-Name we just prepend the => symbol in the argument type. The Call-by-Name functions evaluate the passed-in expression’s value for every single use."
   ]
  },
  {
   "cell_type": "code",
   "execution_count": 16,
   "metadata": {},
   "outputs": [
    {
     "data": {
      "text/plain": [
       "defined \u001b[32mfunction\u001b[39m \u001b[36mprovideNumber\u001b[39m\r\n",
       "defined \u001b[32mfunction\u001b[39m \u001b[36mcallByNameFunc\u001b[39m"
      ]
     },
     "execution_count": 16,
     "metadata": {},
     "output_type": "execute_result"
    }
   ],
   "source": [
    "// Call by Name\n",
    "def provideNumber(): Int = {\n",
    "    println(\"I'm searching for a number to give..\") \n",
    "    //this will print 3 times beause we do n+n+n so its calling the function 3x\n",
    "    \n",
    "    10 // always returns 10\n",
    "}\n",
    "\n",
    "def callByNameFunc(n: => Int): Unit = {\n",
    "    val result = n + n + n + 5\n",
    "    //we aare evaluating n 3times so provideNumber println with print 3x\n",
    "    print(s\"Result is : ${result}\")\n",
    "}"
   ]
  },
  {
   "cell_type": "markdown",
   "metadata": {},
   "source": [
    "**Question:** How many times provideNumber() method will be called??\n",
    "\n",
    "**Answer**: ???"
   ]
  },
  {
   "cell_type": "code",
   "execution_count": 17,
   "metadata": {},
   "outputs": [
    {
     "name": "stdout",
     "output_type": "stream",
     "text": [
      "I'm searching for a number to give..\n",
      "I'm searching for a number to give..\n",
      "I'm searching for a number to give..\n",
      "Result is : 35"
     ]
    }
   ],
   "source": [
    "callByNameFunc(provideNumber)"
   ]
  },
  {
   "cell_type": "markdown",
   "metadata": {},
   "source": [
    "### Lazy keyword\n",
    "\n",
    "The compiler does not immediately evaluate the bound expression of a lazy val. It evaluates the variable only on its first access. Upon initial access, the compiler evaluates the expression and stores the result in the lazy val. Whenever we access this val at a later stage, no execution happens, and the compiler returns the result.\n",
    "\n",
    "To designate a val as lazy, we simply need to add the lazy keyword in front of the variable declaration."
   ]
  },
  {
   "cell_type": "code",
   "execution_count": 17,
   "metadata": {},
   "outputs": [
    {
     "name": "stderr",
     "output_type": "stream",
     "text": [
      "cmd17.sc:151: ')' expected but 'import' found.\n",
      "import myNumber$value.{value => myNumber}\n",
      "^Compilation Failed"
     ]
    },
    {
     "ename": "",
     "evalue": "",
     "output_type": "error",
     "traceback": [
      "Compilation Failed"
     ]
    }
   ],
   "source": [
    "lazy val myNumber: Int = {\n",
    "    println(\"I'm assigning number 7 to myNumber\")\n",
    "    7\n",
    "} \n",
    "//since we are just defining we are not evaluating so print does not print until we use it"
   ]
  },
  {
   "cell_type": "code",
   "execution_count": 18,
   "metadata": {},
   "outputs": [
    {
     "data": {
      "text/plain": [
       "\u001b[36mresult\u001b[39m: \u001b[32mInt\u001b[39m = \u001b[32m41\u001b[39m"
      ]
     },
     "execution_count": 18,
     "metadata": {},
     "output_type": "execute_result"
    }
   ],
   "source": [
    "val result: Int = myNumber + myNumber + myNumber + 20"
   ]
  },
  {
   "cell_type": "code",
   "execution_count": null,
   "metadata": {},
   "outputs": [],
   "source": []
  },
  {
   "cell_type": "code",
   "execution_count": 30,
   "metadata": {},
   "outputs": [
    {
     "data": {
      "text/plain": [
       "defined \u001b[32mfunction\u001b[39m \u001b[36mcallByNameFuncRevised\u001b[39m"
      ]
     },
     "execution_count": 30,
     "metadata": {},
     "output_type": "execute_result"
    }
   ],
   "source": [
    "// Exercise: Re-write callByNameFunc such that provideNumber is called only once.\n",
    "// Hint: Use lazy keyword to accomplish the task\n",
    "\n",
    "def callByNameFuncRevised(n: => Int): Unit = {\n",
    "    // BEGIN Solution\n",
    "    lazy val myn= n; \n",
    "    val result = myn + myn+ myn +5\n",
    "    // End Solution\n",
    "    print(s\"Result is : ${result}\")\n",
    "}"
   ]
  },
  {
   "cell_type": "code",
   "execution_count": 31,
   "metadata": {},
   "outputs": [
    {
     "name": "stdout",
     "output_type": "stream",
     "text": [
      "I'm searching for a number to give..\n",
      "Result is : 35"
     ]
    }
   ],
   "source": [
    "callByNameFuncRevised(provideNumber)"
   ]
  },
  {
   "cell_type": "markdown",
   "metadata": {},
   "source": [
    "### Lazy Functors - withFilter (Bonus)\n",
    "\n"
   ]
  },
  {
   "cell_type": "code",
   "execution_count": 32,
   "metadata": {},
   "outputs": [
    {
     "data": {
      "text/plain": [
       "defined \u001b[32mfunction\u001b[39m \u001b[36misLessThan30\u001b[39m\r\n",
       "\u001b[36mmyList\u001b[39m: \u001b[32mList\u001b[39m[\u001b[32mInt\u001b[39m] = \u001b[33mList\u001b[39m(\u001b[32m12\u001b[39m, \u001b[32m78\u001b[39m, \u001b[32m23\u001b[39m, \u001b[32m56\u001b[39m, \u001b[32m45\u001b[39m, \u001b[32m29\u001b[39m, \u001b[32m45\u001b[39m, \u001b[32m9\u001b[39m)"
      ]
     },
     "execution_count": 32,
     "metadata": {},
     "output_type": "execute_result"
    }
   ],
   "source": [
    "def isLessThan30(x: Int): Boolean = {\n",
    "    println(s\"Is ${x} less than 30?\")\n",
    "    x < 30\n",
    "}\n",
    "\n",
    "val myList: List[Int] = List(12, 78, 23, 56, 45, 29, 45, 9)"
   ]
  },
  {
   "cell_type": "code",
   "execution_count": 33,
   "metadata": {},
   "outputs": [
    {
     "name": "stdout",
     "output_type": "stream",
     "text": [
      "Is 12 less than 30?\n",
      "Is 78 less than 30?\n",
      "Is 23 less than 30?\n",
      "Is 56 less than 30?\n",
      "Is 45 less than 30?\n",
      "Is 29 less than 30?\n",
      "Is 45 less than 30?\n",
      "Is 9 less than 30?\n",
      "List(12, 23, 29, 9)\n"
     ]
    },
    {
     "data": {
      "text/plain": [
       "\u001b[36mnewList\u001b[39m: \u001b[32mList\u001b[39m[\u001b[32mInt\u001b[39m] = \u001b[33mList\u001b[39m(\u001b[32m12\u001b[39m, \u001b[32m23\u001b[39m, \u001b[32m29\u001b[39m, \u001b[32m9\u001b[39m)"
      ]
     },
     "execution_count": 33,
     "metadata": {},
     "output_type": "execute_result"
    }
   ],
   "source": [
    "// Normal Filter operation\n",
    "val newList = myList.filter(isLessThan30) // Filter creates a new collection\n",
    "println(newList)"
   ]
  },
  {
   "cell_type": "code",
   "execution_count": 35,
   "metadata": {},
   "outputs": [
    {
     "data": {
      "text/plain": [
       "\u001b[36mnewListLazy\u001b[39m: \u001b[32mcollection\u001b[39m.\u001b[32mWithFilter\u001b[39m[\u001b[32mInt\u001b[39m, \u001b[32mList\u001b[39m[\u001b[32m_\u001b[39m]] = scala.collection.IterableOps$WithFilter@1d6d192e"
      ]
     },
     "execution_count": 35,
     "metadata": {},
     "output_type": "execute_result"
    }
   ],
   "source": [
    "// withFilter operation \n",
    "val newListLazy = myList.withFilter(isLessThan30) // Does not evaluate immediately"
   ]
  },
  {
   "cell_type": "code",
   "execution_count": 37,
   "metadata": {},
   "outputs": [
    {
     "name": "stdout",
     "output_type": "stream",
     "text": [
      "scala.collection.IterableOps$WithFilter@1d6d192e\n"
     ]
    }
   ],
   "source": [
    "println(newListLazy)"
   ]
  },
  {
   "cell_type": "code",
   "execution_count": 38,
   "metadata": {},
   "outputs": [
    {
     "name": "stdout",
     "output_type": "stream",
     "text": [
      "Is 12 less than 30?\n",
      "12\n",
      "Is 78 less than 30?\n",
      "Is 23 less than 30?\n",
      "23\n",
      "Is 56 less than 30?\n",
      "Is 45 less than 30?\n",
      "Is 29 less than 30?\n",
      "29\n",
      "Is 45 less than 30?\n",
      "Is 9 less than 30?\n",
      "9\n"
     ]
    }
   ],
   "source": [
    "newListLazy.foreach(n => println(n)) // Does not create a new list"
   ]
  },
  {
   "cell_type": "markdown",
   "metadata": {},
   "source": [
    "### Streams\n",
    "\n",
    "Streams are similar to list in scala. The only difference is that, in scala stream value will only be calculated when needed. Hence increases the performance of the program by not loading the value at once.\n",
    "\n",
    "Streams in Scala can be declared as below:"
   ]
  },
  {
   "cell_type": "code",
   "execution_count": 39,
   "metadata": {},
   "outputs": [
    {
     "data": {
      "text/plain": [
       "\u001b[36mmyStream\u001b[39m: \u001b[32mStream\u001b[39m[\u001b[32mInt\u001b[39m] = \u001b[33mStream\u001b[39m(\u001b[32m1\u001b[39m, \u001b[32m2\u001b[39m, \u001b[32m3\u001b[39m, \u001b[32m4\u001b[39m, \u001b[32m5\u001b[39m)"
      ]
     },
     "execution_count": 39,
     "metadata": {},
     "output_type": "execute_result"
    }
   ],
   "source": [
    "val myStream: Stream[Int] = Stream(1, 2, 3, 4, 5) "
   ]
  },
  {
   "cell_type": "code",
   "execution_count": 40,
   "metadata": {},
   "outputs": [
    {
     "data": {
      "text/plain": [
       "\u001b[36mnewStream\u001b[39m: \u001b[32mStream\u001b[39m[\u001b[32mInt\u001b[39m] = \u001b[33mStream\u001b[39m(\u001b[32m0\u001b[39m, \u001b[32m1\u001b[39m, \u001b[32m2\u001b[39m, \u001b[32m3\u001b[39m, \u001b[32m4\u001b[39m, \u001b[32m5\u001b[39m)"
      ]
     },
     "execution_count": 40,
     "metadata": {},
     "output_type": "execute_result"
    }
   ],
   "source": [
    "// Adding an element to a stream \n",
    "val newStream = 0 #:: myStream"
   ]
  },
  {
   "cell_type": "markdown",
   "metadata": {},
   "source": [
    "#### Stream Exercise\n",
    "\n",
    "Write a program that creates an infinite stream of natural numbers starting from 1."
   ]
  },
  {
   "cell_type": "code",
   "execution_count": 42,
   "metadata": {},
   "outputs": [
    {
     "data": {
      "text/plain": [
       "\u001b[36mnatStream\u001b[39m: \u001b[32mStream\u001b[39m[\u001b[32mInt\u001b[39m] = \u001b[33mStream\u001b[39m(\n",
       "  \u001b[32m1\u001b[39m,\n",
       "  \u001b[32m2\u001b[39m,\n",
       "  \u001b[32m3\u001b[39m,\n",
       "  \u001b[32m4\u001b[39m,\n",
       "  \u001b[32m5\u001b[39m,\n",
       "  \u001b[32m6\u001b[39m,\n",
       "  \u001b[32m7\u001b[39m,\n",
       "  \u001b[32m8\u001b[39m,\n",
       "  \u001b[32m9\u001b[39m,\n",
       "  \u001b[32m10\u001b[39m,\n",
       "  \u001b[32m11\u001b[39m,\n",
       "  \u001b[32m12\u001b[39m,\n",
       "  \u001b[32m13\u001b[39m,\n",
       "  \u001b[32m14\u001b[39m,\n",
       "  \u001b[32m15\u001b[39m,\n",
       "  \u001b[32m16\u001b[39m,\n",
       "  \u001b[32m17\u001b[39m,\n",
       "  \u001b[32m18\u001b[39m,\n",
       "  \u001b[32m19\u001b[39m,\n",
       "  \u001b[32m20\u001b[39m,\n",
       "  \u001b[32m21\u001b[39m,\n",
       "  \u001b[32m22\u001b[39m,\n",
       "  \u001b[32m23\u001b[39m,\n",
       "  \u001b[32m24\u001b[39m,\n",
       "  \u001b[32m25\u001b[39m,\n",
       "  \u001b[32m26\u001b[39m,\n",
       "  \u001b[32m27\u001b[39m,\n",
       "  \u001b[32m28\u001b[39m,\n",
       "  \u001b[32m29\u001b[39m,\n",
       "  \u001b[32m30\u001b[39m,\n",
       "  \u001b[32m31\u001b[39m,\n",
       "  \u001b[32m32\u001b[39m,\n",
       "  \u001b[32m33\u001b[39m,\n",
       "  \u001b[32m34\u001b[39m,\n",
       "  \u001b[32m35\u001b[39m,\n",
       "  \u001b[32m36\u001b[39m,\n",
       "  \u001b[32m37\u001b[39m,\n",
       "  \u001b[32m38\u001b[39m,\n",
       "..."
      ]
     },
     "execution_count": 42,
     "metadata": {},
     "output_type": "execute_result"
    }
   ],
   "source": [
    "val natStream: Stream[Int] = {\n",
    "    // Begin Solution\n",
    "    1#::natStream.map(x=>x+1)\n",
    "    // End Solution\n",
    "}"
   ]
  },
  {
   "cell_type": "markdown",
   "metadata": {},
   "source": [
    "## Object-oriented Programming in Scala\n",
    "1. Encapsulation \n",
    "    - put data and methods that require that data together in a class\n",
    "    - use access modifiers for fine-grained control over which methods can access which data\n",
    "    - allows for modular code (use class methods, not their internal structure or data)\n",
    "2. Inheritance\n",
    "    - re-use code in many classes\n",
    "    - when trying to inherit from multiple classes (multiple inheritance), can run into problems\n",
    "3. Polymorphism\n",
    "    - overriding - runtime polymorphism - same function signature, but different class (child class)\n",
    "        - dynamic dispatch - picking a function at runtime based on the type or number of arguments passed\n",
    "    - overloading - compile time polymorphism - different function signature"
   ]
  },
  {
   "cell_type": "markdown",
   "metadata": {},
   "source": [
    "## Encapsulation: Objects, Classes, and Case Classes\n",
    "\n",
    "Objects are singletons in Scala - they don't take parameters and there is only one instance\n",
    "\n",
    "Classes take parameters and can be instantiated multiple times\n",
    "\n",
    "Case classes automatically create some of the \"boilerplate\" code for you\n",
    "(see https://docs.scala-lang.org/overviews/scala-book/case-classes.html)\n"
   ]
  },
  {
   "cell_type": "markdown",
   "metadata": {},
   "source": [
    "## Exercise: Implement the addition operator on Fractions"
   ]
  },
  {
   "cell_type": "code",
   "execution_count": 43,
   "metadata": {},
   "outputs": [
    {
     "data": {
      "text/plain": [
       "defined \u001b[32mfunction\u001b[39m \u001b[36mgcd\u001b[39m\r\n",
       "defined \u001b[32mclass\u001b[39m \u001b[36mFraction\u001b[39m"
      ]
     },
     "execution_count": 43,
     "metadata": {},
     "output_type": "execute_result"
    }
   ],
   "source": [
    "// https://en.wikipedia.org/wiki/Euclidean_algorithm\n",
    "// Greatest Common Divisor Helper Function\n",
    "def gcd(a: Long, b: Long): Long = b match {\n",
    "    case 0 => a\n",
    "    case n => gcd(b, a % b)\n",
    "}\n",
    "\n",
    "case class Fraction(num: Long, den: Long) {\n",
    "    def *(other: Fraction) = {\n",
    "        val newNum = num * other.num\n",
    "        val newDen = den * other.den\n",
    "        val greatestDiv = gcd(newNum, newDen)\n",
    "        // 2/5* 4/10 = 2*4 / 5*10= 8/50 = 4/25\n",
    "        Fraction(newNum / greatestDiv, newDen / greatestDiv)\n",
    "    }\n",
    "    \n",
    "    def +(other: Fraction) = {\n",
    "        // BEGIN SOLUTION\n",
    "        val newNum = num*other.den + other.num*den\n",
    "        val newDen = den * other.den\n",
    "        val greatestDiv = gcd(newNum, newDen)\n",
    "        Fraction(newNum / greatestDiv, newDen / greatestDiv)\n",
    "        // END SOLUTION\n",
    "    }\n",
    "    \n",
    "    // Curious? Comment and see what happens when printing\n",
    "    override def toString(): String = s\"Fraction: $num/$den\"\n",
    "}"
   ]
  },
  {
   "cell_type": "code",
   "execution_count": 44,
   "metadata": {},
   "outputs": [
    {
     "name": "stdout",
     "output_type": "stream",
     "text": [
      "Fraction: 5/2\n"
     ]
    },
    {
     "data": {
      "text/plain": [
       "\u001b[36mproductFrac\u001b[39m: \u001b[32mFraction\u001b[39m = \u001b[33mFraction\u001b[39m(num = \u001b[32m5L\u001b[39m, den = \u001b[32m2L\u001b[39m)"
      ]
     },
     "execution_count": 44,
     "metadata": {},
     "output_type": "execute_result"
    }
   ],
   "source": [
    "/* \n",
    "Explanation:\n",
    " newNum = 10 * 2 = 20\n",
    " newDen = 2 * 4 = 8\n",
    " greatestDiv = gcd(20, 8) = 4\n",
    " Fraction(20/4, 8/4) = Fraction(5, 2)\n",
    "*/\n",
    "\n",
    "val productFrac = Fraction(10, 2).*(Fraction(2, 4)) // Fraction(10, 2) * (Fraction(2, 4))\n",
    "println(productFrac) // When printing toString() is invoked"
   ]
  },
  {
   "cell_type": "code",
   "execution_count": 45,
   "metadata": {},
   "outputs": [
    {
     "name": "stdout",
     "output_type": "stream",
     "text": [
      "Fraction: 5/4\n"
     ]
    },
    {
     "data": {
      "text/plain": [
       "\u001b[36msumFrac\u001b[39m: \u001b[32mFraction\u001b[39m = \u001b[33mFraction\u001b[39m(num = \u001b[32m5L\u001b[39m, den = \u001b[32m4L\u001b[39m)"
      ]
     },
     "execution_count": 45,
     "metadata": {},
     "output_type": "execute_result"
    }
   ],
   "source": [
    "/*\n",
    "Explanation:\n",
    " newNum = (1 * 4) + (2 * 3) = 10\n",
    " newDen = 2 * 4 = 8\n",
    " greatestDiv = gcd(10, 8) = 2\n",
    " Fraction(10/2, 8/2) = Fraction(5, 4)\n",
    "*/\n",
    "\n",
    "val sumFrac = Fraction(1, 2) + Fraction(3, 4)\n",
    "println(sumFrac)"
   ]
  },
  {
   "cell_type": "markdown",
   "metadata": {},
   "source": [
    "### Exercise: Move common calculations to the Companion object (GCD and Div part) "
   ]
  },
  {
   "cell_type": "code",
   "execution_count": null,
   "metadata": {},
   "outputs": [],
   "source": [
    "class FractionV2(val num: Long, val den: Long) {\n",
    "    def *(other: FractionV2) = {\n",
    "        val newNum = num * other.num\n",
    "        val newDen = den * other.den\n",
    "        FractionV2(newNum, newDen) // Same as FractionV2.apply(newNum, newDen)\n",
    "    }\n",
    "    \n",
    "    def +(other: FractionV2) = {\n",
    "        // BEGIN SOLUTION\n",
    "        val newNum = num *other.den + other.num*den\n",
    "        val newDen = den * other.den\n",
    "        FractionV2(newNum, newDen)\n",
    "        // END SOLUTION\n",
    "    }\n",
    "    \n",
    "    override def toString() = s\"FractionV2: $num/$den\"\n",
    "}\n",
    "\n",
    "// Companion Object\n",
    "// https://docs.scala-lang.org/overviews/scala-book/companion-objects.html\n",
    "object FractionV2 {\n",
    "    def apply(num: Long, den: Long): FractionV2 = {\n",
    "        val greatestDiv = gcd(num, den)\n",
    "        new FractionV2(num / greatestDiv, den / greatestDiv)\n",
    "    }\n",
    "}\n",
    "\n",
    "// val f = new Fraction(2, 3)\n",
    "// Fraction(2, 3) = Fraction.apply(2, 3)"
   ]
  },
  {
   "cell_type": "code",
   "execution_count": null,
   "metadata": {},
   "outputs": [],
   "source": [
    "val productV2 = Fraction(10, 2) * Fraction(2, 4)\n",
    "println(productV2)"
   ]
  },
  {
   "cell_type": "markdown",
   "metadata": {},
   "source": [
    "## That's all folks!!"
   ]
  },
  {
   "cell_type": "code",
   "execution_count": null,
   "metadata": {},
   "outputs": [],
   "source": []
  }
 ],
 "metadata": {
  "kernelspec": {
   "display_name": "Scala",
   "language": "scala",
   "name": "scala"
  },
  "language_info": {
   "codemirror_mode": "text/x-scala",
   "file_extension": ".sc",
   "mimetype": "text/x-scala",
   "name": "scala",
   "nbconvert_exporter": "script",
   "version": "2.13.4"
  }
 },
 "nbformat": 4,
 "nbformat_minor": 2
}
