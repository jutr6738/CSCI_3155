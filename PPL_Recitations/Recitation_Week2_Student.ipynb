{
 "cells": [
  {
   "cell_type": "markdown",
   "id": "7ece3b2a",
   "metadata": {},
   "source": [
    "# Recitation Week 2\n",
    "\n",
    "In this recitation, we will focus on writing functions using recursion and tail recursions. We will also learn how to convert a non-recursive code to recursive version."
   ]
  },
  {
   "cell_type": "markdown",
   "id": "f246cafe",
   "metadata": {},
   "source": [
    "## Exercise 1\n",
    "\n",
    "Write a recursive function to get nth fibonacci number. A fibonacci sequence appears something like this 0, 1, 1, 2, 3, 5, 8, 13, 21, 34, 55, 89, 144, 233 and so on. A number in fibonacci sequence is obtained by summing up the previous two numbers. (Except for first two numbers which are always 0 and 1 respectively)"
   ]
  },
  {
   "cell_type": "code",
   "execution_count": 21,
   "id": "27be24ee",
   "metadata": {},
   "outputs": [
    {
     "data": {
      "text/plain": [
       "defined \u001b[32mfunction\u001b[39m \u001b[36mfibonacciRec\u001b[39m"
      ]
     },
     "execution_count": 21,
     "metadata": {},
     "output_type": "execute_result"
    }
   ],
   "source": [
    "def fibonacciRec(n: Int): Int = { \n",
    "    if (n==0){\n",
    "        0\n",
    "    }\n",
    "    else if (n<=2){\n",
    "        1\n",
    "    }\n",
    "    else {\n",
    "        fibonacciRec(n-1)+fibonacciRec(n-2)\n",
    "    }\n",
    "}"
   ]
  },
  {
   "cell_type": "code",
   "execution_count": 22,
   "id": "53a7ed6c",
   "metadata": {},
   "outputs": [
    {
     "data": {
      "text/plain": [
       "\u001b[36mnum1\u001b[39m: \u001b[32mInt\u001b[39m = \u001b[32m3\u001b[39m\r\n",
       "\u001b[36mnum2\u001b[39m: \u001b[32mInt\u001b[39m = \u001b[32m6\u001b[39m"
      ]
     },
     "execution_count": 22,
     "metadata": {},
     "output_type": "execute_result"
    }
   ],
   "source": [
    "val num1:Int = 3\n",
    "val num2:Int = 6\n",
    "assert(fibonacciRec(num1)==2, \"Failed. Correct answer is 2\") // Correct answer : 2\n",
    "assert(fibonacciRec(num2)==8, \"Failed. Correct answer is 8\") // Correct answer : 8"
   ]
  },
  {
   "cell_type": "code",
   "execution_count": 23,
   "id": "72f8e76b",
   "metadata": {},
   "outputs": [
    {
     "data": {
      "text/plain": [
       "defined \u001b[32mfunction\u001b[39m \u001b[36mfibonacciTailRec\u001b[39m"
      ]
     },
     "execution_count": 23,
     "metadata": {},
     "output_type": "execute_result"
    }
   ],
   "source": [
    "// Tail Recursive solution (for Reference)\n",
    "def fibonacciTailRec(x: Int, acc1: BigInt = 1, acc2: BigInt = 1): BigInt= { \n",
    "    if (x <= 2) { acc2 }\n",
    "    else{\n",
    "        fibonacciTailRec(x-1, acc2, acc1 + acc2)   // Move acc1's new value to acc2's previous value, move acc2's new value to be the sum of acc1 and acc2\n",
    "        // We have to repeat the process above x-1 more times to be able to compute fib(x)\n",
    "    }\n",
    "}"
   ]
  },
  {
   "cell_type": "code",
   "execution_count": 8,
   "id": "68199e53",
   "metadata": {},
   "outputs": [
    {
     "data": {
      "text/plain": [
       "\u001b[36mnum1\u001b[39m: \u001b[32mInt\u001b[39m = \u001b[32m3\u001b[39m\r\n",
       "\u001b[36mnum2\u001b[39m: \u001b[32mInt\u001b[39m = \u001b[32m6\u001b[39m"
      ]
     },
     "execution_count": 8,
     "metadata": {},
     "output_type": "execute_result"
    }
   ],
   "source": [
    "val num1:Int = 3\n",
    "val num2:Int = 6\n",
    "assert(fibonacciTailRec(num1)==2, \"Failed. Correct answer is 2\") // Correct answer : 2\n",
    "assert(fibonacciTailRec(num2)==8, \"Failed. Correct answer is 8\") // Correct answer : 8"
   ]
  },
  {
   "cell_type": "markdown",
   "id": "d1fbd839",
   "metadata": {},
   "source": [
    "## Exercise 2\n",
    "\n",
    "Complete below function which calculates sum of first 'N' natural numbers. Natural numbers start from 1,2...N."
   ]
  },
  {
   "cell_type": "code",
   "execution_count": 26,
   "id": "3f6ef647",
   "metadata": {},
   "outputs": [
    {
     "data": {
      "text/plain": [
       "\u001b[32mimport \u001b[39m\u001b[36mscala.annotation.tailrec\n",
       "\n",
       "\u001b[39m\r\n",
       "defined \u001b[32mfunction\u001b[39m \u001b[36msumOfNumbersTailRec\u001b[39m"
      ]
     },
     "execution_count": 26,
     "metadata": {},
     "output_type": "execute_result"
    }
   ],
   "source": [
    "import scala.annotation.tailrec\n",
    "\n",
    "@tailrec\n",
    "def sumOfNumbersTailRec(n: Int, accum:Int = 1): Int = {\n",
    "    // Complete the missing portions in this function\n",
    "    if (n<=1) { accum }\n",
    "    else {\n",
    "        sumOfNumbersTailRec(n-1, accum+n)\n",
    "    }\n",
    "}"
   ]
  },
  {
   "cell_type": "code",
   "execution_count": 27,
   "id": "5b354021",
   "metadata": {},
   "outputs": [
    {
     "data": {
      "text/plain": [
       "\u001b[36mnum1\u001b[39m: \u001b[32mInt\u001b[39m = \u001b[32m10\u001b[39m\r\n",
       "\u001b[36mnum2\u001b[39m: \u001b[32mInt\u001b[39m = \u001b[32m5\u001b[39m\r\n",
       "\u001b[36mres26_2\u001b[39m: \u001b[32mInt\u001b[39m = \u001b[32m55\u001b[39m\r\n",
       "\u001b[36mres26_3\u001b[39m: \u001b[32mInt\u001b[39m = \u001b[32m15\u001b[39m"
      ]
     },
     "execution_count": 27,
     "metadata": {},
     "output_type": "execute_result"
    }
   ],
   "source": [
    "val num1 = 10\n",
    "val num2 = 5\n",
    "sumOfNumbersTailRec(num1) // 55 is the correct answer\n",
    "sumOfNumbersTailRec(num2) // 15 is the correct answer"
   ]
  },
  {
   "cell_type": "markdown",
   "id": "5f5cccc0",
   "metadata": {},
   "source": [
    "## Exercise 3\n",
    "\n",
    "You are given a non recursive function to check if a string is a palindrome. Convert this function to it's tail recursive version."
   ]
  },
  {
   "cell_type": "code",
   "execution_count": null,
   "id": "a0798941",
   "metadata": {},
   "outputs": [],
   "source": [
    "def checkPalindrome(s: String): Boolean = {\n",
    "    var start: Int = 0\n",
    "    var end: Int = s.length-1\n",
    "    \n",
    "    while (start < end){\n",
    "        if (s(start) != s(end)) return false\n",
    "        start += 1\n",
    "        end -= 1\n",
    "    }\n",
    "    return true\n",
    "}"
   ]
  },
  {
   "cell_type": "code",
   "execution_count": null,
   "id": "85602d3b",
   "metadata": {},
   "outputs": [],
   "source": [
    "val s1 = \"abba\"; val s2 = \"scala\"; val s3 = \"malayalam\"; val s4 = \"aabb\"\n",
    "assert(checkPalindrome(s1)==true, s\"Failed. $s1 is a palindrome\") // Palindrome\n",
    "assert(checkPalindrome(s2)==false, s\"Failed. $s1 is not a palindrome\") // not palindrome\n",
    "assert(checkPalindrome(s3)==true, s\"Failed. $s3 is a palindrome\") // palindrome\n",
    "assert(checkPalindrome(s4)==false, s\"Failed. $s1 is not a palindrome\") // not palindrome"
   ]
  },
  {
   "cell_type": "code",
   "execution_count": 30,
   "id": "89109fa4",
   "metadata": {},
   "outputs": [
    {
     "data": {
      "text/plain": [
       "\u001b[32mimport \u001b[39m\u001b[36mscala.annotation.tailrec\n",
       "\n",
       "\u001b[39m\r\n",
       "defined \u001b[32mfunction\u001b[39m \u001b[36mcheckPalindromeTailRec\u001b[39m"
      ]
     },
     "execution_count": 30,
     "metadata": {},
     "output_type": "execute_result"
    }
   ],
   "source": [
    "// Complete this tail recursive function\n",
    "import scala.annotation.tailrec\n",
    "\n",
    "@tailrec\n",
    "def checkPalindromeTailRec(s:String, start:Int, end:Int): Boolean = {\n",
    "    if (start>=end){\n",
    "        true\n",
    "    } \n",
    "    else if ( s(start) == s(end) ){\n",
    "        checkPalindromeTailRec(s, start+1, end-1)\n",
    "    }\n",
    "    else {\n",
    "        false\n",
    "    }\n",
    "}"
   ]
  },
  {
   "cell_type": "code",
   "execution_count": 31,
   "id": "3f6b8fc6",
   "metadata": {},
   "outputs": [
    {
     "data": {
      "text/plain": [
       "\u001b[36ms1\u001b[39m: \u001b[32mString\u001b[39m = \u001b[32m\"abba\"\u001b[39m\r\n",
       "\u001b[36ms2\u001b[39m: \u001b[32mString\u001b[39m = \u001b[32m\"scala\"\u001b[39m\r\n",
       "\u001b[36ms3\u001b[39m: \u001b[32mString\u001b[39m = \u001b[32m\"malayalam\"\u001b[39m\r\n",
       "\u001b[36ms4\u001b[39m: \u001b[32mString\u001b[39m = \u001b[32m\"aabb\"\u001b[39m\r\n",
       "\u001b[36mres30_4\u001b[39m: \u001b[32mBoolean\u001b[39m = true\r\n",
       "\u001b[36mres30_5\u001b[39m: \u001b[32mBoolean\u001b[39m = false\r\n",
       "\u001b[36mres30_6\u001b[39m: \u001b[32mBoolean\u001b[39m = true\r\n",
       "\u001b[36mres30_7\u001b[39m: \u001b[32mBoolean\u001b[39m = false"
      ]
     },
     "execution_count": 31,
     "metadata": {},
     "output_type": "execute_result"
    }
   ],
   "source": [
    "val s1 = \"abba\"; val s2 = \"scala\"; val s3 = \"malayalam\"; val s4 = \"aabb\"\n",
    "checkPalindromeTailRec(s1, 0, s1.length - 1) // true Palindrome\n",
    "checkPalindromeTailRec(s2, 0, s2.length - 1) // false  not palindrome\n",
    "checkPalindromeTailRec(s3, 0, s3.length - 1) // true palindrome\n",
    "checkPalindromeTailRec(s4, 0, s4.length - 1) // false not palindrome"
   ]
  },
  {
   "cell_type": "markdown",
   "id": "28f00b7a",
   "metadata": {},
   "source": [
    "## Discussion : Unit type\n",
    "\n",
    "In Scala, every statement is treated as an expression and is evaluated to a value. 'Unit' is the type to which  the side effects like assignment statement, println etc., are evaluated to. Unit is denoted by symbol ( )"
   ]
  },
  {
   "cell_type": "code",
   "execution_count": 40,
   "id": "e652670b",
   "metadata": {},
   "outputs": [
    {
     "name": "stdout",
     "output_type": "stream",
     "text": [
      "Result: ()\n",
      "Value of a: 15\n"
     ]
    },
    {
     "data": {
      "text/html": [
       "<div class=\"jp-RenderedText\">\n",
       "<pre><code><span style=\"color: rgb(0, 187, 187)\"><span class=\"ansi-cyan-fg\">a</span></span>: <span style=\"color: rgb(0, 187, 0)\"><span class=\"ansi-green-fg\">Int</span></span> = <span style=\"color: rgb(0, 187, 0)\"><span class=\"ansi-green-fg\">15</span></span></code></pre>\n",
       "</div>"
      ],
      "text/plain": [
       "\u001b[36ma\u001b[39m: \u001b[32mInt\u001b[39m = \u001b[32m15\u001b[39m"
      ]
     },
     "metadata": {},
     "output_type": "display_data"
    }
   ],
   "source": [
    "// Example 1\n",
    "var a = 10\n",
    "val result = (a = a+5) //if we change this to val result= a then it will be type int instead of unit\n",
    "println(s\"Result: $result\")\n",
    "println(s\"Value of a: $a\")"
   ]
  },
  {
   "cell_type": "code",
   "execution_count": 45,
   "id": "3528b0ee",
   "metadata": {},
   "outputs": [
    {
     "name": "stdout",
     "output_type": "stream",
     "text": [
      "Evaluated to: Hello\n",
      "Evaluated to: ()\n"
     ]
    },
    {
     "data": {
      "text/plain": [
       "\u001b[36mx\u001b[39m: \u001b[32mString\u001b[39m = \u001b[32m\"Hello\"\u001b[39m"
      ]
     },
     "execution_count": 45,
     "metadata": {},
     "output_type": "execute_result"
    }
   ],
   "source": [
    "val x = if (a>10) \"Hello\" else \"World\" //this evaluates to Hello, which is a string\n",
    "val p = println(s\"Evaluated to: $x\") //this evaluates to unit\n",
    "println(s\"Evaluated to: $p\")"
   ]
  },
  {
   "cell_type": "markdown",
   "id": "ba0a22d8",
   "metadata": {},
   "source": [
    "#### Explanation: \n",
    "\n",
    "The variable 'a' is assigned a value 15 by this assignment expression and the assignment expression itself is evaluated to Unit"
   ]
  },
  {
   "cell_type": "code",
   "execution_count": 62,
   "id": "ca607c6c",
   "metadata": {},
   "outputs": [
    {
     "name": "stdout",
     "output_type": "stream",
     "text": [
      "I will be evaluated to Unit after I get printed\n",
      "what yo\n"
     ]
    },
    {
     "data": {
      "text/plain": [
       "\u001b[36mwhatAmI\u001b[39m: \u001b[32mString\u001b[39m = \u001b[32m\"yo\"\u001b[39m"
      ]
     },
     "execution_count": 62,
     "metadata": {},
     "output_type": "execute_result"
    }
   ],
   "source": [
    "// Example 2\n",
    "\n",
    "//type of whatA\n",
    "\n",
    "val whatAmI = if (a > 20) {\n",
    "    \"Hello\"\n",
    "} else {\n",
    "    println(\"I will be evaluated to Unit after I get printed\")\n",
    "    \"yo\"\n",
    "}\n",
    "println(s\"what $whatAmI\")"
   ]
  },
  {
   "cell_type": "code",
   "execution_count": 63,
   "id": "4cf24260",
   "metadata": {},
   "outputs": [
    {
     "name": "stdout",
     "output_type": "stream",
     "text": [
      "What am I now? : yo\n"
     ]
    }
   ],
   "source": [
    "println(s\"What am I now? : $whatAmI\")"
   ]
  },
  {
   "cell_type": "markdown",
   "id": "3db58fd5",
   "metadata": {},
   "source": [
    "### That's all for today folks!!"
   ]
  },
  {
   "cell_type": "code",
   "execution_count": 11,
   "id": "643eab0d",
   "metadata": {},
   "outputs": [
    {
     "data": {
      "text/plain": [
       "\u001b[36mlst\u001b[39m: \u001b[32mList\u001b[39m[\u001b[32mInt\u001b[39m] = \u001b[33mList\u001b[39m(\u001b[32m2\u001b[39m, \u001b[32m4\u001b[39m, \u001b[32m5\u001b[39m, \u001b[32m7\u001b[39m, \u001b[32m6\u001b[39m)\r\n",
       "\u001b[36mres10_1\u001b[39m: \u001b[32mList\u001b[39m[\u001b[32mInt\u001b[39m] = \u001b[33mList\u001b[39m(\u001b[32m2\u001b[39m, \u001b[32m4\u001b[39m, \u001b[32m5\u001b[39m, \u001b[32m7\u001b[39m, \u001b[32m6\u001b[39m)"
      ]
     },
     "execution_count": 11,
     "metadata": {},
     "output_type": "execute_result"
    }
   ],
   "source": [
    "val lst: List[Int]= List(2,4,5,7,6)\n",
    "lst.head::lst.tail"
   ]
  },
  {
   "cell_type": "code",
   "execution_count": null,
   "id": "a93caa1a",
   "metadata": {},
   "outputs": [],
   "source": []
  }
 ],
 "metadata": {
  "kernelspec": {
   "display_name": "Scala",
   "language": "scala",
   "name": "scala"
  },
  "language_info": {
   "codemirror_mode": "text/x-scala",
   "file_extension": ".sc",
   "mimetype": "text/x-scala",
   "name": "scala",
   "nbconvert_exporter": "script",
   "version": "2.13.4"
  }
 },
 "nbformat": 4,
 "nbformat_minor": 5
}
