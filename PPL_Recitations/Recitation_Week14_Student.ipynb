{
 "cells": [
  {
   "cell_type": "markdown",
   "id": "4fcc817b-cb26-40a4-996c-86644b41026c",
   "metadata": {},
   "source": [
    "# Recitation 14!?\n",
    "Traits and Generics"
   ]
  },
  {
   "cell_type": "markdown",
   "id": "576ab214-6091-4d0c-a159-fe2f0d03c4ee",
   "metadata": {
    "tags": []
   },
   "source": [
    "## Traits\n",
    "\n",
    "Traits are an important mechanism for code reuse in scala. They allow us to define functionality that can be \n",
    "exported across multiple objects in the overall hierarchy. A trait is almost like an abstract class or an interface. It can define its own members and methods."
   ]
  },
  {
   "cell_type": "markdown",
   "id": "f603b9fb-41bf-47d8-9b42-54ad20fb0aa9",
   "metadata": {
    "nbgrader": {
     "grade": false,
     "grade_id": "cell-0117fb3b4cff7be1",
     "locked": true,
     "schema_version": 3,
     "solution": false
    },
    "tags": []
   },
   "source": [
    "For this exercise, we have defined two traits: `NumberOfLegs` that helps us define how many legs a given animal has and `WarmBlooded` that applies to warm blooded animals.  We also have an abstract class `Animal` as a superclass for all animals."
   ]
  },
  {
   "cell_type": "code",
   "execution_count": 9,
   "id": "c408198a-5ba2-4794-af69-ee1079f5d2b6",
   "metadata": {
    "nbgrader": {
     "grade": false,
     "grade_id": "cell-a6b29f417cfcdb22",
     "locked": true,
     "schema_version": 3,
     "solution": false
    }
   },
   "outputs": [
    {
     "data": {
      "text/plain": [
       "defined \u001b[32mclass\u001b[39m \u001b[36mAnimal\u001b[39m\r\n",
       "defined \u001b[32mtrait\u001b[39m \u001b[36mNumberOfLegs\u001b[39m\r\n",
       "defined \u001b[32mtrait\u001b[39m \u001b[36mWarmBlooded\u001b[39m"
      ]
     },
     "execution_count": 9,
     "metadata": {},
     "output_type": "execute_result"
    }
   ],
   "source": [
    "abstract class Animal\n",
    "\n",
    "trait NumberOfLegs { //not extends because may or may not be an animal\n",
    "    val nLegs: Int\n",
    "    def getNumberOfLegs: Int = nLegs\n",
    "}\n",
    "\n",
    "trait WarmBlooded extends Animal {\n",
    "    val bodyTempMaintained: Double\n",
    "    def getBodyTemp: Double = bodyTempMaintained \n",
    "}"
   ]
  },
  {
   "cell_type": "markdown",
   "id": "98173fce-40a0-4f01-9da9-4f4310b7a1df",
   "metadata": {
    "nbgrader": {
     "grade": false,
     "grade_id": "cell-abf7a17d89f0fb99",
     "locked": true,
     "schema_version": 3,
     "solution": false
    }
   },
   "source": [
    "We will define a class `Human` which will extend the appropriate classes and traits defined above.\n",
    "Our class will also take in a parameter called `Name` of type `String` and implement a `getName` method without any parameters.\n",
    "\n",
    "Which traits should we use for our human class? (Discuss this first then move onto the coding of the class)"
   ]
  },
  {
   "cell_type": "code",
   "execution_count": 12,
   "id": "85b37bee-0252-4be6-9f50-737d4d3ac245",
   "metadata": {
    "nbgrader": {
     "grade": false,
     "grade_id": "cell-e7a4a9275bd24e24",
     "locked": false,
     "schema_version": 3,
     "solution": true
    }
   },
   "outputs": [
    {
     "data": {
      "text/plain": [
       "defined \u001b[32mclass\u001b[39m \u001b[36mHuman\u001b[39m"
      ]
     },
     "execution_count": 12,
     "metadata": {},
     "output_type": "execute_result"
    }
   ],
   "source": [
    "class Human(Name: String) extends Animal with WarmBlooded with NumberOfLegs {\n",
    "    def getName: String = {\n",
    "        Name\n",
    "    }\n",
    "    override val nLegs= 2\n",
    "    override val bodyTempMaintained= 98.0\n",
    "}"
   ]
  },
  {
   "cell_type": "code",
   "execution_count": 13,
   "id": "7db685fc-7057-44d9-a72c-4bffe55e576d",
   "metadata": {
    "nbgrader": {
     "grade": true,
     "grade_id": "cell-f9b7ae8902326372",
     "locked": true,
     "points": 5,
     "schema_version": 3,
     "solution": false
    }
   },
   "outputs": [
    {
     "data": {
      "text/plain": [
       "\u001b[36mt1\u001b[39m: \u001b[32mHuman\u001b[39m = ammonite.$sess.cmd11$Helper$Human@65fcec24"
      ]
     },
     "execution_count": 13,
     "metadata": {},
     "output_type": "execute_result"
    }
   ],
   "source": [
    "//BEGIN TEST\n",
    "val t1 = new Human(\"Jane Smith\")\n",
    "assert(t1.getNumberOfLegs == 2, \"Your human does not have two legs\")\n",
    "assert(t1.bodyTempMaintained == 98.0, \"Your human does not maintain a body temp of 98\")\n",
    "assert(t1.getBodyTemp == 98.0, \"Your human's getBodyTemp Function is not working\")\n",
    "assert(t1.getName == \"Jane Smith\", \"Your human's name is not setting correctly\")\n",
    "//END TEST"
   ]
  },
  {
   "cell_type": "markdown",
   "id": "b985de89-e1ed-4531-b5fc-3ced87782c12",
   "metadata": {
    "nbgrader": {
     "grade": false,
     "grade_id": "cell-439f7e10a3556ae4",
     "locked": true,
     "schema_version": 3,
     "solution": false
    }
   },
   "source": [
    "Now we will define a class named `Table`.\n",
    "\n",
    "Which of the traits and classes should we extend? (discuss this first then advance to the coding) (if someone complains about the number of legs on a table, adjust the exercise so that the table class takes in the number of legs, and update the test)"
   ]
  },
  {
   "cell_type": "code",
   "execution_count": 14,
   "id": "993714ef-f40c-4801-9cc4-4d8199ab60db",
   "metadata": {
    "nbgrader": {
     "grade": false,
     "grade_id": "cell-8145df690b6f6588",
     "locked": false,
     "schema_version": 3,
     "solution": true
    }
   },
   "outputs": [
    {
     "data": {
      "text/plain": [
       "defined \u001b[32mclass\u001b[39m \u001b[36mTable\u001b[39m"
      ]
     },
     "execution_count": 14,
     "metadata": {},
     "output_type": "execute_result"
    }
   ],
   "source": [
    "// Write the Table class here, using the discussed traits\n",
    "class Table extends NumberOfLegs {\n",
    "    override val nLegs=4\n",
    "}"
   ]
  },
  {
   "cell_type": "code",
   "execution_count": 15,
   "id": "af162e07-5121-48b3-8e76-0f368c3f6705",
   "metadata": {
    "nbgrader": {
     "grade": true,
     "grade_id": "cell-d34b29b062b93894",
     "locked": true,
     "points": 5,
     "schema_version": 3,
     "solution": false
    }
   },
   "outputs": [
    {
     "data": {
      "text/plain": [
       "\u001b[36mtbl\u001b[39m: \u001b[32mTable\u001b[39m = ammonite.$sess.cmd13$Helper$Table@a5b3092"
      ]
     },
     "execution_count": 15,
     "metadata": {},
     "output_type": "execute_result"
    }
   ],
   "source": [
    "//BEGIN TEST\n",
    "val tbl = new Table()\n",
    "assert(tbl.getNumberOfLegs == 4, \"A Table must have four legs\")\n",
    "//END TEST"
   ]
  },
  {
   "cell_type": "markdown",
   "id": "b94b5cbf-d44b-4d2e-a307-c78eae87cbdf",
   "metadata": {},
   "source": [
    "We may want to do certain things based on a more precise type than a trait gives us, like only the humans in a list of instances of NumberOfLegs.\n",
    "While not as easy as pattern matching with case classes, this is possible by using the `isInstanceOf[T]` and the `asInstanceOf[T]` functions.\n",
    "\n",
    "The expression `obj.isInstanceOf[T]` returns true if `obj` is an instance of `T` and false otherwise.\n",
    "Similarly, `obj.asInstanceOf[T]` returns the same instance `obj`, but with the given type `T` (if it is an instance of `T`).\n",
    "\n",
    "To try out these functions, lets write a function to get the names of all the humans in a list of instances of the NumberOfLegs trait."
   ]
  },
  {
   "cell_type": "code",
   "execution_count": 18,
   "id": "7bfbf27f-fcf0-4844-901d-ef5299220093",
   "metadata": {},
   "outputs": [
    {
     "data": {
      "text/plain": [
       "defined \u001b[32mfunction\u001b[39m \u001b[36mgetNames\u001b[39m"
      ]
     },
     "execution_count": 18,
     "metadata": {},
     "output_type": "execute_result"
    }
   ],
   "source": [
    "def getNames(leggedThings : List[NumberOfLegs]): List[String] = {\n",
    "    leggedThings match {\n",
    "        case h :: t => {\n",
    "            if (h.isInstanceOf[Human]) {\n",
    "                val myHuman= h.asInstanceOf[Human]\n",
    "                val humName= myHuman.getName\n",
    "                val listofNames= humName::getNames(t) \n",
    "                //returning list with humans name with the rest of the names in the list\n",
    "                listofNames\n",
    "            }\n",
    "            else {\n",
    "                getNames(t) //not a human so move on\n",
    "            }\n",
    "        }\n",
    "        case Nil => Nil\n",
    "    }\n",
    "}"
   ]
  },
  {
   "cell_type": "code",
   "execution_count": 19,
   "id": "2e52ea73-effb-4f6f-bfa0-3e3d9a49c992",
   "metadata": {},
   "outputs": [
    {
     "data": {
      "text/plain": [
       "\u001b[36mleggedThings\u001b[39m: \u001b[32mList\u001b[39m[\u001b[32mNumberOfLegs\u001b[39m] = \u001b[33mList\u001b[39m(\n",
       "  ammonite.$sess.cmd11$Helper$Human@31e9abb1,\n",
       "  ammonite.$sess.cmd11$Helper$Human@289fa35d,\n",
       "  ammonite.$sess.cmd13$Helper$Table@799aefcd,\n",
       "  ammonite.$sess.cmd13$Helper$Table@434b86a7,\n",
       "  ammonite.$sess.cmd11$Helper$Human@9da8229\n",
       ")"
      ]
     },
     "execution_count": 19,
     "metadata": {},
     "output_type": "execute_result"
    }
   ],
   "source": [
    "// TEST CASE\n",
    "val leggedThings : List[NumberOfLegs] = List(new Human(\"Charles\"), new Human(\"Sukanya\"), new Table(), new Table(), new Human(\"Abhishek\"))\n",
    "assert(getNames(leggedThings) == List(\"Charles\", \"Sukanya\", \"Abhishek\"), \"Names don't match\")"
   ]
  },
  {
   "cell_type": "markdown",
   "id": "8c7a1cc2-9621-4485-8fd0-5f0715442710",
   "metadata": {
    "tags": []
   },
   "source": [
    "## Generics\n",
    "\n",
    "Generic classes and functions are classes that take a type as a parameter.\n",
    "We put these type parameters in square brackets (for example `List[String]` or `asInstanceOf[Human]` where we are passing `String` or `Human`, respectively)\n",
    "\n",
    "One common use case for generics is for collections like maps, trees, and lists.\n",
    "We will further exam generics using the example of lists."
   ]
  },
  {
   "cell_type": "markdown",
   "id": "aa79c2cd-4ee2-4cff-b965-e224834ed94e",
   "metadata": {},
   "source": [
    "If we wanted to define a list of integers, we could do something like this:"
   ]
  },
  {
   "cell_type": "code",
   "execution_count": 20,
   "id": "c5d7257f-a60d-4875-a713-1145bd70e770",
   "metadata": {},
   "outputs": [
    {
     "data": {
      "text/plain": [
       "defined \u001b[32mtrait\u001b[39m \u001b[36mIntList\u001b[39m\r\n",
       "defined \u001b[32mclass\u001b[39m \u001b[36mIntNil\u001b[39m\r\n",
       "defined \u001b[32mclass\u001b[39m \u001b[36mIntCons\u001b[39m"
      ]
     },
     "execution_count": 20,
     "metadata": {},
     "output_type": "execute_result"
    }
   ],
   "source": [
    "sealed trait IntList\n",
    "case class IntNil() extends IntList\n",
    "case class IntCons(head: Int, tail: IntList) extends IntList"
   ]
  },
  {
   "cell_type": "markdown",
   "id": "526afbb6-a37b-4138-92c9-3fd97271b2c9",
   "metadata": {},
   "source": [
    "But what if we needed a list of strings instead?\n",
    "We could write the following:"
   ]
  },
  {
   "cell_type": "code",
   "execution_count": 21,
   "id": "1e5c4521-c122-4e3e-bae1-3c9c21b0943a",
   "metadata": {},
   "outputs": [
    {
     "data": {
      "text/plain": [
       "defined \u001b[32mtrait\u001b[39m \u001b[36mStringList\u001b[39m\r\n",
       "defined \u001b[32mclass\u001b[39m \u001b[36mStringNil\u001b[39m\r\n",
       "defined \u001b[32mclass\u001b[39m \u001b[36mStringCons\u001b[39m"
      ]
     },
     "execution_count": 21,
     "metadata": {},
     "output_type": "execute_result"
    }
   ],
   "source": [
    "sealed trait StringList\n",
    "case class StringNil() extends StringList\n",
    "case class StringCons(head: String, tail: StringList) extends StringList"
   ]
  },
  {
   "cell_type": "markdown",
   "id": "961e70c2-59b4-4c60-981d-ee44ad848867",
   "metadata": {},
   "source": [
    "What about booleans? Or your custom class you wrote, such as `Human` above?\n",
    "We don't want to redefine these traits and the functions that work with them everytime we need a list for a different type.\n",
    "We could define a list holding objects of type `Any` (the supertype of all types), but this has problems when we try access the objects we put in the list.\n",
    "\n",
    "Instead we use generics.\n",
    "We do this by adding type parameters to our code.\n",
    "\n",
    "Coming back to our list example, we could write it using generics as follows:"
   ]
  },
  {
   "cell_type": "code",
   "execution_count": 22,
   "id": "6eec712c-7605-4bd0-af5d-a63b8307d412",
   "metadata": {},
   "outputs": [
    {
     "data": {
      "text/plain": [
       "defined \u001b[32mtrait\u001b[39m \u001b[36mGenericList\u001b[39m\r\n",
       "defined \u001b[32mclass\u001b[39m \u001b[36mGenericNil\u001b[39m\r\n",
       "defined \u001b[32mclass\u001b[39m \u001b[36mGenericCons\u001b[39m"
      ]
     },
     "execution_count": 22,
     "metadata": {},
     "output_type": "execute_result"
    }
   ],
   "source": [
    "sealed trait GenericList[T]\n",
    "\n",
    "case class GenericNil[T]() extends GenericList[T]\n",
    "case class GenericCons[T](h: T, t: GenericList[T]) extends GenericList[T]"
   ]
  },
  {
   "cell_type": "markdown",
   "id": "ef5aeae7-c1cd-4bc0-a9da-78e28b71928e",
   "metadata": {},
   "source": [
    "The type parameter `[T]` can be replaced with any class we want, either explicitly or by the type scala infers:"
   ]
  },
  {
   "cell_type": "code",
   "execution_count": 23,
   "id": "a5357833-4999-438d-9529-5bb322f5f9d9",
   "metadata": {},
   "outputs": [
    {
     "data": {
      "text/plain": [
       "\u001b[36mexplicit\u001b[39m: \u001b[32mGenericCons\u001b[39m[\u001b[32mString\u001b[39m] = \u001b[33mGenericCons\u001b[39m(\n",
       "  h = \u001b[32m\"hello\"\u001b[39m,\n",
       "  t = \u001b[33mGenericCons\u001b[39m(h = \u001b[32m\"world\"\u001b[39m, t = GenericNil())\n",
       ")\r\n",
       "\u001b[36minferred\u001b[39m: \u001b[32mGenericCons\u001b[39m[\u001b[32mString\u001b[39m] = \u001b[33mGenericCons\u001b[39m(\n",
       "  h = \u001b[32m\"hello\"\u001b[39m,\n",
       "  t = \u001b[33mGenericCons\u001b[39m(h = \u001b[32m\"world\"\u001b[39m, t = GenericNil())\n",
       ")"
      ]
     },
     "execution_count": 23,
     "metadata": {},
     "output_type": "execute_result"
    }
   ],
   "source": [
    "val explicit = GenericCons[String](\"hello\", GenericCons[String](\"world\", GenericNil[String]()))\n",
    "val inferred = GenericCons(\"hello\", GenericCons(\"world\", GenericNil()))"
   ]
  },
  {
   "cell_type": "code",
   "execution_count": 24,
   "id": "2df99eec-5ed0-43fa-8ed7-774b93c93f07",
   "metadata": {},
   "outputs": [
    {
     "data": {
      "text/plain": [
       "\u001b[36ml\u001b[39m: \u001b[32mGenericCons\u001b[39m[\u001b[32mInteger\u001b[39m] = \u001b[33mGenericCons\u001b[39m(h = \u001b[32m1\u001b[39m, t = GenericNil())"
      ]
     },
     "execution_count": 24,
     "metadata": {},
     "output_type": "execute_result"
    }
   ],
   "source": [
    "val l = GenericCons[Integer](1, GenericNil())"
   ]
  },
  {
   "cell_type": "markdown",
   "id": "3ac043a4-cd3c-4604-8e93-269864381193",
   "metadata": {},
   "source": [
    "As an exercise with our `GenericList`, let's define the map function for `GenericList`s"
   ]
  },
  {
   "cell_type": "code",
   "execution_count": 25,
   "id": "3bb30cef-9425-428f-a0f4-c377b6c9b6e0",
   "metadata": {},
   "outputs": [
    {
     "data": {
      "text/plain": [
       "defined \u001b[32mfunction\u001b[39m \u001b[36mmap\u001b[39m"
      ]
     },
     "execution_count": 25,
     "metadata": {},
     "output_type": "execute_result"
    }
   ],
   "source": [
    "def map[A,B](list: GenericList[A], function: (A) => B): GenericList[B] =  {\n",
    "    list match {\n",
    "        case GenericNil() => GenericNil[B]()\n",
    "        case GenericCons(head,tail) => {\n",
    "            val genB= function(head)\n",
    "            val mapTail=map(tail,function)\n",
    "            GenericCons[B](genB, mapTail)\n",
    "        \n",
    "        }\n",
    "    }\n",
    "}"
   ]
  },
  {
   "cell_type": "code",
   "execution_count": null,
   "id": "c0536f07",
   "metadata": {},
   "outputs": [],
   "source": []
  },
  {
   "cell_type": "markdown",
   "id": "05685615-ae48-4940-a94e-72b4f6bdb25e",
   "metadata": {
    "jp-MarkdownHeadingCollapsed": true,
    "tags": []
   },
   "source": [
    "### Type Bounds (If time permits)\n",
    "We can also apply restrictions on the the types used for our type parameters\n",
    "\n",
    "We can use `<:` to ensure that the type parameter is a subtype of the given type, or `:>` to ensure that the type parameter is a supertype of the given type."
   ]
  },
  {
   "cell_type": "code",
   "execution_count": null,
   "id": "5b821a65-6e3d-401b-a0ae-1e993620eb79",
   "metadata": {},
   "outputs": [],
   "source": [
    "sealed trait LegList[T <: NumberOfLegs]\n",
    "\n",
    "case class LegNil[T <: NumberOfLegs]() extends LegList[T]\n",
    "case class LegCons[T <: NumberOfLegs](h: T, t: LegList[T]) extends LegList[T]"
   ]
  },
  {
   "cell_type": "code",
   "execution_count": null,
   "id": "86c6accc-fa2f-467f-b51b-b2719347761e",
   "metadata": {},
   "outputs": [],
   "source": [
    "def countLegs[T <: NumberOfLegs](leggedThings : LegList[T]) : Int = leggedThings match {\n",
    "    case LegNil() => 0\n",
    "    case LegCons(h, t) => h.getNumberOfLegs + countLegs(t)\n",
    "}"
   ]
  },
  {
   "cell_type": "code",
   "execution_count": null,
   "id": "ec99744b-ddc4-4d0d-8ec0-a6e365d9d362",
   "metadata": {},
   "outputs": [],
   "source": [
    "def countLegs[T <: NumberOfLegs](leggedThings : List[T]): Int = {\n",
    "    leggedThings.foldLeft[Int](0)((accum, leggedThing) => accum + leggedThing.getNumberOfLegs)\n",
    "}"
   ]
  },
  {
   "cell_type": "markdown",
   "id": "3ffb1e34-e35f-43e8-8e32-1213fc40f093",
   "metadata": {},
   "source": [
    "Note that the ever useful `foldLeft` function also has a type parameter, which lets `foldLeft` return any type we want.  Of course, the compiler usually infers the type parameter's value, so we don't need include the type."
   ]
  },
  {
   "cell_type": "code",
   "execution_count": null,
   "id": "e624ca1a-216b-41c1-a85a-d7c8bf55a7ef",
   "metadata": {},
   "outputs": [],
   "source": []
  }
 ],
 "metadata": {
  "kernelspec": {
   "display_name": "Scala",
   "language": "scala",
   "name": "scala"
  },
  "language_info": {
   "codemirror_mode": "text/x-scala",
   "file_extension": ".sc",
   "mimetype": "text/x-scala",
   "name": "scala",
   "nbconvert_exporter": "script",
   "version": "2.13.4"
  }
 },
 "nbformat": 4,
 "nbformat_minor": 5
}
