{
 "cells": [
  {
   "cell_type": "markdown",
   "metadata": {},
   "source": [
    "# A type system for checking signedness\n",
    "$$\\newcommand\\Pos{\\textsf{Pos}}$$\n",
    "$$\\newcommand\\Neg{\\textsf{Neg}}$$\n",
    "$$\\newcommand\\Zero{\\textsf{Zero}}$$\n",
    "$$\\newcommand\\Any{\\textsf{Any}}$$\n",
    "$$\\newcommand\\typeOf{\\mathbf{typeOf}}$$\n",
    "$$\\newcommand\\semRule[3]{\\begin{array}{c} #1 \\\\ \\hline #2 \\\\ \\end{array}\\;(\\text{#3}) }$$\n",
    "\n",
    "Our type system have the following types:\n",
    "$$\\begin{array}{rcl}\n",
    "\\mathbf{Type} & \\rightarrow & \\Pos \\\\\n",
    "& \\rightarrow & \\Neg \\\\\n",
    "& \\rightarrow & \\Zero \\\\\n",
    "& \\rightarrow & \\Any \\\\\n",
    "\\end{array}$$\n",
    "\n",
    "with the following subset of Lettuce just involving arithmetic:\n",
    "\n",
    "$$\\begin{array}{rcl}\n",
    "\\mathbf{Expr} & \\rightarrow & Const(\\mathbf{Double}) \\\\\n",
    "& | & Plus(\\mathbf{Expr}, \\mathbf{Expr})\\\\\n",
    "& | & Mult(\\mathbf{Expr}, \\mathbf{Expr}) \\\\\n",
    "\\end{array}$$\n",
    "\n",
    "Recall from notes on \"Types and Type Checking\" that $\\typeOf(\\texttt{e}, \\alpha)$ is the type of an \n",
    "expression $\\texttt{e}$ under type environment $\\alpha$. The type environment maps identifiers in the current scope to  their annotated types.\n",
    "\n",
    "The semantic rules for our type system are as follows.\n",
    "\n",
    "The semantic rules for constants are:\n",
    "\n",
    "$$\\semRule{f > 0}{\\typeOf(\\texttt{Const(f)}, \\alpha) = \\Pos}{const-pos}$$\n",
    "\n",
    "$$\\semRule{f < 0}{\\typeOf(\\texttt{Const(f)}, \\alpha) = \\Neg}{const-neg}$$\n",
    "\n",
    "$$\\semRule{f = 0}{\\typeOf(\\texttt{Const(f)}, \\alpha) = \\Zero}{const-zero}$$\n",
    "\n",
    "\n",
    "\n",
    "The semantic rules for addition are:\n",
    "\n",
    "$$\\semRule{\\typeOf(e1, \\alpha) = \\Pos,\\ \\typeOf(e2, \\alpha) = \\Pos \\text{ or } \\typeOf(e2, \\alpha) = \\Zero}{\\typeOf(\\texttt{Plus(e1, e2)}, \\alpha) = \\Pos}{plus-pos-1}$$\n",
    "\n",
    "$$\\semRule{\\typeOf(e1, \\alpha) = \\Pos,\\ \\typeOf(e2, \\alpha) = \\Neg}{\\typeOf(\\texttt{Plus(e1, e2)}, \\alpha) = \\Any}{plus-pos-2}$$\n",
    "\n",
    "$$\\semRule{\\typeOf(e1, \\alpha) = \\Neg,\\ \\typeOf(e2, \\alpha) = \\Pos}{\\typeOf(\\texttt{Plus(e1, e2)}, \\alpha) = \\Any}{plus-neg-1}$$\n",
    "\n",
    "$$\\semRule{\\typeOf(e1, \\alpha) = \\Neg,\\ \\typeOf(e2, \\alpha) = \\Neg \\text{ or } \\typeOf(e2, \\alpha) = \\Zero}{\\typeOf(\\texttt{Plus(e1, e2)}, \\alpha) = \\Neg}{plus-neg-2}$$\n",
    "\n",
    "$$\\semRule{\\typeOf(e1, \\alpha) = \\Zero,\\ \\typeOf(e2, \\alpha) = \\Pos}{\\typeOf(\\texttt{Plus(e1, e2)}, \\alpha) = \\Pos}{plus-zero-1}$$\n",
    "\n",
    "$$\\semRule{\\typeOf(e1, \\alpha) = \\Zero,\\ \\typeOf(e2, \\alpha) = \\Zero}{\\typeOf(\\texttt{Plus(e1, e2)}, \\alpha) = \\Zero}{plus-zero-2}$$\n",
    "\n",
    "$$\\semRule{\\typeOf(e1, \\alpha) = \\Zero,\\ \\typeOf(e2, \\alpha) = \\Neg}{\\typeOf(\\texttt{Plus(e1, e2)}, \\alpha) = \\Neg}{plus-zero-3}$$\n",
    "\n",
    "$$\\semRule{\\typeOf(e1, \\alpha) = \\Any}{\\typeOf(\\texttt{Plus(e1, e2)}, \\alpha) = \\Any}{plus-any-1}$$\n",
    "\n",
    "$$\\semRule{\\typeOf(e2, \\alpha) = \\Any}{\\typeOf(\\texttt{Plus(e1, e2)}, \\alpha) = \\Any}{plus-any-2}$$\n",
    "\n",
    "\n",
    "\n",
    "The semantic rules for multiplication are:\n",
    "\n",
    "$$\\semRule{\\typeOf(e1, \\alpha) = \\Pos,\\ \\typeOf(e2, \\alpha) = \\Pos}{\\typeOf(\\texttt{Mult(e1, e2)}, \\alpha) = \\color{red}{??_1}}{mult-pos-1}$$\n",
    "\n",
    "$$\\semRule{\\typeOf(e1, \\alpha) = \\Pos,\\ \\typeOf(e2, \\alpha) = \\color{red}{??_3}}{\\typeOf(\\texttt{Mult(e1, e2)}, \\alpha) = \\color{red}{??_4}}{mult-pos-3}$$\n",
    "\n",
    "$$\\semRule{\\typeOf(e1, \\alpha) = \\Pos,\\ \\typeOf(e2, \\alpha) = \\Any}{\\typeOf(\\texttt{Mult(e1, e2)}, \\alpha) = \\color{red}{??_4}}{mult-pos-4}$$\n",
    "\n",
    "$$\\semRule{\\typeOf(e1, \\alpha) = \\Neg,\\ \\typeOf(e2, \\alpha) = \\Pos}{\\typeOf(\\texttt{Mult(e1, e2)}, \\alpha) = \\color{red}{??_5}}{mult-neg-1}$$\n",
    "\n",
    "$$\\semRule{\\typeOf(e1, \\alpha) = \\Neg,\\ \\typeOf(e2, \\alpha) = \\Neg}{\\typeOf(\\texttt{Mult(e1, e2)}, \\alpha) = \\color{red}{??_7}}{mult-neg-2}$$\n",
    "\n",
    "$$\\semRule{\\typeOf(e1, \\alpha) = \\Neg,\\ \\typeOf(e2, \\alpha) = \\color{red}{??_6}}{\\typeOf(\\texttt{Mult(e1, e2)}, \\alpha) = \\color{red}{??_8}}{mult-neg-3}$$\n",
    "\n",
    "$$\\semRule{\\typeOf(e1, \\alpha) = \\Zero}{\\typeOf(\\texttt{Mult(e1, e2)}, \\alpha) = \\Zero}{mult-zero-1}$$\n",
    "\n",
    "$$\\semRule{\\typeOf(e2, \\alpha) = \\Zero}{\\typeOf(\\texttt{Mult(e1, e2)}, \\alpha) = \\Zero}{mult-zero-2}$$"
   ]
  },
  {
   "cell_type": "code",
   "execution_count": 3,
   "metadata": {},
   "outputs": [
    {
     "data": {
      "text/plain": [
       "defined \u001b[32mtrait\u001b[39m \u001b[36mExpr\u001b[39m\n",
       "defined \u001b[32mclass\u001b[39m \u001b[36mConst\u001b[39m\n",
       "defined \u001b[32mclass\u001b[39m \u001b[36mPlus\u001b[39m\n",
       "defined \u001b[32mclass\u001b[39m \u001b[36mMult\u001b[39m"
      ]
     },
     "execution_count": 3,
     "metadata": {},
     "output_type": "execute_result"
    }
   ],
   "source": [
    "sealed trait Expr\n",
    "\n",
    "// Atoms\n",
    "case class Const(v: Double) extends Expr\n",
    "\n",
    "// Arithmetic Expressions\n",
    "case class Plus(e1: Expr, e2: Expr) extends Expr\n",
    "case class Mult(e1: Expr, e2: Expr) extends Expr"
   ]
  },
  {
   "cell_type": "code",
   "execution_count": 14,
   "metadata": {},
   "outputs": [
    {
     "data": {
      "text/plain": [
       "defined \u001b[32mtrait\u001b[39m \u001b[36mType\u001b[39m\n",
       "defined \u001b[32mobject\u001b[39m \u001b[36mPOS\u001b[39m\n",
       "defined \u001b[32mobject\u001b[39m \u001b[36mNEG\u001b[39m\n",
       "defined \u001b[32mobject\u001b[39m \u001b[36mANY\u001b[39m\n",
       "defined \u001b[32mobject\u001b[39m \u001b[36mZERO\u001b[39m\n",
       "defined \u001b[32mfunction\u001b[39m \u001b[36mtypeOf\u001b[39m"
      ]
     },
     "execution_count": 14,
     "metadata": {},
     "output_type": "execute_result"
    }
   ],
   "source": [
    "sealed trait Type\n",
    "\n",
    "case object POS extends Type\n",
    "case object NEG extends Type\n",
    "case object ANY extends Type\n",
    "case object ZERO extends Type\n",
    "\n",
    "def typeOf(e: Expr): Type = {\n",
    "    e match {\n",
    "        case Const(v) => ???\n",
    "\n",
    "        case Plus(e1,e2) => ???\n",
    "        \n",
    "        case Mult(e1,e2) => ???\n",
    "    }\n",
    "}"
   ]
  },
  {
   "cell_type": "code",
   "execution_count": 7,
   "metadata": {},
   "outputs": [],
   "source": [
    "assert (typeOf(Plus(Const(1.0), Const(-1.0))) == ANY)\n",
    "assert (typeOf(Plus(Const(1.0), Const(1.0))) == POS)\n",
    "assert (typeOf(Plus(Const(-1.0), Const(-1.0))) == NEG)\n",
    "assert (typeOf(Plus(Const(0.0), Const(0.0))) == ZERO)"
   ]
  },
  {
   "cell_type": "code",
   "execution_count": 15,
   "metadata": {},
   "outputs": [],
   "source": [
    "assert (typeOf(Mult(Const(1.0), Const(-1.0))) == NEG)\n",
    "assert (typeOf(Mult(Const(-1.0), Const(1.0))) == NEG)\n",
    "assert (typeOf(Mult(Const(1.0), Const(1.0))) == POS)\n",
    "assert (typeOf(Mult(Const(-1.0), Const(-1.0))) == POS)\n",
    "assert (typeOf(Mult(Const(0.0), Const(1.0))) == ZERO)\n",
    "assert (typeOf(Mult(Const(-1.0), Const(0.0))) == ZERO)"
   ]
  }
 ],
 "metadata": {
  "kernelspec": {
   "display_name": "Scala",
   "language": "scala",
   "name": "scala"
  },
  "language_info": {
   "codemirror_mode": "text/x-scala",
   "file_extension": ".scala",
   "mimetype": "text/x-scala",
   "name": "scala",
   "nbconvert_exporter": "script",
   "version": "2.13.1"
  }
 },
 "nbformat": 4,
 "nbformat_minor": 4
}
