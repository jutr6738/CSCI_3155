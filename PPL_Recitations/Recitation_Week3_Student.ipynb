{
 "cells": [
  {
   "cell_type": "markdown",
   "id": "de24ecff-b673-4051-8e25-ddbbebae9648",
   "metadata": {},
   "source": [
    "# Recitation Week 3\n",
    "\n",
    "This week we will review pattern matching and inductive data structures, and get some practice using them."
   ]
  },
  {
   "cell_type": "markdown",
   "id": "32b61604-e8f0-43c1-b562-f2c2cdc91b56",
   "metadata": {},
   "source": [
    "## Pattern Matching\n",
    "\n",
    "Pattern matching is a control structure we will use many times in this class, especially when dealing with inductive structures.\n",
    "Let's see some of the ways we can use pattern matching."
   ]
  },
  {
   "cell_type": "code",
   "execution_count": 8,
   "id": "a0e6a4ba-98d2-4e39-8075-c1fc17b0312b",
   "metadata": {},
   "outputs": [
    {
     "data": {
      "text/plain": [
       "\u001b[36mmyList\u001b[39m: \u001b[32mList\u001b[39m[\u001b[32mInt\u001b[39m] = \u001b[33mList\u001b[39m(\u001b[32m131\u001b[39m, \u001b[32m3155\u001b[39m)\r\n",
       "\u001b[36mres7_1\u001b[39m: \u001b[32mString\u001b[39m = \u001b[32m\"The Pair of Numbers 131 and 3155\"\u001b[39m"
      ]
     },
     "execution_count": 8,
     "metadata": {},
     "output_type": "execute_result"
    }
   ],
   "source": [
    "// What is the output of this code block? (Try to figure it out without running the code block)\n",
    "// How could we modify this code so it outputs \"The Pair of Numbers num1 and num2\" when myList has 2 elements?\n",
    "val myList = 131 :: 3155 :: Nil // or List(131, 3155)\n",
    "myList match {\n",
    "    case h :: Nil => s\"The Number $h\"\n",
    "    case h1 :: h2 :: Nil => s\"The Pair of Numbers $h1 and $h2\"\n",
    "    case h :: _ => \"Multiple Numbers, with head \" + h //underscore symbol is kinda like \"anything else\" \n",
    "}"
   ]
  },
  {
   "cell_type": "markdown",
   "id": "6e8579c5-fe53-4836-a677-e5ca517610cb",
   "metadata": {
    "jp-MarkdownHeadingCollapsed": true,
    "tags": []
   },
   "source": [
    "### More advanced pattern matching (extra)"
   ]
  },
  {
   "cell_type": "markdown",
   "id": "dcd11fce-a9d7-4a77-ae26-2e84220e5cf6",
   "metadata": {},
   "source": [
    "Pattern matching also has other features beyond those shown above.\n",
    "Some that might come in handy later in the course are shown below.\n",
    "In particular, pattern guards and matching multiple things in the same case.\n",
    "It is also possible to match on the type of a variable if the type of the value being matched on is unknown.\n",
    "\n",
    "Matching multiple patterns in a single case is done by placing a single vertical bar (`|`) between each pattern.  If any of the patterns is matched then the branch is taken. See line 6 in the code below.\n",
    "\n",
    "Pattern guards are used to make a case more specific then a pattern allows.  \n",
    "To use a guard we add the keyword `if` after the pattern and then put a boolean condition. If the pattern matches and the condition evaluates to `true`, then the case is taken.  Otherwise, the case is skipped.\n",
    "One example is on line 7 in the code below.  "
   ]
  },
  {
   "cell_type": "code",
   "execution_count": 10,
   "id": "276e427a-1dc9-411a-8e30-048d9d08289d",
   "metadata": {},
   "outputs": [
    {
     "data": {
      "text/plain": [
       "\u001b[36mnumThings\u001b[39m: \u001b[32mInt\u001b[39m = \u001b[32m-10\u001b[39m\r\n",
       "\u001b[36mres9_1\u001b[39m: \u001b[32mString\u001b[39m = \u001b[32m\"Less than zero things here!?\"\u001b[39m"
      ]
     },
     "execution_count": 10,
     "metadata": {},
     "output_type": "execute_result"
    }
   ],
   "source": [
    "val numThings = -10\n",
    "numThings match {\n",
    "    case 0 => \"Nothing here\"\n",
    "    case 1 => \"One thing here\"\n",
    "    case 2 => \"A couple things here\"\n",
    "    case 3 | 4 => \"A few things here\" // match on multiple patterns\n",
    "    case n if n < 0 => \"Less than zero things here!?\" // with a guard\n",
    "    case _ => \"Many things here\" // a default case\n",
    "}"
   ]
  },
  {
   "cell_type": "markdown",
   "id": "d3893e67-7d71-4b81-a5ac-adcf6ac926c6",
   "metadata": {},
   "source": [
    "## Inductive data structures\n",
    "Pattern matching is particularly useful for interacting with inductive data structures.\n",
    "Consider the following example, a list of integers.  (This is similar to how `List`s are implemented in Scala.)\n",
    "\n",
    "$$\\begin{array}{ccccc}\n",
    "\\textbf{NumList} & \\rightarrow & Empty &\\ |\\  & Cons(\\textbf{Num}, \\textbf{NumList}) \\\\\n",
    "\\textbf{Num} & \\rightarrow & 0 \\ |\\ 1\\ |\\ 2\\ |\\ 3\\ |\\ 4\\ |\\ \\cdots \\\\\n",
    "\\end{array}$$"
   ]
  },
  {
   "cell_type": "code",
   "execution_count": 11,
   "id": "d157c23b-5191-4a13-872d-edbfb2e62742",
   "metadata": {},
   "outputs": [
    {
     "data": {
      "text/plain": [
       "defined \u001b[32mtrait\u001b[39m \u001b[36mNumList\u001b[39m\r\n",
       "defined \u001b[32mobject\u001b[39m \u001b[36mEmpty\u001b[39m\r\n",
       "defined \u001b[32mclass\u001b[39m \u001b[36mCons\u001b[39m"
      ]
     },
     "execution_count": 11,
     "metadata": {},
     "output_type": "execute_result"
    }
   ],
   "source": [
    "sealed trait NumList\n",
    "//traits are basically abstract class, you cannot created an instance of it, but you can inherit from it\n",
    "//sealed because restricted to that file, different files cannot extend NumList\n",
    "\n",
    "\n",
    "case object Empty extends NumList\n",
    "//Empty is a class that extends/inherits from NumList\n",
    "//case classes have alot of nice builtin features so we use case instead of just class so we don't have to do it ourselves\n",
    "//object becasue not parameters\n",
    "\n",
    "case class Cons(hd: Int, tl: NumList) extends NumList\n",
    "//case class here because we have parameters here"
   ]
  },
  {
   "cell_type": "code",
   "execution_count": 12,
   "id": "4df0a4c9-642c-4984-a211-f144f99dc586",
   "metadata": {},
   "outputs": [
    {
     "data": {
      "text/plain": [
       "\u001b[36mscalaList\u001b[39m: \u001b[32mList\u001b[39m[\u001b[32mInt\u001b[39m] = \u001b[33mList\u001b[39m(\u001b[32m131\u001b[39m, \u001b[32m3155\u001b[39m)\r\n",
       "\u001b[36mres11_1\u001b[39m: \u001b[32mBoolean\u001b[39m = true\r\n",
       "\u001b[36mmyNumList\u001b[39m: \u001b[32mCons\u001b[39m = \u001b[33mCons\u001b[39m(hd = \u001b[32m131\u001b[39m, tl = \u001b[33mCons\u001b[39m(hd = \u001b[32m3155\u001b[39m, tl = Empty))"
      ]
     },
     "execution_count": 12,
     "metadata": {},
     "output_type": "execute_result"
    }
   ],
   "source": [
    "// example lists\n",
    "\n",
    "// using the :: (cons operator) and Nil cases\n",
    "val scalaList = 131 :: 3155 :: Nil\n",
    "// this is equivalent to using the List constructor\n",
    "scalaList == List(131, 3155)\n",
    "\n",
    "// the same list using our NumList data structure instead of the built in one\n",
    "val myNumList = Cons(131, Cons(3155, Empty))"
   ]
  },
  {
   "cell_type": "markdown",
   "id": "58b9d3f1-33ac-4516-8880-bb1c7f4f90c3",
   "metadata": {},
   "source": [
    "### Expr\n",
    "Now we will implement our own grammer.  For this exercise, consider a simple language representing arithmetic expressions.\n",
    "Given the grammer below, write the corresponding Scala code (assume $\\textbf{Num}$ can be represented by a Scala `Int` as in $\\textbf{NumList}$).\n",
    "\n",
    "$$\\begin{array}{ccccccccc}\n",
    "\\textbf{Expr} & \\rightarrow & Const(\\textbf{Num}) &\\ |\\  & Plus(\\textbf{Expr}, \\textbf{Expr}) &\\ |\\  & Minus(\\textbf{Expr}, \\textbf{Expr}) &\\ |\\  & Times(\\textbf{Expr}, \\textbf{Expr}) \\\\\n",
    "\\textbf{Num} & \\rightarrow & 0 \\ |\\ 1\\ |\\ 2\\ |\\ 3\\ |\\ 4\\ |\\ \\cdots \\\\\n",
    "\\end{array}$$"
   ]
  },
  {
   "cell_type": "code",
   "execution_count": 15,
   "id": "3d8e91a5-0d7a-4d19-bb74-10680a92e9ed",
   "metadata": {},
   "outputs": [
    {
     "data": {
      "text/plain": [
       "defined \u001b[32mtrait\u001b[39m \u001b[36mExpr\u001b[39m\r\n",
       "defined \u001b[32mclass\u001b[39m \u001b[36mConst\u001b[39m\r\n",
       "defined \u001b[32mclass\u001b[39m \u001b[36mPlus\u001b[39m\r\n",
       "defined \u001b[32mclass\u001b[39m \u001b[36mMinus\u001b[39m\r\n",
       "defined \u001b[32mclass\u001b[39m \u001b[36mTimes\u001b[39m\r\n",
       "defined \u001b[32mclass\u001b[39m \u001b[36mDivide\u001b[39m"
      ]
     },
     "execution_count": 15,
     "metadata": {},
     "output_type": "execute_result"
    }
   ],
   "source": [
    "sealed trait Expr\n",
    "case class Const(n: Int) extends Expr\n",
    "case class Plus(p1: Expr, p2: Expr) extends Expr\n",
    "case class Minus(m1: Expr, m2: Expr) extends Expr\n",
    "case class Times(t1: Expr, t2: Expr) extends Expr\n",
    "case class Divide(num: Expr, denom: Expr) extends Expr"
   ]
  },
  {
   "cell_type": "code",
   "execution_count": 16,
   "id": "4ee5050b-58d9-4987-b709-231bd73a33fa",
   "metadata": {},
   "outputs": [
    {
     "data": {
      "text/plain": [
       "\u001b[36mmyExpr0\u001b[39m: \u001b[32mConst\u001b[39m = \u001b[33mConst\u001b[39m(n = \u001b[32m0\u001b[39m)\r\n",
       "\u001b[36mmyExpr1\u001b[39m: \u001b[32mPlus\u001b[39m = \u001b[33mPlus\u001b[39m(p1 = \u001b[33mConst\u001b[39m(n = \u001b[32m500\u001b[39m), p2 = \u001b[33mConst\u001b[39m(n = \u001b[32m131\u001b[39m))\r\n",
       "\u001b[36mmyExpr2\u001b[39m: \u001b[32mTimes\u001b[39m = \u001b[33mTimes\u001b[39m(\n",
       "  t1 = \u001b[33mPlus\u001b[39m(p1 = \u001b[33mConst\u001b[39m(n = \u001b[32m500\u001b[39m), p2 = \u001b[33mConst\u001b[39m(n = \u001b[32m131\u001b[39m)),\n",
       "  t2 = \u001b[33mMinus\u001b[39m(m1 = \u001b[33mConst\u001b[39m(n = \u001b[32m105\u001b[39m), m2 = \u001b[33mConst\u001b[39m(n = \u001b[32m100\u001b[39m))\n",
       ")"
      ]
     },
     "execution_count": 16,
     "metadata": {},
     "output_type": "execute_result"
    }
   ],
   "source": [
    "// expressions using our new grammer\n",
    "val myExpr0 = Const(0)\n",
    "val myExpr1 = Plus(Const(500), Const(131)) // 500 + 131\n",
    "val myExpr2 = Times(myExpr1, Minus(Const(105), Const(100))) // (500+131)*(105-100)"
   ]
  },
  {
   "cell_type": "code",
   "execution_count": 17,
   "id": "e401455a-8282-4a61-9ba8-6e19b4b739e2",
   "metadata": {},
   "outputs": [
    {
     "data": {
      "text/plain": [
       "\u001b[36mmyExpr3\u001b[39m: \u001b[32mPlus\u001b[39m = \u001b[33mPlus\u001b[39m(\n",
       "  p1 = \u001b[33mTimes\u001b[39m(t1 = \u001b[33mConst\u001b[39m(n = \u001b[32m9\u001b[39m), t2 = \u001b[33mConst\u001b[39m(n = \u001b[32m3\u001b[39m)),\n",
       "  p2 = \u001b[33mPlus\u001b[39m(p1 = \u001b[33mConst\u001b[39m(n = \u001b[32m500\u001b[39m), p2 = \u001b[33mConst\u001b[39m(n = \u001b[32m131\u001b[39m))\n",
       ")\r\n",
       "\u001b[36mmyExpr4\u001b[39m: \u001b[32mDivide\u001b[39m = \u001b[33mDivide\u001b[39m(num = \u001b[33mConst\u001b[39m(n = \u001b[32m10\u001b[39m), denom = \u001b[33mConst\u001b[39m(n = \u001b[32m2\u001b[39m))"
      ]
     },
     "execution_count": 17,
     "metadata": {},
     "output_type": "execute_result"
    }
   ],
   "source": [
    "// Come up with your own example\n",
    "val myExpr3 = Plus(Times(Const(9),Const(3)), myExpr1) //(9*3 + myExpr1 which is 500+131)\n",
    "val myExpr4= Divide(Const(10), Const(2))"
   ]
  },
  {
   "cell_type": "markdown",
   "id": "1080b6f8-dea6-4365-9a87-e5050736ec5a",
   "metadata": {},
   "source": [
    "Now that we have our implementation of the grammer, we can write functions using this implementation.\n",
    "We will often want to pattern match on the different cases of our grammer when writing these functions, as in the example below."
   ]
  },
  {
   "cell_type": "code",
   "execution_count": 5,
   "id": "81ea721f-dd57-4315-9246-453a3eb00656",
   "metadata": {},
   "outputs": [
    {
     "data": {
      "text/plain": [
       "defined \u001b[32mfunction\u001b[39m \u001b[36mconstVals\u001b[39m"
      ]
     },
     "execution_count": 5,
     "metadata": {},
     "output_type": "execute_result"
    }
   ],
   "source": [
    "// Get all the constants in an expression\n",
    "def constVals(e: Expr): List[Int] = {\n",
    "    e match {\n",
    "        case Const(n) => n :: Nil // or List(n)\n",
    "        case Plus(e1, e2) => constVals(e1) ++ constVals(e2)\n",
    "        case Minus(e1, e2) => constVals(e1) ++ constVals(e2)\n",
    "        case Times(e1, e2) => constVals(e1) ++ constVals(e2)\n",
    "    }\n",
    "}"
   ]
  },
  {
   "cell_type": "code",
   "execution_count": 7,
   "id": "9949fe79-6d32-4cd7-9eec-493be6ba9b77",
   "metadata": {},
   "outputs": [
    {
     "data": {
      "text/plain": [
       "\u001b[36mres6_0\u001b[39m: \u001b[32mList\u001b[39m[\u001b[32mInt\u001b[39m] = \u001b[33mList\u001b[39m(\u001b[32m0\u001b[39m)\r\n",
       "\u001b[36mres6_1\u001b[39m: \u001b[32mList\u001b[39m[\u001b[32mInt\u001b[39m] = \u001b[33mList\u001b[39m(\u001b[32m500\u001b[39m, \u001b[32m131\u001b[39m, \u001b[32m105\u001b[39m, \u001b[32m100\u001b[39m)\r\n",
       "\u001b[36mres6_2\u001b[39m: \u001b[32mList\u001b[39m[\u001b[32mInt\u001b[39m] = \u001b[33mList\u001b[39m(\u001b[32m9\u001b[39m, \u001b[32m3\u001b[39m, \u001b[32m500\u001b[39m, \u001b[32m131\u001b[39m)"
      ]
     },
     "execution_count": 7,
     "metadata": {},
     "output_type": "execute_result"
    }
   ],
   "source": [
    "constVals(myExpr0)\n",
    "constVals(myExpr2)\n",
    "constVals(myExpr3)"
   ]
  },
  {
   "cell_type": "markdown",
   "id": "6cce1739-3339-4073-b23b-7e10a12e1a2a",
   "metadata": {},
   "source": [
    "## Eval\n",
    "Given an expression, can we compute the corresponding value?\n",
    "Can we write a function to compute the value (evaluate the expression)?"
   ]
  },
  {
   "cell_type": "code",
   "execution_count": 14,
   "id": "9324a6af-8b78-44a6-b513-dacd80c3a598",
   "metadata": {},
   "outputs": [
    {
     "data": {
      "text/plain": [
       "defined \u001b[32mfunction\u001b[39m \u001b[36meval\u001b[39m"
      ]
     },
     "execution_count": 14,
     "metadata": {},
     "output_type": "execute_result"
    }
   ],
   "source": [
    "def eval(e: Expr): Int = e match {\n",
    "    case Const(n) => n\n",
    "    case Plus(e1, e2) => {eval(e1)+eval(e2)}\n",
    "    case Minus(e1,e2) => {eval(e1)-eval(e2)}\n",
    "    case Times(e1,e2) => {eval(e1)*eval(e2)}\n",
    "    case Divide(nu,de) => {eval(nu)/eval(de)}\n",
    "}"
   ]
  },
  {
   "cell_type": "code",
   "execution_count": 12,
   "id": "92a6f393-95ab-4b03-9a09-7ed43e106f46",
   "metadata": {},
   "outputs": [
    {
     "data": {
      "text/plain": [
       "\u001b[36mres11_0\u001b[39m: \u001b[32mBoolean\u001b[39m = true\r\n",
       "\u001b[36mres11_1\u001b[39m: \u001b[32mBoolean\u001b[39m = true\r\n",
       "\u001b[36mres11_2\u001b[39m: \u001b[32mBoolean\u001b[39m = true\r\n",
       "\u001b[36mres11_3\u001b[39m: \u001b[32mBoolean\u001b[39m = true\r\n",
       "\u001b[36mres11_4\u001b[39m: \u001b[32mInt\u001b[39m = \u001b[32m658\u001b[39m"
      ]
     },
     "execution_count": 12,
     "metadata": {},
     "output_type": "execute_result"
    }
   ],
   "source": [
    "// test cases\n",
    "eval(Const(42)) == 42\n",
    "eval(myExpr0) == 0 // 0\n",
    "eval(myExpr1) == 631 // 500 + 131\n",
    "eval(myExpr2) == 3155 // (500+131)*(105-100)\n",
    "eval(myExpr3) //631+27"
   ]
  },
  {
   "cell_type": "markdown",
   "id": "74e90f72-d434-4925-be9b-589ebf6cd3a9",
   "metadata": {},
   "source": [
    "### Bonus\n",
    "\n",
    "How would you add division or identifiers/variables to the Expr trait?\n",
    "\n",
    "We will look at this more in the future, but thinking through this is a good way to practice.\n",
    "(Hint: start by expanding the grammar and adding another case for the Expr trait.)"
   ]
  }
 ],
 "metadata": {
  "kernelspec": {
   "display_name": "Scala",
   "language": "scala",
   "name": "scala"
  },
  "language_info": {
   "codemirror_mode": "text/x-scala",
   "file_extension": ".sc",
   "mimetype": "text/x-scala",
   "name": "scala",
   "nbconvert_exporter": "script",
   "version": "2.13.4"
  }
 },
 "nbformat": 4,
 "nbformat_minor": 5
}
