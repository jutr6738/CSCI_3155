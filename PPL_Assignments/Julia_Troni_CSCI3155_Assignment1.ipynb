{
 "cells": [
  {
   "cell_type": "markdown",
   "id": "collected-munich",
   "metadata": {},
   "source": [
    "Before you turn this problem in, make sure everything runs as expected. First, **restart the kernel** (in the menubar, select Kernel$\\rightarrow$Restart) and then **run all cells** (in the menubar, select Cell$\\rightarrow$Run All).\n",
    "\n",
    "Make sure you fill in any place that says `???` or \"YOUR ANSWER HERE\"."
   ]
  },
  {
   "cell_type": "markdown",
   "id": "postal-honolulu",
   "metadata": {},
   "source": [
    "---"
   ]
  },
  {
   "cell_type": "markdown",
   "id": "4f522491",
   "metadata": {
    "deletable": false,
    "editable": false,
    "nbgrader": {
     "cell_type": "markdown",
     "checksum": "eed513f9240f903cd8f992537b22e168",
     "grade": false,
     "grade_id": "cell-23caf73bddab1bd2",
     "locked": true,
     "schema_version": 3,
     "solution": false,
     "task": false
    }
   },
   "source": [
    "# CSCI 3155 Assignment 1 : Scala Programming\n",
    "\n",
    "This assignment asks you to write scala programs. \n",
    "\n",
    "Note: `???` indicates that there is a missing function or code fragment that needs to be filled in. In scala, \n",
    "it is also a macro that throws a `NotImplemented` exception. Make sure that you remove the `???` and replace it with the answer. \n",
    "\n",
    "Use the test cases provided to test them. You are also encouraged to write your own test cases to help debug your work. However, please delete any extra cells you may have created lest they break our autograder.\n",
    "\n",
    "**Very Important:** Please run the cell that defines the functions `passed` and `testWithMessage` below whenever you restart the notebook."
   ]
  },
  {
   "cell_type": "markdown",
   "id": "c56c63ad",
   "metadata": {},
   "source": [
    "Julia Troni"
   ]
  },
  {
   "cell_type": "code",
   "execution_count": 1,
   "id": "11ea0f3c",
   "metadata": {
    "deletable": false,
    "editable": false,
    "nbgrader": {
     "cell_type": "code",
     "checksum": "c600d82e1b82a152fa94debb61b671c6",
     "grade": false,
     "grade_id": "cell-aeddd2cf2ccfdd6a",
     "locked": true,
     "schema_version": 3,
     "solution": false,
     "task": false
    }
   },
   "outputs": [
    {
     "data": {
      "text/plain": [
       "defined \u001b[32mfunction\u001b[39m \u001b[36mpassed\u001b[39m\r\n",
       "defined \u001b[32mfunction\u001b[39m \u001b[36mtestWithMessage\u001b[39m"
      ]
     },
     "execution_count": 1,
     "metadata": {},
     "output_type": "execute_result"
    }
   ],
   "source": [
    "// TEST HELPER\n",
    "\n",
    "// FIRST RUN THIS CELL EVERY TIME YOU START THE NOTEBOOK\n",
    "def passed(points: Int) {\n",
    "    require(points >=0)\n",
    "    if (points == 1) print(s\"\\n*** Tests Passed (1 point) ***\\n\")\n",
    "    else print(s\"\\n*** Tests Passed ($points points) ***\\n\")\n",
    "}\n",
    "\n",
    "def testWithMessage[T](v1: T, expected: T, testID: String) = { \n",
    "    println(s\"Test $testID\"); \n",
    "    println(s\"\\t Expected: $expected, your code returned: $v1\")\n",
    "    assert (v1 == expected, s\"Test $testID FAILED.\")\n",
    "    println(\"\\t Passed!\")\n",
    "}"
   ]
  },
  {
   "cell_type": "markdown",
   "id": "572d58f8",
   "metadata": {
    "deletable": false,
    "editable": false,
    "nbgrader": {
     "cell_type": "markdown",
     "checksum": "6fae9c49d124b6c2b2fae55137b36301",
     "grade": false,
     "grade_id": "cell-e4ed8c34e61bad70",
     "locked": true,
     "schema_version": 3,
     "solution": false,
     "task": false
    }
   },
   "source": [
    "## Problem 1 (10 points)\n",
    "\n",
    "Write a function named `countVowels` that inputs a `String` and outputs an `Int` which counts the number of occurrences of a vowel in a given string. \n",
    "\n",
    "Vowels are _a, e, i, o, u_. \n",
    "\n",
    "Capital letters of vowels should also count as a vowel. \n",
    "\n",
    "### Example\n",
    "\n",
    "Input: \"aaatchoU\" Output: 5.\n",
    "\n",
    "\n",
    "\n",
    "__Restrictions:__ None\n",
    "\n",
    "You may use for-loops/while loops and mutable vars for this particular problem.\n",
    "String or List API functions are also allowed."
   ]
  },
  {
   "cell_type": "code",
   "execution_count": 2,
   "id": "42fb25a8",
   "metadata": {
    "deletable": false,
    "nbgrader": {
     "cell_type": "code",
     "checksum": "faac5c859e30d08e1d199b0790e52aff",
     "grade": false,
     "grade_id": "cell-d297bcd81ef28286",
     "locked": false,
     "schema_version": 3,
     "solution": true,
     "task": false
    }
   },
   "outputs": [
    {
     "data": {
      "text/plain": [
       "defined \u001b[32mfunction\u001b[39m \u001b[36mcountVowels\u001b[39m"
      ]
     },
     "execution_count": 2,
     "metadata": {},
     "output_type": "execute_result"
    }
   ],
   "source": [
    "def countVowels (str: String) : Int = {\n",
    "    var count= 0;\n",
    "    val s= str.toLowerCase()\n",
    "    for (i <- 0 until s.length){\n",
    "        if (s(i)== 'a'|| s(i)== 'e' || s(i)== 'i' || s(i)== 'o' || s(i)== 'u' ){\n",
    "            count += 1\n",
    "        }\n",
    "    }\n",
    "    return count;\n",
    "    \n",
    "}\n",
    "\n",
    "//(s.contains('a') || s.contains('e')|| s.contains('i') || s.contains('o') || s.contains('u')"
   ]
  },
  {
   "cell_type": "code",
   "execution_count": 3,
   "id": "7dc246f6",
   "metadata": {
    "deletable": false,
    "editable": false,
    "nbgrader": {
     "cell_type": "code",
     "checksum": "8063d2f9b6b7cb407c2cd95c4bebacb5",
     "grade": true,
     "grade_id": "cell-fef2a3f0531c24b5",
     "locked": true,
     "points": 10,
     "schema_version": 3,
     "solution": false,
     "task": false
    }
   },
   "outputs": [
    {
     "name": "stdout",
     "output_type": "stream",
     "text": [
      "Test \"atchou\" must have three vowels in it\n",
      "\t Expected: 3, your code returned: 3\n",
      "\t Passed!\n",
      "Test Empty string has no vowels\n",
      "\t Expected: 0, your code returned: 0\n",
      "\t Passed!\n",
      "Test Capitalized vowels handled\n",
      "\t Expected: 6, your code returned: 6\n",
      "\t Passed!\n",
      "Test \"Grzzly\" has no vowels\n",
      "\t Expected: 0, your code returned: 0\n",
      "\t Passed!\n",
      "Test Handling commas and spaces?\n",
      "\t Expected: 12, your code returned: 12\n",
      "\t Passed!\n",
      "\n",
      "*** Tests Passed (10 points) ***\n"
     ]
    }
   ],
   "source": [
    "//BEGIN TEST\n",
    "testWithMessage( countVowels(\"atchou\") , 3, \"\\\"atchou\\\" must have three vowels in it\" )\n",
    "testWithMessage( countVowels(\"\"), 0, \"Empty string has no vowels\")\n",
    "testWithMessage( countVowels(\"AAEIOU\"), 6, \"Capitalized vowels handled\")\n",
    "testWithMessage( countVowels(\"Grzzly\"), 0, \"\\\"Grzzly\\\" has no vowels\")\n",
    "testWithMessage( countVowels(\"Meow, Meow, says the alley cat next door!!\"), 12, \"Handling commas and spaces?\")\n",
    "passed(10)\n",
    "//END TEST"
   ]
  },
  {
   "cell_type": "markdown",
   "id": "9a4d06aa",
   "metadata": {
    "deletable": false,
    "editable": false,
    "nbgrader": {
     "cell_type": "markdown",
     "checksum": "c181b545fb9bdbcf640399c6a7d28898",
     "grade": false,
     "grade_id": "cell-8ff9637c85730d3b",
     "locked": true,
     "schema_version": 3,
     "solution": false,
     "task": false
    }
   },
   "source": [
    "## Problem 2 (15 Points)\n",
    "\n",
    "Write a function `unionOfLists` that inputs  two lists of integers (sorted in ascending order) and returns a list of integers. The function must compute the union of the two input lists to return a list that is also sorted in ascending order. Note that in performing the union, each number can appear at most once in the output list.\n",
    "\n",
    "\n",
    "__Example__ \n",
    "Input lists `List(1, 3, 4, 6)`, and `List(2, 3, 4, 5)`, the output should be `List(1, 2, 3, 4, 5, 6)`\n",
    "\n",
    "Input lists `List(1, 2, 3, 4)` and `List(1, 2, 3, 5)`, the output should be `List(1, 2, 3, 4, 5)`\n",
    "\n",
    "__Restrictions__ Suppose the lists are of size $n_1$ and $n_2$, respectively, the entire algorithm must run in linear time: $O(n_1 + n_2)$.  Please do not use inbuilt sort algorithms (they would take $O( (n_1 + n_2) \\log(n_1 + n_2))$ time.  Also note that when you append one list to another using `++` operator or an element to the end of a list using `:+` operator inside a loop, the result may actually violate the linear time complexity restriction."
   ]
  },
  {
   "cell_type": "code",
   "execution_count": 4,
   "id": "8b6d71b3",
   "metadata": {
    "deletable": false,
    "nbgrader": {
     "cell_type": "code",
     "checksum": "b9e6cb001f9747cd1efcbb4d69d34f0f",
     "grade": false,
     "grade_id": "cell-6371a89e15cb11c5",
     "locked": false,
     "schema_version": 3,
     "solution": true,
     "task": false
    }
   },
   "outputs": [
    {
     "data": {
      "text/plain": [
       "defined \u001b[32mfunction\u001b[39m \u001b[36mmergearr\u001b[39m\r\n",
       "defined \u001b[32mfunction\u001b[39m \u001b[36munionOfLists\u001b[39m"
      ]
     },
     "execution_count": 4,
     "metadata": {},
     "output_type": "execute_result"
    }
   ],
   "source": [
    "//implementing merge sort, resources from geeksforgeeks\n",
    "//n1 is length of arr1, n2 is length of arr2\n",
    "def mergearr(arr1: Array[Int], arr2: Array[Int], n1: Int, n2: Int, arr3: Array[Int]): List[Int] = {\n",
    "    var i=0; \n",
    "    var j=0; \n",
    "    var k=0;\n",
    "    var dup=0;\n",
    "    \n",
    "    while(i<n1 && j<n2){\n",
    "        //check if curr1 < curr2 \n",
    "         if (arr1(i) == arr2(j) ){\n",
    "            arr3(k)= arr1(i) //if duplicates, only add one\n",
    "            k+=1; \n",
    "            i+=1;\n",
    "            j+=1;\n",
    "            dup+=1;\n",
    "        }\n",
    "        else if (arr1(i) < arr2(j) ){\n",
    "            arr3(k)= arr1(i) //put curr1 in the sorted array\n",
    "            k+=1; \n",
    "            i+=1;\n",
    "        }\n",
    "        else { //else put curr2 in the sorted array\n",
    "            arr3(k)= arr2(j)\n",
    "            k+=1;\n",
    "            j+=1;\n",
    "        }\n",
    "    }\n",
    "    \n",
    "    //add what is left of arr1 to the sorted array\n",
    "    while (i<n1){\n",
    "        arr3(k)=arr1(i)\n",
    "        k+=1;\n",
    "        i+=1;\n",
    "    }\n",
    "    //add what is left of arr2 to the sorted array\n",
    "    while (j<n2){\n",
    "        arr3(k)=arr2(j)\n",
    "        k+=1;\n",
    "        j+=1;\n",
    "    }\n",
    "    \n",
    "    \n",
    "    return arr3.toList.take(arr3.length-dup); //convert array to list then remove the empty ends if there was duplicates\n",
    "    \n",
    "}\n",
    "def unionOfLists (l1: List[Int], l2: List[Int]): List[Int] = {\n",
    "    val n1= l1.length;\n",
    "    val n2= l2.length;\n",
    "    var output= new Array[Int](n1+n2)\n",
    "    \n",
    "    return mergearr(l1.toArray, l2.toArray, n1, n2, output)\n",
    "    \n",
    "    \n",
    "}"
   ]
  },
  {
   "cell_type": "code",
   "execution_count": 5,
   "id": "18cca778",
   "metadata": {
    "deletable": false,
    "editable": false,
    "nbgrader": {
     "cell_type": "code",
     "checksum": "75f0d15e728d5c80006fdc64ef016f8a",
     "grade": true,
     "grade_id": "cell-9a5921d04e7b24ce",
     "locked": true,
     "points": 15,
     "schema_version": 3,
     "solution": false,
     "task": false
    }
   },
   "outputs": [
    {
     "name": "stdout",
     "output_type": "stream",
     "text": [
      "Test unionOfLists(List(1, 3, 5), List(2, 3, 4))\n",
      "\t Expected: List(1, 2, 3, 4, 5), your code returned: List(1, 2, 3, 4, 5)\n",
      "\t Passed!\n",
      "Test unionOfLists(List(1), List(1))\n",
      "\t Expected: List(1), your code returned: List(1)\n",
      "\t Passed!\n",
      "Test unionOfLists(List(1), List(1,2,3))\n",
      "\t Expected: List(1, 2, 3), your code returned: List(1, 2, 3)\n",
      "\t Passed!\n",
      "Test unionOfLists(List(1,2,3), List(1))\n",
      "\t Expected: List(1, 2, 3), your code returned: List(1, 2, 3)\n",
      "\t Passed!\n",
      "Test unionOfLists(List(), List(0))\n",
      "\t Expected: List(0), your code returned: List(0)\n",
      "\t Passed!\n",
      "Test unionOfLists(List(0), List())\n",
      "\t Expected: List(0), your code returned: List(0)\n",
      "\t Passed!\n",
      "Test unionOfLists(List(2, 4, 6, 8, 10, 12),List(1, 3, 5, 7, 9, 11))\n",
      "\t Expected: List(1, 2, 3, 4, 5, 6, 7, 8, 9, 10, 11, 12), your code returned: List(1, 2, 3, 4, 5, 6, 7, 8, 9, 10, 11, 12)\n",
      "\t Passed!\n",
      "\n",
      "*** Tests Passed (15 points) ***\n"
     ]
    }
   ],
   "source": [
    "//BEGIN TESTS\n",
    "testWithMessage( \n",
    "    unionOfLists(List(1, 3, 5), List(2, 3, 4)),  \n",
    "    List(1, 2, 3, 4, 5), \n",
    "    \"unionOfLists(List(1, 3, 5), List(2, 3, 4))\"\n",
    "               )\n",
    "\n",
    "\n",
    "testWithMessage( \n",
    "    unionOfLists(List(1), List(1)),  \n",
    "    List(1), \n",
    "    \"unionOfLists(List(1), List(1))\"\n",
    "               )\n",
    "\n",
    "\n",
    "\n",
    "\n",
    "testWithMessage( \n",
    "    unionOfLists(List(1), List(1,2,3)),  \n",
    "    List(1,2,3), \n",
    "    \"unionOfLists(List(1), List(1,2,3))\"\n",
    "               )\n",
    "\n",
    "testWithMessage( \n",
    "    unionOfLists(List(1,2,3), List(1)),  \n",
    "    List(1,2,3), \n",
    "    \"unionOfLists(List(1,2,3), List(1))\"\n",
    "               )\n",
    "\n",
    "testWithMessage(\n",
    "    unionOfLists(List(), List(0)), \n",
    "    List(0), \n",
    "    \"unionOfLists(List(), List(0))\"\n",
    ")\n",
    "\n",
    "testWithMessage(\n",
    "    unionOfLists(List(0), List()), \n",
    "    List(0), \n",
    "    \"unionOfLists(List(0), List())\"\n",
    ")\n",
    "\n",
    "testWithMessage(\n",
    "    unionOfLists(List(2, 4, 6, 8, 10, 12), List(1, 3, 5, 7, 9, 11)), \n",
    "    List(1, 2, 3, 4, 5, 6, 7, 8, 9, 10, 11, 12), \n",
    "    \"unionOfLists(List(2, 4, 6, 8, 10, 12),List(1, 3, 5, 7, 9, 11))\"\n",
    ")\n",
    "\n",
    "passed(15)\n",
    "//END TESTS"
   ]
  },
  {
   "cell_type": "markdown",
   "id": "217c8779",
   "metadata": {
    "deletable": false,
    "editable": false,
    "nbgrader": {
     "cell_type": "markdown",
     "checksum": "0a92331c45dfcb353815dc77e511472a",
     "grade": false,
     "grade_id": "cell-b6e5e17aba5584f5",
     "locked": true,
     "schema_version": 3,
     "solution": false,
     "task": false
    }
   },
   "source": [
    "## Problem 3 (40 points)\n",
    "\n",
    "This problem is broken down into many parts. Implement each of them in order.\n",
    "\n",
    "### (A) Split text into list of words (5 points)\n",
    "\n",
    "You are given text as a string with words that are separated by whitespces. Write a function `splitIntoWords` that takes a string and returns a list of words that occur in the string. The order of the words in the list must be same as that in the string. Words should not have any whitespaces in them.\n",
    "\n",
    "#### Example\n",
    "\n",
    "Input: \"Hello how are   &nbsp;&nbsp; &nbsp; you\", Output: `List(\"Hello\", \"how\", \"are\", \"you\")`. \n",
    "\n",
    "Note that there may be multiple spaces between words. Assume no punctuations or periods are present."
   ]
  },
  {
   "cell_type": "code",
   "execution_count": 6,
   "id": "8600ae63",
   "metadata": {
    "deletable": false,
    "nbgrader": {
     "cell_type": "code",
     "checksum": "52b7308af306258d87bc430b01e238f1",
     "grade": false,
     "grade_id": "cell-2bbbe0900f27a454",
     "locked": false,
     "schema_version": 3,
     "solution": true,
     "task": false
    }
   },
   "outputs": [
    {
     "data": {
      "text/plain": [
       "defined \u001b[32mfunction\u001b[39m \u001b[36msplitIntoWords\u001b[39m"
      ]
     },
     "execution_count": 6,
     "metadata": {},
     "output_type": "execute_result"
    }
   ],
   "source": [
    "def splitIntoWords(s: String): List[String]= {\n",
    "    val l1 = s.split(\" \").filterNot(x => x.isEmpty) //or could do .filter(_.nonEmpty)\n",
    "    return l1.toList\n",
    "    \n",
    "    \n",
    "}"
   ]
  },
  {
   "cell_type": "code",
   "execution_count": 7,
   "id": "22945b41",
   "metadata": {
    "deletable": false,
    "editable": false,
    "nbgrader": {
     "cell_type": "code",
     "checksum": "ca9717ac917ee8bb8cd457af17479bc3",
     "grade": true,
     "grade_id": "cell-b9f6f659ef0f9ea8",
     "locked": true,
     "points": 5,
     "schema_version": 3,
     "solution": false,
     "task": false
    }
   },
   "outputs": [
    {
     "name": "stdout",
     "output_type": "stream",
     "text": [
      "Test test1\n",
      "\t Expected: List(Hello, this, is, your, professor, speaking), your code returned: List(Hello, this, is, your, professor, speaking)\n",
      "\t Passed!\n",
      "Test test2\n",
      "\t Expected: List(Programming), your code returned: List(Programming)\n",
      "\t Passed!\n",
      "Test test3\n",
      "\t Expected: List(), your code returned: List()\n",
      "\t Passed!\n",
      "Test test4\n",
      "\t Expected: List(A, A, A, dDd, E), your code returned: List(A, A, A, dDd, E)\n",
      "\t Passed!\n",
      "\n",
      "*** Tests Passed (5 points) ***\n"
     ]
    }
   ],
   "source": [
    "//BEGIN TESTS\n",
    "testWithMessage(\n",
    "    splitIntoWords(\"Hello  this is your    professor speaking  \"), \n",
    "    List(\"Hello\", \"this\", \"is\", \"your\", \"professor\", \"speaking\"),\n",
    "    \"test1\"\n",
    ")\n",
    "\n",
    "testWithMessage(\n",
    "    splitIntoWords(\"Programming      \"),\n",
    "    List(\"Programming\"), \n",
    "    \"test2\"\n",
    ")\n",
    "\n",
    "testWithMessage(\n",
    "    splitIntoWords(\"      \"),\n",
    "    Nil, \n",
    "    \"test3\"\n",
    ")\n",
    "\n",
    "\n",
    "testWithMessage(\n",
    "    splitIntoWords(\"A A A  dDd   E\"),\n",
    "    List(\"A\", \"A\", \"A\", \"dDd\", \"E\"),\n",
    "    \"test4\"\n",
    ")\n",
    "\n",
    "passed(5)\n",
    "\n",
    "\n",
    "//END TESTS"
   ]
  },
  {
   "cell_type": "markdown",
   "id": "6019fd6a",
   "metadata": {
    "deletable": false,
    "editable": false,
    "nbgrader": {
     "cell_type": "markdown",
     "checksum": "726c12f97368e05b26e08073d32d91d4",
     "grade": false,
     "grade_id": "cell-e05566dbeb6e5de8",
     "locked": true,
     "schema_version": 3,
     "solution": false,
     "task": false
    }
   },
   "source": [
    "### (B) Extract a sublist from a list (10 points)\n",
    "\n",
    "Given a list of string `lst`, an index `i` into the list and a length `j`, extract all the elements in the original list `lst(i), ..., lst(i+j-1)` into a new list. Handle corner cases by returning an empty list when (a) `j <= 0` or (b) `i+j` is greater than the length of the list `lst`.\n",
    "\n",
    "**Hint** Lookup the Scala list API for the `list.slice` function"
   ]
  },
  {
   "cell_type": "code",
   "execution_count": 8,
   "id": "d170a7e2",
   "metadata": {
    "deletable": false,
    "nbgrader": {
     "cell_type": "code",
     "checksum": "f5005658654cdfb4747ea5ae6b6a74c9",
     "grade": false,
     "grade_id": "cell-67d6b39fc3e489a7",
     "locked": false,
     "schema_version": 3,
     "solution": true,
     "task": false
    }
   },
   "outputs": [
    {
     "data": {
      "text/plain": [
       "defined \u001b[32mfunction\u001b[39m \u001b[36mextractSubList\u001b[39m"
      ]
     },
     "execution_count": 8,
     "metadata": {},
     "output_type": "execute_result"
    }
   ],
   "source": [
    "def extractSubList(lst: List[String], i: Int, j: Int): List[String]= {\n",
    "    val output: List[String] = List()\n",
    "    if (j <= 0){\n",
    "        return output\n",
    "    }\n",
    "    if (i+j > lst.length){\n",
    "        return output \n",
    "    }\n",
    "    return lst.slice(i,i+j)\n",
    "}"
   ]
  },
  {
   "cell_type": "code",
   "execution_count": 9,
   "id": "f23f265b",
   "metadata": {
    "deletable": false,
    "editable": false,
    "nbgrader": {
     "cell_type": "code",
     "checksum": "ceeb920e78862b57ec9036ee6ed4747a",
     "grade": true,
     "grade_id": "cell-563f46889a00dae6",
     "locked": true,
     "points": 10,
     "schema_version": 3,
     "solution": false,
     "task": false
    }
   },
   "outputs": [
    {
     "name": "stdout",
     "output_type": "stream",
     "text": [
      "Test test1\n",
      "\t Expected: List(c, d, e), your code returned: List(c, d, e)\n",
      "\t Passed!\n",
      "Test test2\n",
      "\t Expected: List(), your code returned: List()\n",
      "\t Passed!\n",
      "Test test3\n",
      "\t Expected: List(), your code returned: List()\n",
      "\t Passed!\n",
      "Test test4\n",
      "\t Expected: List(b), your code returned: List(b)\n",
      "\t Passed!\n",
      "Test test5\n",
      "\t Expected: List(), your code returned: List()\n",
      "\t Passed!\n",
      "Test test6\n",
      "\t Expected: List(a, b, c, d, e), your code returned: List(a, b, c, d, e)\n",
      "\t Passed!\n",
      "\n",
      "*** Tests Passed (10 points) ***\n"
     ]
    }
   ],
   "source": [
    "//BEGIN TESTS\n",
    "testWithMessage(\n",
    "    extractSubList(List(\"a\", \"b\", \"c\", \"d\", \"e\"), 2, 3),\n",
    "    List(\"c\",\"d\",\"e\"),\n",
    "    \"test1\"\n",
    "    )\n",
    "\n",
    "testWithMessage(\n",
    "    extractSubList(List(\"a\", \"b\", \"c\", \"d\", \"e\"), 3, 3),\n",
    "    List(),\n",
    "    \"test2\"\n",
    "    )\n",
    "\n",
    "testWithMessage(\n",
    "    extractSubList(List(\"a\", \"b\", \"c\", \"d\", \"e\"), 6, 0),\n",
    "    List(),\n",
    "    \"test3\"\n",
    "    )\n",
    "\n",
    "testWithMessage(\n",
    "    extractSubList(List(\"a\", \"b\", \"c\", \"d\", \"e\"), 1, 1),\n",
    "    List(\"b\"),\n",
    "    \"test4\"\n",
    "    )\n",
    "\n",
    "testWithMessage(\n",
    "    extractSubList(List(), 0, 0),\n",
    "    List(),\n",
    "    \"test5\"\n",
    "    )\n",
    "\n",
    "testWithMessage(\n",
    "    extractSubList(List(\"a\", \"b\", \"c\", \"d\", \"e\"), 0, 5),\n",
    "    List(\"a\",\"b\",\"c\",\"d\",\"e\"),\n",
    "    \"test6\"\n",
    "    )\n",
    "passed(10)\n",
    "//END TESTS"
   ]
  },
  {
   "cell_type": "markdown",
   "id": "534aa75a",
   "metadata": {
    "deletable": false,
    "editable": false,
    "nbgrader": {
     "cell_type": "markdown",
     "checksum": "d2dc9c21e0c690754e530540dfd74fc9",
     "grade": false,
     "grade_id": "cell-40665f209b567bc4",
     "locked": true,
     "schema_version": 3,
     "solution": false,
     "task": false
    }
   },
   "source": [
    "### (C, 10 points) Extract all indices matching a given sequence.\n",
    "\n",
    "Write a scala function `findPatternIndicesInList` that inputs two lists of Strings, \n",
    "`lst` and `pattern`. The goal is to find all the indices in `lst` such that the list\n",
    "`pattern` occurs in `lst` at these indices.\n",
    "\n",
    "### Example 1\n",
    "lst is `List(\"quick\", \"brown\", \"fox\", \"quick\", \"brown\", \"dog\")` and `pattern` is `List(\"quick\", \"brown\")`.\n",
    " Code should return:  `List(0, 3)`. This is because starting at positions `0` (the very beginning) and `3` (the 4th element), we have occurrences of the pattern `pattern`: `List(\"quick\", \"brown\")`.\n",
    "\n",
    "#### Ex. 2\n",
    "\n",
    "`lst` is the list `List(\"a\", \"b\", \"a\", \"c\", \"a\", \"a\", \"b\")` and `pattern` is `List(\"a\", \"b\")`. Your code should return `List(0, 5)` since starting at indices 0, 5 in `lst`, we have an occurrence of the patterrn `pattern`.\n",
    "\n",
    "#### Ex. 3\n",
    "\n",
    "`lst` is the list `List(\"a\", \"b\", \"a\", \"c\", \"a\", \"a\", \"b\")` and `pattern` is `List(\"a\")`. Your code should return \n",
    "`List(0, 2, 4, 5)`.\n",
    "\n",
    "#### Ex. 4\n",
    "`lst` is the list `List(\"a\", \"b\", \"a\", \"c\", \"a\", \"a\", \"b\")` and `pattern` is `List(\"a\", \"b\", \"c\")`. Your code should return the empty list since there is no occurrence of the patterrn `List(\"a\", \"b\", \"c\")` in the original list.\n",
    "\n",
    "\n",
    "__Hint:__ Please use the function `extractSubList` you wrote for the previous problem and compare lists using the `==` operator.\n"
   ]
  },
  {
   "cell_type": "code",
   "execution_count": 10,
   "id": "0cc757c3",
   "metadata": {
    "deletable": false,
    "nbgrader": {
     "cell_type": "code",
     "checksum": "fbd21e865795fe34945a07e09568871c",
     "grade": false,
     "grade_id": "cell-5b84952c13628560",
     "locked": false,
     "schema_version": 3,
     "solution": true,
     "task": false
    }
   },
   "outputs": [
    {
     "data": {
      "text/plain": [
       "defined \u001b[32mfunction\u001b[39m \u001b[36mfindPatternIndicesInList\u001b[39m"
      ]
     },
     "execution_count": 10,
     "metadata": {},
     "output_type": "execute_result"
    }
   ],
   "source": [
    "def findPatternIndicesInList(lst: List[String], pat: List[String]): List[Int] = {\n",
    "    var ind: List[Int] = List()\n",
    "    for (i <- 0 until lst.length){\n",
    "      if (pat == extractSubList(lst, i, pat.length)) {\n",
    "          ind= ind :+ i;\n",
    "      } \n",
    "    }\n",
    "   \n",
    "    return ind\n",
    "}"
   ]
  },
  {
   "cell_type": "code",
   "execution_count": 11,
   "id": "ac5ac8bf",
   "metadata": {
    "deletable": false,
    "editable": false,
    "nbgrader": {
     "cell_type": "code",
     "checksum": "a8998033d5134ce0c63eb3530459f6a7",
     "grade": true,
     "grade_id": "cell-16d868dea4762c25",
     "locked": true,
     "points": 10,
     "schema_version": 3,
     "solution": false,
     "task": false
    }
   },
   "outputs": [
    {
     "name": "stdout",
     "output_type": "stream",
     "text": [
      "Test findPatternIndicesInList(List(\"quick\", \"brown\", \"fox\", \"quick\", \"brown\", \"dog\"), List(\"quick\", \"brown\"))\n",
      "\t Expected: List(0, 3), your code returned: List(0, 3)\n",
      "\t Passed!\n",
      "Test findPatternIndicesInList(List(a, b, a, c, a, a, b), List(a, b))\n",
      "\t Expected: List(0, 5), your code returned: List(0, 5)\n",
      "\t Passed!\n",
      "Test findPatternIndicesInList(List(a, b, a, c, a, a, b), List(a))\n",
      "\t Expected: List(0, 2, 4, 5), your code returned: List(0, 2, 4, 5)\n",
      "\t Passed!\n",
      "Test findPatternIndicesInList(List(a, b, a, c, a, a, b), List(a,b,c))\n",
      "\t Expected: List(), your code returned: List()\n",
      "\t Passed!\n",
      "Test findPatternIndicesInList(List(a, b, a, c, a, a, b), List(a,c,a))\n",
      "\t Expected: List(2), your code returned: List(2)\n",
      "\t Passed!\n"
     ]
    }
   ],
   "source": [
    "//BEGIN TESTS\n",
    "\n",
    "testWithMessage(\n",
    "    findPatternIndicesInList(List(\"quick\", \"brown\", \"fox\", \"quick\", \"brown\", \"dog\"), List(\"quick\", \"brown\")),\n",
    "    List(0, 3),\n",
    "    \"findPatternIndicesInList(List(\\\"quick\\\", \\\"brown\\\", \\\"fox\\\", \\\"quick\\\", \\\"brown\\\", \\\"dog\\\"), List(\\\"quick\\\", \\\"brown\\\"))\"\n",
    "    )\n",
    "\n",
    "testWithMessage(\n",
    "    findPatternIndicesInList(List(\"a\", \"b\", \"a\", \"c\", \"a\", \"a\", \"b\"), List(\"a\", \"b\")), \n",
    "    List(0, 5), \n",
    "    \"findPatternIndicesInList(List(a, b, a, c, a, a, b), List(a, b))\" \n",
    ")\n",
    "\n",
    "testWithMessage(\n",
    "    findPatternIndicesInList(List(\"a\", \"b\", \"a\", \"c\", \"a\", \"a\", \"b\"), List(\"a\")), \n",
    "    List(0, 2,4, 5), \n",
    "    \"findPatternIndicesInList(List(a, b, a, c, a, a, b), List(a))\" \n",
    ")\n",
    "\n",
    "testWithMessage(\n",
    "    findPatternIndicesInList(List(\"a\", \"b\", \"a\", \"c\", \"a\", \"a\", \"b\"), List(\"a\",\"b\",\"c\")), \n",
    "    Nil, \n",
    "    \"findPatternIndicesInList(List(a, b, a, c, a, a, b), List(a,b,c))\" \n",
    ")\n",
    "\n",
    "testWithMessage(\n",
    "    findPatternIndicesInList(List(\"a\", \"b\", \"a\", \"c\", \"a\", \"a\", \"b\"), List(\"a\",\"c\",\"a\")), \n",
    "    List(2), \n",
    "    \"findPatternIndicesInList(List(a, b, a, c, a, a, b), List(a,c,a))\" \n",
    ")\n",
    "\n",
    "//END TESTS"
   ]
  },
  {
   "cell_type": "markdown",
   "id": "1b03177a",
   "metadata": {
    "deletable": false,
    "editable": false,
    "nbgrader": {
     "cell_type": "markdown",
     "checksum": "a0066dedba116a8d600f5d9c01f4df42",
     "grade": false,
     "grade_id": "cell-b0a6d5d7a4ef4e3c",
     "locked": true,
     "schema_version": 3,
     "solution": false,
     "task": false
    }
   },
   "source": [
    "## (D, 15 points) Who let the dogs out, really?\n",
    "\n",
    "You are given text as an input string which talks about people letting dogs out. We would like to extract the list of all the strings that _let the dogs out_.\n",
    "\n",
    "In other words, we look for all substrings of the form ` ..... let the dogs out` and return all the words that occur immediately before the phrase \"let the dogs out\" in the input string.\n",
    "\n",
    "### Example\n",
    "\n",
    "\n",
    "\n",
    "\" The <mark> society  </mark> __let the dogs out__  Letting the dogs out is the very essence of our democracy <mark> I </mark> __let the dogs out__ <mark> You </mark> __let the dogs out__ My <mark>grandma </mark> __let the dogs out__ Your <mark>dad </mark> __let the dogs out__ We <mark>all</mark> __let the dogs out__ The dogs let themselves out\"\n",
    "\n",
    "\n",
    "Your function should return the list `List(\"society\", \"I\", \"You\", \"grandma', \"dad\", \"all\")`.\n",
    "\n",
    "\n",
    "Use the functions that you have implemented so far in your solution.\n",
    " - Use `splitIntoWords` to convert it into a list of words.\n",
    " - Use `findPatternIndicesInList` to search for all indices where the pattern `List(\"let\", \"the\", \"dogs\", \"out\")` appears.\n",
    " - Subtract 1 from all the indices that are > 0 to extract the result.\n",
    "\n"
   ]
  },
  {
   "cell_type": "code",
   "execution_count": 12,
   "id": "d0d67a20",
   "metadata": {
    "deletable": false,
    "nbgrader": {
     "cell_type": "code",
     "checksum": "c4b587d07c23daed6de9e891dc83bcee",
     "grade": false,
     "grade_id": "cell-c832c81bfe990c38",
     "locked": false,
     "schema_version": 3,
     "solution": true,
     "task": false
    }
   },
   "outputs": [
    {
     "data": {
      "text/plain": [
       "defined \u001b[32mfunction\u001b[39m \u001b[36mwhoLetTheDogsOut\u001b[39m"
      ]
     },
     "execution_count": 12,
     "metadata": {},
     "output_type": "execute_result"
    }
   ],
   "source": [
    "def whoLetTheDogsOut(txt: String): List[String] = {\n",
    "    val lst= splitIntoWords(txt)\n",
    "    var ind= findPatternIndicesInList(lst, List(\"let\", \"the\", \"dogs\", \"out\"))\n",
    "    var ret: List[String] = List()\n",
    "    \n",
    "    for (i <- 0 until ind.length){\n",
    "       ret= ret :+ lst(ind(i)-1)\n",
    "    }\n",
    "    return ret\n",
    "\n",
    "\n",
    "}"
   ]
  },
  {
   "cell_type": "code",
   "execution_count": 13,
   "id": "a20b98e5",
   "metadata": {
    "deletable": false,
    "editable": false,
    "nbgrader": {
     "cell_type": "code",
     "checksum": "5aecdb101b09a1fd6b5264cca2e5e512",
     "grade": true,
     "grade_id": "cell-e394a8579df0c395",
     "locked": true,
     "points": 15,
     "schema_version": 3,
     "solution": false,
     "task": false
    }
   },
   "outputs": [
    {
     "name": "stdout",
     "output_type": "stream",
     "text": [
      "Test TEST # 1 \n",
      "\t Expected: List(society, I, You, grandma, dad, all), your code returned: List(society, I, You, grandma, dad, all)\n",
      "\t Passed!\n",
      "Test TEST # 2 \n",
      "\t Expected: List(owners), your code returned: List(owners)\n",
      "\t Passed!\n",
      "Test TEST # 3\n",
      "\t Expected: List(to, who), your code returned: List(to, who)\n",
      "\t Passed!\n",
      "\n",
      "*** Tests Passed (15 points) ***\n"
     ]
    },
    {
     "data": {
      "text/plain": [
       "\u001b[36mlst1\u001b[39m: \u001b[32mList\u001b[39m[\u001b[32mString\u001b[39m] = \u001b[33mList\u001b[39m(\u001b[32m\"society\"\u001b[39m, \u001b[32m\"I\"\u001b[39m, \u001b[32m\"You\"\u001b[39m, \u001b[32m\"grandma\"\u001b[39m, \u001b[32m\"dad\"\u001b[39m, \u001b[32m\"all\"\u001b[39m)\r\n",
       "\u001b[36mlst2\u001b[39m: \u001b[32mList\u001b[39m[\u001b[32mString\u001b[39m] = \u001b[33mList\u001b[39m(\u001b[32m\"owners\"\u001b[39m)\r\n",
       "\u001b[36mlst3\u001b[39m: \u001b[32mList\u001b[39m[\u001b[32mString\u001b[39m] = \u001b[33mList\u001b[39m(\u001b[32m\"to\"\u001b[39m, \u001b[32m\"who\"\u001b[39m)"
      ]
     },
     "execution_count": 13,
     "metadata": {},
     "output_type": "execute_result"
    }
   ],
   "source": [
    "//BEGIN TESTS\n",
    "val lst1 = whoLetTheDogsOut(\"The society let the dogs out Letting the dogs out is the very essence of our democracy I let the dogs out You let the dogs out My grandma let the dogs out Your dad let the dogs out We all let the dogs out The dogs let themselves out\")\n",
    "testWithMessage( lst1, List(\"society\", \"I\", \"You\", \"grandma\", \"dad\", \"all\"), \"TEST # 1 \" )\n",
    "\n",
    "val lst2 = whoLetTheDogsOut(\"\"\"\n",
    "Dogs have been domesticated since the dawn of human history  When owners let the dogs out either for a night or during \n",
    "an afternoon nap they are often outdoors among other animals against whom the dogs may not have appropriate \n",
    "defences\n",
    "\"\"\"\n",
    ")\n",
    "\n",
    "testWithMessage( lst2, List(\"owners\"), \"TEST # 2 \" )\n",
    "\n",
    "val lst3 = whoLetTheDogsOut(\"\"\"\n",
    "The key question is what is a dog and what does it mean to let the dogs out  Perhaps the dog is \n",
    "an allegorical reference to  human aggression that society lets out as a dog to serve its own \n",
    "purposes Therefore ask not who let the dogs out but ask who the  dog letting process ultimately serves\n",
    "\"\"\")\n",
    "\n",
    "\n",
    "testWithMessage( lst3, List(\"to\", \"who\"), \"TEST # 3\" )\n",
    "\n",
    "\n",
    "passed(15)\n",
    "//END TESTS\n"
   ]
  },
  {
   "cell_type": "markdown",
   "id": "d6e5a18a",
   "metadata": {
    "deletable": false,
    "editable": false,
    "nbgrader": {
     "cell_type": "markdown",
     "checksum": "27f0b2ab27d2d4e7aab9ebac871f6711",
     "grade": false,
     "grade_id": "cell-04d77fa540c4ed23",
     "locked": true,
     "schema_version": 3,
     "solution": false,
     "task": false
    }
   },
   "source": [
    "## That's all folks!"
   ]
  }
 ],
 "metadata": {
  "kernelspec": {
   "display_name": "Scala",
   "language": "scala",
   "name": "scala"
  },
  "language_info": {
   "codemirror_mode": "text/x-scala",
   "file_extension": ".sc",
   "mimetype": "text/x-scala",
   "name": "scala",
   "nbconvert_exporter": "script",
   "version": "2.13.4"
  }
 },
 "nbformat": 4,
 "nbformat_minor": 5
}
