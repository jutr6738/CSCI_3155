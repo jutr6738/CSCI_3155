{
 "cells": [
  {
   "cell_type": "code",
   "execution_count": 12,
   "id": "b0df4094",
   "metadata": {},
   "outputs": [
    {
     "data": {
      "text/plain": [
       "defined \u001b[32mfunction\u001b[39m \u001b[36mbar\u001b[39m\r\n",
       "defined \u001b[32mfunction\u001b[39m \u001b[36mfoo\u001b[39m\r\n",
       "defined \u001b[32mfunction\u001b[39m \u001b[36mbar_k\u001b[39m\r\n",
       "defined \u001b[32mfunction\u001b[39m \u001b[36mfoo_k\u001b[39m"
      ]
     },
     "execution_count": 12,
     "metadata": {},
     "output_type": "execute_result"
    }
   ],
   "source": [
    "def bar(x:Int): Int ={\n",
    "    x+5\n",
    "}\n",
    "def foo(x: Int): Int = {\n",
    "     if (x <= 1) \n",
    "         bar (x -2)\n",
    "     else\n",
    "         foo( x - bar(x-2)) - 2 \n",
    "}\n",
    "\n",
    "//We wish to convert foo into CPS style. Fill in the missing portions below\n",
    "def bar_k[T](x:Int,  k: Int => T):T = {\n",
    "    k(x+5)\n",
    "}\n",
    "\n",
    "def foo_k[T](x: Int, k: Int => T) : T = {\n",
    "    if (x <= 1) \n",
    "         (bar_k(x-2,k))\n",
    "     else \n",
    "        bar_k( x-2, (v) => {foo_k( x - v, (v2) => {k(v2 - 2)} ) } )\n",
    "}"
   ]
  },
  {
   "cell_type": "code",
   "execution_count": 15,
   "id": "dbfff6c0",
   "metadata": {},
   "outputs": [
    {
     "data": {
      "text/plain": [
       "\u001b[36mres14_0\u001b[39m: \u001b[32mInt\u001b[39m = \u001b[32m3\u001b[39m\r\n",
       "\u001b[36mres14_1\u001b[39m: \u001b[32mInt\u001b[39m = \u001b[32m3\u001b[39m"
      ]
     },
     "execution_count": 15,
     "metadata": {},
     "output_type": "execute_result"
    }
   ],
   "source": [
    "foo(0)\n",
    "foo_k(0, p=>p)2"
   ]
  },
  {
   "cell_type": "code",
   "execution_count": 1,
   "id": "557f34ab",
   "metadata": {},
   "outputs": [
    {
     "data": {
      "text/plain": [
       "defined \u001b[32mfunction\u001b[39m \u001b[36mmergearr\u001b[39m"
      ]
     },
     "execution_count": 1,
     "metadata": {},
     "output_type": "execute_result"
    }
   ],
   "source": [
    "\n",
    "//implementing merge sort, resources from geeksforgeeks\n",
    "//n1 is length of arr1, n2 is length of arr2\n",
    "def mergearr(arr1: Array[Int], arr2: Array[Int], n1: Int, n2: Int, arr3: Array[Int]): Array[Int] = {\n",
    "    var i=0; \n",
    "    var j=0; \n",
    "    var k=0;\n",
    "    \n",
    "    while(i<n1 && j<n2){\n",
    "        //check if curr1 < curr2 \n",
    "         if (arr1(i) == arr2(j) ){\n",
    "            arr3(k)= arr1(i) //put curr1 in the sorted array\n",
    "            k+=1; \n",
    "            i+=1;\n",
    "            j+=1;\n",
    "            \n",
    "        }\n",
    "        if (arr1(i) < arr2(j) ){\n",
    "            arr3(k)= arr1(i) //put curr1 in the sorted array\n",
    "            k+=1; \n",
    "            i+=1;\n",
    "        }\n",
    "        else { //else put curr2 in the sorted array\n",
    "            arr3(k)= arr2(j)\n",
    "            k+=1;\n",
    "            j+=1;\n",
    "        }\n",
    "    }\n",
    "    \n",
    "    //add what is left of arr1 to the sorted array\n",
    "    while (i<n1){\n",
    "        arr3(k)=arr1(i)\n",
    "        k+=1;\n",
    "        i+=1;\n",
    "    }\n",
    "    //add what is left of arr2 to the sorted array\n",
    "    while (j<n2){\n",
    "        arr3(k)=arr2(j)\n",
    "        k+=1;\n",
    "        j+=1;\n",
    "    }\n",
    "    return arr3;\n",
    "    \n",
    "}\n",
    "    \n",
    "    \n",
    "    \n",
    "    "
   ]
  },
  {
   "cell_type": "code",
   "execution_count": 2,
   "id": "3cc8362f",
   "metadata": {},
   "outputs": [
    {
     "data": {
      "text/plain": [
       "defined \u001b[32mfunction\u001b[39m \u001b[36munionOfLists\u001b[39m"
      ]
     },
     "execution_count": 2,
     "metadata": {},
     "output_type": "execute_result"
    }
   ],
   "source": [
    "def unionOfLists (l1: List[Int], l2: List[Int]): List[Int] = {\n",
    "    val n1= l1.length;\n",
    "    val n2= l2.length;\n",
    "    var output= new Array[Int](n1+n2)\n",
    "    output= mergearr(l1.toArray, l2.toArray, n1, n2, output)\n",
    "    //output =output.distinct\n",
    "    \n",
    "    return output.toList\n",
    "    \n",
    "}"
   ]
  },
  {
   "cell_type": "code",
   "execution_count": 3,
   "id": "f1a9c1e9",
   "metadata": {},
   "outputs": [
    {
     "data": {
      "text/plain": [
       "\u001b[36mres2\u001b[39m: \u001b[32mList\u001b[39m[\u001b[32mInt\u001b[39m] = \u001b[33mList\u001b[39m(\u001b[32m1\u001b[39m, \u001b[32m2\u001b[39m, \u001b[32m3\u001b[39m, \u001b[32m4\u001b[39m, \u001b[32m5\u001b[39m, \u001b[32m0\u001b[39m)"
      ]
     },
     "execution_count": 3,
     "metadata": {},
     "output_type": "execute_result"
    }
   ],
   "source": [
    " unionOfLists(List(1, 3, 5), List(2, 3, 4))"
   ]
  },
  {
   "cell_type": "code",
   "execution_count": 4,
   "id": "154e2fb1",
   "metadata": {},
   "outputs": [
    {
     "data": {
      "text/plain": [
       "defined \u001b[32mfunction\u001b[39m \u001b[36munionOfLists\u001b[39m"
      ]
     },
     "execution_count": 4,
     "metadata": {},
     "output_type": "execute_result"
    }
   ],
   "source": [
    "\n",
    "\n",
    "def unionOfLists (l1: List[Int], l2: List[Int]): List[Int] = {\n",
    "    \n",
    "    var l3= l1:::l2  //or var l3= l1.union(l2)\n",
    "    l3=l3.distinct\n",
    "    \n",
    "    var freq= new Array[Int](l3.max+1)\n",
    "    var output= new Array[Int](l3.length)\n",
    "   \n",
    "    //implementing a counting sort \n",
    "    for (i <- 0 until l3.length){\n",
    "       freq(l3(i)) += 1\n",
    "    }\n",
    "    for (i <- 1 until freq.length) {\n",
    "        freq(i) += freq(i-1)\n",
    "    }\n",
    "    for (i <- 0 until l3.length) {\n",
    "        var index= freq(l3(i))-1\n",
    "        output(index)= l3(i)\n",
    "        freq(l3(i)) -= 1\n",
    "    }\n",
    "    \n",
    "    \n",
    "    return output.toList\n",
    "    \n",
    "}"
   ]
  },
  {
   "cell_type": "code",
   "execution_count": null,
   "id": "21961e96",
   "metadata": {},
   "outputs": [],
   "source": []
  },
  {
   "cell_type": "code",
   "execution_count": null,
   "id": "afc4070d",
   "metadata": {},
   "outputs": [],
   "source": []
  },
  {
   "cell_type": "code",
   "execution_count": 13,
   "id": "5adde0ee",
   "metadata": {},
   "outputs": [
    {
     "data": {
      "text/plain": [
       "\u001b[32mimport \u001b[39m\u001b[36mscala.annotation.tailrec\n",
       "\n",
       "\n",
       "\u001b[39m\r\n",
       "defined \u001b[32mfunction\u001b[39m \u001b[36mextractSublistHelper\u001b[39m\r\n",
       "defined \u001b[32mfunction\u001b[39m \u001b[36mextractSubList\u001b[39m"
      ]
     },
     "execution_count": 13,
     "metadata": {},
     "output_type": "execute_result"
    }
   ],
   "source": [
    "import scala.annotation.tailrec\n",
    "\n",
    "\n",
    "@tailrec\n",
    "def extractSublistHelper(lst: List[String], start: Int, stop: Int, ret: List[String], index: Int): List[String] = {\n",
    "    if (index==stop){\n",
    "        ret:+lst.head\n",
    "    }\n",
    "    else {\n",
    "        if (index<start) {\n",
    "            extractSublistHelper(lst.tail, start, stop, ret, index+1)\n",
    "        }\n",
    "        else {\n",
    "            extractSublistHelper(lst.tail, start, stop, ret:+lst.head, index+1)\n",
    "        }\n",
    "    }\n",
    "}\n",
    "def extractSubList(lst: List[String], i: Int, j: Int): List[String] = {\n",
    "    val empt: List[String]= List()\n",
    "    if (lst.length == 0) {empt}\n",
    "    else if (j<=0) {empt}\n",
    "    else if (i+j > lst.length) {empt}\n",
    "    else {\n",
    "        extractSublistHelper(lst, i, i+j-1, empt, 0)\n",
    "    }\n",
    "    \n",
    "}"
   ]
  },
  {
   "cell_type": "code",
   "execution_count": 14,
   "id": "bae0900e",
   "metadata": {},
   "outputs": [
    {
     "data": {
      "text/plain": [
       "\u001b[36mres13\u001b[39m: \u001b[32mList\u001b[39m[\u001b[32mString\u001b[39m] = \u001b[33mList\u001b[39m(\u001b[32m\"c\"\u001b[39m, \u001b[32m\"d\"\u001b[39m)"
      ]
     },
     "execution_count": 14,
     "metadata": {},
     "output_type": "execute_result"
    }
   ],
   "source": [
    "extractSubList(List(\"a\", \"b\", \"c\", \"d\", \"e\"), 2, 2)"
   ]
  },
  {
   "cell_type": "code",
   "execution_count": null,
   "id": "b9d6ff77",
   "metadata": {},
   "outputs": [],
   "source": []
  },
  {
   "cell_type": "code",
   "execution_count": null,
   "id": "a958154e",
   "metadata": {},
   "outputs": [],
   "source": []
  },
  {
   "cell_type": "code",
   "execution_count": 31,
   "id": "7e5a1633",
   "metadata": {},
   "outputs": [
    {
     "data": {
      "text/plain": [
       "defined \u001b[32mfunction\u001b[39m \u001b[36mfoo\u001b[39m\r\n",
       "defined \u001b[32mfunction\u001b[39m \u001b[36mbar\u001b[39m\r\n",
       "defined \u001b[32mfunction\u001b[39m \u001b[36mbaz\u001b[39m"
      ]
     },
     "execution_count": 31,
     "metadata": {},
     "output_type": "execute_result"
    }
   ],
   "source": [
    "def foo(x: Int): Int = {\n",
    "   (x+2)\n",
    "}\n",
    "\n",
    "def bar(y: String): String = \"Hello\" + y\n",
    "\n",
    "def baz(z: String): Int = {\n",
    "    val str1 = bar(z)\n",
    "    val siz1 = str1.size\n",
    "    println(siz1)\n",
    "    \n",
    "    foo(siz1)\n",
    "\n",
    "}"
   ]
  },
  {
   "cell_type": "code",
   "execution_count": 32,
   "id": "7a453a67",
   "metadata": {},
   "outputs": [
    {
     "name": "stderr",
     "output_type": "stream",
     "text": [
      "cmd32.sc:1: type mismatch;\n",
      " found   : String(\"we\")\n",
      " required: Int\n",
      "val res32 = foo(\"we\")\n",
      "                ^Compilation Failed"
     ]
    },
    {
     "ename": "",
     "evalue": "",
     "output_type": "error",
     "traceback": [
      "Compilation Failed"
     ]
    }
   ],
   "source": [
    "foo(\"we\")"
   ]
  },
  {
   "cell_type": "code",
   "execution_count": null,
   "id": "1ad62258",
   "metadata": {},
   "outputs": [],
   "source": []
  }
 ],
 "metadata": {
  "kernelspec": {
   "display_name": "Scala",
   "language": "scala",
   "name": "scala"
  },
  "language_info": {
   "codemirror_mode": "text/x-scala",
   "file_extension": ".sc",
   "mimetype": "text/x-scala",
   "name": "scala",
   "nbconvert_exporter": "script",
   "version": "2.13.4"
  }
 },
 "nbformat": 4,
 "nbformat_minor": 5
}
