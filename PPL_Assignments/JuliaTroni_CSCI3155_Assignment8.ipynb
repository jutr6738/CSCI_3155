{
 "cells": [
  {
   "cell_type": "markdown",
   "id": "2ae82493-c526-41b1-8d94-ecd16b56809a",
   "metadata": {},
   "source": [
    "# CSCI 3155: Assignment 8\n",
    "## Name: Julia Troni\n",
    "\n",
    "Goals of this assignment include: \n",
    "- Developing a type system for records and references\n",
    "- A simple exercise in lazy functional programming"
   ]
  },
  {
   "cell_type": "code",
   "execution_count": 1,
   "id": "76efa43f-4b4d-41d2-8772-5000c742dca7",
   "metadata": {},
   "outputs": [
    {
     "data": {
      "text/plain": [
       "defined \u001b[32mfunction\u001b[39m \u001b[36mpassed\u001b[39m"
      ]
     },
     "execution_count": 1,
     "metadata": {},
     "output_type": "execute_result"
    }
   ],
   "source": [
    "// TEST HELPER\n",
    "def passed(points: Int) {\n",
    "    require(points >=0)\n",
    "    if (points == 1) print(s\"\\n*** Tests Passed (1 point) ***\\n\")\n",
    "    else print(s\"\\n*** Tests Passed ($points points) ***\\n\")\n",
    "}"
   ]
  },
  {
   "cell_type": "markdown",
   "id": "6a2a32a9-6d4b-424a-8f8d-5bdb693d3508",
   "metadata": {},
   "source": [
    "## Problem 1 (30 points)\n",
    "\n",
    "In this problem, we will extend Lettuce language and its type system to records.  Here is a stripped down version of Lettuce we are going to use in this problem.\n",
    "\n",
    "$$\\begin{array}{rcl}\n",
    "\\mathbf{Expr} & \\rightarrow & Const(\\mathbf{Double}) \\\\\n",
    "& | & Ident(\\mathbf{Identifier})\\\\\n",
    "& | & Plus(\\mathbf{Expr}, \\mathbf{Expr})\\\\\n",
    "& | & Div(\\mathbf{Expr}, \\mathbf{Expr}) \\\\\n",
    "& | & Geq(\\mathbf{Expr}, \\mathbf{Expr}) \\\\\n",
    "& | & And(\\mathbf{Expr}, \\mathbf{Expr}) \\\\\n",
    "& | & IfThenElse(\\mathbf{Expr}, \\mathbf{Expr}, \\mathbf{Expr})\\\\\n",
    "& | & Let(\\mathbf{Identifier}, \\color{red}{\\mathbf{Type}}, \\mathbf{Expr}, \\mathbf{Expr})\\\\\n",
    "& | & FunDef(\\mathbf{Identifier}, \\color{red}{\\mathbf{Type}}, \\mathbf{Expr}) \\\\\n",
    "& | & FunCall(\\mathbf{Expr}, \\mathbf{Expr}) \\\\\n",
    "& | & \\color{blue}{UnitConst} & \\leftarrow \\text{written as} \\ () \\\\\n",
    "& | & \\color{blue}{NewRef(\\mathbf{Expr})} \\\\\n",
    "& | & \\color{blue}{DeRef(\\mathbf{Expr})} \\\\\n",
    "& | & \\color{blue}{AssignRef(\\mathbf{Expr}, \\mathbf{Expr})} & \\leftarrow \\text{written as} \\ e_1 := e_2 \\\\\n",
    "& | & \\color{blue}{Record(List[(Identifier, \\mathbf{Expr})])} & \\leftarrow \\text{written as} \\ \\{\\overline{x=e}\\}, \\ \\text{e.g.,} \\ \\{x_1=e_1, x_2=e_2, \\ldots, x_i=e_i, \\ldots \\} \\\\\n",
    "\\end{array}$$\n",
    "\n",
    "We extend the type system with a record type constructor. \n",
    "$$\\begin{array}{rcl}\n",
    "\\mathbf{Type} & \\rightarrow & NumType & \\leftarrow \\text{written as } \\ num \\\\\n",
    "& | & BoolType & \\leftarrow \\text{written as } \\ bool \\\\\n",
    "& | & UnitType & \\leftarrow \\text{written as } \\ unit \\\\\n",
    "& | & FunType(\\mathbf{Type} , \\mathbf{Type} ) & \\leftarrow \\text{written as } \\ t_1 \\Rightarrow t_2 \\\\\n",
    "& | & \\color{red}{RefType(\\mathbf{Type})} & \\leftarrow \\text{written as } \\ ref(t_1) \\\\\n",
    "& | & \\color{red}{RecordType(List[(Identifier, \\mathbf{Type})])} & \\leftarrow \\text{written as} \\ \\{\\overline{x:t}\\}, \\ \\text{e.g.,} \\ \\{x_1:t_1, x_2:t_2, \\ldots, x_i:t_i, \\ldots \\} \\\\  \n",
    "\\end{array}$$\n",
    "\n",
    "\n"
   ]
  },
  {
   "cell_type": "markdown",
   "id": "9d105478-395d-48b0-a912-577df485e6b8",
   "metadata": {},
   "source": [
    "### A (10 points): Let us write some inference rules for working with records and ref types.\n",
    "\n",
    "$$\\newcommand\\typeOf{\\mathbf{typeOf}}$$\n",
    "$$\\newcommand\\semRule[3]{\\begin{array}{c} #1 \\\\ \\hline #2 \\\\ \\end{array}\\;(\\text{#3}) }$$\n",
    "Recall from notes on \"Types and Type Checking\" that $\\typeOf(\\texttt{e}, \\alpha)$ is the type of an \n",
    "expression $\\texttt{e}$ under type environment $\\alpha$. The type environment maps identifiers in the current scope to  their annotated types.\n",
    "\n",
    "Let us write a type rule for the record expression. The rule is straightforward; it simply composes the types of all sub-expressions ($e_i$) that make up the record.\n",
    "\n",
    "$$\\semRule{ \\forall i.~\\typeOf(e_i, \\alpha) = t_i,\\;\\; t_i \\not= \\mathbf{typeerror} }\n",
    "          {\\typeOf(\\{\\overline{x=e}\\}, \\alpha) = \\{\\overline{x:t}\\} }{record-ok}$$\n",
    "\n",
    "\n",
    "\n",
    "Next, let us write a rule for NewRef.\n",
    "\n",
    "$$\\semRule{ \\typeOf(\\texttt{e}, \\alpha) = t,\\; t \\not= \\mathbf{typeerror} }{\\typeOf(\\texttt{NewRef(e)}, \\alpha) = ref(t) }{newref-ok}$$\n",
    "\n",
    "It says that if $\\texttt{e}$ receives type $t$ under type environment $\\alpha$ and it is not a type error, then $\\texttt{NewRef(e)}$ must receive the type $ref(t)$ under $\\alpha$.\n",
    "\n",
    "\n",
    "\n",
    "(i) Complete the missing terms for the rule for `UnitConst` OK rule.\n",
    "$$\\semRule{}{\\typeOf((), \\alpha) = \\color{red}{unit ???_1}}{unitconst-ok}$$\n",
    "\n",
    "(ii) Complete the missing terms for the rule for `DeRef` OK rule.\n",
    "$$\\semRule{\\typeOf(\\texttt{e}, \\alpha) = ref(t)}{\\typeOf(\\texttt{DeRef(e)}, \\alpha) = \\color{red}{t ???_2}}{deref-ok}$$\n",
    "\n",
    "(iii) Complete the missing terms for the rule for `DeRef` error.\n",
    "$$\\semRule{\\typeOf(\\texttt{e}, \\alpha) = t,\\ t \\not= \\color{red}{ref(t) ???_3} }{\\typeOf(\\texttt{DeRef(e)}, \\alpha) = \\mathbf{typeerror}}{deref-nok}$$\n",
    "\n",
    "(iv) Complete the missing terms for `AssignRef` OK rule.\n",
    "$$\\semRule{\\typeOf(\\texttt{e1}, \\alpha) = \\color{red}{ref(t) ???_4}, \\typeOf(\\texttt{e2}, \\alpha) = t}{\\typeOf(\\texttt{AssignRef(e1, e2)}, \\alpha) =   unit}{assignref-ok}$$\n"
   ]
  },
  {
   "cell_type": "markdown",
   "id": "ebab59df-0fa3-439b-8028-30b3047fa34e",
   "metadata": {},
   "source": [
    "## Write your answers here\n",
    "\n",
    "$\\color{red}{???_1} $ = unit\n",
    "\n",
    "$\\color{red}{???_2} $ = t\n",
    "\n",
    "$\\color{red}{???_3} $ = ref(t)\n",
    "\n",
    "$\\color{red}{???_4} $ = ref(t)\n",
    "\n"
   ]
  },
  {
   "cell_type": "markdown",
   "id": "b67ba400-c677-4fc1-8361-8bc522d72dae",
   "metadata": {},
   "source": [
    "### B (5 points)\n",
    "Fill out the missing type annotations labeled type1, type2, and type3 in the program below.\n",
    "\n",
    "``` ocaml\n",
    "let z: type1 = NewRef(0) in\n",
    "let f: type2 = NewRef(function (z:num) { x := z}) in \n",
    " let g : type3 = function (z:num) { FunCall(DeRef(f),z)} in \n",
    "   let obj: type4 = {foo = f, bar=g} in\n",
    "     obj\n",
    "```"
   ]
  },
  {
   "cell_type": "markdown",
   "id": "c0366c20-0c20-4c1d-b5c3-6088b6c58498",
   "metadata": {},
   "source": [
    "## Write your answers here\n",
    "\n",
    "* type1 = RefType(NumType)\n",
    "* type2 = RefType( FunType(NumType, UnitType) )\n",
    "* type3 = FunType(NumType, UnitType)\n",
    "* type4 = RecordType[ (foo,RefType( FunType(NumType, UnitType) ) ), (bar, FunType(NumType, UnitType) ) ]"
   ]
  },
  {
   "cell_type": "markdown",
   "id": "77294766-b5f0-4d96-b6b6-d6dce332b456",
   "metadata": {},
   "source": [
    "### C (15 points): Write the type checker with references by filling in the missing code."
   ]
  },
  {
   "cell_type": "code",
   "execution_count": 2,
   "id": "07b6812c-9dea-4f97-b98f-78329f3584f1",
   "metadata": {},
   "outputs": [
    {
     "data": {
      "text/plain": [
       "defined \u001b[32mtrait\u001b[39m \u001b[36mType\u001b[39m\r\n",
       "defined \u001b[32mobject\u001b[39m \u001b[36mNumType\u001b[39m\r\n",
       "defined \u001b[32mobject\u001b[39m \u001b[36mBoolType\u001b[39m\r\n",
       "defined \u001b[32mclass\u001b[39m \u001b[36mFunType\u001b[39m\r\n",
       "defined \u001b[32mobject\u001b[39m \u001b[36mUnitType\u001b[39m\r\n",
       "defined \u001b[32mclass\u001b[39m \u001b[36mRefType\u001b[39m\r\n",
       "defined \u001b[32mclass\u001b[39m \u001b[36mRecordType\u001b[39m\r\n",
       "defined \u001b[32mtrait\u001b[39m \u001b[36mProgram\u001b[39m\r\n",
       "defined \u001b[32mtrait\u001b[39m \u001b[36mExpr\u001b[39m\r\n",
       "defined \u001b[32mclass\u001b[39m \u001b[36mConst\u001b[39m\r\n",
       "defined \u001b[32mclass\u001b[39m \u001b[36mIdent\u001b[39m\r\n",
       "defined \u001b[32mclass\u001b[39m \u001b[36mPlus\u001b[39m\r\n",
       "defined \u001b[32mclass\u001b[39m \u001b[36mMinus\u001b[39m\r\n",
       "defined \u001b[32mclass\u001b[39m \u001b[36mGeq\u001b[39m\r\n",
       "defined \u001b[32mclass\u001b[39m \u001b[36mIfThenElse\u001b[39m\r\n",
       "defined \u001b[32mclass\u001b[39m \u001b[36mLet\u001b[39m\r\n",
       "defined \u001b[32mclass\u001b[39m \u001b[36mFunDef\u001b[39m\r\n",
       "defined \u001b[32mclass\u001b[39m \u001b[36mFunCall\u001b[39m\r\n",
       "defined \u001b[32mclass\u001b[39m \u001b[36mNewRef\u001b[39m\r\n",
       "defined \u001b[32mclass\u001b[39m \u001b[36mDeRef\u001b[39m\r\n",
       "defined \u001b[32mclass\u001b[39m \u001b[36mUnitConst\u001b[39m\r\n",
       "defined \u001b[32mclass\u001b[39m \u001b[36mAssignRef\u001b[39m\r\n",
       "defined \u001b[32mclass\u001b[39m \u001b[36mRecord\u001b[39m\r\n",
       "defined \u001b[32mclass\u001b[39m \u001b[36mTopLevel\u001b[39m\r\n",
       "defined \u001b[32mfunction\u001b[39m \u001b[36mtypeEquals\u001b[39m\r\n",
       "defined \u001b[32mclass\u001b[39m \u001b[36mTypeErrorException\u001b[39m"
      ]
     },
     "execution_count": 2,
     "metadata": {},
     "output_type": "execute_result"
    }
   ],
   "source": [
    "sealed trait Type\n",
    "case object NumType extends Type\n",
    "case object BoolType extends Type\n",
    "case class FunType(t1: Type, t2: Type) extends Type\n",
    "// TODO: Write new case classes for UnitType, RefType, and RecordType\n",
    "//BEGIN SOLUTION\n",
    "case object UnitType extends Type\n",
    "case class RefType( t1: Type) extends Type\n",
    "case class RecordType(lst: List[(String, Type)] ) extends Type\n",
    "//END SOLUTION\n",
    "\n",
    "sealed trait Program\n",
    "sealed trait Expr\n",
    "\n",
    "case class Const(f: Double) extends Expr\n",
    "case class Ident(s: String) extends Expr\n",
    "case class Plus(e1: Expr, e2: Expr) extends Expr\n",
    "case class Minus(e1: Expr, e2: Expr) extends Expr\n",
    "case class Geq(e1: Expr, e2: Expr) extends Expr\n",
    "case class IfThenElse(e1: Expr, e2: Expr, e3: Expr) extends Expr\n",
    "case class Let(x: String, xType: Type, e1: Expr, e2: Expr) extends Expr\n",
    "case class FunDef(id: String, idType: Type, e: Expr) extends Expr\n",
    "case class FunCall(calledFun: Expr, argExpr: Expr) extends Expr\n",
    "case class NewRef(e: Expr) extends Expr\n",
    "case class DeRef(e: Expr) extends Expr\n",
    "case class UnitConst() extends Expr\n",
    "// TODO: Write new case classes for AssignRef and Record\n",
    "//BEGIN SOLUTION\n",
    "case class AssignRef(e1: Expr, e2: Expr) extends Expr\n",
    "case class Record(lst: List[(String, Expr)] ) extends Expr\n",
    "//END SOLUTION\n",
    "case class TopLevel(e: Expr) extends Program\n",
    "\n",
    "def typeEquals(t1: Type, t2: Type): Boolean = t1 == t2\n",
    "case class TypeErrorException(s: String) extends Exception\n"
   ]
  },
  {
   "cell_type": "code",
   "execution_count": 3,
   "id": "88fbc492-1ad1-4f48-8528-4d56e4a0df63",
   "metadata": {},
   "outputs": [
    {
     "data": {
      "text/plain": [
       "defined \u001b[32mfunction\u001b[39m \u001b[36mtypeOf\u001b[39m\r\n",
       "defined \u001b[32mfunction\u001b[39m \u001b[36mtypeOfProgram\u001b[39m"
      ]
     },
     "execution_count": 3,
     "metadata": {},
     "output_type": "execute_result"
    }
   ],
   "source": [
    "def typeOf(e: Expr, alpha: Map[String, Type]): Type = {\n",
    "    def checkType(opName: String, e1: Expr, t1: Type, e2: Expr, t2: Type, resType: Type): Type = {\n",
    "        val t1hat = typeOf(e1, alpha)\n",
    "        if (! typeEquals(t1hat, t1)){\n",
    "            throw new TypeErrorException(s\"Type mismatch in arithmetic/comparison/bool op $opName, Expected type $t1, obtained $t1hat\")\n",
    "        }\n",
    "        \n",
    "        val t2hat = typeOf(e2, alpha)\n",
    "        if (! typeEquals(t2hat, t2)){\n",
    "            throw new TypeErrorException(s\"Type mismatch in arithmetic/comparison/bool op $opName, Expected type $t2, obtained $t2hat\")\n",
    "        }\n",
    "        \n",
    "        resType\n",
    "    }\n",
    "    \n",
    "    e match {\n",
    "        case Const(f) => NumType\n",
    "        case Ident(s) => {if (alpha contains s)\n",
    "                             alpha(s)\n",
    "                          else \n",
    "                             throw TypeErrorException(s\"Unknown identifier $s\")}\n",
    "        case Plus(e1, e2) =>  checkType(\"Plus\", e1,  NumType, e2, NumType, NumType)\n",
    "        case Minus(e1, e2) => checkType(\"Minus\",e1,  NumType, e2, NumType, NumType)\n",
    "        case Geq(e1, e2) => checkType(\"Geq\", e1,  NumType, e2, NumType, BoolType)\n",
    "        case IfThenElse(e, e1, e2) => {\n",
    "            val t = typeOf(e, alpha)\n",
    "            if (t == BoolType){\n",
    "                val t1 = typeOf(e1, alpha)\n",
    "                val t2 = typeOf(e2, alpha)\n",
    "                if (typeEquals(t1, t2))\n",
    "                    t1\n",
    "                else \n",
    "                    throw TypeErrorException(s\"If then else returns unequal types $t1 and $t2\")\n",
    "            } else {\n",
    "                throw TypeErrorException(s\"If then else condition expression not boolean $t\")\n",
    "            }\n",
    "        }\n",
    "\n",
    "        case Let(x, t, e1, e2) => {\n",
    "            val t1 = typeOf(e1, alpha)\n",
    "            if (typeEquals(t1, t)){\n",
    "                val newAlpha = alpha + (x -> t)\n",
    "                typeOf(e2, newAlpha)\n",
    "            } else {\n",
    "                throw TypeErrorException(s\"Let binding has type $t whereas it is bound to expression of type $t1\")\n",
    "            }\n",
    "        }\n",
    "\n",
    "        case FunDef(x, t1, e) => {\n",
    "            val newAlpha = alpha + (x -> t1)\n",
    "            val t2 = typeOf(e, newAlpha)\n",
    "            FunType(t1, t2)\n",
    "        }\n",
    "\n",
    "        case FunCall(e1, e2) => {\n",
    "            val ftype = typeOf(e1, alpha)\n",
    "            ftype match {\n",
    "                case FunType(t1, t2) => {\n",
    "                    val argType = typeOf(e2, alpha)\n",
    "                    if (typeEquals(argType, t1)){\n",
    "                        t2\n",
    "                    } else {\n",
    "                        throw TypeErrorException(s\"Call to function with incompatible argument type. Expected $t1, obtained $argType\")\n",
    "                    }\n",
    "                }\n",
    "                case _ => { throw TypeErrorException(s\"Call to function but with a non function type $ftype\")}\n",
    "\n",
    "            }\n",
    "        }\n",
    "\n",
    "        case NewRef(e) => {\n",
    "            //BEGIN SOLUTION\n",
    "            val t= typeOf(e, alpha)\n",
    "            RefType(t)\n",
    "\n",
    "            //END SOLUTION\n",
    "        }\n",
    "        \n",
    "        case AssignRef(e1, e2) => {\n",
    "            //BEGIN SOLUTION\n",
    "            val t1= typeOf(e1, alpha)\n",
    "            val t2= typeOf(e2,alpha)\n",
    "            t1 match {\n",
    "                case RefType(t2) => UnitType\n",
    "                case _ => throw TypeErrorException(s\"Expected unit type\")\n",
    "            }\n",
    "  \n",
    "            //END SOLUTION\n",
    "        }\n",
    "        \n",
    "        case DeRef(e) => {\n",
    "            //BEGIN SOLUTION\n",
    "            val t= typeOf(e, alpha)\n",
    "            t match {\n",
    "                case RefType(r) => r\n",
    "                case _ => throw TypeErrorException(\"Cannot DeRef something that is not a reference\")\n",
    "            }\n",
    "            \n",
    "            //END SOLUTION\n",
    "        }\n",
    "        \n",
    "        case Record(ies) => {\n",
    "            //BEGIN SOLUTION   \n",
    "            \n",
    "            val recT= ies.map( { \n",
    "                    case (x,e) => (x, typeOf(e,alpha))\n",
    "                    case _ => throw TypeErrorException(\"Error\")\n",
    "            })\n",
    "            \n",
    "            RecordType(recT)\n",
    "            \n",
    "            //END SOLUTION\n",
    "        }\n",
    "        \n",
    "    }\n",
    "}\n",
    "\n",
    "def typeOfProgram(p: Program) = p match {\n",
    "    case TopLevel(e) => {\n",
    "            val t = typeOf(e, Map())\n",
    "            println(s\"Program type computed successfully as $t\")\n",
    "            t\n",
    "    }\n",
    "}"
   ]
  },
  {
   "cell_type": "code",
   "execution_count": 4,
   "id": "de87627b-fc59-4402-a5b4-dec595ad6511",
   "metadata": {},
   "outputs": [
    {
     "name": "stdout",
     "output_type": "stream",
     "text": [
      "Program type computed successfully as NumType\n",
      "\n",
      "*** Tests Passed (2 points) ***\n"
     ]
    },
    {
     "data": {
      "text/plain": [
       "\u001b[36mp1\u001b[39m: \u001b[32mLet\u001b[39m = \u001b[33mLet\u001b[39m(\n",
       "  x = \u001b[32m\"x\"\u001b[39m,\n",
       "  xType = \u001b[33mRefType\u001b[39m(t1 = NumType),\n",
       "  e1 = \u001b[33mNewRef\u001b[39m(e = \u001b[33mConst\u001b[39m(f = \u001b[32m10.0\u001b[39m)),\n",
       "  e2 = \u001b[33mLet\u001b[39m(\n",
       "    x = \u001b[32m\"dummy\"\u001b[39m,\n",
       "    xType = UnitType,\n",
       "    e1 = \u001b[33mAssignRef\u001b[39m(e1 = \u001b[33mIdent\u001b[39m(s = \u001b[32m\"x\"\u001b[39m), e2 = \u001b[33mConst\u001b[39m(f = \u001b[32m30.0\u001b[39m)),\n",
       "    e2 = \u001b[33mDeRef\u001b[39m(e = \u001b[33mIdent\u001b[39m(s = \u001b[32m\"x\"\u001b[39m))\n",
       "  )\n",
       ")\r\n",
       "\u001b[36mt1\u001b[39m: \u001b[32mType\u001b[39m = NumType"
      ]
     },
     "execution_count": 4,
     "metadata": {},
     "output_type": "execute_result"
    }
   ],
   "source": [
    "//BEGIN TEST\n",
    "\n",
    "/* \n",
    "let x : ref(num) = NewRef(10 ) in \n",
    "   let dummy: unit = AssignRef(x, 30) in \n",
    "       DeRef(x)\n",
    "       */\n",
    "\n",
    "val p1 = Let(\"x\", RefType(NumType), NewRef(Const(10)), Let(\"dummy\", UnitType, AssignRef(Ident(\"x\"), Const(30) ), DeRef(Ident(\"x\"))) )\n",
    "val t1 = typeOfProgram(TopLevel(p1))\n",
    "assert(t1 == NumType, \"Test 1 failed: answer should be NumType\")\n",
    "passed(2)\n",
    "//END TEST"
   ]
  },
  {
   "cell_type": "code",
   "execution_count": 5,
   "id": "62fb79d0-3451-41fd-a473-edd2de6b8e44",
   "metadata": {
    "jupyter": {
     "outputs_hidden": true,
     "source_hidden": true
    },
    "tags": []
   },
   "outputs": [
    {
     "name": "stdout",
     "output_type": "stream",
     "text": [
      "\n",
      "*** Tests Passed (2 points) ***\n"
     ]
    },
    {
     "data": {
      "text/plain": [
       "\u001b[36mfdef\u001b[39m: \u001b[32mFunDef\u001b[39m = \u001b[33mFunDef\u001b[39m(\n",
       "  id = \u001b[32m\"z\"\u001b[39m,\n",
       "  idType = NumType,\n",
       "  e = \u001b[33mPlus\u001b[39m(e1 = \u001b[33mIdent\u001b[39m(s = \u001b[32m\"z\"\u001b[39m), e2 = \u001b[33mConst\u001b[39m(f = \u001b[32m10.0\u001b[39m))\n",
       ")\r\n",
       "\u001b[36mp2\u001b[39m: \u001b[32mLet\u001b[39m = \u001b[33mLet\u001b[39m(\n",
       "  x = \u001b[32m\"x\"\u001b[39m,\n",
       "  xType = \u001b[33mRefType\u001b[39m(t1 = NumType),\n",
       "  e1 = \u001b[33mNewRef\u001b[39m(\n",
       "    e = \u001b[33mFunDef\u001b[39m(\n",
       "      id = \u001b[32m\"z\"\u001b[39m,\n",
       "      idType = NumType,\n",
       "      e = \u001b[33mPlus\u001b[39m(e1 = \u001b[33mIdent\u001b[39m(s = \u001b[32m\"z\"\u001b[39m), e2 = \u001b[33mConst\u001b[39m(f = \u001b[32m10.0\u001b[39m))\n",
       "    )\n",
       "  ),\n",
       "  e2 = \u001b[33mLet\u001b[39m(\n",
       "    x = \u001b[32m\"dummy\"\u001b[39m,\n",
       "    xType = UnitType,\n",
       "    e1 = \u001b[33mAssignRef\u001b[39m(e1 = \u001b[33mIdent\u001b[39m(s = \u001b[32m\"x\"\u001b[39m), e2 = \u001b[33mConst\u001b[39m(f = \u001b[32m30.0\u001b[39m)),\n",
       "    e2 = \u001b[33mDeRef\u001b[39m(e = \u001b[33mIdent\u001b[39m(s = \u001b[32m\"x\"\u001b[39m))\n",
       "  )\n",
       ")\r\n",
       "\u001b[36mt2\u001b[39m: \u001b[32mAny\u001b[39m = \u001b[32m\"OK -- caught a type error exception: Let binding has type RefType(NumType) whereas it is bound to expression of type RefType(FunType(NumType,NumType))\"\u001b[39m"
      ]
     },
     "execution_count": 5,
     "metadata": {},
     "output_type": "execute_result"
    }
   ],
   "source": [
    "//BEGIN TEST\n",
    "/* \n",
    "let x : ref(num) = NewRef(function(z: num) z + 10) in \n",
    "   let dummy: unit = AssignRef(x, 30) in \n",
    "       DeRef(x)\n",
    "       */\n",
    "val fdef = FunDef(\"z\", NumType, Plus(Ident(\"z\"), Const(10)))\n",
    "val p2 = Let(\"x\", RefType(NumType), NewRef(fdef), Let(\"dummy\", UnitType, AssignRef(Ident(\"x\"), Const(30) ), DeRef(Ident(\"x\"))) )\n",
    "val t2 = try {\n",
    "   typeOfProgram(TopLevel(p2))\n",
    "   assert(false, \"The program should not receive a type\")\n",
    "} catch {\n",
    "    case TypeErrorException(msg) => s\"OK -- caught a type error exception: $msg\"\n",
    "    case e => print(e); assert(false, \"Please throw TypeErrorException(message) when a type failure occurs\")\n",
    "}\n",
    "passed(2)\n",
    "//END TEST"
   ]
  },
  {
   "cell_type": "code",
   "execution_count": 6,
   "id": "8ec2e339-662e-4be3-b8fc-4496b30177a8",
   "metadata": {},
   "outputs": [
    {
     "name": "stdout",
     "output_type": "stream",
     "text": [
      "Program type computed successfully as FunType(NumType,NumType)\n",
      "\n",
      "*** Tests Passed (2 points) ***\n"
     ]
    },
    {
     "data": {
      "text/plain": [
       "\u001b[36mfdef\u001b[39m: \u001b[32mFunDef\u001b[39m = \u001b[33mFunDef\u001b[39m(\n",
       "  id = \u001b[32m\"z\"\u001b[39m,\n",
       "  idType = NumType,\n",
       "  e = \u001b[33mPlus\u001b[39m(e1 = \u001b[33mIdent\u001b[39m(s = \u001b[32m\"z\"\u001b[39m), e2 = \u001b[33mConst\u001b[39m(f = \u001b[32m10.0\u001b[39m))\n",
       ")\r\n",
       "\u001b[36mp4\u001b[39m: \u001b[32mLet\u001b[39m = \u001b[33mLet\u001b[39m(\n",
       "  x = \u001b[32m\"x\"\u001b[39m,\n",
       "  xType = \u001b[33mRefType\u001b[39m(t1 = \u001b[33mFunType\u001b[39m(t1 = NumType, t2 = NumType)),\n",
       "  e1 = \u001b[33mNewRef\u001b[39m(\n",
       "    e = \u001b[33mFunDef\u001b[39m(\n",
       "      id = \u001b[32m\"z\"\u001b[39m,\n",
       "      idType = NumType,\n",
       "      e = \u001b[33mPlus\u001b[39m(e1 = \u001b[33mIdent\u001b[39m(s = \u001b[32m\"z\"\u001b[39m), e2 = \u001b[33mConst\u001b[39m(f = \u001b[32m10.0\u001b[39m))\n",
       "    )\n",
       "  ),\n",
       "  e2 = \u001b[33mLet\u001b[39m(\n",
       "    x = \u001b[32m\"dummy\"\u001b[39m,\n",
       "    xType = UnitType,\n",
       "    e1 = \u001b[33mAssignRef\u001b[39m(e1 = \u001b[33mNewRef\u001b[39m(e = \u001b[33mConst\u001b[39m(f = \u001b[32m35.0\u001b[39m)), e2 = \u001b[33mConst\u001b[39m(f = \u001b[32m30.0\u001b[39m)),\n",
       "    e2 = \u001b[33mDeRef\u001b[39m(e = \u001b[33mIdent\u001b[39m(s = \u001b[32m\"x\"\u001b[39m))\n",
       "  )\n",
       ")\r\n",
       "\u001b[36mt4\u001b[39m: \u001b[32mType\u001b[39m = \u001b[33mFunType\u001b[39m(t1 = NumType, t2 = NumType)"
      ]
     },
     "execution_count": 6,
     "metadata": {},
     "output_type": "execute_result"
    }
   ],
   "source": [
    "//BEGIN TEST\n",
    "/* \n",
    "let x : ref(num => num) = NewRef(function(z: num) z + 10) in \n",
    "   let dummy: unit = AssignRef(NewRef(35), 30) in \n",
    "       DeRef(x)\n",
    "       */\n",
    "val fdef = FunDef(\"z\", NumType, Plus(Ident(\"z\"), Const(10)))\n",
    "val p4 = Let(\"x\", RefType(FunType(NumType, NumType)), NewRef(fdef), Let(\"dummy\", UnitType, AssignRef(NewRef(Const(35)), Const(30) ), DeRef(Ident(\"x\"))) )\n",
    "val t4 =  typeOfProgram(TopLevel(p4))\n",
    "assert(t4 == FunType(NumType, NumType), \"Test failed\")\n",
    "passed(2)\n",
    "//END TEST"
   ]
  },
  {
   "cell_type": "code",
   "execution_count": 7,
   "id": "501ef1bb-83b1-4d7f-b017-f02bc375a21e",
   "metadata": {},
   "outputs": [
    {
     "name": "stdout",
     "output_type": "stream",
     "text": [
      "\n",
      "*** Tests Passed (2 points) ***\n"
     ]
    },
    {
     "data": {
      "text/plain": [
       "\u001b[36mfdef\u001b[39m: \u001b[32mFunDef\u001b[39m = \u001b[33mFunDef\u001b[39m(\n",
       "  id = \u001b[32m\"z\"\u001b[39m,\n",
       "  idType = NumType,\n",
       "  e = \u001b[33mPlus\u001b[39m(e1 = \u001b[33mIdent\u001b[39m(s = \u001b[32m\"z\"\u001b[39m), e2 = \u001b[33mConst\u001b[39m(f = \u001b[32m10.0\u001b[39m))\n",
       ")\r\n",
       "\u001b[36mp3\u001b[39m: \u001b[32mLet\u001b[39m = \u001b[33mLet\u001b[39m(\n",
       "  x = \u001b[32m\"x\"\u001b[39m,\n",
       "  xType = \u001b[33mRefType\u001b[39m(t1 = \u001b[33mFunType\u001b[39m(t1 = NumType, t2 = NumType)),\n",
       "  e1 = \u001b[33mNewRef\u001b[39m(\n",
       "    e = \u001b[33mFunDef\u001b[39m(\n",
       "      id = \u001b[32m\"z\"\u001b[39m,\n",
       "      idType = NumType,\n",
       "      e = \u001b[33mPlus\u001b[39m(e1 = \u001b[33mIdent\u001b[39m(s = \u001b[32m\"z\"\u001b[39m), e2 = \u001b[33mConst\u001b[39m(f = \u001b[32m10.0\u001b[39m))\n",
       "    )\n",
       "  ),\n",
       "  e2 = \u001b[33mLet\u001b[39m(\n",
       "    x = \u001b[32m\"dummy\"\u001b[39m,\n",
       "    xType = NumType,\n",
       "    e1 = \u001b[33mAssignRef\u001b[39m(e1 = \u001b[33mIdent\u001b[39m(s = \u001b[32m\"x\"\u001b[39m), e2 = \u001b[33mConst\u001b[39m(f = \u001b[32m30.0\u001b[39m)),\n",
       "    e2 = \u001b[33mDeRef\u001b[39m(e = \u001b[33mIdent\u001b[39m(s = \u001b[32m\"x\"\u001b[39m))\n",
       "  )\n",
       ")\r\n",
       "\u001b[36mt3\u001b[39m: \u001b[32mAny\u001b[39m = \u001b[32m\"OK -- caught a type error exception: Let binding has type NumType whereas it is bound to expression of type UnitType\"\u001b[39m"
      ]
     },
     "execution_count": 7,
     "metadata": {},
     "output_type": "execute_result"
    }
   ],
   "source": [
    "//BEGIN TEST\n",
    "/* \n",
    "let x : ref(num => num) = NewRef(function(z: num) z + 10) in \n",
    "   let dummy: num = AssignRef(x, 30) in \n",
    "       DeRef(x)\n",
    "       */\n",
    "val fdef = FunDef(\"z\", NumType, Plus(Ident(\"z\"), Const(10)))\n",
    "val p3 = Let(\"x\", RefType(FunType(NumType, NumType)), NewRef(fdef), Let(\"dummy\", NumType, AssignRef(Ident(\"x\"), Const(30) ), DeRef(Ident(\"x\"))) )\n",
    "val t3 = try {\n",
    "   typeOfProgram(TopLevel(p3))\n",
    "   assert(false, \"The program should not receive a type\")\n",
    "} catch {\n",
    "    case TypeErrorException(msg) => s\"OK -- caught a type error exception: $msg\"\n",
    "    case e => print(e); assert(false, \"Please throw TypeErrorException(message) when a type failure occurs\")\n",
    "}\n",
    "passed(2)\n",
    "//END TEST"
   ]
  },
  {
   "cell_type": "code",
   "execution_count": 8,
   "id": "9260bec0-e89f-4e22-9c7b-1e3fa0487359",
   "metadata": {},
   "outputs": [
    {
     "name": "stdout",
     "output_type": "stream",
     "text": [
      "Program type computed successfully as RecordType(List((foo,NumType), (bar,BoolType)))\n",
      "\n",
      "*** Tests Passed (2 points) ***\n",
      "Program type computed successfully as RecordType(List((baz,RefType(NumType)), (qux,RecordType(List((foo,NumType), (bar,BoolType))))))\n",
      "\n",
      "*** Tests Passed (2 points) ***\n"
     ]
    },
    {
     "data": {
      "text/plain": [
       "\u001b[36mp1\u001b[39m: (\u001b[32mString\u001b[39m, \u001b[32mConst\u001b[39m) = (\u001b[32m\"foo\"\u001b[39m, \u001b[33mConst\u001b[39m(f = \u001b[32m10.0\u001b[39m))\r\n",
       "\u001b[36mt1\u001b[39m: (\u001b[32mString\u001b[39m, \u001b[32mNumType\u001b[39m.type) = (\u001b[32m\"foo\"\u001b[39m, NumType)\r\n",
       "\u001b[36mp2\u001b[39m: (\u001b[32mString\u001b[39m, \u001b[32mGeq\u001b[39m) = (\u001b[32m\"bar\"\u001b[39m, \u001b[33mGeq\u001b[39m(e1 = \u001b[33mConst\u001b[39m(f = \u001b[32m9.0\u001b[39m), e2 = \u001b[33mConst\u001b[39m(f = \u001b[32m10.0\u001b[39m)))\r\n",
       "\u001b[36mt2\u001b[39m: (\u001b[32mString\u001b[39m, \u001b[32mBoolType\u001b[39m.type) = (\u001b[32m\"bar\"\u001b[39m, BoolType)\r\n",
       "\u001b[36mrdec1\u001b[39m: \u001b[32mRecord\u001b[39m = \u001b[33mRecord\u001b[39m(\n",
       "  lst = \u001b[33mList\u001b[39m(\n",
       "    (\u001b[32m\"foo\"\u001b[39m, \u001b[33mConst\u001b[39m(f = \u001b[32m10.0\u001b[39m)),\n",
       "    (\u001b[32m\"bar\"\u001b[39m, \u001b[33mGeq\u001b[39m(e1 = \u001b[33mConst\u001b[39m(f = \u001b[32m9.0\u001b[39m), e2 = \u001b[33mConst\u001b[39m(f = \u001b[32m10.0\u001b[39m)))\n",
       "  )\n",
       ")\r\n",
       "\u001b[36mrtyp1\u001b[39m: \u001b[32mRecordType\u001b[39m = \u001b[33mRecordType\u001b[39m(lst = \u001b[33mList\u001b[39m((\u001b[32m\"foo\"\u001b[39m, NumType), (\u001b[32m\"bar\"\u001b[39m, BoolType)))\r\n",
       "\u001b[36mprog1\u001b[39m: \u001b[32mTopLevel\u001b[39m = \u001b[33mTopLevel\u001b[39m(\n",
       "  e = \u001b[33mRecord\u001b[39m(\n",
       "    lst = \u001b[33mList\u001b[39m(\n",
       "      (\u001b[32m\"foo\"\u001b[39m, \u001b[33mConst\u001b[39m(f = \u001b[32m10.0\u001b[39m)),\n",
       "      (\u001b[32m\"bar\"\u001b[39m, \u001b[33mGeq\u001b[39m(e1 = \u001b[33mConst\u001b[39m(f = \u001b[32m9.0\u001b[39m), e2 = \u001b[33mConst\u001b[39m(f = \u001b[32m10.0\u001b[39m)))\n",
       "    )\n",
       "  )\n",
       ")\r\n",
       "\u001b[36mp3\u001b[39m: (\u001b[32mString\u001b[39m, \u001b[32mNewRef\u001b[39m) = (\u001b[32m\"baz\"\u001b[39m, \u001b[33mNewRef\u001b[39m(e = \u001b[33mConst\u001b[39m(f = \u001b[32m11.0\u001b[39m)))\r\n",
       "\u001b[36mt3\u001b[39m: (\u001b[32mString\u001b[39m, \u001b[32mRefType\u001b[39m) = (\u001b[32m\"baz\"\u001b[39m, \u001b[33mRefType\u001b[39m(t1 = NumType))\r\n",
       "\u001b[36mp4\u001b[39m: (\u001b[32mString\u001b[39m, \u001b[32mRecord\u001b[39m) = (\n",
       "  \u001b[32m\"qux\"\u001b[39m,\n",
       "  \u001b[33mRecord\u001b[39m(\n",
       "    lst = \u001b[33mList\u001b[39m(\n",
       "      (\u001b[32m\"foo\"\u001b[39m, \u001b[33mConst\u001b[39m(f = \u001b[32m10.0\u001b[39m)),\n",
       "      (\u001b[32m\"bar\"\u001b[39m, \u001b[33mGeq\u001b[39m(e1 = \u001b[33mConst\u001b[39m(f = \u001b[32m9.0\u001b[39m), e2 = \u001b[33mConst\u001b[39m(f = \u001b[32m10.0\u001b[39m)))\n",
       "    )\n",
       "  )\n",
       ")\r\n",
       "\u001b[36mt4\u001b[39m: (\u001b[32mString\u001b[39m, \u001b[32mRecordType\u001b[39m) = (\n",
       "  \u001b[32m\"qux\"\u001b[39m,\n",
       "  \u001b[33mRecordType\u001b[39m(lst = \u001b[33mList\u001b[39m((\u001b[32m\"foo\"\u001b[39m, NumType), (\u001b[32m\"bar\"\u001b[39m, BoolType)))\n",
       ")\r\n",
       "\u001b[36mrdec2\u001b[39m: \u001b[32mRecord\u001b[39m = \u001b[33mRecord\u001b[39m(\n",
       "  lst = \u001b[33mList\u001b[39m(\n",
       "    (\u001b[32m\"baz\"\u001b[39m, \u001b[33mNewRef\u001b[39m(e = \u001b[33mConst\u001b[39m(f = \u001b[32m11.0\u001b[39m))),\n",
       "    (\n",
       "      \u001b[32m\"qux\"\u001b[39m,\n",
       "      \u001b[33mRecord\u001b[39m(\n",
       "        lst = \u001b[33mList\u001b[39m(\n",
       "          (\u001b[32m\"foo\"\u001b[39m, \u001b[33mConst\u001b[39m(f = \u001b[32m10.0\u001b[39m)),\n",
       "          (\u001b[32m\"bar\"\u001b[39m, \u001b[33mGeq\u001b[39m(e1 = \u001b[33mConst\u001b[39m(f = \u001b[32m9.0\u001b[39m), e2 = \u001b[33mConst\u001b[39m(f = \u001b[32m10.0\u001b[39m)))\n",
       "        )\n",
       "      )\n",
       "    )\n",
       "  )\n",
       ")\r\n",
       "\u001b[36mrtyp2\u001b[39m: \u001b[32mRecordType\u001b[39m = \u001b[33mRecordType\u001b[39m(\n",
       "  lst = \u001b[33mList\u001b[39m(\n",
       "    (\u001b[32m\"baz\"\u001b[39m, \u001b[33mRefType\u001b[39m(t1 = NumType)),\n",
       "    (\u001b[32m\"qux\"\u001b[39m, \u001b[33mRecordType\u001b[39m(lst = \u001b[33mList\u001b[39m((\u001b[32m\"foo\"\u001b[39m, NumType), (\u001b[32m\"bar\"\u001b[39m, BoolType))))\n",
       "  )\n",
       ")\r\n",
       "\u001b[36mprog2\u001b[39m: \u001b[32mTopLevel\u001b[39m = \u001b[33mTopLevel\u001b[39m(\n",
       "  e = \u001b[33mRecord\u001b[39m(\n",
       "    lst = \u001b[33mList\u001b[39m(\n",
       "      (\u001b[32m\"baz\"\u001b[39m, \u001b[33mNewRef\u001b[39m(e = \u001b[33mConst\u001b[39m(f = \u001b[32m11.0\u001b[39m))),\n",
       "      (\n",
       "        \u001b[32m\"qux\"\u001b[39m,\n",
       "        \u001b[33mRecord\u001b[39m(\n",
       "          lst = \u001b[33mList\u001b[39m(\n",
       "            (\u001b[32m\"foo\"\u001b[39m, \u001b[33mConst\u001b[39m(f = \u001b[32m10.0\u001b[39m)),\n",
       "            (\u001b[32m\"bar\"\u001b[39m, \u001b[33mGeq\u001b[39m(e1 = \u001b[33mConst\u001b[39m(f = \u001b[32m9.0\u001b[39m), e2 = \u001b[33mConst\u001b[39m(f = \u001b[32m10.0\u001b[39m)))\n",
       "          )\n",
       "        )\n",
       "      )\n",
       "    )\n",
       "  )\n",
       ")"
      ]
     },
     "execution_count": 8,
     "metadata": {},
     "output_type": "execute_result"
    }
   ],
   "source": [
    "//BEGIN TEST\n",
    "\n",
    "val p1 = (\"foo\",Const(10.0))\n",
    "val t1 = (\"foo\",NumType)\n",
    "\n",
    "val p2 = (\"bar\",Geq(Const(9.0), Const(10.0)))\n",
    "val t2 = (\"bar\",BoolType)\n",
    "\n",
    "val rdec1 = Record(List(p1,p2))\n",
    "val rtyp1 = RecordType(List(t1,t2))\n",
    "\n",
    "val prog1 = TopLevel(rdec1)\n",
    "assert(typeOfProgram(prog1) == rtyp1, \"Test failed\")\n",
    "passed(2)\n",
    "\n",
    "val p3 = (\"baz\",NewRef(Const(11.0)))\n",
    "val t3 = (\"baz\",RefType(NumType))\n",
    "val p4 = (\"qux\",rdec1)\n",
    "val t4 = (\"qux\", rtyp1)\n",
    "\n",
    "val rdec2 = Record(List(p3,p4))\n",
    "val rtyp2 = RecordType(List(t3,t4))\n",
    "// prog2 = {baz=11.0, qux={foo=10.0, bar=9.0>10.0}}\n",
    "val prog2 = TopLevel(rdec2)\n",
    "assert(typeOfProgram(prog2) == rtyp2, \"Test failed\")\n",
    "passed(2)\n",
    "\n",
    "\n",
    "//END TEST"
   ]
  },
  {
   "cell_type": "code",
   "execution_count": 9,
   "id": "e6e7e071-c820-405d-9550-13c450448797",
   "metadata": {
    "tags": []
   },
   "outputs": [
    {
     "name": "stdout",
     "output_type": "stream",
     "text": [
      "Program type computed successfully as RecordType(List((set_counter,RefType(FunType(NumType,UnitType)))))\n",
      "\n",
      "*** Tests Passed (2 points) ***\n"
     ]
    },
    {
     "data": {
      "text/plain": [
       "\u001b[36mfdef\u001b[39m: \u001b[32mFunDef\u001b[39m = \u001b[33mFunDef\u001b[39m(\n",
       "  id = \u001b[32m\"z\"\u001b[39m,\n",
       "  idType = NumType,\n",
       "  e = \u001b[33mAssignRef\u001b[39m(e1 = \u001b[33mIdent\u001b[39m(s = \u001b[32m\"x\"\u001b[39m), e2 = \u001b[33mIdent\u001b[39m(s = \u001b[32m\"z\"\u001b[39m))\n",
       ")\r\n",
       "\u001b[36mgdef\u001b[39m: \u001b[32mFunDef\u001b[39m = \u001b[33mFunDef\u001b[39m(\n",
       "  id = \u001b[32m\"z\"\u001b[39m,\n",
       "  idType = UnitType,\n",
       "  e = \u001b[33mDeRef\u001b[39m(e = \u001b[33mIdent\u001b[39m(s = \u001b[32m\"x\"\u001b[39m))\n",
       ")\r\n",
       "\u001b[36mrecrd\u001b[39m: \u001b[32mRecord\u001b[39m = \u001b[33mRecord\u001b[39m(lst = \u001b[33mList\u001b[39m((\u001b[32m\"set_counter\"\u001b[39m, \u001b[33mNewRef\u001b[39m(e = \u001b[33mIdent\u001b[39m(s = \u001b[32m\"f\"\u001b[39m)))))\r\n",
       "\u001b[36mrectyp\u001b[39m: \u001b[32mRecordType\u001b[39m = \u001b[33mRecordType\u001b[39m(\n",
       "  lst = \u001b[33mList\u001b[39m(\n",
       "    (\u001b[32m\"set_counter\"\u001b[39m, \u001b[33mRefType\u001b[39m(t1 = \u001b[33mFunType\u001b[39m(t1 = NumType, t2 = UnitType)))\n",
       "  )\n",
       ")\r\n",
       "\u001b[36mp3\u001b[39m: \u001b[32mLet\u001b[39m = \u001b[33mLet\u001b[39m(\n",
       "  x = \u001b[32m\"x\"\u001b[39m,\n",
       "  xType = \u001b[33mRefType\u001b[39m(t1 = NumType),\n",
       "  e1 = \u001b[33mNewRef\u001b[39m(e = \u001b[33mConst\u001b[39m(f = \u001b[32m0.0\u001b[39m)),\n",
       "  e2 = \u001b[33mLet\u001b[39m(\n",
       "    x = \u001b[32m\"f\"\u001b[39m,\n",
       "    xType = \u001b[33mFunType\u001b[39m(t1 = NumType, t2 = UnitType),\n",
       "    e1 = \u001b[33mFunDef\u001b[39m(\n",
       "      id = \u001b[32m\"z\"\u001b[39m,\n",
       "      idType = NumType,\n",
       "      e = \u001b[33mAssignRef\u001b[39m(e1 = \u001b[33mIdent\u001b[39m(s = \u001b[32m\"x\"\u001b[39m), e2 = \u001b[33mIdent\u001b[39m(s = \u001b[32m\"z\"\u001b[39m))\n",
       "    ),\n",
       "    e2 = \u001b[33mLet\u001b[39m(\n",
       "      x = \u001b[32m\"obj\"\u001b[39m,\n",
       "      xType = \u001b[33mRecordType\u001b[39m(\n",
       "        lst = \u001b[33mList\u001b[39m(\n",
       "          (\u001b[32m\"set_counter\"\u001b[39m, \u001b[33mRefType\u001b[39m(t1 = \u001b[33mFunType\u001b[39m(t1 = NumType, t2 = UnitType)))\n",
       "        )\n",
       "      ),\n",
       "      e1 = \u001b[33mRecord\u001b[39m(lst = \u001b[33mList\u001b[39m((\u001b[32m\"set_counter\"\u001b[39m, \u001b[33mNewRef\u001b[39m(e = \u001b[33mIdent\u001b[39m(s = \u001b[32m\"f\"\u001b[39m))))),\n",
       "      e2 = \u001b[33mIdent\u001b[39m(s = \u001b[32m\"obj\"\u001b[39m)\n",
       "    )\n",
       "  )\n",
       ")\r\n",
       "\u001b[36mt\u001b[39m: \u001b[32mType\u001b[39m = \u001b[33mRecordType\u001b[39m(\n",
       "  lst = \u001b[33mList\u001b[39m(\n",
       "    (\u001b[32m\"set_counter\"\u001b[39m, \u001b[33mRefType\u001b[39m(t1 = \u001b[33mFunType\u001b[39m(t1 = NumType, t2 = UnitType)))\n",
       "  )\n",
       ")"
      ]
     },
     "execution_count": 9,
     "metadata": {},
     "output_type": "execute_result"
    }
   ],
   "source": [
    "//BEGIN TEST\n",
    "/*\n",
    "let x: ref(Num) = NewRef(0) in \n",
    " let f : num => unit = function (z:num) { x := z} in \n",
    "   let obj: {set_counter:ref(num => unit)} = {set_counter = NewRef(f)} in\n",
    "     obj\n",
    "*/\n",
    "val fdef = FunDef(\"z\", NumType, AssignRef(Ident(\"x\"), Ident(\"z\")))\n",
    "val gdef = FunDef(\"z\", UnitType, DeRef(Ident(\"x\")))\n",
    "val recrd = Record(List((\"set_counter\",NewRef(Ident(\"f\")))))\n",
    "val rectyp = RecordType(List((\"set_counter\",RefType(FunType(NumType,UnitType)))))\n",
    "val p3 = Let(\"x\", RefType(NumType), NewRef(Const(0.0)), \n",
    "             Let(\"f\", FunType(NumType, UnitType), fdef,\n",
    "                   Let(\"obj\",rectyp, recrd,\n",
    "                      Ident(\"obj\"))) )\n",
    "val t = typeOfProgram(TopLevel(p3))\n",
    "assert(t == rectyp, s\"Test failed: answer should be $rectyp\")\n",
    "passed(2)\n",
    "\n",
    "//END TEST"
   ]
  },
  {
   "cell_type": "code",
   "execution_count": 10,
   "id": "0d46baf4-9a9b-448b-ac10-e06076d39217",
   "metadata": {},
   "outputs": [
    {
     "name": "stdout",
     "output_type": "stream",
     "text": [
      "Program type computed successfully as RecordType(List((set_counter,FunType(NumType,UnitType)), (get_counter,FunType(UnitType,NumType))))\n",
      "\n",
      "*** Tests Passed (3 points) ***\n"
     ]
    },
    {
     "data": {
      "text/plain": [
       "\u001b[36mfdef\u001b[39m: \u001b[32mFunDef\u001b[39m = \u001b[33mFunDef\u001b[39m(\n",
       "  id = \u001b[32m\"z\"\u001b[39m,\n",
       "  idType = NumType,\n",
       "  e = \u001b[33mAssignRef\u001b[39m(e1 = \u001b[33mIdent\u001b[39m(s = \u001b[32m\"x\"\u001b[39m), e2 = \u001b[33mIdent\u001b[39m(s = \u001b[32m\"z\"\u001b[39m))\n",
       ")\r\n",
       "\u001b[36mgdef\u001b[39m: \u001b[32mFunDef\u001b[39m = \u001b[33mFunDef\u001b[39m(\n",
       "  id = \u001b[32m\"z\"\u001b[39m,\n",
       "  idType = UnitType,\n",
       "  e = \u001b[33mDeRef\u001b[39m(e = \u001b[33mIdent\u001b[39m(s = \u001b[32m\"x\"\u001b[39m))\n",
       ")\r\n",
       "\u001b[36mrecrd\u001b[39m: \u001b[32mRecord\u001b[39m = \u001b[33mRecord\u001b[39m(\n",
       "  lst = \u001b[33mList\u001b[39m((\u001b[32m\"set_counter\"\u001b[39m, \u001b[33mIdent\u001b[39m(s = \u001b[32m\"f\"\u001b[39m)), (\u001b[32m\"get_counter\"\u001b[39m, \u001b[33mIdent\u001b[39m(s = \u001b[32m\"g\"\u001b[39m)))\n",
       ")\r\n",
       "\u001b[36mrectyp\u001b[39m: \u001b[32mRecordType\u001b[39m = \u001b[33mRecordType\u001b[39m(\n",
       "  lst = \u001b[33mList\u001b[39m(\n",
       "    (\u001b[32m\"set_counter\"\u001b[39m, \u001b[33mFunType\u001b[39m(t1 = NumType, t2 = UnitType)),\n",
       "    (\u001b[32m\"get_counter\"\u001b[39m, \u001b[33mFunType\u001b[39m(t1 = UnitType, t2 = NumType))\n",
       "  )\n",
       ")\r\n",
       "\u001b[36mp3\u001b[39m: \u001b[32mLet\u001b[39m = \u001b[33mLet\u001b[39m(\n",
       "  x = \u001b[32m\"x\"\u001b[39m,\n",
       "  xType = \u001b[33mRefType\u001b[39m(t1 = NumType),\n",
       "  e1 = \u001b[33mNewRef\u001b[39m(e = \u001b[33mConst\u001b[39m(f = \u001b[32m0.0\u001b[39m)),\n",
       "  e2 = \u001b[33mLet\u001b[39m(\n",
       "    x = \u001b[32m\"f\"\u001b[39m,\n",
       "    xType = \u001b[33mFunType\u001b[39m(t1 = NumType, t2 = UnitType),\n",
       "    e1 = \u001b[33mFunDef\u001b[39m(\n",
       "      id = \u001b[32m\"z\"\u001b[39m,\n",
       "      idType = NumType,\n",
       "      e = \u001b[33mAssignRef\u001b[39m(e1 = \u001b[33mIdent\u001b[39m(s = \u001b[32m\"x\"\u001b[39m), e2 = \u001b[33mIdent\u001b[39m(s = \u001b[32m\"z\"\u001b[39m))\n",
       "    ),\n",
       "    e2 = \u001b[33mLet\u001b[39m(\n",
       "      x = \u001b[32m\"g\"\u001b[39m,\n",
       "      xType = \u001b[33mFunType\u001b[39m(t1 = UnitType, t2 = NumType),\n",
       "      e1 = \u001b[33mFunDef\u001b[39m(id = \u001b[32m\"z\"\u001b[39m, idType = UnitType, e = \u001b[33mDeRef\u001b[39m(e = \u001b[33mIdent\u001b[39m(s = \u001b[32m\"x\"\u001b[39m))),\n",
       "      e2 = \u001b[33mLet\u001b[39m(\n",
       "        x = \u001b[32m\"obj\"\u001b[39m,\n",
       "        xType = \u001b[33mRecordType\u001b[39m(\n",
       "          lst = \u001b[33mList\u001b[39m(\n",
       "            (\u001b[32m\"set_counter\"\u001b[39m, \u001b[33mFunType\u001b[39m(t1 = NumType, t2 = UnitType)),\n",
       "            (\u001b[32m\"get_counter\"\u001b[39m, \u001b[33mFunType\u001b[39m(t1 = UnitType, t2 = NumType))\n",
       "          )\n",
       "        ),\n",
       "        e1 = \u001b[33mRecord\u001b[39m(\n",
       "          lst = \u001b[33mList\u001b[39m(\n",
       "            (\u001b[32m\"set_counter\"\u001b[39m, \u001b[33mIdent\u001b[39m(s = \u001b[32m\"f\"\u001b[39m)),\n",
       "            (\u001b[32m\"get_counter\"\u001b[39m, \u001b[33mIdent\u001b[39m(s = \u001b[32m\"g\"\u001b[39m))\n",
       "          )\n",
       "        ),\n",
       "        e2 = \u001b[33mIdent\u001b[39m(s = \u001b[32m\"obj\"\u001b[39m)\n",
       "      )\n",
       "    )\n",
       "  )\n",
       ")\r\n",
       "\u001b[36mt\u001b[39m: \u001b[32mType\u001b[39m = \u001b[33mRecordType\u001b[39m(\n",
       "  lst = \u001b[33mList\u001b[39m(\n",
       "    (\u001b[32m\"set_counter\"\u001b[39m, \u001b[33mFunType\u001b[39m(t1 = NumType, t2 = UnitType)),\n",
       "    (\u001b[32m\"get_counter\"\u001b[39m, \u001b[33mFunType\u001b[39m(t1 = UnitType, t2 = NumType))\n",
       "  )\n",
       ")"
      ]
     },
     "execution_count": 10,
     "metadata": {},
     "output_type": "execute_result"
    }
   ],
   "source": [
    "//BEGIN TEST\n",
    "/*\n",
    "let x: ref(Num) = NewRef(0) in \n",
    " let f : num => unit = function (z:num) { x := z} in \n",
    "  let g : unit => num = function (z:unit) {DeRef(x)} in\n",
    "   let obj: {set_counter:num => unit, get_counter:unit=>num} = {set_counter = f, get_counter=g} in\n",
    "     obj\n",
    "*/\n",
    "val fdef = FunDef(\"z\", NumType, AssignRef(Ident(\"x\"), Ident(\"z\")))\n",
    "val gdef = FunDef(\"z\", UnitType, DeRef(Ident(\"x\")))\n",
    "val recrd = Record(List((\"set_counter\",Ident(\"f\")), (\"get_counter\",Ident(\"g\"))))\n",
    "val rectyp = RecordType(List((\"set_counter\",FunType(NumType,UnitType)), \n",
    "                             (\"get_counter\",FunType(UnitType,NumType))))\n",
    "val p3 = Let(\"x\", RefType(NumType), NewRef(Const(0.0)), \n",
    "             Let(\"f\", FunType(NumType, UnitType), fdef,\n",
    "                Let(\"g\", FunType(UnitType, NumType), gdef,\n",
    "                   Let(\"obj\",rectyp, recrd,\n",
    "                      Ident(\"obj\")))) )\n",
    "val t = typeOfProgram(TopLevel(p3))\n",
    "assert(t == rectyp, s\"Test failed: answer should be $rectyp\")\n",
    "passed(3)\n",
    "\n",
    "//END TEST"
   ]
  },
  {
   "cell_type": "markdown",
   "id": "5ea72184-e519-4fc7-b381-967b1fffe1e4",
   "metadata": {},
   "source": [
    "## Problem 3 A ( 10 points)\n",
    "Create an infinite stream of odd natural numbers starting from 1. Your stream must be a value called allOdd of type `Stream[Int]`"
   ]
  },
  {
   "cell_type": "code",
   "execution_count": 11,
   "id": "18da1d31-0e16-469d-81ff-eb851c390874",
   "metadata": {},
   "outputs": [
    {
     "data": {
      "text/plain": [
       "\u001b[36mallOdd\u001b[39m: \u001b[32mStream\u001b[39m[\u001b[32mInt\u001b[39m] = \u001b[33mStream\u001b[39m(\n",
       "  \u001b[32m1\u001b[39m,\n",
       "  \u001b[32m3\u001b[39m,\n",
       "  \u001b[32m5\u001b[39m,\n",
       "  \u001b[32m7\u001b[39m,\n",
       "  \u001b[32m9\u001b[39m,\n",
       "  \u001b[32m11\u001b[39m,\n",
       "  \u001b[32m13\u001b[39m,\n",
       "  \u001b[32m15\u001b[39m,\n",
       "  \u001b[32m17\u001b[39m,\n",
       "  \u001b[32m19\u001b[39m,\n",
       "  \u001b[32m21\u001b[39m,\n",
       "  \u001b[32m23\u001b[39m,\n",
       "  \u001b[32m25\u001b[39m,\n",
       "  \u001b[32m27\u001b[39m,\n",
       "  \u001b[32m29\u001b[39m,\n",
       "  \u001b[32m31\u001b[39m,\n",
       "  \u001b[32m33\u001b[39m,\n",
       "  \u001b[32m35\u001b[39m,\n",
       "  \u001b[32m37\u001b[39m,\n",
       "  \u001b[32m39\u001b[39m,\n",
       "  \u001b[32m41\u001b[39m,\n",
       "  \u001b[32m43\u001b[39m,\n",
       "  \u001b[32m45\u001b[39m,\n",
       "  \u001b[32m47\u001b[39m,\n",
       "  \u001b[32m49\u001b[39m,\n",
       "  \u001b[32m51\u001b[39m,\n",
       "  \u001b[32m53\u001b[39m,\n",
       "  \u001b[32m55\u001b[39m,\n",
       "  \u001b[32m57\u001b[39m,\n",
       "  \u001b[32m59\u001b[39m,\n",
       "  \u001b[32m61\u001b[39m,\n",
       "  \u001b[32m63\u001b[39m,\n",
       "  \u001b[32m65\u001b[39m,\n",
       "  \u001b[32m67\u001b[39m,\n",
       "  \u001b[32m69\u001b[39m,\n",
       "  \u001b[32m71\u001b[39m,\n",
       "  \u001b[32m73\u001b[39m,\n",
       "  \u001b[32m75\u001b[39m,\n",
       "..."
      ]
     },
     "execution_count": 11,
     "metadata": {},
     "output_type": "execute_result"
    }
   ],
   "source": [
    "val allOdd:Stream[Int] = {\n",
    "    //BEGIN SOLUTION\n",
    "    def natNums(n:Int =1): Stream[Int] = { n#::(natNums(n+1)) }\n",
    "\n",
    "    natNums().filter(x=> (x%2 ==1))\n",
    "\n",
    "    \n",
    "    //END SOLUTION\n",
    "}"
   ]
  },
  {
   "cell_type": "code",
   "execution_count": 12,
   "id": "e3ae0942-600a-4fa5-9460-3eac8022581b",
   "metadata": {},
   "outputs": [
    {
     "name": "stdout",
     "output_type": "stream",
     "text": [
      "\n",
      "*** Tests Passed (10 points) ***\n"
     ]
    },
    {
     "data": {
      "text/plain": [
       "defined \u001b[32mfunction\u001b[39m \u001b[36mtestStream\u001b[39m"
      ]
     },
     "execution_count": 12,
     "metadata": {},
     "output_type": "execute_result"
    }
   ],
   "source": [
    "//BEGIN TEST\n",
    "def testStream(n: Int): Boolean = {\n",
    "    (allOdd.take(n).toList == List.range(0, 2*n).filter(_ % 2 == 1))\n",
    "}\n",
    "assert(testStream(5), \"Testing first 5 elements of the stream\")\n",
    "assert(testStream(0), \"Testing first 0 elements of the stream\")\n",
    "assert(testStream(25), \"Testing first 25 elements of the stream\")\n",
    "assert(testStream(55), \"Testing first 55 elements of the stream\")\n",
    "assert(testStream(1303), \"Testing first 1303 elements of the stream\")\n",
    "passed(10)\n",
    "//END TEST"
   ]
  },
  {
   "cell_type": "markdown",
   "id": "7595a9ee-7d7f-42be-b946-8619686c2b7d",
   "metadata": {},
   "source": [
    "## Problem 3B (10 points)\n",
    "\n",
    "Write an infinite stream that will generate all odd numbers that are perfect squares\n",
    "  \n",
    "  \n",
    "Your solution should use the stream of all odd numbers created in the previous problem and a suitable application of `filter` on streams."
   ]
  },
  {
   "cell_type": "code",
   "execution_count": 13,
   "id": "27c91cd3-6047-44c4-b8de-2db186de3c82",
   "metadata": {},
   "outputs": [
    {
     "data": {
      "text/plain": [
       "\u001b[32mimport \u001b[39m\u001b[36mscala.math._\n",
       "\n",
       "\u001b[39m\r\n",
       "\u001b[36mspecialNatNumberStream\u001b[39m: \u001b[32mStream\u001b[39m[\u001b[32mInt\u001b[39m] = \u001b[33mStream\u001b[39m(\n",
       "  \u001b[32m1\u001b[39m,\n",
       "  \u001b[32m9\u001b[39m,\n",
       "  \u001b[32m25\u001b[39m,\n",
       "  \u001b[32m49\u001b[39m,\n",
       "  \u001b[32m81\u001b[39m,\n",
       "  \u001b[32m121\u001b[39m,\n",
       "  \u001b[32m169\u001b[39m,\n",
       "  \u001b[32m225\u001b[39m,\n",
       "  \u001b[32m289\u001b[39m,\n",
       "  \u001b[32m361\u001b[39m,\n",
       "  \u001b[32m441\u001b[39m,\n",
       "  \u001b[32m529\u001b[39m,\n",
       "  \u001b[32m625\u001b[39m,\n",
       "  \u001b[32m729\u001b[39m,\n",
       "  \u001b[32m841\u001b[39m,\n",
       "  \u001b[32m961\u001b[39m,\n",
       "  \u001b[32m1089\u001b[39m,\n",
       "  \u001b[32m1225\u001b[39m,\n",
       "  \u001b[32m1369\u001b[39m,\n",
       "  \u001b[32m1521\u001b[39m,\n",
       "  \u001b[32m1681\u001b[39m,\n",
       "  \u001b[32m1849\u001b[39m,\n",
       "  \u001b[32m2025\u001b[39m,\n",
       "  \u001b[32m2209\u001b[39m,\n",
       "  \u001b[32m2401\u001b[39m,\n",
       "  \u001b[32m2601\u001b[39m,\n",
       "  \u001b[32m2809\u001b[39m,\n",
       "  \u001b[32m3025\u001b[39m,\n",
       "  \u001b[32m3249\u001b[39m,\n",
       "  \u001b[32m3481\u001b[39m,\n",
       "  \u001b[32m3721\u001b[39m,\n",
       "  \u001b[32m3969\u001b[39m,\n",
       "  \u001b[32m4225\u001b[39m,\n",
       "  \u001b[32m4489\u001b[39m,\n",
       "  \u001b[32m4761\u001b[39m,\n",
       "  \u001b[32m5041\u001b[39m,\n",
       "  \u001b[32m5329\u001b[39m,\n",
       "  \u001b[32m5625\u001b[39m,\n",
       "..."
      ]
     },
     "execution_count": 13,
     "metadata": {},
     "output_type": "execute_result"
    }
   ],
   "source": [
    "import scala.math._\n",
    "\n",
    "val specialNatNumberStream: Stream[Int] = {\n",
    "    //BEGIN SOLUTION\n",
    "    allOdd.filter(x=> { \n",
    "        sqrt(x).toInt*sqrt(x).toInt == x\n",
    "    } )\n",
    "    \n",
    "    //END SOLUTION\n",
    "}"
   ]
  },
  {
   "cell_type": "code",
   "execution_count": 14,
   "id": "087a7160-8273-4f03-8c65-6cf99d8dd2e2",
   "metadata": {},
   "outputs": [
    {
     "name": "stdout",
     "output_type": "stream",
     "text": [
      "\n",
      "*** Tests Passed (10 points) ***\n"
     ]
    },
    {
     "data": {
      "text/plain": [
       "defined \u001b[32mfunction\u001b[39m \u001b[36mcond\u001b[39m\r\n",
       "defined \u001b[32mfunction\u001b[39m \u001b[36mtestStream\u001b[39m"
      ]
     },
     "execution_count": 14,
     "metadata": {},
     "output_type": "execute_result"
    }
   ],
   "source": [
    "//BEGIN TEST\n",
    "def cond(j: Int): Boolean = {\n",
    "        val sq = math.sqrt(j).toInt\n",
    "        sq*sq == j\n",
    "    }\n",
    "\n",
    "def testStream(n: Int): Boolean = {\n",
    "    specialNatNumberStream.take(n).forall( cond)\n",
    "}\n",
    "\n",
    "assert(testStream(2000), \"First 2000 elements test failed\")\n",
    "passed(10)\n",
    "//END TEST"
   ]
  }
 ],
 "metadata": {
  "kernelspec": {
   "display_name": "Scala",
   "language": "scala",
   "name": "scala"
  },
  "language_info": {
   "codemirror_mode": "text/x-scala",
   "file_extension": ".sc",
   "mimetype": "text/x-scala",
   "name": "scala",
   "nbconvert_exporter": "script",
   "version": "2.13.4"
  }
 },
 "nbformat": 4,
 "nbformat_minor": 5
}
